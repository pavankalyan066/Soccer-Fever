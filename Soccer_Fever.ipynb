{
  "nbformat": 4,
  "nbformat_minor": 0,
  "metadata": {
    "colab": {
      "name": "Soccer Fever.ipynb",
      "provenance": []
    },
    "kernelspec": {
      "name": "python3",
      "display_name": "Python 3"
    },
    "language_info": {
      "name": "python"
    },
    "widgets": {
      "application/vnd.jupyter.widget-state+json": {
        "744f528555764b88a372809f9e7ff140": {
          "model_module": "@jupyter-widgets/controls",
          "model_name": "IntProgressModel",
          "model_module_version": "1.5.0",
          "state": {
            "_view_name": "ProgressView",
            "style": "IPY_MODEL_cd36fd149de84f2b807d4b318c5a5d30",
            "_dom_classes": [],
            "description": "Processing: ",
            "_model_name": "IntProgressModel",
            "bar_style": "",
            "max": 3,
            "_view_module": "@jupyter-widgets/controls",
            "_model_module_version": "1.5.0",
            "value": 3,
            "_view_count": null,
            "_view_module_version": "1.5.0",
            "orientation": "horizontal",
            "min": 0,
            "description_tooltip": null,
            "_model_module": "@jupyter-widgets/controls",
            "layout": "IPY_MODEL_a6fb038ded5c4d21ac7b88ea55a7a33b"
          }
        },
        "cd36fd149de84f2b807d4b318c5a5d30": {
          "model_module": "@jupyter-widgets/controls",
          "model_name": "ProgressStyleModel",
          "model_module_version": "1.5.0",
          "state": {
            "_view_name": "StyleView",
            "_model_name": "ProgressStyleModel",
            "description_width": "",
            "_view_module": "@jupyter-widgets/base",
            "_model_module_version": "1.5.0",
            "_view_count": null,
            "_view_module_version": "1.2.0",
            "bar_color": null,
            "_model_module": "@jupyter-widgets/controls"
          }
        },
        "a6fb038ded5c4d21ac7b88ea55a7a33b": {
          "model_module": "@jupyter-widgets/base",
          "model_name": "LayoutModel",
          "model_module_version": "1.2.0",
          "state": {
            "_view_name": "LayoutView",
            "grid_template_rows": null,
            "right": null,
            "justify_content": null,
            "_view_module": "@jupyter-widgets/base",
            "overflow": null,
            "_model_module_version": "1.2.0",
            "_view_count": null,
            "flex_flow": null,
            "width": null,
            "min_width": null,
            "border": null,
            "align_items": null,
            "bottom": null,
            "_model_module": "@jupyter-widgets/base",
            "top": null,
            "grid_column": null,
            "overflow_y": null,
            "overflow_x": null,
            "grid_auto_flow": null,
            "grid_area": null,
            "grid_template_columns": null,
            "flex": null,
            "_model_name": "LayoutModel",
            "justify_items": null,
            "grid_row": null,
            "max_height": null,
            "align_content": null,
            "visibility": null,
            "align_self": null,
            "height": null,
            "min_height": null,
            "padding": null,
            "grid_auto_rows": null,
            "grid_gap": null,
            "max_width": null,
            "order": null,
            "_view_module_version": "1.2.0",
            "grid_template_areas": null,
            "object_position": null,
            "object_fit": null,
            "grid_auto_columns": null,
            "margin": null,
            "display": null,
            "left": null
          }
        },
        "bb977ec4f976449b9e2e5338424a717b": {
          "model_module": "@jupyter-widgets/controls",
          "model_name": "TextModel",
          "model_module_version": "1.5.0",
          "state": {
            "_view_name": "TextView",
            "style": "IPY_MODEL_4b143a1d1ee7445dadff6b3f13deee40",
            "_dom_classes": [],
            "description": "",
            "_model_name": "TextModel",
            "placeholder": "​",
            "_view_module": "@jupyter-widgets/controls",
            "_model_module_version": "1.5.0",
            "value": "Following data types have been inferred automatically, if they are correct press enter to continue or type 'quit' otherwise.",
            "_view_count": null,
            "disabled": false,
            "_view_module_version": "1.5.0",
            "continuous_update": true,
            "description_tooltip": null,
            "_model_module": "@jupyter-widgets/controls",
            "layout": "IPY_MODEL_d94dd377f8964d43bb52ddd29ea1c060"
          }
        },
        "4b143a1d1ee7445dadff6b3f13deee40": {
          "model_module": "@jupyter-widgets/controls",
          "model_name": "DescriptionStyleModel",
          "model_module_version": "1.5.0",
          "state": {
            "_view_name": "StyleView",
            "_model_name": "DescriptionStyleModel",
            "description_width": "",
            "_view_module": "@jupyter-widgets/base",
            "_model_module_version": "1.5.0",
            "_view_count": null,
            "_view_module_version": "1.2.0",
            "_model_module": "@jupyter-widgets/controls"
          }
        },
        "d94dd377f8964d43bb52ddd29ea1c060": {
          "model_module": "@jupyter-widgets/base",
          "model_name": "LayoutModel",
          "model_module_version": "1.2.0",
          "state": {
            "_view_name": "LayoutView",
            "grid_template_rows": null,
            "right": null,
            "justify_content": null,
            "_view_module": "@jupyter-widgets/base",
            "overflow": null,
            "_model_module_version": "1.2.0",
            "_view_count": null,
            "flex_flow": null,
            "width": "100%",
            "min_width": null,
            "border": null,
            "align_items": null,
            "bottom": null,
            "_model_module": "@jupyter-widgets/base",
            "top": null,
            "grid_column": null,
            "overflow_y": null,
            "overflow_x": null,
            "grid_auto_flow": null,
            "grid_area": null,
            "grid_template_columns": null,
            "flex": null,
            "_model_name": "LayoutModel",
            "justify_items": null,
            "grid_row": null,
            "max_height": null,
            "align_content": null,
            "visibility": null,
            "align_self": null,
            "height": null,
            "min_height": null,
            "padding": null,
            "grid_auto_rows": null,
            "grid_gap": null,
            "max_width": null,
            "order": null,
            "_view_module_version": "1.2.0",
            "grid_template_areas": null,
            "object_position": null,
            "object_fit": null,
            "grid_auto_columns": null,
            "margin": null,
            "display": null,
            "left": null
          }
        },
        "ba5df368ecf24ac198a1ef2798bece96": {
          "model_module": "@jupyter-widgets/controls",
          "model_name": "IntProgressModel",
          "model_module_version": "1.5.0",
          "state": {
            "_view_name": "ProgressView",
            "style": "IPY_MODEL_17eed1df0be74d1eb356fd08db301a3a",
            "_dom_classes": [],
            "description": "Processing: ",
            "_model_name": "IntProgressModel",
            "bar_style": "",
            "max": 69,
            "_view_module": "@jupyter-widgets/controls",
            "_model_module_version": "1.5.0",
            "value": 69,
            "_view_count": null,
            "_view_module_version": "1.5.0",
            "orientation": "horizontal",
            "min": 0,
            "description_tooltip": null,
            "_model_module": "@jupyter-widgets/controls",
            "layout": "IPY_MODEL_eab7bb6eeeb14adabd05c18c4f33a2aa"
          }
        },
        "17eed1df0be74d1eb356fd08db301a3a": {
          "model_module": "@jupyter-widgets/controls",
          "model_name": "ProgressStyleModel",
          "model_module_version": "1.5.0",
          "state": {
            "_view_name": "StyleView",
            "_model_name": "ProgressStyleModel",
            "description_width": "",
            "_view_module": "@jupyter-widgets/base",
            "_model_module_version": "1.5.0",
            "_view_count": null,
            "_view_module_version": "1.2.0",
            "bar_color": null,
            "_model_module": "@jupyter-widgets/controls"
          }
        },
        "eab7bb6eeeb14adabd05c18c4f33a2aa": {
          "model_module": "@jupyter-widgets/base",
          "model_name": "LayoutModel",
          "model_module_version": "1.2.0",
          "state": {
            "_view_name": "LayoutView",
            "grid_template_rows": null,
            "right": null,
            "justify_content": null,
            "_view_module": "@jupyter-widgets/base",
            "overflow": null,
            "_model_module_version": "1.2.0",
            "_view_count": null,
            "flex_flow": null,
            "width": null,
            "min_width": null,
            "border": null,
            "align_items": null,
            "bottom": null,
            "_model_module": "@jupyter-widgets/base",
            "top": null,
            "grid_column": null,
            "overflow_y": null,
            "overflow_x": null,
            "grid_auto_flow": null,
            "grid_area": null,
            "grid_template_columns": null,
            "flex": null,
            "_model_name": "LayoutModel",
            "justify_items": null,
            "grid_row": null,
            "max_height": null,
            "align_content": null,
            "visibility": null,
            "align_self": null,
            "height": null,
            "min_height": null,
            "padding": null,
            "grid_auto_rows": null,
            "grid_gap": null,
            "max_width": null,
            "order": null,
            "_view_module_version": "1.2.0",
            "grid_template_areas": null,
            "object_position": null,
            "object_fit": null,
            "grid_auto_columns": null,
            "margin": null,
            "display": null,
            "left": null
          }
        },
        "5d4c8edf040d4b85adbd40df68a1a6f0": {
          "model_module": "@jupyter-widgets/controls",
          "model_name": "IntProgressModel",
          "model_module_version": "1.5.0",
          "state": {
            "_view_name": "ProgressView",
            "style": "IPY_MODEL_6c88e7d9f454437d843479b087b41ea2",
            "_dom_classes": [],
            "description": "Processing: ",
            "_model_name": "IntProgressModel",
            "bar_style": "",
            "max": 4,
            "_view_module": "@jupyter-widgets/controls",
            "_model_module_version": "1.5.0",
            "value": 4,
            "_view_count": null,
            "_view_module_version": "1.5.0",
            "orientation": "horizontal",
            "min": 0,
            "description_tooltip": null,
            "_model_module": "@jupyter-widgets/controls",
            "layout": "IPY_MODEL_bafd77255498428d825c16efaf2675f7"
          }
        },
        "6c88e7d9f454437d843479b087b41ea2": {
          "model_module": "@jupyter-widgets/controls",
          "model_name": "ProgressStyleModel",
          "model_module_version": "1.5.0",
          "state": {
            "_view_name": "StyleView",
            "_model_name": "ProgressStyleModel",
            "description_width": "",
            "_view_module": "@jupyter-widgets/base",
            "_model_module_version": "1.5.0",
            "_view_count": null,
            "_view_module_version": "1.2.0",
            "bar_color": null,
            "_model_module": "@jupyter-widgets/controls"
          }
        },
        "bafd77255498428d825c16efaf2675f7": {
          "model_module": "@jupyter-widgets/base",
          "model_name": "LayoutModel",
          "model_module_version": "1.2.0",
          "state": {
            "_view_name": "LayoutView",
            "grid_template_rows": null,
            "right": null,
            "justify_content": null,
            "_view_module": "@jupyter-widgets/base",
            "overflow": null,
            "_model_module_version": "1.2.0",
            "_view_count": null,
            "flex_flow": null,
            "width": null,
            "min_width": null,
            "border": null,
            "align_items": null,
            "bottom": null,
            "_model_module": "@jupyter-widgets/base",
            "top": null,
            "grid_column": null,
            "overflow_y": null,
            "overflow_x": null,
            "grid_auto_flow": null,
            "grid_area": null,
            "grid_template_columns": null,
            "flex": null,
            "_model_name": "LayoutModel",
            "justify_items": null,
            "grid_row": null,
            "max_height": null,
            "align_content": null,
            "visibility": null,
            "align_self": null,
            "height": null,
            "min_height": null,
            "padding": null,
            "grid_auto_rows": null,
            "grid_gap": null,
            "max_width": null,
            "order": null,
            "_view_module_version": "1.2.0",
            "grid_template_areas": null,
            "object_position": null,
            "object_fit": null,
            "grid_auto_columns": null,
            "margin": null,
            "display": null,
            "left": null
          }
        },
        "721436d734e34d30b1f4d554975d54d4": {
          "model_module": "catboost-widget",
          "model_name": "CatboostWidgetModel",
          "model_module_version": "^1.0.0",
          "state": {
            "_view_name": "CatboostWidgetView",
            "_dom_classes": [],
            "_model_name": "CatboostWidgetModel",
            "data": {
              "catboost_info": {
                "content": {
                  "data": {
                    "meta": {
                      "name": "experiment",
                      "parameters": "",
                      "test_metrics": [
                        {
                          "best_value": "Min",
                          "name": "Logloss"
                        }
                      ],
                      "learn_sets": [
                        "learn"
                      ],
                      "launch_mode": "Train",
                      "learn_metrics": [
                        {
                          "best_value": "Min",
                          "name": "Logloss"
                        }
                      ],
                      "iteration_count": 175,
                      "test_sets": [
                        "test"
                      ]
                    },
                    "iterations": [
                      {
                        "test": [
                          0.4883257469
                        ],
                        "passed_time": 0.004529988815,
                        "iteration": 0,
                        "remaining_time": 0.7882180538,
                        "learn": [
                          0.4879320988
                        ]
                      },
                      {
                        "test": [
                          0.3618416116
                        ],
                        "passed_time": 0.008704044418,
                        "iteration": 1,
                        "remaining_time": 0.7528998422,
                        "learn": [
                          0.363766602
                        ]
                      },
                      {
                        "test": [
                          0.2846608918
                        ],
                        "passed_time": 0.0125284038,
                        "iteration": 2,
                        "remaining_time": 0.7182951514,
                        "learn": [
                          0.2857264548
                        ]
                      },
                      {
                        "test": [
                          0.2281054296
                        ],
                        "passed_time": 0.016344719,
                        "iteration": 3,
                        "remaining_time": 0.6987367374,
                        "learn": [
                          0.2276192706
                        ]
                      },
                      {
                        "test": [
                          0.1845664356
                        ],
                        "passed_time": 0.02014354953,
                        "iteration": 4,
                        "remaining_time": 0.684880684,
                        "learn": [
                          0.1846340086
                        ]
                      },
                      {
                        "test": [
                          0.1522793942
                        ],
                        "passed_time": 0.02423523972,
                        "iteration": 5,
                        "remaining_time": 0.6826259186,
                        "learn": [
                          0.1527630195
                        ]
                      },
                      {
                        "test": [
                          0.1259303396
                        ],
                        "passed_time": 0.02812787151,
                        "iteration": 6,
                        "remaining_time": 0.6750689162,
                        "learn": [
                          0.1281694032
                        ]
                      },
                      {
                        "test": [
                          0.1097095976
                        ],
                        "passed_time": 0.03192414579,
                        "iteration": 7,
                        "remaining_time": 0.6664165433,
                        "learn": [
                          0.1104004609
                        ]
                      },
                      {
                        "test": [
                          0.09651968975
                        ],
                        "passed_time": 0.03572888877,
                        "iteration": 8,
                        "remaining_time": 0.658999504,
                        "learn": [
                          0.09713467613
                        ]
                      },
                      {
                        "test": [
                          0.08773175948
                        ],
                        "passed_time": 0.03949450714,
                        "iteration": 9,
                        "remaining_time": 0.6516593679,
                        "learn": [
                          0.08675788831
                        ]
                      },
                      {
                        "test": [
                          0.08029221686
                        ],
                        "passed_time": 0.04319858917,
                        "iteration": 10,
                        "remaining_time": 0.6440516931,
                        "learn": [
                          0.07948845048
                        ]
                      },
                      {
                        "test": [
                          0.0723765087
                        ],
                        "passed_time": 0.04697850599,
                        "iteration": 11,
                        "remaining_time": 0.6381247064,
                        "learn": [
                          0.07046452
                        ]
                      },
                      {
                        "test": [
                          0.06839734451
                        ],
                        "passed_time": 0.05072572064,
                        "iteration": 12,
                        "remaining_time": 0.6321205187,
                        "learn": [
                          0.0658490914
                        ]
                      },
                      {
                        "test": [
                          0.06278534987
                        ],
                        "passed_time": 0.05445058173,
                        "iteration": 13,
                        "remaining_time": 0.6261816899,
                        "learn": [
                          0.06087976904
                        ]
                      },
                      {
                        "test": [
                          0.06082011275
                        ],
                        "passed_time": 0.05831251308,
                        "iteration": 14,
                        "remaining_time": 0.6220001395,
                        "learn": [
                          0.058524021
                        ]
                      },
                      {
                        "test": [
                          0.0587055867
                        ],
                        "passed_time": 0.06205202443,
                        "iteration": 15,
                        "remaining_time": 0.6166419928,
                        "learn": [
                          0.05542276326
                        ]
                      },
                      {
                        "test": [
                          0.05775965124
                        ],
                        "passed_time": 0.06575459289,
                        "iteration": 16,
                        "remaining_time": 0.6111309221,
                        "learn": [
                          0.05371227337
                        ]
                      },
                      {
                        "test": [
                          0.05513070752
                        ],
                        "passed_time": 0.06959618605,
                        "iteration": 17,
                        "remaining_time": 0.6070334006,
                        "learn": [
                          0.05142493543
                        ]
                      },
                      {
                        "test": [
                          0.05290405191
                        ],
                        "passed_time": 0.07338231078,
                        "iteration": 18,
                        "remaining_time": 0.6025073938,
                        "learn": [
                          0.0491970088
                        ]
                      },
                      {
                        "test": [
                          0.05194886374
                        ],
                        "passed_time": 0.07709039081,
                        "iteration": 19,
                        "remaining_time": 0.5974505288,
                        "learn": [
                          0.04782222887
                        ]
                      },
                      {
                        "test": [
                          0.05046623887
                        ],
                        "passed_time": 0.08084451605,
                        "iteration": 20,
                        "remaining_time": 0.5928597844,
                        "learn": [
                          0.04625219845
                        ]
                      },
                      {
                        "test": [
                          0.04856857607
                        ],
                        "passed_time": 0.08457801313,
                        "iteration": 21,
                        "remaining_time": 0.5882016368,
                        "learn": [
                          0.04468022198
                        ]
                      },
                      {
                        "test": [
                          0.04800861999
                        ],
                        "passed_time": 0.08831599364,
                        "iteration": 22,
                        "remaining_time": 0.5836535232,
                        "learn": [
                          0.04370078717
                        ]
                      },
                      {
                        "test": [
                          0.04670110371
                        ],
                        "passed_time": 0.09206703812,
                        "iteration": 23,
                        "remaining_time": 0.5792551148,
                        "learn": [
                          0.04234641794
                        ]
                      },
                      {
                        "test": [
                          0.04591856911
                        ],
                        "passed_time": 0.09578776122,
                        "iteration": 24,
                        "remaining_time": 0.5747265673,
                        "learn": [
                          0.04164894771
                        ]
                      },
                      {
                        "test": [
                          0.04493330587
                        ],
                        "passed_time": 0.09953908023,
                        "iteration": 25,
                        "remaining_time": 0.5704354982,
                        "learn": [
                          0.04082546106
                        ]
                      },
                      {
                        "test": [
                          0.04454262484
                        ],
                        "passed_time": 0.1033377808,
                        "iteration": 26,
                        "remaining_time": 0.5664441316,
                        "learn": [
                          0.04027359309
                        ]
                      },
                      {
                        "test": [
                          0.04381363283
                        ],
                        "passed_time": 0.1071367013,
                        "iteration": 27,
                        "remaining_time": 0.5624676817,
                        "learn": [
                          0.03914680523
                        ]
                      },
                      {
                        "test": [
                          0.04314537015
                        ],
                        "passed_time": 0.1109068613,
                        "iteration": 28,
                        "remaining_time": 0.5583586808,
                        "learn": [
                          0.03816625314
                        ]
                      },
                      {
                        "test": [
                          0.04285444522
                        ],
                        "passed_time": 0.1146225491,
                        "iteration": 29,
                        "remaining_time": 0.5540089875,
                        "learn": [
                          0.03705457114
                        ]
                      },
                      {
                        "test": [
                          0.04248242509
                        ],
                        "passed_time": 0.1184887594,
                        "iteration": 30,
                        "remaining_time": 0.5503993984,
                        "learn": [
                          0.03645351526
                        ]
                      },
                      {
                        "test": [
                          0.04248984627
                        ],
                        "passed_time": 0.1209749612,
                        "iteration": 31,
                        "remaining_time": 0.5406068578,
                        "learn": [
                          0.03633791085
                        ]
                      },
                      {
                        "test": [
                          0.04205273958
                        ],
                        "passed_time": 0.1257355715,
                        "iteration": 32,
                        "remaining_time": 0.5410439745,
                        "learn": [
                          0.03581173443
                        ]
                      },
                      {
                        "test": [
                          0.04205582696
                        ],
                        "passed_time": 0.129645098,
                        "iteration": 33,
                        "remaining_time": 0.5376458477,
                        "learn": [
                          0.0356960975
                        ]
                      },
                      {
                        "test": [
                          0.04135329456
                        ],
                        "passed_time": 0.1335574244,
                        "iteration": 34,
                        "remaining_time": 0.5342296976,
                        "learn": [
                          0.03498895608
                        ]
                      },
                      {
                        "test": [
                          0.04147946059
                        ],
                        "passed_time": 0.1375110307,
                        "iteration": 35,
                        "remaining_time": 0.5309453687,
                        "learn": [
                          0.03435685367
                        ]
                      },
                      {
                        "test": [
                          0.04144444004
                        ],
                        "passed_time": 0.1413440597,
                        "iteration": 36,
                        "remaining_time": 0.5271751418,
                        "learn": [
                          0.03420285221
                        ]
                      },
                      {
                        "test": [
                          0.04092549182
                        ],
                        "passed_time": 0.1472181086,
                        "iteration": 37,
                        "remaining_time": 0.5307600231,
                        "learn": [
                          0.03384438478
                        ]
                      },
                      {
                        "test": [
                          0.0402867627
                        ],
                        "passed_time": 0.1511286296,
                        "iteration": 38,
                        "remaining_time": 0.5270126571,
                        "learn": [
                          0.03310117328
                        ]
                      },
                      {
                        "test": [
                          0.03978439325
                        ],
                        "passed_time": 0.1549619231,
                        "iteration": 39,
                        "remaining_time": 0.5229964906,
                        "learn": [
                          0.03257816794
                        ]
                      },
                      {
                        "test": [
                          0.03892544914
                        ],
                        "passed_time": 0.1587683615,
                        "iteration": 40,
                        "remaining_time": 0.5189014742,
                        "learn": [
                          0.03182969792
                        ]
                      },
                      {
                        "test": [
                          0.03913331105
                        ],
                        "passed_time": 0.1625848049,
                        "iteration": 41,
                        "remaining_time": 0.5148518821,
                        "learn": [
                          0.03152210779
                        ]
                      },
                      {
                        "test": [
                          0.03849560099
                        ],
                        "passed_time": 0.1664455181,
                        "iteration": 42,
                        "remaining_time": 0.5109490323,
                        "learn": [
                          0.03080042969
                        ]
                      },
                      {
                        "test": [
                          0.03830130165
                        ],
                        "passed_time": 0.1702370608,
                        "iteration": 43,
                        "remaining_time": 0.5068421582,
                        "learn": [
                          0.03025425264
                        ]
                      },
                      {
                        "test": [
                          0.03785561233
                        ],
                        "passed_time": 0.1741002257,
                        "iteration": 44,
                        "remaining_time": 0.5029562075,
                        "learn": [
                          0.0297715707
                        ]
                      },
                      {
                        "test": [
                          0.03725733627
                        ],
                        "passed_time": 0.1781565329,
                        "iteration": 45,
                        "remaining_time": 0.4996128858,
                        "learn": [
                          0.02928963591
                        ]
                      },
                      {
                        "test": [
                          0.03685750156
                        ],
                        "passed_time": 0.1819394051,
                        "iteration": 46,
                        "remaining_time": 0.4954945499,
                        "learn": [
                          0.02882576777
                        ]
                      },
                      {
                        "test": [
                          0.03687498062
                        ],
                        "passed_time": 0.1858807683,
                        "iteration": 47,
                        "remaining_time": 0.4918095328,
                        "learn": [
                          0.028698865
                        ]
                      },
                      {
                        "test": [
                          0.03684267572
                        ],
                        "passed_time": 0.1897352018,
                        "iteration": 48,
                        "remaining_time": 0.4878905189,
                        "learn": [
                          0.02848893538
                        ]
                      },
                      {
                        "test": [
                          0.03650665389
                        ],
                        "passed_time": 0.1935246609,
                        "iteration": 49,
                        "remaining_time": 0.4838116523,
                        "learn": [
                          0.02823587451
                        ]
                      },
                      {
                        "test": [
                          0.03624711762
                        ],
                        "passed_time": 0.1973247805,
                        "iteration": 50,
                        "remaining_time": 0.4797700545,
                        "learn": [
                          0.02789511558
                        ]
                      },
                      {
                        "test": [
                          0.03602512066
                        ],
                        "passed_time": 0.2010999466,
                        "iteration": 51,
                        "remaining_time": 0.4756787199,
                        "learn": [
                          0.02754814974
                        ]
                      },
                      {
                        "test": [
                          0.03584412891
                        ],
                        "passed_time": 0.2048636451,
                        "iteration": 52,
                        "remaining_time": 0.4715729188,
                        "learn": [
                          0.02743194849
                        ]
                      },
                      {
                        "test": [
                          0.03569134295
                        ],
                        "passed_time": 0.2086736715,
                        "iteration": 53,
                        "remaining_time": 0.4675835972,
                        "learn": [
                          0.02730715781
                        ]
                      },
                      {
                        "test": [
                          0.03578244801
                        ],
                        "passed_time": 0.212524566,
                        "iteration": 54,
                        "remaining_time": 0.4636899622,
                        "learn": [
                          0.02716117213
                        ]
                      },
                      {
                        "test": [
                          0.03590124965
                        ],
                        "passed_time": 0.2163089345,
                        "iteration": 55,
                        "remaining_time": 0.4596564858,
                        "learn": [
                          0.02703744783
                        ]
                      },
                      {
                        "test": [
                          0.03573217571
                        ],
                        "passed_time": 0.2200823043,
                        "iteration": 56,
                        "remaining_time": 0.4556089809,
                        "learn": [
                          0.0268333664
                        ]
                      },
                      {
                        "test": [
                          0.03579535808
                        ],
                        "passed_time": 0.2238360641,
                        "iteration": 57,
                        "remaining_time": 0.4515313707,
                        "learn": [
                          0.0267584955
                        ]
                      },
                      {
                        "test": [
                          0.03575506855
                        ],
                        "passed_time": 0.2275456177,
                        "iteration": 58,
                        "remaining_time": 0.4473778247,
                        "learn": [
                          0.02672076733
                        ]
                      },
                      {
                        "test": [
                          0.03547317991
                        ],
                        "passed_time": 0.2313395257,
                        "iteration": 59,
                        "remaining_time": 0.4434007577,
                        "learn": [
                          0.02659284714
                        ]
                      },
                      {
                        "test": [
                          0.03534120456
                        ],
                        "passed_time": 0.2353182728,
                        "iteration": 60,
                        "remaining_time": 0.4397751327,
                        "learn": [
                          0.02636684425
                        ]
                      },
                      {
                        "test": [
                          0.03516673419
                        ],
                        "passed_time": 0.2390870901,
                        "iteration": 61,
                        "remaining_time": 0.4357555029,
                        "learn": [
                          0.02630181306
                        ]
                      },
                      {
                        "test": [
                          0.03490185491
                        ],
                        "passed_time": 0.2427308157,
                        "iteration": 62,
                        "remaining_time": 0.4315214502,
                        "learn": [
                          0.02621644473
                        ]
                      },
                      {
                        "test": [
                          0.03491609645
                        ],
                        "passed_time": 0.2465547651,
                        "iteration": 63,
                        "remaining_time": 0.4276184208,
                        "learn": [
                          0.02614805819
                        ]
                      },
                      {
                        "test": [
                          0.03475769971
                        ],
                        "passed_time": 0.2503163828,
                        "iteration": 64,
                        "remaining_time": 0.4236123401,
                        "learn": [
                          0.0257746456
                        ]
                      },
                      {
                        "test": [
                          0.03486814271
                        ],
                        "passed_time": 0.2540010748,
                        "iteration": 65,
                        "remaining_time": 0.4194866235,
                        "learn": [
                          0.0256883903
                        ]
                      },
                      {
                        "test": [
                          0.03470060906
                        ],
                        "passed_time": 0.2577094329,
                        "iteration": 66,
                        "remaining_time": 0.4154122203,
                        "learn": [
                          0.02560717567
                        ]
                      },
                      {
                        "test": [
                          0.03472582243
                        ],
                        "passed_time": 0.2614354722,
                        "iteration": 67,
                        "remaining_time": 0.4113764047,
                        "learn": [
                          0.0255510508
                        ]
                      },
                      {
                        "test": [
                          0.03460479288
                        ],
                        "passed_time": 0.2652401606,
                        "iteration": 68,
                        "remaining_time": 0.4074703917,
                        "learn": [
                          0.02543160056
                        ]
                      },
                      {
                        "test": [
                          0.03464319693
                        ],
                        "passed_time": 0.2691166077,
                        "iteration": 69,
                        "remaining_time": 0.4036749115,
                        "learn": [
                          0.02540857854
                        ]
                      },
                      {
                        "test": [
                          0.03472050681
                        ],
                        "passed_time": 0.2728333237,
                        "iteration": 70,
                        "remaining_time": 0.3996431784,
                        "learn": [
                          0.02537698192
                        ]
                      },
                      {
                        "test": [
                          0.03474617752
                        ],
                        "passed_time": 0.2768679146,
                        "iteration": 71,
                        "remaining_time": 0.3960749334,
                        "learn": [
                          0.02525664374
                        ]
                      },
                      {
                        "test": [
                          0.03457445675
                        ],
                        "passed_time": 0.2829178738,
                        "iteration": 72,
                        "remaining_time": 0.3953099058,
                        "learn": [
                          0.02490498988
                        ]
                      },
                      {
                        "test": [
                          0.0345019579
                        ],
                        "passed_time": 0.2867724391,
                        "iteration": 73,
                        "remaining_time": 0.3914056263,
                        "learn": [
                          0.02477982852
                        ]
                      },
                      {
                        "test": [
                          0.03450399764
                        ],
                        "passed_time": 0.2905117668,
                        "iteration": 74,
                        "remaining_time": 0.3873490224,
                        "learn": [
                          0.02476364486
                        ]
                      },
                      {
                        "test": [
                          0.03437640129
                        ],
                        "passed_time": 0.2942023858,
                        "iteration": 75,
                        "remaining_time": 0.3832373184,
                        "learn": [
                          0.02471266679
                        ]
                      },
                      {
                        "test": [
                          0.03447049722
                        ],
                        "passed_time": 0.2978791818,
                        "iteration": 76,
                        "remaining_time": 0.3791189586,
                        "learn": [
                          0.02466211504
                        ]
                      },
                      {
                        "test": [
                          0.03427632708
                        ],
                        "passed_time": 0.3025036109,
                        "iteration": 77,
                        "remaining_time": 0.376190388,
                        "learn": [
                          0.02456306644
                        ]
                      },
                      {
                        "test": [
                          0.03427630971
                        ],
                        "passed_time": 0.3061079365,
                        "iteration": 78,
                        "remaining_time": 0.3719792646,
                        "learn": [
                          0.02456306509
                        ]
                      },
                      {
                        "test": [
                          0.03419132475
                        ],
                        "passed_time": 0.309915673,
                        "iteration": 79,
                        "remaining_time": 0.3680248617,
                        "learn": [
                          0.02449437047
                        ]
                      },
                      {
                        "test": [
                          0.03420762126
                        ],
                        "passed_time": 0.3137197496,
                        "iteration": 80,
                        "remaining_time": 0.3640698329,
                        "learn": [
                          0.02439215281
                        ]
                      },
                      {
                        "test": [
                          0.03420217423
                        ],
                        "passed_time": 0.3175934859,
                        "iteration": 81,
                        "remaining_time": 0.3601974901,
                        "learn": [
                          0.02422523308
                        ]
                      },
                      {
                        "test": [
                          0.03411150877
                        ],
                        "passed_time": 0.3205413471,
                        "iteration": 82,
                        "remaining_time": 0.3552988426,
                        "learn": [
                          0.02414704302
                        ]
                      },
                      {
                        "test": [
                          0.03416587545
                        ],
                        "passed_time": 0.3242557996,
                        "iteration": 83,
                        "remaining_time": 0.3512771162,
                        "learn": [
                          0.02397996612
                        ]
                      },
                      {
                        "test": [
                          0.03410104729
                        ],
                        "passed_time": 0.3279704393,
                        "iteration": 84,
                        "remaining_time": 0.3472628181,
                        "learn": [
                          0.02390534853
                        ]
                      },
                      {
                        "test": [
                          0.03410141186
                        ],
                        "passed_time": 0.3316475035,
                        "iteration": 85,
                        "remaining_time": 0.3432166024,
                        "learn": [
                          0.02390494879
                        ]
                      },
                      {
                        "test": [
                          0.03423694494
                        ],
                        "passed_time": 0.3353696447,
                        "iteration": 86,
                        "remaining_time": 0.3392244682,
                        "learn": [
                          0.02376442103
                        ]
                      },
                      {
                        "test": [
                          0.03425205811
                        ],
                        "passed_time": 0.3391323787,
                        "iteration": 87,
                        "remaining_time": 0.3352786016,
                        "learn": [
                          0.0236593487
                        ]
                      },
                      {
                        "test": [
                          0.03427928698
                        ],
                        "passed_time": 0.3428699165,
                        "iteration": 88,
                        "remaining_time": 0.3313125035,
                        "learn": [
                          0.02353208002
                        ]
                      },
                      {
                        "test": [
                          0.03402634086
                        ],
                        "passed_time": 0.3466312168,
                        "iteration": 89,
                        "remaining_time": 0.327373927,
                        "learn": [
                          0.02319110148
                        ]
                      },
                      {
                        "test": [
                          0.03409334297
                        ],
                        "passed_time": 0.3503646821,
                        "iteration": 90,
                        "remaining_time": 0.3234135527,
                        "learn": [
                          0.02311395149
                        ]
                      },
                      {
                        "test": [
                          0.03414175132
                        ],
                        "passed_time": 0.3540435052,
                        "iteration": 91,
                        "remaining_time": 0.3194088145,
                        "learn": [
                          0.02306164583
                        ]
                      },
                      {
                        "test": [
                          0.03414639742
                        ],
                        "passed_time": 0.3575975967,
                        "iteration": 92,
                        "remaining_time": 0.3153011068,
                        "learn": [
                          0.02306052017
                        ]
                      },
                      {
                        "test": [
                          0.0338624348
                        ],
                        "passed_time": 0.3613960754,
                        "iteration": 93,
                        "remaining_time": 0.3114157671,
                        "learn": [
                          0.02289959413
                        ]
                      },
                      {
                        "test": [
                          0.03380604703
                        ],
                        "passed_time": 0.3651849946,
                        "iteration": 94,
                        "remaining_time": 0.3075242059,
                        "learn": [
                          0.02283620185
                        ]
                      },
                      {
                        "test": [
                          0.03359976137
                        ],
                        "passed_time": 0.3688529327,
                        "iteration": 95,
                        "remaining_time": 0.3035352259,
                        "learn": [
                          0.02273131268
                        ]
                      },
                      {
                        "test": [
                          0.03361656673
                        ],
                        "passed_time": 0.3724796746,
                        "iteration": 96,
                        "remaining_time": 0.2995197383,
                        "learn": [
                          0.02269650475
                        ]
                      },
                      {
                        "test": [
                          0.03337641862
                        ],
                        "passed_time": 0.3761543634,
                        "iteration": 97,
                        "remaining_time": 0.2955498569,
                        "learn": [
                          0.02261402518
                        ]
                      },
                      {
                        "test": [
                          0.03322352023
                        ],
                        "passed_time": 0.3799125384,
                        "iteration": 98,
                        "remaining_time": 0.2916500295,
                        "learn": [
                          0.02252264406
                        ]
                      },
                      {
                        "test": [
                          0.03317230411
                        ],
                        "passed_time": 0.383651288,
                        "iteration": 99,
                        "remaining_time": 0.287738466,
                        "learn": [
                          0.02242498702
                        ]
                      },
                      {
                        "test": [
                          0.03315454342
                        ],
                        "passed_time": 0.3873449041,
                        "iteration": 100,
                        "remaining_time": 0.2837972565,
                        "learn": [
                          0.02236785264
                        ]
                      },
                      {
                        "test": [
                          0.03301361317
                        ],
                        "passed_time": 0.3910179503,
                        "iteration": 101,
                        "remaining_time": 0.2798461801,
                        "learn": [
                          0.02221845986
                        ]
                      },
                      {
                        "test": [
                          0.03284821982
                        ],
                        "passed_time": 0.3947291402,
                        "iteration": 102,
                        "remaining_time": 0.2759271659,
                        "learn": [
                          0.02197174646
                        ]
                      },
                      {
                        "test": [
                          0.03294303743
                        ],
                        "passed_time": 0.3983963984,
                        "iteration": 103,
                        "remaining_time": 0.2719821566,
                        "learn": [
                          0.02192005194
                        ]
                      },
                      {
                        "test": [
                          0.03298295841
                        ],
                        "passed_time": 0.4020053565,
                        "iteration": 104,
                        "remaining_time": 0.268003571,
                        "learn": [
                          0.02184032876
                        ]
                      },
                      {
                        "test": [
                          0.03297265456
                        ],
                        "passed_time": 0.4056271685,
                        "iteration": 105,
                        "remaining_time": 0.2640403267,
                        "learn": [
                          0.02180011466
                        ]
                      },
                      {
                        "test": [
                          0.03296316421
                        ],
                        "passed_time": 0.4093646091,
                        "iteration": 106,
                        "remaining_time": 0.2601569478,
                        "learn": [
                          0.0217261135
                        ]
                      },
                      {
                        "test": [
                          0.0329611738
                        ],
                        "passed_time": 0.4131350227,
                        "iteration": 107,
                        "remaining_time": 0.256296727,
                        "learn": [
                          0.0217140974
                        ]
                      },
                      {
                        "test": [
                          0.03293432383
                        ],
                        "passed_time": 0.416844879,
                        "iteration": 108,
                        "remaining_time": 0.2524014864,
                        "learn": [
                          0.02166876242
                        ]
                      },
                      {
                        "test": [
                          0.03290416325
                        ],
                        "passed_time": 0.420848494,
                        "iteration": 109,
                        "remaining_time": 0.248683201,
                        "learn": [
                          0.02163681389
                        ]
                      },
                      {
                        "test": [
                          0.03288829376
                        ],
                        "passed_time": 0.4245494643,
                        "iteration": 110,
                        "remaining_time": 0.2447852767,
                        "learn": [
                          0.0216019924
                        ]
                      },
                      {
                        "test": [
                          0.0328674787
                        ],
                        "passed_time": 0.4284649033,
                        "iteration": 111,
                        "remaining_time": 0.2410115081,
                        "learn": [
                          0.02158160999
                        ]
                      },
                      {
                        "test": [
                          0.03292639448
                        ],
                        "passed_time": 0.4321214293,
                        "iteration": 112,
                        "remaining_time": 0.2370931736,
                        "learn": [
                          0.02154113004
                        ]
                      }
                    ]
                  },
                  "total_iterations": 175,
                  "passed_iterations": 112
                },
                "path": "catboost_info",
                "name": "catboost_info"
              }
            },
            "_view_module": "catboost-widget",
            "_model_module_version": "^1.0.0",
            "_view_count": null,
            "_view_module_version": "^1.0.0",
            "layout": "IPY_MODEL_a77eed38556f47b0b9af9dad156719db",
            "_model_module": "catboost-widget"
          }
        }
      }
    }
  },
  "cells": [
    {
      "cell_type": "markdown",
      "metadata": {
        "id": "a3hUX8rbHwDS"
      },
      "source": [
        "# Soccer Prediction (Win/Loss) using pycaret"
      ]
    },
    {
      "cell_type": "code",
      "metadata": {
        "id": "VA-oRHahbqiq"
      },
      "source": [
        "# Uncomment to install pycaret\n",
        "#!pip install pycaret"
      ],
      "execution_count": null,
      "outputs": []
    },
    {
      "cell_type": "code",
      "metadata": {
        "id": "KGd4qs8sbxZU"
      },
      "source": [
        "# Import libraries\n",
        "import pandas as pd"
      ],
      "execution_count": 2,
      "outputs": []
    },
    {
      "cell_type": "code",
      "metadata": {
        "id": "-QzH0MpRcHGO"
      },
      "source": [
        "# Read train data\n",
        "train = pd.read_csv(\"train.csv\")"
      ],
      "execution_count": 3,
      "outputs": []
    },
    {
      "cell_type": "code",
      "metadata": {
        "colab": {
          "base_uri": "https://localhost:8080/",
          "height": 394
        },
        "id": "puDCepJdcKB-",
        "outputId": "fa7a0096-9942-4067-f123-da793f5bae9a"
      },
      "source": [
        "# viewing top 5 rows\n",
        "train.head()"
      ],
      "execution_count": 4,
      "outputs": [
        {
          "output_type": "execute_result",
          "data": {
            "text/html": [
              "<div>\n",
              "<style scoped>\n",
              "    .dataframe tbody tr th:only-of-type {\n",
              "        vertical-align: middle;\n",
              "    }\n",
              "\n",
              "    .dataframe tbody tr th {\n",
              "        vertical-align: top;\n",
              "    }\n",
              "\n",
              "    .dataframe thead th {\n",
              "        text-align: right;\n",
              "    }\n",
              "</style>\n",
              "<table border=\"1\" class=\"dataframe\">\n",
              "  <thead>\n",
              "    <tr style=\"text-align: right;\">\n",
              "      <th></th>\n",
              "      <th>season</th>\n",
              "      <th>date</th>\n",
              "      <th>league_id</th>\n",
              "      <th>league</th>\n",
              "      <th>Team 1</th>\n",
              "      <th>Team2</th>\n",
              "      <th>SPI1</th>\n",
              "      <th>SPI2</th>\n",
              "      <th>proj_score1</th>\n",
              "      <th>proj_score2</th>\n",
              "      <th>importance1</th>\n",
              "      <th>importance2</th>\n",
              "      <th>score1</th>\n",
              "      <th>score2</th>\n",
              "      <th>xg1</th>\n",
              "      <th>xg2</th>\n",
              "      <th>nsxg1</th>\n",
              "      <th>nsxg2</th>\n",
              "      <th>adj_score1</th>\n",
              "      <th>adj_score2</th>\n",
              "      <th>Outcome</th>\n",
              "    </tr>\n",
              "  </thead>\n",
              "  <tbody>\n",
              "    <tr>\n",
              "      <th>0</th>\n",
              "      <td>2019</td>\n",
              "      <td>01/03/19</td>\n",
              "      <td>1979</td>\n",
              "      <td>Chinese Super League</td>\n",
              "      <td>Shandong Luneng</td>\n",
              "      <td>Guizhou Renhe</td>\n",
              "      <td>48.22</td>\n",
              "      <td>37.83</td>\n",
              "      <td>1.75</td>\n",
              "      <td>0.84</td>\n",
              "      <td>45.9</td>\n",
              "      <td>22.1</td>\n",
              "      <td>1.0</td>\n",
              "      <td>0.0</td>\n",
              "      <td>1.39</td>\n",
              "      <td>0.26</td>\n",
              "      <td>2.05</td>\n",
              "      <td>0.54</td>\n",
              "      <td>1.05</td>\n",
              "      <td>0.00</td>\n",
              "      <td>1</td>\n",
              "    </tr>\n",
              "    <tr>\n",
              "      <th>1</th>\n",
              "      <td>2019</td>\n",
              "      <td>01/03/19</td>\n",
              "      <td>1979</td>\n",
              "      <td>Chinese Super League</td>\n",
              "      <td>Shanghai Greenland</td>\n",
              "      <td>Shanghai SIPG</td>\n",
              "      <td>39.81</td>\n",
              "      <td>60.08</td>\n",
              "      <td>1.22</td>\n",
              "      <td>1.89</td>\n",
              "      <td>25.6</td>\n",
              "      <td>63.4</td>\n",
              "      <td>0.0</td>\n",
              "      <td>4.0</td>\n",
              "      <td>0.57</td>\n",
              "      <td>2.76</td>\n",
              "      <td>0.80</td>\n",
              "      <td>1.50</td>\n",
              "      <td>0.00</td>\n",
              "      <td>3.26</td>\n",
              "      <td>0</td>\n",
              "    </tr>\n",
              "    <tr>\n",
              "      <th>2</th>\n",
              "      <td>2019</td>\n",
              "      <td>01/03/19</td>\n",
              "      <td>1979</td>\n",
              "      <td>Chinese Super League</td>\n",
              "      <td>Guangzhou Evergrande</td>\n",
              "      <td>Tianjin Quanujian</td>\n",
              "      <td>65.59</td>\n",
              "      <td>39.99</td>\n",
              "      <td>2.58</td>\n",
              "      <td>0.62</td>\n",
              "      <td>77.1</td>\n",
              "      <td>28.8</td>\n",
              "      <td>3.0</td>\n",
              "      <td>0.0</td>\n",
              "      <td>0.49</td>\n",
              "      <td>0.45</td>\n",
              "      <td>1.05</td>\n",
              "      <td>0.75</td>\n",
              "      <td>3.15</td>\n",
              "      <td>0.00</td>\n",
              "      <td>1</td>\n",
              "    </tr>\n",
              "    <tr>\n",
              "      <th>3</th>\n",
              "      <td>2019</td>\n",
              "      <td>01/03/19</td>\n",
              "      <td>1979</td>\n",
              "      <td>Chinese Super League</td>\n",
              "      <td>Wuhan Zall</td>\n",
              "      <td>Beijing Guoan</td>\n",
              "      <td>32.25</td>\n",
              "      <td>54.82</td>\n",
              "      <td>1.10</td>\n",
              "      <td>1.79</td>\n",
              "      <td>35.8</td>\n",
              "      <td>58.9</td>\n",
              "      <td>0.0</td>\n",
              "      <td>1.0</td>\n",
              "      <td>1.12</td>\n",
              "      <td>0.97</td>\n",
              "      <td>1.51</td>\n",
              "      <td>0.94</td>\n",
              "      <td>0.00</td>\n",
              "      <td>1.05</td>\n",
              "      <td>0</td>\n",
              "    </tr>\n",
              "    <tr>\n",
              "      <th>4</th>\n",
              "      <td>2019</td>\n",
              "      <td>01/03/19</td>\n",
              "      <td>1979</td>\n",
              "      <td>Chinese Super League</td>\n",
              "      <td>Chongqing Lifan</td>\n",
              "      <td>Guangzhou RF</td>\n",
              "      <td>38.24</td>\n",
              "      <td>40.45</td>\n",
              "      <td>1.57</td>\n",
              "      <td>1.24</td>\n",
              "      <td>26.2</td>\n",
              "      <td>21.3</td>\n",
              "      <td>2.0</td>\n",
              "      <td>2.0</td>\n",
              "      <td>2.77</td>\n",
              "      <td>3.17</td>\n",
              "      <td>1.05</td>\n",
              "      <td>2.08</td>\n",
              "      <td>2.10</td>\n",
              "      <td>2.10</td>\n",
              "      <td>1</td>\n",
              "    </tr>\n",
              "  </tbody>\n",
              "</table>\n",
              "</div>"
            ],
            "text/plain": [
              "   season      date  league_id  ... adj_score1 adj_score2 Outcome\n",
              "0    2019  01/03/19       1979  ...       1.05       0.00       1\n",
              "1    2019  01/03/19       1979  ...       0.00       3.26       0\n",
              "2    2019  01/03/19       1979  ...       3.15       0.00       1\n",
              "3    2019  01/03/19       1979  ...       0.00       1.05       0\n",
              "4    2019  01/03/19       1979  ...       2.10       2.10       1\n",
              "\n",
              "[5 rows x 21 columns]"
            ]
          },
          "metadata": {},
          "execution_count": 4
        }
      ]
    },
    {
      "cell_type": "code",
      "metadata": {
        "colab": {
          "base_uri": "https://localhost:8080/"
        },
        "id": "F_W6BZ_0cpYf",
        "outputId": "be72ef9f-61f2-4726-c34b-673246ec844e"
      },
      "source": [
        "#checking for null values\n",
        "train.isna().sum()"
      ],
      "execution_count": 5,
      "outputs": [
        {
          "output_type": "execute_result",
          "data": {
            "text/plain": [
              "season            0\n",
              "date              0\n",
              "league_id         0\n",
              "league            0\n",
              "Team 1            0\n",
              "Team2             0\n",
              "SPI1              0\n",
              "SPI2              0\n",
              "proj_score1       0\n",
              "proj_score2       0\n",
              "importance1    4916\n",
              "importance2    4916\n",
              "score1         4800\n",
              "score2         4800\n",
              "xg1            5728\n",
              "xg2            5728\n",
              "nsxg1          5728\n",
              "nsxg2          5728\n",
              "adj_score1     5728\n",
              "adj_score2     5728\n",
              "Outcome           0\n",
              "dtype: int64"
            ]
          },
          "metadata": {},
          "execution_count": 5
        }
      ]
    },
    {
      "cell_type": "code",
      "metadata": {
        "colab": {
          "base_uri": "https://localhost:8080/"
        },
        "id": "3mFwyeRgdxee",
        "outputId": "068aaace-7f7a-479f-d1d9-8f48a0a68df9"
      },
      "source": [
        "train.columns"
      ],
      "execution_count": null,
      "outputs": [
        {
          "output_type": "execute_result",
          "data": {
            "text/plain": [
              "Index(['season', 'date', 'league_id', 'league', 'Team 1', 'Team2', 'SPI1',\n",
              "       'SPI2', 'proj_score1', 'proj_score2', 'importance1', 'importance2',\n",
              "       'score1', 'score2', 'xg1', 'xg2', 'nsxg1', 'nsxg2', 'adj_score1',\n",
              "       'adj_score2', 'Outcome'],\n",
              "      dtype='object')"
            ]
          },
          "metadata": {},
          "execution_count": 13
        }
      ]
    },
    {
      "cell_type": "code",
      "metadata": {
        "id": "IUeN2SdA0uMO"
      },
      "source": [
        "# Dropping columns with more Null values\n",
        "train.drop(['importance1', 'importance2','score1', 'score2', 'xg1', 'xg2',\n",
        "            'nsxg1', 'nsxg2', 'adj_score1','adj_score2'],1, inplace=True)"
      ],
      "execution_count": 8,
      "outputs": []
    },
    {
      "cell_type": "code",
      "metadata": {
        "colab": {
          "base_uri": "https://localhost:8080/",
          "height": 289
        },
        "id": "N5tMPlr41XAu",
        "outputId": "49cf6c15-1886-4b51-dea6-776811b82b52"
      },
      "source": [
        "train.head()"
      ],
      "execution_count": 19,
      "outputs": [
        {
          "output_type": "execute_result",
          "data": {
            "text/html": [
              "<div>\n",
              "<style scoped>\n",
              "    .dataframe tbody tr th:only-of-type {\n",
              "        vertical-align: middle;\n",
              "    }\n",
              "\n",
              "    .dataframe tbody tr th {\n",
              "        vertical-align: top;\n",
              "    }\n",
              "\n",
              "    .dataframe thead th {\n",
              "        text-align: right;\n",
              "    }\n",
              "</style>\n",
              "<table border=\"1\" class=\"dataframe\">\n",
              "  <thead>\n",
              "    <tr style=\"text-align: right;\">\n",
              "      <th></th>\n",
              "      <th>season</th>\n",
              "      <th>date</th>\n",
              "      <th>league_id</th>\n",
              "      <th>league</th>\n",
              "      <th>Team 1</th>\n",
              "      <th>Team2</th>\n",
              "      <th>SPI1</th>\n",
              "      <th>SPI2</th>\n",
              "      <th>proj_score1</th>\n",
              "      <th>proj_score2</th>\n",
              "      <th>Outcome</th>\n",
              "    </tr>\n",
              "  </thead>\n",
              "  <tbody>\n",
              "    <tr>\n",
              "      <th>0</th>\n",
              "      <td>2019</td>\n",
              "      <td>01/03/19</td>\n",
              "      <td>1979</td>\n",
              "      <td>Chinese Super League</td>\n",
              "      <td>Shandong Luneng</td>\n",
              "      <td>Guizhou Renhe</td>\n",
              "      <td>48.22</td>\n",
              "      <td>37.83</td>\n",
              "      <td>1.75</td>\n",
              "      <td>0.84</td>\n",
              "      <td>1</td>\n",
              "    </tr>\n",
              "    <tr>\n",
              "      <th>1</th>\n",
              "      <td>2019</td>\n",
              "      <td>01/03/19</td>\n",
              "      <td>1979</td>\n",
              "      <td>Chinese Super League</td>\n",
              "      <td>Shanghai Greenland</td>\n",
              "      <td>Shanghai SIPG</td>\n",
              "      <td>39.81</td>\n",
              "      <td>60.08</td>\n",
              "      <td>1.22</td>\n",
              "      <td>1.89</td>\n",
              "      <td>0</td>\n",
              "    </tr>\n",
              "    <tr>\n",
              "      <th>2</th>\n",
              "      <td>2019</td>\n",
              "      <td>01/03/19</td>\n",
              "      <td>1979</td>\n",
              "      <td>Chinese Super League</td>\n",
              "      <td>Guangzhou Evergrande</td>\n",
              "      <td>Tianjin Quanujian</td>\n",
              "      <td>65.59</td>\n",
              "      <td>39.99</td>\n",
              "      <td>2.58</td>\n",
              "      <td>0.62</td>\n",
              "      <td>1</td>\n",
              "    </tr>\n",
              "    <tr>\n",
              "      <th>3</th>\n",
              "      <td>2019</td>\n",
              "      <td>01/03/19</td>\n",
              "      <td>1979</td>\n",
              "      <td>Chinese Super League</td>\n",
              "      <td>Wuhan Zall</td>\n",
              "      <td>Beijing Guoan</td>\n",
              "      <td>32.25</td>\n",
              "      <td>54.82</td>\n",
              "      <td>1.10</td>\n",
              "      <td>1.79</td>\n",
              "      <td>0</td>\n",
              "    </tr>\n",
              "    <tr>\n",
              "      <th>4</th>\n",
              "      <td>2019</td>\n",
              "      <td>01/03/19</td>\n",
              "      <td>1979</td>\n",
              "      <td>Chinese Super League</td>\n",
              "      <td>Chongqing Lifan</td>\n",
              "      <td>Guangzhou RF</td>\n",
              "      <td>38.24</td>\n",
              "      <td>40.45</td>\n",
              "      <td>1.57</td>\n",
              "      <td>1.24</td>\n",
              "      <td>1</td>\n",
              "    </tr>\n",
              "  </tbody>\n",
              "</table>\n",
              "</div>"
            ],
            "text/plain": [
              "   season      date  league_id  ... proj_score1 proj_score2 Outcome\n",
              "0    2019  01/03/19       1979  ...        1.75        0.84       1\n",
              "1    2019  01/03/19       1979  ...        1.22        1.89       0\n",
              "2    2019  01/03/19       1979  ...        2.58        0.62       1\n",
              "3    2019  01/03/19       1979  ...        1.10        1.79       0\n",
              "4    2019  01/03/19       1979  ...        1.57        1.24       1\n",
              "\n",
              "[5 rows x 11 columns]"
            ]
          },
          "metadata": {},
          "execution_count": 19
        }
      ]
    },
    {
      "cell_type": "code",
      "metadata": {
        "colab": {
          "base_uri": "https://localhost:8080/"
        },
        "id": "GL0nb-aaeKhz",
        "outputId": "cba7200d-b491-4180-8431-f8c717fafda4"
      },
      "source": [
        "train.nunique()"
      ],
      "execution_count": 9,
      "outputs": [
        {
          "output_type": "execute_result",
          "data": {
            "text/plain": [
              "season            3\n",
              "date            424\n",
              "league_id        39\n",
              "league           39\n",
              "Team 1          657\n",
              "Team2           657\n",
              "SPI1           2516\n",
              "SPI2           2514\n",
              "proj_score1     248\n",
              "proj_score2     242\n",
              "Outcome           2\n",
              "dtype: int64"
            ]
          },
          "metadata": {},
          "execution_count": 9
        }
      ]
    },
    {
      "cell_type": "code",
      "metadata": {
        "colab": {
          "base_uri": "https://localhost:8080/"
        },
        "id": "IRN-iKnSei-G",
        "outputId": "435b81a3-1bcb-46ab-8261-4baf4d91cce3"
      },
      "source": [
        "train.info()"
      ],
      "execution_count": 10,
      "outputs": [
        {
          "output_type": "stream",
          "text": [
            "<class 'pandas.core.frame.DataFrame'>\n",
            "RangeIndex: 7443 entries, 0 to 7442\n",
            "Data columns (total 11 columns):\n",
            " #   Column       Non-Null Count  Dtype  \n",
            "---  ------       --------------  -----  \n",
            " 0   season       7443 non-null   int64  \n",
            " 1   date         7443 non-null   object \n",
            " 2   league_id    7443 non-null   int64  \n",
            " 3   league       7443 non-null   object \n",
            " 4   Team 1       7443 non-null   object \n",
            " 5   Team2        7443 non-null   object \n",
            " 6   SPI1         7443 non-null   float64\n",
            " 7   SPI2         7443 non-null   float64\n",
            " 8   proj_score1  7443 non-null   float64\n",
            " 9   proj_score2  7443 non-null   float64\n",
            " 10  Outcome      7443 non-null   int64  \n",
            "dtypes: float64(4), int64(3), object(4)\n",
            "memory usage: 639.8+ KB\n"
          ],
          "name": "stdout"
        }
      ]
    },
    {
      "cell_type": "code",
      "metadata": {
        "id": "3BPjFT8k5K5I"
      },
      "source": [
        "#converting from object to datetime format\n",
        "train['date'] = pd.to_datetime(train['date'])"
      ],
      "execution_count": 21,
      "outputs": []
    },
    {
      "cell_type": "code",
      "metadata": {
        "colab": {
          "base_uri": "https://localhost:8080/"
        },
        "id": "ivaxsvLw5gSz",
        "outputId": "adb9901a-f5bd-45b5-fa83-7bc2dfbd940e"
      },
      "source": [
        "train.info()"
      ],
      "execution_count": 22,
      "outputs": [
        {
          "output_type": "stream",
          "text": [
            "<class 'pandas.core.frame.DataFrame'>\n",
            "RangeIndex: 7443 entries, 0 to 7442\n",
            "Data columns (total 11 columns):\n",
            " #   Column       Non-Null Count  Dtype         \n",
            "---  ------       --------------  -----         \n",
            " 0   season       7443 non-null   int64         \n",
            " 1   date         7443 non-null   datetime64[ns]\n",
            " 2   league_id    7443 non-null   int64         \n",
            " 3   league       7443 non-null   object        \n",
            " 4   Team 1       7443 non-null   object        \n",
            " 5   Team2        7443 non-null   object        \n",
            " 6   SPI1         7443 non-null   float64       \n",
            " 7   SPI2         7443 non-null   float64       \n",
            " 8   proj_score1  7443 non-null   float64       \n",
            " 9   proj_score2  7443 non-null   float64       \n",
            " 10  Outcome      7443 non-null   int64         \n",
            "dtypes: datetime64[ns](1), float64(4), int64(3), object(3)\n",
            "memory usage: 639.8+ KB\n"
          ],
          "name": "stdout"
        }
      ]
    },
    {
      "cell_type": "code",
      "metadata": {
        "colab": {
          "base_uri": "https://localhost:8080/"
        },
        "id": "vSxm88GYewBf",
        "outputId": "bf6abf25-361d-45a5-b30d-24f732297ef4"
      },
      "source": [
        "train['season'].value_counts()"
      ],
      "execution_count": 11,
      "outputs": [
        {
          "output_type": "execute_result",
          "data": {
            "text/plain": [
              "2021    6542\n",
              "2020     661\n",
              "2019     240\n",
              "Name: season, dtype: int64"
            ]
          },
          "metadata": {},
          "execution_count": 11
        }
      ]
    },
    {
      "cell_type": "code",
      "metadata": {
        "colab": {
          "base_uri": "https://localhost:8080/"
        },
        "id": "eejGjEeVcpVH",
        "outputId": "691a69aa-4997-4b71-82ab-843f437bdde5"
      },
      "source": [
        "train.shape"
      ],
      "execution_count": 12,
      "outputs": [
        {
          "output_type": "execute_result",
          "data": {
            "text/plain": [
              "(7443, 11)"
            ]
          },
          "metadata": {},
          "execution_count": 12
        }
      ]
    },
    {
      "cell_type": "code",
      "metadata": {
        "colab": {
          "base_uri": "https://localhost:8080/"
        },
        "id": "vJC0B6hScpSV",
        "outputId": "5c2e4cf1-de30-4681-fa7d-d46b8f9a4f1e"
      },
      "source": [
        "train['Outcome'].value_counts()"
      ],
      "execution_count": 13,
      "outputs": [
        {
          "output_type": "execute_result",
          "data": {
            "text/plain": [
              "1    5070\n",
              "0    2373\n",
              "Name: Outcome, dtype: int64"
            ]
          },
          "metadata": {},
          "execution_count": 13
        }
      ]
    },
    {
      "cell_type": "code",
      "metadata": {
        "id": "TIPCAOBZcK6N"
      },
      "source": [
        "test = pd.read_csv(\"test.csv\")"
      ],
      "execution_count": 14,
      "outputs": []
    },
    {
      "cell_type": "code",
      "metadata": {
        "colab": {
          "base_uri": "https://localhost:8080/"
        },
        "id": "ixvR65ixczju",
        "outputId": "68699d76-b05d-4b05-abbc-dec2b9daeeaa"
      },
      "source": [
        "test.shape"
      ],
      "execution_count": 15,
      "outputs": [
        {
          "output_type": "execute_result",
          "data": {
            "text/plain": [
              "(4008, 20)"
            ]
          },
          "metadata": {},
          "execution_count": 15
        }
      ]
    },
    {
      "cell_type": "code",
      "metadata": {
        "colab": {
          "base_uri": "https://localhost:8080/"
        },
        "id": "NSypw0tBcwQ-",
        "outputId": "cff0cbff-eadf-4a2d-aa78-fd101df5778e"
      },
      "source": [
        "test.isna().sum()"
      ],
      "execution_count": 16,
      "outputs": [
        {
          "output_type": "execute_result",
          "data": {
            "text/plain": [
              "season            0\n",
              "date              0\n",
              "league_id         0\n",
              "league            0\n",
              "Team 1            0\n",
              "Team2             0\n",
              "SPI1              0\n",
              "SPI2              0\n",
              "proj_score1       0\n",
              "proj_score2       0\n",
              "importance1    4008\n",
              "importance2    4008\n",
              "score1         4008\n",
              "score2         4008\n",
              "xg1            4008\n",
              "xg2            4008\n",
              "nsxg1          4008\n",
              "nsxg2          4008\n",
              "adj_score1     4008\n",
              "adj_score2     4008\n",
              "dtype: int64"
            ]
          },
          "metadata": {},
          "execution_count": 16
        }
      ]
    },
    {
      "cell_type": "code",
      "metadata": {
        "id": "dr1VJlQW1PDb"
      },
      "source": [
        "test.drop(['importance1', 'importance2','score1', 'score2', 'xg1', 'xg2',\n",
        "            'nsxg1', 'nsxg2', 'adj_score1','adj_score2'],1, inplace=True)"
      ],
      "execution_count": 17,
      "outputs": []
    },
    {
      "cell_type": "code",
      "metadata": {
        "colab": {
          "base_uri": "https://localhost:8080/",
          "height": 204
        },
        "id": "h-j2MMN1cPc3",
        "outputId": "a06708a4-d734-4085-bd72-3983b09e752d"
      },
      "source": [
        "test.head()"
      ],
      "execution_count": 18,
      "outputs": [
        {
          "output_type": "execute_result",
          "data": {
            "text/html": [
              "<div>\n",
              "<style scoped>\n",
              "    .dataframe tbody tr th:only-of-type {\n",
              "        vertical-align: middle;\n",
              "    }\n",
              "\n",
              "    .dataframe tbody tr th {\n",
              "        vertical-align: top;\n",
              "    }\n",
              "\n",
              "    .dataframe thead th {\n",
              "        text-align: right;\n",
              "    }\n",
              "</style>\n",
              "<table border=\"1\" class=\"dataframe\">\n",
              "  <thead>\n",
              "    <tr style=\"text-align: right;\">\n",
              "      <th></th>\n",
              "      <th>season</th>\n",
              "      <th>date</th>\n",
              "      <th>league_id</th>\n",
              "      <th>league</th>\n",
              "      <th>Team 1</th>\n",
              "      <th>Team2</th>\n",
              "      <th>SPI1</th>\n",
              "      <th>SPI2</th>\n",
              "      <th>proj_score1</th>\n",
              "      <th>proj_score2</th>\n",
              "    </tr>\n",
              "  </thead>\n",
              "  <tbody>\n",
              "    <tr>\n",
              "      <th>0</th>\n",
              "      <td>2021</td>\n",
              "      <td>14/12/21</td>\n",
              "      <td>2411</td>\n",
              "      <td>BPL</td>\n",
              "      <td>Arsenal</td>\n",
              "      <td>West Ham United</td>\n",
              "      <td>79.65</td>\n",
              "      <td>74.06</td>\n",
              "      <td>1.67</td>\n",
              "      <td>1.19</td>\n",
              "    </tr>\n",
              "    <tr>\n",
              "      <th>1</th>\n",
              "      <td>2021</td>\n",
              "      <td>14/12/21</td>\n",
              "      <td>2411</td>\n",
              "      <td>BPL</td>\n",
              "      <td>Brighton and Hove Albion</td>\n",
              "      <td>Wolverhampton</td>\n",
              "      <td>74.19</td>\n",
              "      <td>71.14</td>\n",
              "      <td>1.35</td>\n",
              "      <td>0.98</td>\n",
              "    </tr>\n",
              "    <tr>\n",
              "      <th>2</th>\n",
              "      <td>2021</td>\n",
              "      <td>14/12/21</td>\n",
              "      <td>2411</td>\n",
              "      <td>BPL</td>\n",
              "      <td>Norwich City</td>\n",
              "      <td>Aston Villa</td>\n",
              "      <td>60.67</td>\n",
              "      <td>71.45</td>\n",
              "      <td>1.18</td>\n",
              "      <td>1.49</td>\n",
              "    </tr>\n",
              "    <tr>\n",
              "      <th>3</th>\n",
              "      <td>2021</td>\n",
              "      <td>14/12/21</td>\n",
              "      <td>2411</td>\n",
              "      <td>BPL</td>\n",
              "      <td>Leicester City</td>\n",
              "      <td>Tottenham Hotspur</td>\n",
              "      <td>76.88</td>\n",
              "      <td>79.06</td>\n",
              "      <td>1.52</td>\n",
              "      <td>1.44</td>\n",
              "    </tr>\n",
              "    <tr>\n",
              "      <th>4</th>\n",
              "      <td>2021</td>\n",
              "      <td>14/12/21</td>\n",
              "      <td>2411</td>\n",
              "      <td>BPL</td>\n",
              "      <td>Brentford</td>\n",
              "      <td>Manchester United</td>\n",
              "      <td>63.53</td>\n",
              "      <td>85.58</td>\n",
              "      <td>0.95</td>\n",
              "      <td>1.92</td>\n",
              "    </tr>\n",
              "  </tbody>\n",
              "</table>\n",
              "</div>"
            ],
            "text/plain": [
              "   season      date  league_id league  ...   SPI1   SPI2  proj_score1  proj_score2\n",
              "0    2021  14/12/21       2411    BPL  ...  79.65  74.06         1.67         1.19\n",
              "1    2021  14/12/21       2411    BPL  ...  74.19  71.14         1.35         0.98\n",
              "2    2021  14/12/21       2411    BPL  ...  60.67  71.45         1.18         1.49\n",
              "3    2021  14/12/21       2411    BPL  ...  76.88  79.06         1.52         1.44\n",
              "4    2021  14/12/21       2411    BPL  ...  63.53  85.58         0.95         1.92\n",
              "\n",
              "[5 rows x 10 columns]"
            ]
          },
          "metadata": {},
          "execution_count": 18
        }
      ]
    },
    {
      "cell_type": "code",
      "metadata": {
        "id": "Uuq89c5EcQWs"
      },
      "source": [
        "# import classification from pycaret \n",
        "from pycaret.classification import *"
      ],
      "execution_count": 20,
      "outputs": []
    },
    {
      "cell_type": "code",
      "metadata": {
        "colab": {
          "base_uri": "https://localhost:8080/",
          "height": 1000,
          "referenced_widgets": [
            "744f528555764b88a372809f9e7ff140",
            "cd36fd149de84f2b807d4b318c5a5d30",
            "a6fb038ded5c4d21ac7b88ea55a7a33b",
            "bb977ec4f976449b9e2e5338424a717b",
            "4b143a1d1ee7445dadff6b3f13deee40",
            "d94dd377f8964d43bb52ddd29ea1c060"
          ]
        },
        "id": "uB_n9s9UdPLt",
        "outputId": "3afb076d-f0f1-4cbc-80e3-f753b4585112"
      },
      "source": [
        "# Creating the Initial setup of training data\n",
        "exp = setup(data = train, target = 'Outcome', feature_selection=True, \n",
        "            normalize = True, transformation = True, \n",
        "            ignore_low_variance = True, remove_multicollinearity = True, \n",
        "            multicollinearity_threshold = 0.95,)"
      ],
      "execution_count": 23,
      "outputs": [
        {
          "output_type": "display_data",
          "data": {
            "text/html": [
              "<div>\n",
              "<style scoped>\n",
              "    .dataframe tbody tr th:only-of-type {\n",
              "        vertical-align: middle;\n",
              "    }\n",
              "\n",
              "    .dataframe tbody tr th {\n",
              "        vertical-align: top;\n",
              "    }\n",
              "\n",
              "    .dataframe thead th {\n",
              "        text-align: right;\n",
              "    }\n",
              "</style>\n",
              "<table border=\"1\" class=\"dataframe\">\n",
              "  <thead>\n",
              "    <tr style=\"text-align: right;\">\n",
              "      <th></th>\n",
              "      <th>Description</th>\n",
              "      <th>Value</th>\n",
              "    </tr>\n",
              "  </thead>\n",
              "  <tbody>\n",
              "    <tr>\n",
              "      <th>0</th>\n",
              "      <td>session_id</td>\n",
              "      <td>209</td>\n",
              "    </tr>\n",
              "    <tr>\n",
              "      <th>1</th>\n",
              "      <td>Target</td>\n",
              "      <td>Outcome</td>\n",
              "    </tr>\n",
              "    <tr>\n",
              "      <th>2</th>\n",
              "      <td>Target Type</td>\n",
              "      <td>Binary</td>\n",
              "    </tr>\n",
              "    <tr>\n",
              "      <th>3</th>\n",
              "      <td>Label Encoded</td>\n",
              "      <td>0: 0, 1: 1</td>\n",
              "    </tr>\n",
              "    <tr>\n",
              "      <th>4</th>\n",
              "      <td>Original Data</td>\n",
              "      <td>(7443, 11)</td>\n",
              "    </tr>\n",
              "    <tr>\n",
              "      <th>5</th>\n",
              "      <td>Missing Values</td>\n",
              "      <td>False</td>\n",
              "    </tr>\n",
              "    <tr>\n",
              "      <th>6</th>\n",
              "      <td>Numeric Features</td>\n",
              "      <td>5</td>\n",
              "    </tr>\n",
              "    <tr>\n",
              "      <th>7</th>\n",
              "      <td>Categorical Features</td>\n",
              "      <td>4</td>\n",
              "    </tr>\n",
              "    <tr>\n",
              "      <th>8</th>\n",
              "      <td>Ordinal Features</td>\n",
              "      <td>False</td>\n",
              "    </tr>\n",
              "    <tr>\n",
              "      <th>9</th>\n",
              "      <td>High Cardinality Features</td>\n",
              "      <td>False</td>\n",
              "    </tr>\n",
              "    <tr>\n",
              "      <th>10</th>\n",
              "      <td>High Cardinality Method</td>\n",
              "      <td>None</td>\n",
              "    </tr>\n",
              "    <tr>\n",
              "      <th>11</th>\n",
              "      <td>Transformed Train Set</td>\n",
              "      <td>(5210, 118)</td>\n",
              "    </tr>\n",
              "    <tr>\n",
              "      <th>12</th>\n",
              "      <td>Transformed Test Set</td>\n",
              "      <td>(2233, 118)</td>\n",
              "    </tr>\n",
              "    <tr>\n",
              "      <th>13</th>\n",
              "      <td>Shuffle Train-Test</td>\n",
              "      <td>True</td>\n",
              "    </tr>\n",
              "    <tr>\n",
              "      <th>14</th>\n",
              "      <td>Stratify Train-Test</td>\n",
              "      <td>False</td>\n",
              "    </tr>\n",
              "    <tr>\n",
              "      <th>15</th>\n",
              "      <td>Fold Generator</td>\n",
              "      <td>StratifiedKFold</td>\n",
              "    </tr>\n",
              "    <tr>\n",
              "      <th>16</th>\n",
              "      <td>Fold Number</td>\n",
              "      <td>10</td>\n",
              "    </tr>\n",
              "    <tr>\n",
              "      <th>17</th>\n",
              "      <td>CPU Jobs</td>\n",
              "      <td>-1</td>\n",
              "    </tr>\n",
              "    <tr>\n",
              "      <th>18</th>\n",
              "      <td>Use GPU</td>\n",
              "      <td>False</td>\n",
              "    </tr>\n",
              "    <tr>\n",
              "      <th>19</th>\n",
              "      <td>Log Experiment</td>\n",
              "      <td>False</td>\n",
              "    </tr>\n",
              "    <tr>\n",
              "      <th>20</th>\n",
              "      <td>Experiment Name</td>\n",
              "      <td>clf-default-name</td>\n",
              "    </tr>\n",
              "    <tr>\n",
              "      <th>21</th>\n",
              "      <td>USI</td>\n",
              "      <td>f8c8</td>\n",
              "    </tr>\n",
              "    <tr>\n",
              "      <th>22</th>\n",
              "      <td>Imputation Type</td>\n",
              "      <td>simple</td>\n",
              "    </tr>\n",
              "    <tr>\n",
              "      <th>23</th>\n",
              "      <td>Iterative Imputation Iteration</td>\n",
              "      <td>None</td>\n",
              "    </tr>\n",
              "    <tr>\n",
              "      <th>24</th>\n",
              "      <td>Numeric Imputer</td>\n",
              "      <td>mean</td>\n",
              "    </tr>\n",
              "    <tr>\n",
              "      <th>25</th>\n",
              "      <td>Iterative Imputation Numeric Model</td>\n",
              "      <td>None</td>\n",
              "    </tr>\n",
              "    <tr>\n",
              "      <th>26</th>\n",
              "      <td>Categorical Imputer</td>\n",
              "      <td>constant</td>\n",
              "    </tr>\n",
              "    <tr>\n",
              "      <th>27</th>\n",
              "      <td>Iterative Imputation Categorical Model</td>\n",
              "      <td>None</td>\n",
              "    </tr>\n",
              "    <tr>\n",
              "      <th>28</th>\n",
              "      <td>Unknown Categoricals Handling</td>\n",
              "      <td>least_frequent</td>\n",
              "    </tr>\n",
              "    <tr>\n",
              "      <th>29</th>\n",
              "      <td>Normalize</td>\n",
              "      <td>True</td>\n",
              "    </tr>\n",
              "    <tr>\n",
              "      <th>30</th>\n",
              "      <td>Normalize Method</td>\n",
              "      <td>zscore</td>\n",
              "    </tr>\n",
              "    <tr>\n",
              "      <th>31</th>\n",
              "      <td>Transformation</td>\n",
              "      <td>True</td>\n",
              "    </tr>\n",
              "    <tr>\n",
              "      <th>32</th>\n",
              "      <td>Transformation Method</td>\n",
              "      <td>yeo-johnson</td>\n",
              "    </tr>\n",
              "    <tr>\n",
              "      <th>33</th>\n",
              "      <td>PCA</td>\n",
              "      <td>False</td>\n",
              "    </tr>\n",
              "    <tr>\n",
              "      <th>34</th>\n",
              "      <td>PCA Method</td>\n",
              "      <td>None</td>\n",
              "    </tr>\n",
              "    <tr>\n",
              "      <th>35</th>\n",
              "      <td>PCA Components</td>\n",
              "      <td>None</td>\n",
              "    </tr>\n",
              "    <tr>\n",
              "      <th>36</th>\n",
              "      <td>Ignore Low Variance</td>\n",
              "      <td>True</td>\n",
              "    </tr>\n",
              "    <tr>\n",
              "      <th>37</th>\n",
              "      <td>Combine Rare Levels</td>\n",
              "      <td>False</td>\n",
              "    </tr>\n",
              "    <tr>\n",
              "      <th>38</th>\n",
              "      <td>Rare Level Threshold</td>\n",
              "      <td>None</td>\n",
              "    </tr>\n",
              "    <tr>\n",
              "      <th>39</th>\n",
              "      <td>Numeric Binning</td>\n",
              "      <td>False</td>\n",
              "    </tr>\n",
              "    <tr>\n",
              "      <th>40</th>\n",
              "      <td>Remove Outliers</td>\n",
              "      <td>False</td>\n",
              "    </tr>\n",
              "    <tr>\n",
              "      <th>41</th>\n",
              "      <td>Outliers Threshold</td>\n",
              "      <td>None</td>\n",
              "    </tr>\n",
              "    <tr>\n",
              "      <th>42</th>\n",
              "      <td>Remove Multicollinearity</td>\n",
              "      <td>True</td>\n",
              "    </tr>\n",
              "    <tr>\n",
              "      <th>43</th>\n",
              "      <td>Multicollinearity Threshold</td>\n",
              "      <td>0.95</td>\n",
              "    </tr>\n",
              "    <tr>\n",
              "      <th>44</th>\n",
              "      <td>Remove Perfect Collinearity</td>\n",
              "      <td>True</td>\n",
              "    </tr>\n",
              "    <tr>\n",
              "      <th>45</th>\n",
              "      <td>Clustering</td>\n",
              "      <td>False</td>\n",
              "    </tr>\n",
              "    <tr>\n",
              "      <th>46</th>\n",
              "      <td>Clustering Iteration</td>\n",
              "      <td>None</td>\n",
              "    </tr>\n",
              "    <tr>\n",
              "      <th>47</th>\n",
              "      <td>Polynomial Features</td>\n",
              "      <td>False</td>\n",
              "    </tr>\n",
              "    <tr>\n",
              "      <th>48</th>\n",
              "      <td>Polynomial Degree</td>\n",
              "      <td>None</td>\n",
              "    </tr>\n",
              "    <tr>\n",
              "      <th>49</th>\n",
              "      <td>Trignometry Features</td>\n",
              "      <td>False</td>\n",
              "    </tr>\n",
              "    <tr>\n",
              "      <th>50</th>\n",
              "      <td>Polynomial Threshold</td>\n",
              "      <td>None</td>\n",
              "    </tr>\n",
              "    <tr>\n",
              "      <th>51</th>\n",
              "      <td>Group Features</td>\n",
              "      <td>False</td>\n",
              "    </tr>\n",
              "    <tr>\n",
              "      <th>52</th>\n",
              "      <td>Feature Selection</td>\n",
              "      <td>True</td>\n",
              "    </tr>\n",
              "    <tr>\n",
              "      <th>53</th>\n",
              "      <td>Feature Selection Method</td>\n",
              "      <td>classic</td>\n",
              "    </tr>\n",
              "    <tr>\n",
              "      <th>54</th>\n",
              "      <td>Features Selection Threshold</td>\n",
              "      <td>0.8</td>\n",
              "    </tr>\n",
              "    <tr>\n",
              "      <th>55</th>\n",
              "      <td>Feature Interaction</td>\n",
              "      <td>False</td>\n",
              "    </tr>\n",
              "    <tr>\n",
              "      <th>56</th>\n",
              "      <td>Feature Ratio</td>\n",
              "      <td>False</td>\n",
              "    </tr>\n",
              "    <tr>\n",
              "      <th>57</th>\n",
              "      <td>Interaction Threshold</td>\n",
              "      <td>None</td>\n",
              "    </tr>\n",
              "    <tr>\n",
              "      <th>58</th>\n",
              "      <td>Fix Imbalance</td>\n",
              "      <td>False</td>\n",
              "    </tr>\n",
              "    <tr>\n",
              "      <th>59</th>\n",
              "      <td>Fix Imbalance Method</td>\n",
              "      <td>SMOTE</td>\n",
              "    </tr>\n",
              "  </tbody>\n",
              "</table>\n",
              "</div>"
            ],
            "text/plain": [
              "                               Description             Value\n",
              "0                               session_id               209\n",
              "1                                   Target           Outcome\n",
              "2                              Target Type            Binary\n",
              "3                            Label Encoded        0: 0, 1: 1\n",
              "4                            Original Data        (7443, 11)\n",
              "5                           Missing Values             False\n",
              "6                         Numeric Features                 5\n",
              "7                     Categorical Features                 4\n",
              "8                         Ordinal Features             False\n",
              "9                High Cardinality Features             False\n",
              "10                 High Cardinality Method              None\n",
              "11                   Transformed Train Set       (5210, 118)\n",
              "12                    Transformed Test Set       (2233, 118)\n",
              "13                      Shuffle Train-Test              True\n",
              "14                     Stratify Train-Test             False\n",
              "15                          Fold Generator   StratifiedKFold\n",
              "16                             Fold Number                10\n",
              "17                                CPU Jobs                -1\n",
              "18                                 Use GPU             False\n",
              "19                          Log Experiment             False\n",
              "20                         Experiment Name  clf-default-name\n",
              "21                                     USI              f8c8\n",
              "22                         Imputation Type            simple\n",
              "23          Iterative Imputation Iteration              None\n",
              "24                         Numeric Imputer              mean\n",
              "25      Iterative Imputation Numeric Model              None\n",
              "26                     Categorical Imputer          constant\n",
              "27  Iterative Imputation Categorical Model              None\n",
              "28           Unknown Categoricals Handling    least_frequent\n",
              "29                               Normalize              True\n",
              "30                        Normalize Method            zscore\n",
              "31                          Transformation              True\n",
              "32                   Transformation Method       yeo-johnson\n",
              "33                                     PCA             False\n",
              "34                              PCA Method              None\n",
              "35                          PCA Components              None\n",
              "36                     Ignore Low Variance              True\n",
              "37                     Combine Rare Levels             False\n",
              "38                    Rare Level Threshold              None\n",
              "39                         Numeric Binning             False\n",
              "40                         Remove Outliers             False\n",
              "41                      Outliers Threshold              None\n",
              "42                Remove Multicollinearity              True\n",
              "43             Multicollinearity Threshold              0.95\n",
              "44             Remove Perfect Collinearity              True\n",
              "45                              Clustering             False\n",
              "46                    Clustering Iteration              None\n",
              "47                     Polynomial Features             False\n",
              "48                       Polynomial Degree              None\n",
              "49                    Trignometry Features             False\n",
              "50                    Polynomial Threshold              None\n",
              "51                          Group Features             False\n",
              "52                       Feature Selection              True\n",
              "53                Feature Selection Method           classic\n",
              "54            Features Selection Threshold               0.8\n",
              "55                     Feature Interaction             False\n",
              "56                           Feature Ratio             False\n",
              "57                   Interaction Threshold              None\n",
              "58                           Fix Imbalance             False\n",
              "59                    Fix Imbalance Method             SMOTE"
            ]
          },
          "metadata": {}
        }
      ]
    },
    {
      "cell_type": "code",
      "metadata": {
        "colab": {
          "base_uri": "https://localhost:8080/",
          "height": 554,
          "referenced_widgets": [
            "ba5df368ecf24ac198a1ef2798bece96",
            "17eed1df0be74d1eb356fd08db301a3a",
            "eab7bb6eeeb14adabd05c18c4f33a2aa"
          ]
        },
        "id": "zFwRSTdqdP6g",
        "outputId": "c30987c4-1b72-4feb-e27a-46b2f2d21953"
      },
      "source": [
        "# Comparing Classification Models\n",
        "compare_models()"
      ],
      "execution_count": 24,
      "outputs": [
        {
          "output_type": "display_data",
          "data": {
            "text/html": [
              "<div>\n",
              "<style scoped>\n",
              "    .dataframe tbody tr th:only-of-type {\n",
              "        vertical-align: middle;\n",
              "    }\n",
              "\n",
              "    .dataframe tbody tr th {\n",
              "        vertical-align: top;\n",
              "    }\n",
              "\n",
              "    .dataframe thead th {\n",
              "        text-align: right;\n",
              "    }\n",
              "</style>\n",
              "<table border=\"1\" class=\"dataframe\">\n",
              "  <thead>\n",
              "    <tr style=\"text-align: right;\">\n",
              "      <th></th>\n",
              "      <th>Model</th>\n",
              "      <th>Accuracy</th>\n",
              "      <th>AUC</th>\n",
              "      <th>Recall</th>\n",
              "      <th>Prec.</th>\n",
              "      <th>F1</th>\n",
              "      <th>Kappa</th>\n",
              "      <th>MCC</th>\n",
              "      <th>TT (Sec)</th>\n",
              "    </tr>\n",
              "  </thead>\n",
              "  <tbody>\n",
              "    <tr>\n",
              "      <th>lightgbm</th>\n",
              "      <td>Light Gradient Boosting Machine</td>\n",
              "      <td>0.9887</td>\n",
              "      <td>0.9989</td>\n",
              "      <td>0.9935</td>\n",
              "      <td>0.9900</td>\n",
              "      <td>0.9917</td>\n",
              "      <td>0.9738</td>\n",
              "      <td>0.9739</td>\n",
              "      <td>0.197</td>\n",
              "    </tr>\n",
              "    <tr>\n",
              "      <th>lr</th>\n",
              "      <td>Logistic Regression</td>\n",
              "      <td>0.9869</td>\n",
              "      <td>0.9987</td>\n",
              "      <td>0.9919</td>\n",
              "      <td>0.9891</td>\n",
              "      <td>0.9905</td>\n",
              "      <td>0.9698</td>\n",
              "      <td>0.9699</td>\n",
              "      <td>0.350</td>\n",
              "    </tr>\n",
              "    <tr>\n",
              "      <th>gbc</th>\n",
              "      <td>Gradient Boosting Classifier</td>\n",
              "      <td>0.9858</td>\n",
              "      <td>0.9982</td>\n",
              "      <td>0.9907</td>\n",
              "      <td>0.9886</td>\n",
              "      <td>0.9896</td>\n",
              "      <td>0.9671</td>\n",
              "      <td>0.9672</td>\n",
              "      <td>1.055</td>\n",
              "    </tr>\n",
              "    <tr>\n",
              "      <th>svm</th>\n",
              "      <td>SVM - Linear Kernel</td>\n",
              "      <td>0.9829</td>\n",
              "      <td>0.0000</td>\n",
              "      <td>0.9857</td>\n",
              "      <td>0.9893</td>\n",
              "      <td>0.9875</td>\n",
              "      <td>0.9606</td>\n",
              "      <td>0.9607</td>\n",
              "      <td>0.047</td>\n",
              "    </tr>\n",
              "    <tr>\n",
              "      <th>dt</th>\n",
              "      <td>Decision Tree Classifier</td>\n",
              "      <td>0.9804</td>\n",
              "      <td>0.9779</td>\n",
              "      <td>0.9848</td>\n",
              "      <td>0.9865</td>\n",
              "      <td>0.9857</td>\n",
              "      <td>0.9548</td>\n",
              "      <td>0.9549</td>\n",
              "      <td>0.048</td>\n",
              "    </tr>\n",
              "    <tr>\n",
              "      <th>rf</th>\n",
              "      <td>Random Forest Classifier</td>\n",
              "      <td>0.9783</td>\n",
              "      <td>0.9972</td>\n",
              "      <td>0.9876</td>\n",
              "      <td>0.9808</td>\n",
              "      <td>0.9842</td>\n",
              "      <td>0.9497</td>\n",
              "      <td>0.9499</td>\n",
              "      <td>0.829</td>\n",
              "    </tr>\n",
              "    <tr>\n",
              "      <th>ada</th>\n",
              "      <td>Ada Boost Classifier</td>\n",
              "      <td>0.9760</td>\n",
              "      <td>0.9964</td>\n",
              "      <td>0.9851</td>\n",
              "      <td>0.9799</td>\n",
              "      <td>0.9825</td>\n",
              "      <td>0.9444</td>\n",
              "      <td>0.9446</td>\n",
              "      <td>0.346</td>\n",
              "    </tr>\n",
              "    <tr>\n",
              "      <th>et</th>\n",
              "      <td>Extra Trees Classifier</td>\n",
              "      <td>0.9514</td>\n",
              "      <td>0.9918</td>\n",
              "      <td>0.9781</td>\n",
              "      <td>0.9522</td>\n",
              "      <td>0.9650</td>\n",
              "      <td>0.8860</td>\n",
              "      <td>0.8870</td>\n",
              "      <td>0.930</td>\n",
              "    </tr>\n",
              "    <tr>\n",
              "      <th>ridge</th>\n",
              "      <td>Ridge Classifier</td>\n",
              "      <td>0.9251</td>\n",
              "      <td>0.0000</td>\n",
              "      <td>0.9787</td>\n",
              "      <td>0.9177</td>\n",
              "      <td>0.9471</td>\n",
              "      <td>0.8196</td>\n",
              "      <td>0.8251</td>\n",
              "      <td>0.035</td>\n",
              "    </tr>\n",
              "    <tr>\n",
              "      <th>lda</th>\n",
              "      <td>Linear Discriminant Analysis</td>\n",
              "      <td>0.9234</td>\n",
              "      <td>0.9815</td>\n",
              "      <td>0.9733</td>\n",
              "      <td>0.9197</td>\n",
              "      <td>0.9456</td>\n",
              "      <td>0.8164</td>\n",
              "      <td>0.8207</td>\n",
              "      <td>0.142</td>\n",
              "    </tr>\n",
              "    <tr>\n",
              "      <th>knn</th>\n",
              "      <td>K Neighbors Classifier</td>\n",
              "      <td>0.9071</td>\n",
              "      <td>0.9645</td>\n",
              "      <td>0.9652</td>\n",
              "      <td>0.9053</td>\n",
              "      <td>0.9342</td>\n",
              "      <td>0.7767</td>\n",
              "      <td>0.7815</td>\n",
              "      <td>0.440</td>\n",
              "    </tr>\n",
              "    <tr>\n",
              "      <th>nb</th>\n",
              "      <td>Naive Bayes</td>\n",
              "      <td>0.7125</td>\n",
              "      <td>0.5690</td>\n",
              "      <td>0.9640</td>\n",
              "      <td>0.7148</td>\n",
              "      <td>0.8209</td>\n",
              "      <td>0.1673</td>\n",
              "      <td>0.2304</td>\n",
              "      <td>0.034</td>\n",
              "    </tr>\n",
              "    <tr>\n",
              "      <th>qda</th>\n",
              "      <td>Quadratic Discriminant Analysis</td>\n",
              "      <td>0.5246</td>\n",
              "      <td>0.5058</td>\n",
              "      <td>0.5570</td>\n",
              "      <td>0.6872</td>\n",
              "      <td>0.6049</td>\n",
              "      <td>0.0103</td>\n",
              "      <td>0.0100</td>\n",
              "      <td>0.088</td>\n",
              "    </tr>\n",
              "  </tbody>\n",
              "</table>\n",
              "</div>"
            ],
            "text/plain": [
              "                                    Model  Accuracy     AUC  Recall   Prec.  \\\n",
              "lightgbm  Light Gradient Boosting Machine    0.9887  0.9989  0.9935  0.9900   \n",
              "lr                    Logistic Regression    0.9869  0.9987  0.9919  0.9891   \n",
              "gbc          Gradient Boosting Classifier    0.9858  0.9982  0.9907  0.9886   \n",
              "svm                   SVM - Linear Kernel    0.9829  0.0000  0.9857  0.9893   \n",
              "dt               Decision Tree Classifier    0.9804  0.9779  0.9848  0.9865   \n",
              "rf               Random Forest Classifier    0.9783  0.9972  0.9876  0.9808   \n",
              "ada                  Ada Boost Classifier    0.9760  0.9964  0.9851  0.9799   \n",
              "et                 Extra Trees Classifier    0.9514  0.9918  0.9781  0.9522   \n",
              "ridge                    Ridge Classifier    0.9251  0.0000  0.9787  0.9177   \n",
              "lda          Linear Discriminant Analysis    0.9234  0.9815  0.9733  0.9197   \n",
              "knn                K Neighbors Classifier    0.9071  0.9645  0.9652  0.9053   \n",
              "nb                            Naive Bayes    0.7125  0.5690  0.9640  0.7148   \n",
              "qda       Quadratic Discriminant Analysis    0.5246  0.5058  0.5570  0.6872   \n",
              "\n",
              "              F1   Kappa     MCC  TT (Sec)  \n",
              "lightgbm  0.9917  0.9738  0.9739     0.197  \n",
              "lr        0.9905  0.9698  0.9699     0.350  \n",
              "gbc       0.9896  0.9671  0.9672     1.055  \n",
              "svm       0.9875  0.9606  0.9607     0.047  \n",
              "dt        0.9857  0.9548  0.9549     0.048  \n",
              "rf        0.9842  0.9497  0.9499     0.829  \n",
              "ada       0.9825  0.9444  0.9446     0.346  \n",
              "et        0.9650  0.8860  0.8870     0.930  \n",
              "ridge     0.9471  0.8196  0.8251     0.035  \n",
              "lda       0.9456  0.8164  0.8207     0.142  \n",
              "knn       0.9342  0.7767  0.7815     0.440  \n",
              "nb        0.8209  0.1673  0.2304     0.034  \n",
              "qda       0.6049  0.0103  0.0100     0.088  "
            ]
          },
          "metadata": {}
        },
        {
          "output_type": "execute_result",
          "data": {
            "text/plain": [
              "LGBMClassifier(boosting_type='gbdt', class_weight=None, colsample_bytree=1.0,\n",
              "               importance_type='split', learning_rate=0.1, max_depth=-1,\n",
              "               min_child_samples=20, min_child_weight=0.001, min_split_gain=0.0,\n",
              "               n_estimators=100, n_jobs=-1, num_leaves=31, objective=None,\n",
              "               random_state=209, reg_alpha=0.0, reg_lambda=0.0, silent=True,\n",
              "               subsample=1.0, subsample_for_bin=200000, subsample_freq=0)"
            ]
          },
          "metadata": {},
          "execution_count": 24
        }
      ]
    },
    {
      "cell_type": "code",
      "metadata": {
        "colab": {
          "base_uri": "https://localhost:8080/",
          "height": 421,
          "referenced_widgets": [
            "5d4c8edf040d4b85adbd40df68a1a6f0",
            "6c88e7d9f454437d843479b087b41ea2",
            "bafd77255498428d825c16efaf2675f7"
          ]
        },
        "id": "NpwyUYJwgXUJ",
        "outputId": "116a4575-a94b-4120-9d00-aa3974b3319a"
      },
      "source": [
        "# Creating the best model from above result\n",
        "lgbm = create_model('lightgbm')"
      ],
      "execution_count": 25,
      "outputs": [
        {
          "output_type": "display_data",
          "data": {
            "text/html": [
              "<div>\n",
              "<style scoped>\n",
              "    .dataframe tbody tr th:only-of-type {\n",
              "        vertical-align: middle;\n",
              "    }\n",
              "\n",
              "    .dataframe tbody tr th {\n",
              "        vertical-align: top;\n",
              "    }\n",
              "\n",
              "    .dataframe thead th {\n",
              "        text-align: right;\n",
              "    }\n",
              "</style>\n",
              "<table border=\"1\" class=\"dataframe\">\n",
              "  <thead>\n",
              "    <tr style=\"text-align: right;\">\n",
              "      <th></th>\n",
              "      <th>Accuracy</th>\n",
              "      <th>AUC</th>\n",
              "      <th>Recall</th>\n",
              "      <th>Prec.</th>\n",
              "      <th>F1</th>\n",
              "      <th>Kappa</th>\n",
              "      <th>MCC</th>\n",
              "    </tr>\n",
              "  </thead>\n",
              "  <tbody>\n",
              "    <tr>\n",
              "      <th>0</th>\n",
              "      <td>0.9885</td>\n",
              "      <td>0.9996</td>\n",
              "      <td>0.9888</td>\n",
              "      <td>0.9944</td>\n",
              "      <td>0.9915</td>\n",
              "      <td>0.9735</td>\n",
              "      <td>0.9735</td>\n",
              "    </tr>\n",
              "    <tr>\n",
              "      <th>1</th>\n",
              "      <td>0.9885</td>\n",
              "      <td>0.9988</td>\n",
              "      <td>0.9916</td>\n",
              "      <td>0.9916</td>\n",
              "      <td>0.9916</td>\n",
              "      <td>0.9734</td>\n",
              "      <td>0.9734</td>\n",
              "    </tr>\n",
              "    <tr>\n",
              "      <th>2</th>\n",
              "      <td>0.9885</td>\n",
              "      <td>0.9993</td>\n",
              "      <td>0.9888</td>\n",
              "      <td>0.9944</td>\n",
              "      <td>0.9915</td>\n",
              "      <td>0.9735</td>\n",
              "      <td>0.9735</td>\n",
              "    </tr>\n",
              "    <tr>\n",
              "      <th>3</th>\n",
              "      <td>0.9866</td>\n",
              "      <td>0.9979</td>\n",
              "      <td>0.9972</td>\n",
              "      <td>0.9834</td>\n",
              "      <td>0.9902</td>\n",
              "      <td>0.9687</td>\n",
              "      <td>0.9689</td>\n",
              "    </tr>\n",
              "    <tr>\n",
              "      <th>4</th>\n",
              "      <td>0.9923</td>\n",
              "      <td>0.9998</td>\n",
              "      <td>0.9972</td>\n",
              "      <td>0.9916</td>\n",
              "      <td>0.9944</td>\n",
              "      <td>0.9822</td>\n",
              "      <td>0.9822</td>\n",
              "    </tr>\n",
              "    <tr>\n",
              "      <th>5</th>\n",
              "      <td>0.9885</td>\n",
              "      <td>0.9993</td>\n",
              "      <td>0.9916</td>\n",
              "      <td>0.9916</td>\n",
              "      <td>0.9916</td>\n",
              "      <td>0.9734</td>\n",
              "      <td>0.9734</td>\n",
              "    </tr>\n",
              "    <tr>\n",
              "      <th>6</th>\n",
              "      <td>0.9942</td>\n",
              "      <td>0.9999</td>\n",
              "      <td>0.9916</td>\n",
              "      <td>1.0000</td>\n",
              "      <td>0.9958</td>\n",
              "      <td>0.9868</td>\n",
              "      <td>0.9868</td>\n",
              "    </tr>\n",
              "    <tr>\n",
              "      <th>7</th>\n",
              "      <td>0.9789</td>\n",
              "      <td>0.9988</td>\n",
              "      <td>0.9944</td>\n",
              "      <td>0.9752</td>\n",
              "      <td>0.9847</td>\n",
              "      <td>0.9507</td>\n",
              "      <td>0.9511</td>\n",
              "    </tr>\n",
              "    <tr>\n",
              "      <th>8</th>\n",
              "      <td>0.9885</td>\n",
              "      <td>0.9954</td>\n",
              "      <td>0.9944</td>\n",
              "      <td>0.9888</td>\n",
              "      <td>0.9916</td>\n",
              "      <td>0.9733</td>\n",
              "      <td>0.9733</td>\n",
              "    </tr>\n",
              "    <tr>\n",
              "      <th>9</th>\n",
              "      <td>0.9923</td>\n",
              "      <td>0.9999</td>\n",
              "      <td>1.0000</td>\n",
              "      <td>0.9889</td>\n",
              "      <td>0.9944</td>\n",
              "      <td>0.9821</td>\n",
              "      <td>0.9823</td>\n",
              "    </tr>\n",
              "    <tr>\n",
              "      <th>Mean</th>\n",
              "      <td>0.9887</td>\n",
              "      <td>0.9989</td>\n",
              "      <td>0.9935</td>\n",
              "      <td>0.9900</td>\n",
              "      <td>0.9917</td>\n",
              "      <td>0.9738</td>\n",
              "      <td>0.9739</td>\n",
              "    </tr>\n",
              "    <tr>\n",
              "      <th>SD</th>\n",
              "      <td>0.0040</td>\n",
              "      <td>0.0013</td>\n",
              "      <td>0.0036</td>\n",
              "      <td>0.0064</td>\n",
              "      <td>0.0029</td>\n",
              "      <td>0.0093</td>\n",
              "      <td>0.0092</td>\n",
              "    </tr>\n",
              "  </tbody>\n",
              "</table>\n",
              "</div>"
            ],
            "text/plain": [
              "      Accuracy     AUC  Recall   Prec.      F1   Kappa     MCC\n",
              "0       0.9885  0.9996  0.9888  0.9944  0.9915  0.9735  0.9735\n",
              "1       0.9885  0.9988  0.9916  0.9916  0.9916  0.9734  0.9734\n",
              "2       0.9885  0.9993  0.9888  0.9944  0.9915  0.9735  0.9735\n",
              "3       0.9866  0.9979  0.9972  0.9834  0.9902  0.9687  0.9689\n",
              "4       0.9923  0.9998  0.9972  0.9916  0.9944  0.9822  0.9822\n",
              "5       0.9885  0.9993  0.9916  0.9916  0.9916  0.9734  0.9734\n",
              "6       0.9942  0.9999  0.9916  1.0000  0.9958  0.9868  0.9868\n",
              "7       0.9789  0.9988  0.9944  0.9752  0.9847  0.9507  0.9511\n",
              "8       0.9885  0.9954  0.9944  0.9888  0.9916  0.9733  0.9733\n",
              "9       0.9923  0.9999  1.0000  0.9889  0.9944  0.9821  0.9823\n",
              "Mean    0.9887  0.9989  0.9935  0.9900  0.9917  0.9738  0.9739\n",
              "SD      0.0040  0.0013  0.0036  0.0064  0.0029  0.0093  0.0092"
            ]
          },
          "metadata": {}
        }
      ]
    },
    {
      "cell_type": "code",
      "metadata": {
        "id": "kYwdftLggXRb"
      },
      "source": [
        "# Prediction of target for test data\n",
        "predict = predict_model(lgbm, test)"
      ],
      "execution_count": 26,
      "outputs": []
    },
    {
      "cell_type": "code",
      "metadata": {
        "colab": {
          "base_uri": "https://localhost:8080/",
          "height": 204
        },
        "id": "p8TgcsQmghZb",
        "outputId": "2b87d4c8-62dc-47bf-c773-4ac8904e1769"
      },
      "source": [
        "# Predicted result\n",
        "predict.head()"
      ],
      "execution_count": 27,
      "outputs": [
        {
          "output_type": "execute_result",
          "data": {
            "text/html": [
              "<div>\n",
              "<style scoped>\n",
              "    .dataframe tbody tr th:only-of-type {\n",
              "        vertical-align: middle;\n",
              "    }\n",
              "\n",
              "    .dataframe tbody tr th {\n",
              "        vertical-align: top;\n",
              "    }\n",
              "\n",
              "    .dataframe thead th {\n",
              "        text-align: right;\n",
              "    }\n",
              "</style>\n",
              "<table border=\"1\" class=\"dataframe\">\n",
              "  <thead>\n",
              "    <tr style=\"text-align: right;\">\n",
              "      <th></th>\n",
              "      <th>season</th>\n",
              "      <th>date</th>\n",
              "      <th>league_id</th>\n",
              "      <th>league</th>\n",
              "      <th>Team 1</th>\n",
              "      <th>Team2</th>\n",
              "      <th>SPI1</th>\n",
              "      <th>SPI2</th>\n",
              "      <th>proj_score1</th>\n",
              "      <th>proj_score2</th>\n",
              "      <th>Label</th>\n",
              "      <th>Score</th>\n",
              "    </tr>\n",
              "  </thead>\n",
              "  <tbody>\n",
              "    <tr>\n",
              "      <th>0</th>\n",
              "      <td>2021</td>\n",
              "      <td>14/12/21</td>\n",
              "      <td>2411</td>\n",
              "      <td>BPL</td>\n",
              "      <td>Arsenal</td>\n",
              "      <td>West Ham United</td>\n",
              "      <td>79.65</td>\n",
              "      <td>74.06</td>\n",
              "      <td>1.67</td>\n",
              "      <td>1.19</td>\n",
              "      <td>1</td>\n",
              "      <td>1.0000</td>\n",
              "    </tr>\n",
              "    <tr>\n",
              "      <th>1</th>\n",
              "      <td>2021</td>\n",
              "      <td>14/12/21</td>\n",
              "      <td>2411</td>\n",
              "      <td>BPL</td>\n",
              "      <td>Brighton and Hove Albion</td>\n",
              "      <td>Wolverhampton</td>\n",
              "      <td>74.19</td>\n",
              "      <td>71.14</td>\n",
              "      <td>1.35</td>\n",
              "      <td>0.98</td>\n",
              "      <td>1</td>\n",
              "      <td>1.0000</td>\n",
              "    </tr>\n",
              "    <tr>\n",
              "      <th>2</th>\n",
              "      <td>2021</td>\n",
              "      <td>14/12/21</td>\n",
              "      <td>2411</td>\n",
              "      <td>BPL</td>\n",
              "      <td>Norwich City</td>\n",
              "      <td>Aston Villa</td>\n",
              "      <td>60.67</td>\n",
              "      <td>71.45</td>\n",
              "      <td>1.18</td>\n",
              "      <td>1.49</td>\n",
              "      <td>0</td>\n",
              "      <td>0.9999</td>\n",
              "    </tr>\n",
              "    <tr>\n",
              "      <th>3</th>\n",
              "      <td>2021</td>\n",
              "      <td>14/12/21</td>\n",
              "      <td>2411</td>\n",
              "      <td>BPL</td>\n",
              "      <td>Leicester City</td>\n",
              "      <td>Tottenham Hotspur</td>\n",
              "      <td>76.88</td>\n",
              "      <td>79.06</td>\n",
              "      <td>1.52</td>\n",
              "      <td>1.44</td>\n",
              "      <td>1</td>\n",
              "      <td>0.9990</td>\n",
              "    </tr>\n",
              "    <tr>\n",
              "      <th>4</th>\n",
              "      <td>2021</td>\n",
              "      <td>14/12/21</td>\n",
              "      <td>2411</td>\n",
              "      <td>BPL</td>\n",
              "      <td>Brentford</td>\n",
              "      <td>Manchester United</td>\n",
              "      <td>63.53</td>\n",
              "      <td>85.58</td>\n",
              "      <td>0.95</td>\n",
              "      <td>1.92</td>\n",
              "      <td>0</td>\n",
              "      <td>1.0000</td>\n",
              "    </tr>\n",
              "  </tbody>\n",
              "</table>\n",
              "</div>"
            ],
            "text/plain": [
              "   season      date  league_id league  ... proj_score1 proj_score2  Label   Score\n",
              "0    2021  14/12/21       2411    BPL  ...        1.67        1.19      1  1.0000\n",
              "1    2021  14/12/21       2411    BPL  ...        1.35        0.98      1  1.0000\n",
              "2    2021  14/12/21       2411    BPL  ...        1.18        1.49      0  0.9999\n",
              "3    2021  14/12/21       2411    BPL  ...        1.52        1.44      1  0.9990\n",
              "4    2021  14/12/21       2411    BPL  ...        0.95        1.92      0  1.0000\n",
              "\n",
              "[5 rows x 12 columns]"
            ]
          },
          "metadata": {},
          "execution_count": 27
        }
      ]
    },
    {
      "cell_type": "code",
      "metadata": {
        "id": "xVYsEXnkgojE"
      },
      "source": [
        "pred = predict[['Label']]"
      ],
      "execution_count": 30,
      "outputs": []
    },
    {
      "cell_type": "code",
      "metadata": {
        "colab": {
          "base_uri": "https://localhost:8080/",
          "height": 204
        },
        "id": "ftRfrHgngu8X",
        "outputId": "fd669909-ab24-40ed-c9e1-9718ccc9a81a"
      },
      "source": [
        "pred.head()"
      ],
      "execution_count": 34,
      "outputs": [
        {
          "output_type": "execute_result",
          "data": {
            "text/html": [
              "<div>\n",
              "<style scoped>\n",
              "    .dataframe tbody tr th:only-of-type {\n",
              "        vertical-align: middle;\n",
              "    }\n",
              "\n",
              "    .dataframe tbody tr th {\n",
              "        vertical-align: top;\n",
              "    }\n",
              "\n",
              "    .dataframe thead th {\n",
              "        text-align: right;\n",
              "    }\n",
              "</style>\n",
              "<table border=\"1\" class=\"dataframe\">\n",
              "  <thead>\n",
              "    <tr style=\"text-align: right;\">\n",
              "      <th></th>\n",
              "      <th>Label</th>\n",
              "    </tr>\n",
              "  </thead>\n",
              "  <tbody>\n",
              "    <tr>\n",
              "      <th>0</th>\n",
              "      <td>1</td>\n",
              "    </tr>\n",
              "    <tr>\n",
              "      <th>1</th>\n",
              "      <td>1</td>\n",
              "    </tr>\n",
              "    <tr>\n",
              "      <th>2</th>\n",
              "      <td>0</td>\n",
              "    </tr>\n",
              "    <tr>\n",
              "      <th>3</th>\n",
              "      <td>1</td>\n",
              "    </tr>\n",
              "    <tr>\n",
              "      <th>4</th>\n",
              "      <td>0</td>\n",
              "    </tr>\n",
              "  </tbody>\n",
              "</table>\n",
              "</div>"
            ],
            "text/plain": [
              "   Label\n",
              "0      1\n",
              "1      1\n",
              "2      0\n",
              "3      1\n",
              "4      0"
            ]
          },
          "metadata": {},
          "execution_count": 34
        }
      ]
    },
    {
      "cell_type": "code",
      "metadata": {
        "id": "7J4qRplM8si6"
      },
      "source": [
        "pred.rename(columns={'Lable':'Outcome'},inplace=True)"
      ],
      "execution_count": 33,
      "outputs": []
    },
    {
      "cell_type": "code",
      "metadata": {
        "id": "eL7p95tvgwP3"
      },
      "source": [
        "# Saving the predictions\n",
        "pred.to_csv(\"lgbm.csv\",index=False)"
      ],
      "execution_count": 35,
      "outputs": []
    },
    {
      "cell_type": "markdown",
      "metadata": {
        "id": "Jvrr6JsOIQsM"
      },
      "source": [
        "# Prediction using catboost"
      ]
    },
    {
      "cell_type": "code",
      "metadata": {
        "id": "DYR98LGOg-i2"
      },
      "source": [
        "# Uncomment to install catboost\n",
        "!pip install  catboost"
      ],
      "execution_count": null,
      "outputs": []
    },
    {
      "cell_type": "code",
      "metadata": {
        "id": "pi85Q4h6keAk"
      },
      "source": [
        "# Import Libraries\n",
        "import catboost\n",
        "from catboost import CatBoostClassifier, cv, Pool\n",
        "\n",
        "from sklearn.metrics import log_loss\n",
        "from sklearn.model_selection import train_test_split"
      ],
      "execution_count": 38,
      "outputs": []
    },
    {
      "cell_type": "code",
      "metadata": {
        "colab": {
          "base_uri": "https://localhost:8080/",
          "height": 145
        },
        "id": "RSKbqKrtkznQ",
        "outputId": "c4f78620-00d9-45ef-80ac-04bcf2dcaca6"
      },
      "source": [
        "train.head(2)"
      ],
      "execution_count": 39,
      "outputs": [
        {
          "output_type": "execute_result",
          "data": {
            "text/html": [
              "<div>\n",
              "<style scoped>\n",
              "    .dataframe tbody tr th:only-of-type {\n",
              "        vertical-align: middle;\n",
              "    }\n",
              "\n",
              "    .dataframe tbody tr th {\n",
              "        vertical-align: top;\n",
              "    }\n",
              "\n",
              "    .dataframe thead th {\n",
              "        text-align: right;\n",
              "    }\n",
              "</style>\n",
              "<table border=\"1\" class=\"dataframe\">\n",
              "  <thead>\n",
              "    <tr style=\"text-align: right;\">\n",
              "      <th></th>\n",
              "      <th>season</th>\n",
              "      <th>date</th>\n",
              "      <th>league_id</th>\n",
              "      <th>league</th>\n",
              "      <th>Team 1</th>\n",
              "      <th>Team2</th>\n",
              "      <th>SPI1</th>\n",
              "      <th>SPI2</th>\n",
              "      <th>proj_score1</th>\n",
              "      <th>proj_score2</th>\n",
              "      <th>Outcome</th>\n",
              "    </tr>\n",
              "  </thead>\n",
              "  <tbody>\n",
              "    <tr>\n",
              "      <th>0</th>\n",
              "      <td>2019</td>\n",
              "      <td>2019-01-03</td>\n",
              "      <td>1979</td>\n",
              "      <td>Chinese Super League</td>\n",
              "      <td>Shandong Luneng</td>\n",
              "      <td>Guizhou Renhe</td>\n",
              "      <td>48.22</td>\n",
              "      <td>37.83</td>\n",
              "      <td>1.75</td>\n",
              "      <td>0.84</td>\n",
              "      <td>1</td>\n",
              "    </tr>\n",
              "    <tr>\n",
              "      <th>1</th>\n",
              "      <td>2019</td>\n",
              "      <td>2019-01-03</td>\n",
              "      <td>1979</td>\n",
              "      <td>Chinese Super League</td>\n",
              "      <td>Shanghai Greenland</td>\n",
              "      <td>Shanghai SIPG</td>\n",
              "      <td>39.81</td>\n",
              "      <td>60.08</td>\n",
              "      <td>1.22</td>\n",
              "      <td>1.89</td>\n",
              "      <td>0</td>\n",
              "    </tr>\n",
              "  </tbody>\n",
              "</table>\n",
              "</div>"
            ],
            "text/plain": [
              "   season       date  league_id  ... proj_score1 proj_score2 Outcome\n",
              "0    2019 2019-01-03       1979  ...        1.75        0.84       1\n",
              "1    2019 2019-01-03       1979  ...        1.22        1.89       0\n",
              "\n",
              "[2 rows x 11 columns]"
            ]
          },
          "metadata": {},
          "execution_count": 39
        }
      ]
    },
    {
      "cell_type": "code",
      "metadata": {
        "id": "5tYF1iaKk61x"
      },
      "source": [
        "features = ['season','league_id', 'Team 1', 'Team2', 'SPI1', 'SPI2', \n",
        "            'proj_score1', 'proj_score2',]\n",
        "\n",
        "cat_features = ['league_id', 'Team 1', 'Team2']"
      ],
      "execution_count": 40,
      "outputs": []
    },
    {
      "cell_type": "code",
      "metadata": {
        "id": "-VEaX9o7lJXp"
      },
      "source": [
        "X = train[features]\n",
        "y = train['Outcome']"
      ],
      "execution_count": 41,
      "outputs": []
    },
    {
      "cell_type": "code",
      "metadata": {
        "id": "hsg8LrgWlNK4"
      },
      "source": [
        "SEED = 42"
      ],
      "execution_count": 42,
      "outputs": []
    },
    {
      "cell_type": "code",
      "metadata": {
        "id": "1kf2r28jlQ94"
      },
      "source": [
        "# Let's split the train data into training and validation sets.\n",
        "X_train, X_valid, y_train, y_valid = train_test_split(X, y, train_size=0.8, random_state=SEED)"
      ],
      "execution_count": 43,
      "outputs": []
    },
    {
      "cell_type": "code",
      "metadata": {
        "id": "iNN8MClylWdL"
      },
      "source": [
        "X_test = test[features]"
      ],
      "execution_count": 44,
      "outputs": []
    },
    {
      "cell_type": "code",
      "metadata": {
        "id": "r2u8zhq8lZ0Y"
      },
      "source": [
        "# Create Pool data\n",
        "train_data = Pool(data=X_train, label=y_train, cat_features=cat_features)\n",
        "\n",
        "valid_data = Pool(data=X_valid, label=y_valid, cat_features=cat_features)"
      ],
      "execution_count": 45,
      "outputs": []
    },
    {
      "cell_type": "code",
      "metadata": {
        "id": "5DonHTSjlcTz"
      },
      "source": [
        "CATBOOST_PARAMS = {\n",
        "    'random_seed':SEED,\n",
        "    'learning_rate':0.3,\n",
        "#    'auto_class_weights':'Balanced',\n",
        "    'iterations':175,\n",
        "    'loss_function':'Logloss',\n",
        "#    'eval_metric':'AUC',    \n",
        "    'max_depth':6,\n",
        "    'early_stopping_rounds':10,\n",
        "    'min_data_in_leaf':10}"
      ],
      "execution_count": 46,
      "outputs": []
    },
    {
      "cell_type": "code",
      "metadata": {
        "colab": {
          "base_uri": "https://localhost:8080/",
          "height": 51,
          "referenced_widgets": [
            "721436d734e34d30b1f4d554975d54d4"
          ]
        },
        "id": "ouRx-b7jlq-o",
        "outputId": "ddefcb2f-8a1b-4e41-a99b-9ebc2ff828af"
      },
      "source": [
        "%%time\n",
        "model = CatBoostClassifier(**CATBOOST_PARAMS)\n",
        "\n",
        "model.fit(train_data, eval_set=(valid_data), use_best_model=True, \n",
        "         logging_level= 'Silent',  #'Verbose',  # uncomment this for text output\n",
        "         plot=True\n",
        "        )"
      ],
      "execution_count": 48,
      "outputs": [
        {
          "output_type": "display_data",
          "data": {
            "application/vnd.jupyter.widget-view+json": {
              "model_id": "721436d734e34d30b1f4d554975d54d4",
              "version_minor": 0,
              "version_major": 2
            },
            "text/plain": [
              "MetricVisualizer(layout=Layout(align_self='stretch', height='500px'))"
            ]
          },
          "metadata": {}
        },
        {
          "output_type": "stream",
          "text": [
            "CPU times: user 796 ms, sys: 55.4 ms, total: 852 ms\n",
            "Wall time: 518 ms\n"
          ],
          "name": "stdout"
        }
      ]
    },
    {
      "cell_type": "code",
      "metadata": {
        "colab": {
          "base_uri": "https://localhost:8080/"
        },
        "id": "yhY9dhZflteN",
        "outputId": "1476907b-c01a-4272-8525-ae0f328cd16a"
      },
      "source": [
        "log_loss(y_valid, model.predict(X_valid))"
      ],
      "execution_count": 49,
      "outputs": [
        {
          "output_type": "execute_result",
          "data": {
            "text/plain": [
              "0.2551603335936137"
            ]
          },
          "metadata": {},
          "execution_count": 49
        }
      ]
    },
    {
      "cell_type": "code",
      "metadata": {
        "colab": {
          "base_uri": "https://localhost:8080/"
        },
        "id": "7zCztR-Dl0CB",
        "outputId": "b919d312-940a-4191-eff0-18103ea3212f"
      },
      "source": [
        "log_loss(y_valid, model.predict_proba(X_valid))"
      ],
      "execution_count": 50,
      "outputs": [
        {
          "output_type": "execute_result",
          "data": {
            "text/plain": [
              "0.03284821982060608"
            ]
          },
          "metadata": {},
          "execution_count": 50
        }
      ]
    },
    {
      "cell_type": "code",
      "metadata": {
        "colab": {
          "base_uri": "https://localhost:8080/",
          "height": 419
        },
        "id": "h1ZKTBOOmJTn",
        "outputId": "0694b454-81b6-4c49-ab36-07190f9b536f"
      },
      "source": [
        "# with Labels\n",
        "submission = pd.read_csv('submission.csv')\n",
        "submission['Outcome'] = model.predict(X_test)\n",
        "submission.to_csv('cat_submission.csv',index=False, header=True)\n",
        "submission"
      ],
      "execution_count": 52,
      "outputs": [
        {
          "output_type": "execute_result",
          "data": {
            "text/html": [
              "<div>\n",
              "<style scoped>\n",
              "    .dataframe tbody tr th:only-of-type {\n",
              "        vertical-align: middle;\n",
              "    }\n",
              "\n",
              "    .dataframe tbody tr th {\n",
              "        vertical-align: top;\n",
              "    }\n",
              "\n",
              "    .dataframe thead th {\n",
              "        text-align: right;\n",
              "    }\n",
              "</style>\n",
              "<table border=\"1\" class=\"dataframe\">\n",
              "  <thead>\n",
              "    <tr style=\"text-align: right;\">\n",
              "      <th></th>\n",
              "      <th>Outcome</th>\n",
              "    </tr>\n",
              "  </thead>\n",
              "  <tbody>\n",
              "    <tr>\n",
              "      <th>0</th>\n",
              "      <td>1</td>\n",
              "    </tr>\n",
              "    <tr>\n",
              "      <th>1</th>\n",
              "      <td>1</td>\n",
              "    </tr>\n",
              "    <tr>\n",
              "      <th>2</th>\n",
              "      <td>0</td>\n",
              "    </tr>\n",
              "    <tr>\n",
              "      <th>3</th>\n",
              "      <td>1</td>\n",
              "    </tr>\n",
              "    <tr>\n",
              "      <th>4</th>\n",
              "      <td>0</td>\n",
              "    </tr>\n",
              "    <tr>\n",
              "      <th>...</th>\n",
              "      <td>...</td>\n",
              "    </tr>\n",
              "    <tr>\n",
              "      <th>4003</th>\n",
              "      <td>1</td>\n",
              "    </tr>\n",
              "    <tr>\n",
              "      <th>4004</th>\n",
              "      <td>0</td>\n",
              "    </tr>\n",
              "    <tr>\n",
              "      <th>4005</th>\n",
              "      <td>1</td>\n",
              "    </tr>\n",
              "    <tr>\n",
              "      <th>4006</th>\n",
              "      <td>1</td>\n",
              "    </tr>\n",
              "    <tr>\n",
              "      <th>4007</th>\n",
              "      <td>1</td>\n",
              "    </tr>\n",
              "  </tbody>\n",
              "</table>\n",
              "<p>4008 rows × 1 columns</p>\n",
              "</div>"
            ],
            "text/plain": [
              "      Outcome\n",
              "0           1\n",
              "1           1\n",
              "2           0\n",
              "3           1\n",
              "4           0\n",
              "...       ...\n",
              "4003        1\n",
              "4004        0\n",
              "4005        1\n",
              "4006        1\n",
              "4007        1\n",
              "\n",
              "[4008 rows x 1 columns]"
            ]
          },
          "metadata": {},
          "execution_count": 52
        }
      ]
    },
    {
      "cell_type": "code",
      "metadata": {
        "colab": {
          "base_uri": "https://localhost:8080/"
        },
        "id": "RNZvKeom-htQ",
        "outputId": "6fa2f84f-6667-475e-f1fe-c8046dc44294"
      },
      "source": [
        "submission['Outcome'].value_counts()"
      ],
      "execution_count": 53,
      "outputs": [
        {
          "output_type": "execute_result",
          "data": {
            "text/plain": [
              "1    2711\n",
              "0    1297\n",
              "Name: Outcome, dtype: int64"
            ]
          },
          "metadata": {},
          "execution_count": 53
        }
      ]
    },
    {
      "cell_type": "code",
      "metadata": {
        "id": "x6B8uGtul_nc"
      },
      "source": [
        "all_train_data = Pool(data=X, label=y, cat_features=cat_features)"
      ],
      "execution_count": 54,
      "outputs": []
    },
    {
      "cell_type": "code",
      "metadata": {
        "colab": {
          "base_uri": "https://localhost:8080/"
        },
        "id": "DqVEA0xfnYJX",
        "outputId": "da417fd1-3fe9-4c49-9119-25c6a5fe81ee"
      },
      "source": [
        "%%time\n",
        "grid = {'learning_rate': [0.3, 0.5, 0.4, 0.1],\n",
        "        'max_depth': [4,  6,  8,  10],\n",
        "        'l2_leaf_reg': [1,  3,  5,  7, 9],\n",
        "        #'grow_policy': ['SymmetricTree', 'Depthwise', 'Lossguide']\n",
        "       }\n",
        "\n",
        "model = CatBoostClassifier(iterations=175)\n",
        "\n",
        "\n",
        "randomized_search_result = model.randomized_search(grid,\n",
        "            X=all_train_data,\n",
        "            cv=5,\n",
        "            partition_random_seed=SEED,\n",
        "            search_by_train_test_split=True,\n",
        "            refit=True,\n",
        "            shuffle=True,\n",
        "            stratified=None,\n",
        "            train_size=0.8,\n",
        "            verbose=0,\n",
        "            plot=False)"
      ],
      "execution_count": 55,
      "outputs": [
        {
          "output_type": "stream",
          "text": [
            "0:\tlearn: 0.1937524\ttest: 0.2010859\tbest: 0.2010859 (0)\ttotal: 8.08ms\tremaining: 1.41s\n",
            "1:\tlearn: 0.1148536\ttest: 0.1137729\tbest: 0.1137729 (1)\ttotal: 14.1ms\tremaining: 1.22s\n",
            "2:\tlearn: 0.0920203\ttest: 0.0905856\tbest: 0.0905856 (2)\ttotal: 19.9ms\tremaining: 1.14s\n",
            "3:\tlearn: 0.0797531\ttest: 0.0792587\tbest: 0.0792587 (3)\ttotal: 25.6ms\tremaining: 1.09s\n",
            "4:\tlearn: 0.0703607\ttest: 0.0661282\tbest: 0.0661282 (4)\ttotal: 30.8ms\tremaining: 1.05s\n",
            "5:\tlearn: 0.0652258\ttest: 0.0608223\tbest: 0.0608223 (5)\ttotal: 35.6ms\tremaining: 1s\n",
            "6:\tlearn: 0.0611297\ttest: 0.0587027\tbest: 0.0587027 (6)\ttotal: 40ms\tremaining: 961ms\n",
            "7:\tlearn: 0.0570430\ttest: 0.0548255\tbest: 0.0548255 (7)\ttotal: 44.7ms\tremaining: 932ms\n",
            "8:\tlearn: 0.0534713\ttest: 0.0495492\tbest: 0.0495492 (8)\ttotal: 49.5ms\tremaining: 914ms\n",
            "9:\tlearn: 0.0529795\ttest: 0.0486941\tbest: 0.0486941 (9)\ttotal: 54.6ms\tremaining: 901ms\n",
            "10:\tlearn: 0.0528725\ttest: 0.0486890\tbest: 0.0486890 (10)\ttotal: 59ms\tremaining: 880ms\n",
            "11:\tlearn: 0.0513171\ttest: 0.0485250\tbest: 0.0485250 (11)\ttotal: 63.7ms\tremaining: 865ms\n",
            "12:\tlearn: 0.0491557\ttest: 0.0467311\tbest: 0.0467311 (12)\ttotal: 68.1ms\tremaining: 849ms\n",
            "13:\tlearn: 0.0464407\ttest: 0.0434564\tbest: 0.0434564 (13)\ttotal: 72.7ms\tremaining: 835ms\n",
            "14:\tlearn: 0.0448392\ttest: 0.0422068\tbest: 0.0422068 (14)\ttotal: 77ms\tremaining: 822ms\n",
            "15:\tlearn: 0.0444786\ttest: 0.0417922\tbest: 0.0417922 (15)\ttotal: 81.6ms\tremaining: 810ms\n",
            "16:\tlearn: 0.0428171\ttest: 0.0396547\tbest: 0.0396547 (16)\ttotal: 86ms\tremaining: 799ms\n",
            "17:\tlearn: 0.0426819\ttest: 0.0398448\tbest: 0.0396547 (16)\ttotal: 90.7ms\tremaining: 791ms\n",
            "18:\tlearn: 0.0426817\ttest: 0.0398459\tbest: 0.0396547 (16)\ttotal: 94.6ms\tremaining: 777ms\n",
            "19:\tlearn: 0.0409589\ttest: 0.0383064\tbest: 0.0383064 (19)\ttotal: 99.2ms\tremaining: 769ms\n",
            "20:\tlearn: 0.0399671\ttest: 0.0373244\tbest: 0.0373244 (20)\ttotal: 104ms\tremaining: 760ms\n",
            "21:\tlearn: 0.0379610\ttest: 0.0357066\tbest: 0.0357066 (21)\ttotal: 108ms\tremaining: 752ms\n",
            "22:\tlearn: 0.0376972\ttest: 0.0358981\tbest: 0.0357066 (21)\ttotal: 113ms\tremaining: 744ms\n",
            "23:\tlearn: 0.0376972\ttest: 0.0358980\tbest: 0.0357066 (21)\ttotal: 116ms\tremaining: 733ms\n",
            "24:\tlearn: 0.0362423\ttest: 0.0349198\tbest: 0.0349198 (24)\ttotal: 121ms\tremaining: 728ms\n",
            "25:\tlearn: 0.0351276\ttest: 0.0333595\tbest: 0.0333595 (25)\ttotal: 126ms\tremaining: 721ms\n",
            "26:\tlearn: 0.0348420\ttest: 0.0326958\tbest: 0.0326958 (26)\ttotal: 131ms\tremaining: 716ms\n",
            "27:\tlearn: 0.0343556\ttest: 0.0321684\tbest: 0.0321684 (27)\ttotal: 136ms\tremaining: 712ms\n",
            "28:\tlearn: 0.0343469\ttest: 0.0321228\tbest: 0.0321228 (28)\ttotal: 140ms\tremaining: 703ms\n",
            "29:\tlearn: 0.0342111\ttest: 0.0320885\tbest: 0.0320885 (29)\ttotal: 144ms\tremaining: 697ms\n",
            "30:\tlearn: 0.0335983\ttest: 0.0313574\tbest: 0.0313574 (30)\ttotal: 149ms\tremaining: 690ms\n",
            "31:\tlearn: 0.0328002\ttest: 0.0302486\tbest: 0.0302486 (31)\ttotal: 153ms\tremaining: 684ms\n",
            "32:\tlearn: 0.0317521\ttest: 0.0293078\tbest: 0.0293078 (32)\ttotal: 157ms\tremaining: 678ms\n",
            "33:\tlearn: 0.0317521\ttest: 0.0293077\tbest: 0.0293077 (33)\ttotal: 162ms\tremaining: 670ms\n",
            "34:\tlearn: 0.0314575\ttest: 0.0297732\tbest: 0.0293077 (33)\ttotal: 166ms\tremaining: 665ms\n",
            "35:\tlearn: 0.0312012\ttest: 0.0295871\tbest: 0.0293077 (33)\ttotal: 171ms\tremaining: 661ms\n",
            "36:\tlearn: 0.0305076\ttest: 0.0291400\tbest: 0.0291400 (36)\ttotal: 176ms\tremaining: 656ms\n",
            "37:\tlearn: 0.0303730\ttest: 0.0290687\tbest: 0.0290687 (37)\ttotal: 180ms\tremaining: 650ms\n",
            "38:\tlearn: 0.0303730\ttest: 0.0290687\tbest: 0.0290687 (38)\ttotal: 185ms\tremaining: 644ms\n",
            "39:\tlearn: 0.0303176\ttest: 0.0290900\tbest: 0.0290687 (38)\ttotal: 190ms\tremaining: 640ms\n",
            "40:\tlearn: 0.0293024\ttest: 0.0277035\tbest: 0.0277035 (40)\ttotal: 194ms\tremaining: 634ms\n",
            "41:\tlearn: 0.0288976\ttest: 0.0274632\tbest: 0.0274632 (41)\ttotal: 200ms\tremaining: 633ms\n",
            "42:\tlearn: 0.0280785\ttest: 0.0280640\tbest: 0.0274632 (41)\ttotal: 206ms\tremaining: 633ms\n",
            "43:\tlearn: 0.0279059\ttest: 0.0280987\tbest: 0.0274632 (41)\ttotal: 211ms\tremaining: 627ms\n",
            "44:\tlearn: 0.0279058\ttest: 0.0280988\tbest: 0.0274632 (41)\ttotal: 214ms\tremaining: 619ms\n",
            "45:\tlearn: 0.0276165\ttest: 0.0278128\tbest: 0.0274632 (41)\ttotal: 219ms\tremaining: 615ms\n",
            "46:\tlearn: 0.0273719\ttest: 0.0275865\tbest: 0.0274632 (41)\ttotal: 224ms\tremaining: 609ms\n",
            "47:\tlearn: 0.0268988\ttest: 0.0276771\tbest: 0.0274632 (41)\ttotal: 228ms\tremaining: 604ms\n",
            "48:\tlearn: 0.0262827\ttest: 0.0262994\tbest: 0.0262994 (48)\ttotal: 233ms\tremaining: 598ms\n",
            "49:\tlearn: 0.0252454\ttest: 0.0254576\tbest: 0.0254576 (49)\ttotal: 237ms\tremaining: 593ms\n",
            "50:\tlearn: 0.0250979\ttest: 0.0252185\tbest: 0.0252185 (50)\ttotal: 242ms\tremaining: 589ms\n",
            "51:\tlearn: 0.0249340\ttest: 0.0253451\tbest: 0.0252185 (50)\ttotal: 247ms\tremaining: 583ms\n",
            "52:\tlearn: 0.0249250\ttest: 0.0254098\tbest: 0.0252185 (50)\ttotal: 251ms\tremaining: 577ms\n",
            "53:\tlearn: 0.0249250\ttest: 0.0254098\tbest: 0.0252185 (50)\ttotal: 254ms\tremaining: 570ms\n",
            "54:\tlearn: 0.0239532\ttest: 0.0245995\tbest: 0.0245995 (54)\ttotal: 261ms\tremaining: 569ms\n",
            "55:\tlearn: 0.0239526\ttest: 0.0245982\tbest: 0.0245982 (55)\ttotal: 265ms\tremaining: 563ms\n",
            "56:\tlearn: 0.0235991\ttest: 0.0246273\tbest: 0.0245982 (55)\ttotal: 270ms\tremaining: 558ms\n",
            "57:\tlearn: 0.0235503\ttest: 0.0246893\tbest: 0.0245982 (55)\ttotal: 274ms\tremaining: 552ms\n",
            "58:\tlearn: 0.0235499\ttest: 0.0246886\tbest: 0.0245982 (55)\ttotal: 278ms\tremaining: 546ms\n",
            "59:\tlearn: 0.0233897\ttest: 0.0246068\tbest: 0.0245982 (55)\ttotal: 282ms\tremaining: 541ms\n",
            "60:\tlearn: 0.0232705\ttest: 0.0244176\tbest: 0.0244176 (60)\ttotal: 287ms\tremaining: 536ms\n",
            "61:\tlearn: 0.0230244\ttest: 0.0243596\tbest: 0.0243596 (61)\ttotal: 294ms\tremaining: 536ms\n",
            "62:\tlearn: 0.0226477\ttest: 0.0234046\tbest: 0.0234046 (62)\ttotal: 299ms\tremaining: 532ms\n",
            "63:\tlearn: 0.0225059\ttest: 0.0232952\tbest: 0.0232952 (63)\ttotal: 304ms\tremaining: 527ms\n",
            "64:\tlearn: 0.0225057\ttest: 0.0232948\tbest: 0.0232948 (64)\ttotal: 308ms\tremaining: 521ms\n",
            "65:\tlearn: 0.0221928\ttest: 0.0232759\tbest: 0.0232759 (65)\ttotal: 313ms\tremaining: 516ms\n",
            "66:\tlearn: 0.0221927\ttest: 0.0232757\tbest: 0.0232757 (66)\ttotal: 317ms\tremaining: 510ms\n",
            "67:\tlearn: 0.0218589\ttest: 0.0230921\tbest: 0.0230921 (67)\ttotal: 321ms\tremaining: 505ms\n",
            "68:\tlearn: 0.0217522\ttest: 0.0232214\tbest: 0.0230921 (67)\ttotal: 325ms\tremaining: 500ms\n",
            "69:\tlearn: 0.0215712\ttest: 0.0233008\tbest: 0.0230921 (67)\ttotal: 330ms\tremaining: 495ms\n",
            "70:\tlearn: 0.0215709\ttest: 0.0233011\tbest: 0.0230921 (67)\ttotal: 334ms\tremaining: 489ms\n",
            "71:\tlearn: 0.0214462\ttest: 0.0234302\tbest: 0.0230921 (67)\ttotal: 339ms\tremaining: 484ms\n",
            "72:\tlearn: 0.0214460\ttest: 0.0234294\tbest: 0.0230921 (67)\ttotal: 342ms\tremaining: 478ms\n",
            "73:\tlearn: 0.0212946\ttest: 0.0234507\tbest: 0.0230921 (67)\ttotal: 347ms\tremaining: 474ms\n",
            "74:\tlearn: 0.0208843\ttest: 0.0232630\tbest: 0.0230921 (67)\ttotal: 352ms\tremaining: 469ms\n",
            "75:\tlearn: 0.0207138\ttest: 0.0233081\tbest: 0.0230921 (67)\ttotal: 356ms\tremaining: 464ms\n",
            "76:\tlearn: 0.0207138\ttest: 0.0233081\tbest: 0.0230921 (67)\ttotal: 360ms\tremaining: 459ms\n",
            "77:\tlearn: 0.0206339\ttest: 0.0233822\tbest: 0.0230921 (67)\ttotal: 365ms\tremaining: 454ms\n",
            "78:\tlearn: 0.0206338\ttest: 0.0233817\tbest: 0.0230921 (67)\ttotal: 369ms\tremaining: 448ms\n",
            "79:\tlearn: 0.0204265\ttest: 0.0232519\tbest: 0.0230921 (67)\ttotal: 374ms\tremaining: 444ms\n",
            "80:\tlearn: 0.0201441\ttest: 0.0232976\tbest: 0.0230921 (67)\ttotal: 378ms\tremaining: 439ms\n",
            "81:\tlearn: 0.0196070\ttest: 0.0229983\tbest: 0.0229983 (81)\ttotal: 383ms\tremaining: 434ms\n",
            "82:\tlearn: 0.0196068\ttest: 0.0229990\tbest: 0.0229983 (81)\ttotal: 387ms\tremaining: 429ms\n",
            "83:\tlearn: 0.0195179\ttest: 0.0230748\tbest: 0.0229983 (81)\ttotal: 391ms\tremaining: 424ms\n",
            "84:\tlearn: 0.0195178\ttest: 0.0230749\tbest: 0.0229983 (81)\ttotal: 399ms\tremaining: 423ms\n",
            "85:\tlearn: 0.0194886\ttest: 0.0230720\tbest: 0.0229983 (81)\ttotal: 404ms\tremaining: 418ms\n",
            "86:\tlearn: 0.0194885\ttest: 0.0230719\tbest: 0.0229983 (81)\ttotal: 408ms\tremaining: 413ms\n",
            "87:\tlearn: 0.0194655\ttest: 0.0230428\tbest: 0.0229983 (81)\ttotal: 412ms\tremaining: 408ms\n",
            "88:\tlearn: 0.0194653\ttest: 0.0230427\tbest: 0.0229983 (81)\ttotal: 417ms\tremaining: 403ms\n",
            "89:\tlearn: 0.0194651\ttest: 0.0230425\tbest: 0.0229983 (81)\ttotal: 421ms\tremaining: 398ms\n",
            "90:\tlearn: 0.0194651\ttest: 0.0230425\tbest: 0.0229983 (81)\ttotal: 425ms\tremaining: 393ms\n",
            "91:\tlearn: 0.0194651\ttest: 0.0230425\tbest: 0.0229983 (81)\ttotal: 429ms\tremaining: 387ms\n",
            "92:\tlearn: 0.0194650\ttest: 0.0230429\tbest: 0.0229983 (81)\ttotal: 434ms\tremaining: 383ms\n",
            "93:\tlearn: 0.0191839\ttest: 0.0224496\tbest: 0.0224496 (93)\ttotal: 439ms\tremaining: 378ms\n",
            "94:\tlearn: 0.0191839\ttest: 0.0224497\tbest: 0.0224496 (93)\ttotal: 443ms\tremaining: 373ms\n",
            "95:\tlearn: 0.0191838\ttest: 0.0224495\tbest: 0.0224495 (95)\ttotal: 446ms\tremaining: 367ms\n",
            "96:\tlearn: 0.0190512\ttest: 0.0223653\tbest: 0.0223653 (96)\ttotal: 452ms\tremaining: 363ms\n",
            "97:\tlearn: 0.0185900\ttest: 0.0231446\tbest: 0.0223653 (96)\ttotal: 456ms\tremaining: 358ms\n",
            "98:\tlearn: 0.0185896\ttest: 0.0231452\tbest: 0.0223653 (96)\ttotal: 460ms\tremaining: 353ms\n",
            "99:\tlearn: 0.0184882\ttest: 0.0231960\tbest: 0.0223653 (96)\ttotal: 465ms\tremaining: 349ms\n",
            "100:\tlearn: 0.0178776\ttest: 0.0240961\tbest: 0.0223653 (96)\ttotal: 470ms\tremaining: 344ms\n",
            "101:\tlearn: 0.0178775\ttest: 0.0240960\tbest: 0.0223653 (96)\ttotal: 474ms\tremaining: 339ms\n",
            "102:\tlearn: 0.0178774\ttest: 0.0240961\tbest: 0.0223653 (96)\ttotal: 478ms\tremaining: 334ms\n",
            "103:\tlearn: 0.0167061\ttest: 0.0233386\tbest: 0.0223653 (96)\ttotal: 483ms\tremaining: 329ms\n",
            "104:\tlearn: 0.0165457\ttest: 0.0234412\tbest: 0.0223653 (96)\ttotal: 487ms\tremaining: 325ms\n",
            "105:\tlearn: 0.0164020\ttest: 0.0235963\tbest: 0.0223653 (96)\ttotal: 492ms\tremaining: 320ms\n",
            "106:\tlearn: 0.0164018\ttest: 0.0235964\tbest: 0.0223653 (96)\ttotal: 496ms\tremaining: 315ms\n",
            "107:\tlearn: 0.0162798\ttest: 0.0233316\tbest: 0.0223653 (96)\ttotal: 501ms\tremaining: 311ms\n",
            "108:\tlearn: 0.0162793\ttest: 0.0233323\tbest: 0.0223653 (96)\ttotal: 505ms\tremaining: 306ms\n",
            "109:\tlearn: 0.0158673\ttest: 0.0233247\tbest: 0.0223653 (96)\ttotal: 510ms\tremaining: 301ms\n",
            "110:\tlearn: 0.0157419\ttest: 0.0234488\tbest: 0.0223653 (96)\ttotal: 514ms\tremaining: 297ms\n",
            "111:\tlearn: 0.0157069\ttest: 0.0233972\tbest: 0.0223653 (96)\ttotal: 519ms\tremaining: 292ms\n",
            "112:\tlearn: 0.0156271\ttest: 0.0233089\tbest: 0.0223653 (96)\ttotal: 524ms\tremaining: 287ms\n",
            "113:\tlearn: 0.0156270\ttest: 0.0233088\tbest: 0.0223653 (96)\ttotal: 527ms\tremaining: 282ms\n",
            "114:\tlearn: 0.0156270\ttest: 0.0233087\tbest: 0.0223653 (96)\ttotal: 533ms\tremaining: 278ms\n",
            "115:\tlearn: 0.0154605\ttest: 0.0232403\tbest: 0.0223653 (96)\ttotal: 538ms\tremaining: 273ms\n",
            "116:\tlearn: 0.0150739\ttest: 0.0229335\tbest: 0.0223653 (96)\ttotal: 542ms\tremaining: 269ms\n",
            "117:\tlearn: 0.0150737\ttest: 0.0229331\tbest: 0.0223653 (96)\ttotal: 546ms\tremaining: 264ms\n",
            "118:\tlearn: 0.0150736\ttest: 0.0229332\tbest: 0.0223653 (96)\ttotal: 550ms\tremaining: 259ms\n",
            "119:\tlearn: 0.0150734\ttest: 0.0229336\tbest: 0.0223653 (96)\ttotal: 554ms\tremaining: 254ms\n",
            "120:\tlearn: 0.0150733\ttest: 0.0229335\tbest: 0.0223653 (96)\ttotal: 558ms\tremaining: 249ms\n",
            "121:\tlearn: 0.0150733\ttest: 0.0229335\tbest: 0.0223653 (96)\ttotal: 562ms\tremaining: 244ms\n",
            "122:\tlearn: 0.0150733\ttest: 0.0229332\tbest: 0.0223653 (96)\ttotal: 566ms\tremaining: 239ms\n",
            "123:\tlearn: 0.0150733\ttest: 0.0229332\tbest: 0.0223653 (96)\ttotal: 570ms\tremaining: 235ms\n",
            "124:\tlearn: 0.0150733\ttest: 0.0229332\tbest: 0.0223653 (96)\ttotal: 574ms\tremaining: 230ms\n",
            "125:\tlearn: 0.0145916\ttest: 0.0231056\tbest: 0.0223653 (96)\ttotal: 579ms\tremaining: 225ms\n",
            "126:\tlearn: 0.0145916\ttest: 0.0231056\tbest: 0.0223653 (96)\ttotal: 583ms\tremaining: 220ms\n",
            "127:\tlearn: 0.0145912\ttest: 0.0231052\tbest: 0.0223653 (96)\ttotal: 587ms\tremaining: 216ms\n",
            "128:\tlearn: 0.0145911\ttest: 0.0231051\tbest: 0.0223653 (96)\ttotal: 595ms\tremaining: 212ms\n",
            "129:\tlearn: 0.0145711\ttest: 0.0230665\tbest: 0.0223653 (96)\ttotal: 599ms\tremaining: 208ms\n",
            "130:\tlearn: 0.0145237\ttest: 0.0230305\tbest: 0.0223653 (96)\ttotal: 604ms\tremaining: 203ms\n",
            "131:\tlearn: 0.0145236\ttest: 0.0230307\tbest: 0.0223653 (96)\ttotal: 608ms\tremaining: 198ms\n",
            "132:\tlearn: 0.0144961\ttest: 0.0230128\tbest: 0.0223653 (96)\ttotal: 612ms\tremaining: 193ms\n",
            "133:\tlearn: 0.0143492\ttest: 0.0231854\tbest: 0.0223653 (96)\ttotal: 616ms\tremaining: 188ms\n",
            "134:\tlearn: 0.0143492\ttest: 0.0231855\tbest: 0.0223653 (96)\ttotal: 620ms\tremaining: 184ms\n",
            "135:\tlearn: 0.0143492\ttest: 0.0231856\tbest: 0.0223653 (96)\ttotal: 624ms\tremaining: 179ms\n",
            "136:\tlearn: 0.0143489\ttest: 0.0231853\tbest: 0.0223653 (96)\ttotal: 630ms\tremaining: 175ms\n",
            "137:\tlearn: 0.0141977\ttest: 0.0230170\tbest: 0.0223653 (96)\ttotal: 636ms\tremaining: 171ms\n",
            "138:\tlearn: 0.0141976\ttest: 0.0230170\tbest: 0.0223653 (96)\ttotal: 642ms\tremaining: 166ms\n",
            "139:\tlearn: 0.0141976\ttest: 0.0230171\tbest: 0.0223653 (96)\ttotal: 649ms\tremaining: 162ms\n",
            "140:\tlearn: 0.0140313\ttest: 0.0229202\tbest: 0.0223653 (96)\ttotal: 653ms\tremaining: 158ms\n",
            "141:\tlearn: 0.0140311\ttest: 0.0229198\tbest: 0.0223653 (96)\ttotal: 657ms\tremaining: 153ms\n",
            "142:\tlearn: 0.0138808\ttest: 0.0230762\tbest: 0.0223653 (96)\ttotal: 662ms\tremaining: 148ms\n",
            "143:\tlearn: 0.0138807\ttest: 0.0230762\tbest: 0.0223653 (96)\ttotal: 666ms\tremaining: 143ms\n",
            "144:\tlearn: 0.0138805\ttest: 0.0230759\tbest: 0.0223653 (96)\ttotal: 670ms\tremaining: 139ms\n",
            "145:\tlearn: 0.0136866\ttest: 0.0231279\tbest: 0.0223653 (96)\ttotal: 675ms\tremaining: 134ms\n",
            "146:\tlearn: 0.0136864\ttest: 0.0231288\tbest: 0.0223653 (96)\ttotal: 679ms\tremaining: 129ms\n",
            "147:\tlearn: 0.0135517\ttest: 0.0228475\tbest: 0.0223653 (96)\ttotal: 684ms\tremaining: 125ms\n",
            "148:\tlearn: 0.0135517\ttest: 0.0228475\tbest: 0.0223653 (96)\ttotal: 687ms\tremaining: 120ms\n",
            "149:\tlearn: 0.0135517\ttest: 0.0228476\tbest: 0.0223653 (96)\ttotal: 691ms\tremaining: 115ms\n",
            "150:\tlearn: 0.0135517\ttest: 0.0228478\tbest: 0.0223653 (96)\ttotal: 695ms\tremaining: 111ms\n",
            "151:\tlearn: 0.0135516\ttest: 0.0228481\tbest: 0.0223653 (96)\ttotal: 699ms\tremaining: 106ms\n",
            "152:\tlearn: 0.0135513\ttest: 0.0228497\tbest: 0.0223653 (96)\ttotal: 703ms\tremaining: 101ms\n",
            "153:\tlearn: 0.0135513\ttest: 0.0228500\tbest: 0.0223653 (96)\ttotal: 707ms\tremaining: 96.4ms\n",
            "154:\tlearn: 0.0135512\ttest: 0.0228503\tbest: 0.0223653 (96)\ttotal: 711ms\tremaining: 91.7ms\n",
            "155:\tlearn: 0.0135008\ttest: 0.0229219\tbest: 0.0223653 (96)\ttotal: 715ms\tremaining: 87.1ms\n",
            "156:\tlearn: 0.0133588\ttest: 0.0226163\tbest: 0.0223653 (96)\ttotal: 720ms\tremaining: 82.5ms\n",
            "157:\tlearn: 0.0133588\ttest: 0.0226164\tbest: 0.0223653 (96)\ttotal: 723ms\tremaining: 77.8ms\n",
            "158:\tlearn: 0.0133586\ttest: 0.0226171\tbest: 0.0223653 (96)\ttotal: 727ms\tremaining: 73.2ms\n",
            "159:\tlearn: 0.0133586\ttest: 0.0226172\tbest: 0.0223653 (96)\ttotal: 731ms\tremaining: 68.6ms\n",
            "160:\tlearn: 0.0133584\ttest: 0.0226180\tbest: 0.0223653 (96)\ttotal: 735ms\tremaining: 63.9ms\n",
            "161:\tlearn: 0.0133584\ttest: 0.0226181\tbest: 0.0223653 (96)\ttotal: 739ms\tremaining: 59.3ms\n",
            "162:\tlearn: 0.0133583\ttest: 0.0226185\tbest: 0.0223653 (96)\ttotal: 743ms\tremaining: 54.7ms\n",
            "163:\tlearn: 0.0133583\ttest: 0.0226186\tbest: 0.0223653 (96)\ttotal: 747ms\tremaining: 50.1ms\n",
            "164:\tlearn: 0.0133578\ttest: 0.0226201\tbest: 0.0223653 (96)\ttotal: 751ms\tremaining: 45.5ms\n",
            "165:\tlearn: 0.0133576\ttest: 0.0226206\tbest: 0.0223653 (96)\ttotal: 755ms\tremaining: 40.9ms\n",
            "166:\tlearn: 0.0133575\ttest: 0.0226212\tbest: 0.0223653 (96)\ttotal: 762ms\tremaining: 36.5ms\n",
            "167:\tlearn: 0.0133575\ttest: 0.0226216\tbest: 0.0223653 (96)\ttotal: 766ms\tremaining: 31.9ms\n",
            "168:\tlearn: 0.0132252\ttest: 0.0226640\tbest: 0.0223653 (96)\ttotal: 771ms\tremaining: 27.4ms\n",
            "169:\tlearn: 0.0129115\ttest: 0.0226244\tbest: 0.0223653 (96)\ttotal: 776ms\tremaining: 22.8ms\n",
            "170:\tlearn: 0.0129114\ttest: 0.0226247\tbest: 0.0223653 (96)\ttotal: 780ms\tremaining: 18.2ms\n",
            "171:\tlearn: 0.0129113\ttest: 0.0226249\tbest: 0.0223653 (96)\ttotal: 784ms\tremaining: 13.7ms\n",
            "172:\tlearn: 0.0126631\ttest: 0.0224440\tbest: 0.0223653 (96)\ttotal: 790ms\tremaining: 9.13ms\n",
            "173:\tlearn: 0.0126629\ttest: 0.0224440\tbest: 0.0223653 (96)\ttotal: 795ms\tremaining: 4.57ms\n",
            "174:\tlearn: 0.0124833\ttest: 0.0224172\tbest: 0.0223653 (96)\ttotal: 799ms\tremaining: 0us\n",
            "\n",
            "bestTest = 0.02236532524\n",
            "bestIteration = 96\n",
            "\n",
            "0:\tlearn: 0.4895580\ttest: 0.4950983\tbest: 0.4950983 (0)\ttotal: 6.44ms\tremaining: 1.12s\n",
            "1:\tlearn: 0.3386491\ttest: 0.3464367\tbest: 0.3464367 (1)\ttotal: 12.2ms\tremaining: 1.05s\n",
            "2:\tlearn: 0.2465090\ttest: 0.2526948\tbest: 0.2526948 (2)\ttotal: 18.1ms\tremaining: 1.04s\n",
            "3:\tlearn: 0.1902979\ttest: 0.1961985\tbest: 0.1961985 (3)\ttotal: 24.4ms\tremaining: 1.04s\n",
            "4:\tlearn: 0.1593964\ttest: 0.1642016\tbest: 0.1642016 (4)\ttotal: 30.3ms\tremaining: 1.03s\n",
            "5:\tlearn: 0.1400489\ttest: 0.1450904\tbest: 0.1450904 (5)\ttotal: 36.5ms\tremaining: 1.03s\n",
            "6:\tlearn: 0.1268084\ttest: 0.1312154\tbest: 0.1312154 (6)\ttotal: 42.6ms\tremaining: 1.02s\n",
            "7:\tlearn: 0.1138534\ttest: 0.1176423\tbest: 0.1176423 (7)\ttotal: 48.9ms\tremaining: 1.02s\n",
            "8:\tlearn: 0.1041895\ttest: 0.1078159\tbest: 0.1078159 (8)\ttotal: 55ms\tremaining: 1.01s\n",
            "9:\tlearn: 0.0952783\ttest: 0.0987006\tbest: 0.0987006 (9)\ttotal: 62.7ms\tremaining: 1.03s\n",
            "10:\tlearn: 0.0885407\ttest: 0.0916420\tbest: 0.0916420 (10)\ttotal: 70.7ms\tremaining: 1.05s\n",
            "11:\tlearn: 0.0840315\ttest: 0.0868505\tbest: 0.0868505 (11)\ttotal: 76.8ms\tremaining: 1.04s\n",
            "12:\tlearn: 0.0807195\ttest: 0.0830088\tbest: 0.0830088 (12)\ttotal: 83.1ms\tremaining: 1.03s\n",
            "13:\tlearn: 0.0766974\ttest: 0.0787808\tbest: 0.0787808 (13)\ttotal: 89.7ms\tremaining: 1.03s\n",
            "14:\tlearn: 0.0728007\ttest: 0.0747393\tbest: 0.0747393 (14)\ttotal: 95.9ms\tremaining: 1.02s\n",
            "15:\tlearn: 0.0702858\ttest: 0.0715489\tbest: 0.0715489 (15)\ttotal: 102ms\tremaining: 1.01s\n",
            "16:\tlearn: 0.0670849\ttest: 0.0684110\tbest: 0.0684110 (16)\ttotal: 108ms\tremaining: 1s\n",
            "17:\tlearn: 0.0643064\ttest: 0.0657783\tbest: 0.0657783 (17)\ttotal: 114ms\tremaining: 991ms\n",
            "18:\tlearn: 0.0616697\ttest: 0.0622518\tbest: 0.0622518 (18)\ttotal: 120ms\tremaining: 983ms\n",
            "19:\tlearn: 0.0597333\ttest: 0.0604238\tbest: 0.0604238 (19)\ttotal: 126ms\tremaining: 979ms\n",
            "20:\tlearn: 0.0585015\ttest: 0.0592303\tbest: 0.0592303 (20)\ttotal: 132ms\tremaining: 969ms\n",
            "21:\tlearn: 0.0579643\ttest: 0.0590655\tbest: 0.0590655 (21)\ttotal: 138ms\tremaining: 960ms\n",
            "22:\tlearn: 0.0564572\ttest: 0.0574594\tbest: 0.0574594 (22)\ttotal: 144ms\tremaining: 953ms\n",
            "23:\tlearn: 0.0551489\ttest: 0.0561367\tbest: 0.0561367 (23)\ttotal: 150ms\tremaining: 945ms\n",
            "24:\tlearn: 0.0538965\ttest: 0.0549714\tbest: 0.0549714 (24)\ttotal: 157ms\tremaining: 940ms\n",
            "25:\tlearn: 0.0532983\ttest: 0.0543620\tbest: 0.0543620 (25)\ttotal: 163ms\tremaining: 932ms\n",
            "26:\tlearn: 0.0522062\ttest: 0.0533275\tbest: 0.0533275 (26)\ttotal: 169ms\tremaining: 925ms\n",
            "27:\tlearn: 0.0517047\ttest: 0.0530231\tbest: 0.0530231 (27)\ttotal: 174ms\tremaining: 916ms\n",
            "28:\tlearn: 0.0505387\ttest: 0.0519340\tbest: 0.0519340 (28)\ttotal: 180ms\tremaining: 908ms\n",
            "29:\tlearn: 0.0498204\ttest: 0.0512781\tbest: 0.0512781 (29)\ttotal: 187ms\tremaining: 903ms\n",
            "30:\tlearn: 0.0490527\ttest: 0.0507067\tbest: 0.0507067 (30)\ttotal: 195ms\tremaining: 907ms\n",
            "31:\tlearn: 0.0486821\ttest: 0.0501956\tbest: 0.0501956 (31)\ttotal: 201ms\tremaining: 900ms\n",
            "32:\tlearn: 0.0484073\ttest: 0.0500498\tbest: 0.0500498 (32)\ttotal: 207ms\tremaining: 891ms\n",
            "33:\tlearn: 0.0474874\ttest: 0.0489733\tbest: 0.0489733 (33)\ttotal: 213ms\tremaining: 884ms\n",
            "34:\tlearn: 0.0466954\ttest: 0.0480999\tbest: 0.0480999 (34)\ttotal: 219ms\tremaining: 877ms\n",
            "35:\tlearn: 0.0462682\ttest: 0.0477571\tbest: 0.0477571 (35)\ttotal: 228ms\tremaining: 879ms\n",
            "36:\tlearn: 0.0459301\ttest: 0.0473606\tbest: 0.0473606 (36)\ttotal: 235ms\tremaining: 878ms\n",
            "37:\tlearn: 0.0448662\ttest: 0.0462659\tbest: 0.0462659 (37)\ttotal: 241ms\tremaining: 870ms\n",
            "38:\tlearn: 0.0442444\ttest: 0.0456448\tbest: 0.0456448 (38)\ttotal: 247ms\tremaining: 863ms\n",
            "39:\tlearn: 0.0438935\ttest: 0.0454289\tbest: 0.0454289 (39)\ttotal: 254ms\tremaining: 856ms\n",
            "40:\tlearn: 0.0435647\ttest: 0.0450830\tbest: 0.0450830 (40)\ttotal: 260ms\tremaining: 848ms\n",
            "41:\tlearn: 0.0427803\ttest: 0.0443501\tbest: 0.0443501 (41)\ttotal: 265ms\tremaining: 841ms\n",
            "42:\tlearn: 0.0424964\ttest: 0.0441373\tbest: 0.0441373 (42)\ttotal: 271ms\tremaining: 833ms\n",
            "43:\tlearn: 0.0416753\ttest: 0.0434445\tbest: 0.0434445 (43)\ttotal: 277ms\tremaining: 825ms\n",
            "44:\tlearn: 0.0410848\ttest: 0.0428270\tbest: 0.0428270 (44)\ttotal: 283ms\tremaining: 818ms\n",
            "45:\tlearn: 0.0409299\ttest: 0.0429471\tbest: 0.0428270 (44)\ttotal: 289ms\tremaining: 811ms\n",
            "46:\tlearn: 0.0403984\ttest: 0.0426052\tbest: 0.0426052 (46)\ttotal: 295ms\tremaining: 803ms\n",
            "47:\tlearn: 0.0401571\ttest: 0.0425638\tbest: 0.0425638 (47)\ttotal: 301ms\tremaining: 796ms\n",
            "48:\tlearn: 0.0399394\ttest: 0.0423703\tbest: 0.0423703 (48)\ttotal: 307ms\tremaining: 789ms\n",
            "49:\tlearn: 0.0392136\ttest: 0.0417590\tbest: 0.0417590 (49)\ttotal: 313ms\tremaining: 782ms\n",
            "50:\tlearn: 0.0390060\ttest: 0.0418569\tbest: 0.0417590 (49)\ttotal: 319ms\tremaining: 775ms\n",
            "51:\tlearn: 0.0384588\ttest: 0.0415360\tbest: 0.0415360 (51)\ttotal: 325ms\tremaining: 768ms\n",
            "52:\tlearn: 0.0382075\ttest: 0.0414182\tbest: 0.0414182 (52)\ttotal: 330ms\tremaining: 760ms\n",
            "53:\tlearn: 0.0379329\ttest: 0.0412639\tbest: 0.0412639 (53)\ttotal: 336ms\tremaining: 754ms\n",
            "54:\tlearn: 0.0376208\ttest: 0.0409995\tbest: 0.0409995 (54)\ttotal: 342ms\tremaining: 746ms\n",
            "55:\tlearn: 0.0370161\ttest: 0.0408306\tbest: 0.0408306 (55)\ttotal: 348ms\tremaining: 740ms\n",
            "56:\tlearn: 0.0364847\ttest: 0.0404274\tbest: 0.0404274 (56)\ttotal: 354ms\tremaining: 733ms\n",
            "57:\tlearn: 0.0359844\ttest: 0.0398658\tbest: 0.0398658 (57)\ttotal: 360ms\tremaining: 727ms\n",
            "58:\tlearn: 0.0355481\ttest: 0.0393756\tbest: 0.0393756 (58)\ttotal: 366ms\tremaining: 720ms\n",
            "59:\tlearn: 0.0352542\ttest: 0.0391436\tbest: 0.0391436 (59)\ttotal: 372ms\tremaining: 713ms\n",
            "60:\tlearn: 0.0347837\ttest: 0.0389540\tbest: 0.0389540 (60)\ttotal: 378ms\tremaining: 706ms\n",
            "61:\tlearn: 0.0342828\ttest: 0.0388161\tbest: 0.0388161 (61)\ttotal: 384ms\tremaining: 700ms\n",
            "62:\tlearn: 0.0336783\ttest: 0.0380379\tbest: 0.0380379 (62)\ttotal: 396ms\tremaining: 705ms\n",
            "63:\tlearn: 0.0334856\ttest: 0.0378914\tbest: 0.0378914 (63)\ttotal: 403ms\tremaining: 699ms\n",
            "64:\tlearn: 0.0334303\ttest: 0.0378787\tbest: 0.0378787 (64)\ttotal: 409ms\tremaining: 691ms\n",
            "65:\tlearn: 0.0332663\ttest: 0.0379493\tbest: 0.0378787 (64)\ttotal: 414ms\tremaining: 684ms\n",
            "66:\tlearn: 0.0330980\ttest: 0.0378616\tbest: 0.0378616 (66)\ttotal: 420ms\tremaining: 678ms\n",
            "67:\tlearn: 0.0330598\ttest: 0.0377967\tbest: 0.0377967 (67)\ttotal: 428ms\tremaining: 674ms\n",
            "68:\tlearn: 0.0325889\ttest: 0.0374269\tbest: 0.0374269 (68)\ttotal: 434ms\tremaining: 667ms\n",
            "69:\tlearn: 0.0323171\ttest: 0.0373822\tbest: 0.0373822 (69)\ttotal: 440ms\tremaining: 660ms\n",
            "70:\tlearn: 0.0319614\ttest: 0.0369190\tbest: 0.0369190 (70)\ttotal: 446ms\tremaining: 653ms\n",
            "71:\tlearn: 0.0316048\ttest: 0.0367542\tbest: 0.0367542 (71)\ttotal: 452ms\tremaining: 646ms\n",
            "72:\tlearn: 0.0314528\ttest: 0.0366236\tbest: 0.0366236 (72)\ttotal: 458ms\tremaining: 640ms\n",
            "73:\tlearn: 0.0312647\ttest: 0.0364692\tbest: 0.0364692 (73)\ttotal: 463ms\tremaining: 633ms\n",
            "74:\tlearn: 0.0311198\ttest: 0.0364733\tbest: 0.0364692 (73)\ttotal: 469ms\tremaining: 626ms\n",
            "75:\tlearn: 0.0311197\ttest: 0.0364733\tbest: 0.0364692 (73)\ttotal: 475ms\tremaining: 618ms\n",
            "76:\tlearn: 0.0307935\ttest: 0.0364176\tbest: 0.0364176 (76)\ttotal: 480ms\tremaining: 611ms\n",
            "77:\tlearn: 0.0304488\ttest: 0.0362768\tbest: 0.0362768 (77)\ttotal: 486ms\tremaining: 605ms\n",
            "78:\tlearn: 0.0301629\ttest: 0.0362233\tbest: 0.0362233 (78)\ttotal: 492ms\tremaining: 598ms\n",
            "79:\tlearn: 0.0299922\ttest: 0.0360771\tbest: 0.0360771 (79)\ttotal: 498ms\tremaining: 592ms\n",
            "80:\tlearn: 0.0297504\ttest: 0.0359393\tbest: 0.0359393 (80)\ttotal: 504ms\tremaining: 585ms\n",
            "81:\tlearn: 0.0297406\ttest: 0.0359209\tbest: 0.0359209 (81)\ttotal: 510ms\tremaining: 578ms\n",
            "82:\tlearn: 0.0296787\ttest: 0.0359007\tbest: 0.0359007 (82)\ttotal: 515ms\tremaining: 571ms\n",
            "83:\tlearn: 0.0293883\ttest: 0.0355586\tbest: 0.0355586 (83)\ttotal: 521ms\tremaining: 565ms\n",
            "84:\tlearn: 0.0290348\ttest: 0.0351985\tbest: 0.0351985 (84)\ttotal: 528ms\tremaining: 559ms\n",
            "85:\tlearn: 0.0288537\ttest: 0.0352431\tbest: 0.0351985 (84)\ttotal: 534ms\tremaining: 552ms\n",
            "86:\tlearn: 0.0287642\ttest: 0.0353020\tbest: 0.0351985 (84)\ttotal: 539ms\tremaining: 546ms\n",
            "87:\tlearn: 0.0284242\ttest: 0.0351165\tbest: 0.0351165 (87)\ttotal: 545ms\tremaining: 539ms\n",
            "88:\tlearn: 0.0278112\ttest: 0.0344716\tbest: 0.0344716 (88)\ttotal: 551ms\tremaining: 533ms\n",
            "89:\tlearn: 0.0275528\ttest: 0.0342632\tbest: 0.0342632 (89)\ttotal: 557ms\tremaining: 527ms\n",
            "90:\tlearn: 0.0273824\ttest: 0.0340578\tbest: 0.0340578 (90)\ttotal: 563ms\tremaining: 520ms\n",
            "91:\tlearn: 0.0271324\ttest: 0.0341150\tbest: 0.0340578 (90)\ttotal: 569ms\tremaining: 514ms\n",
            "92:\tlearn: 0.0270507\ttest: 0.0341400\tbest: 0.0340578 (90)\ttotal: 575ms\tremaining: 507ms\n",
            "93:\tlearn: 0.0269499\ttest: 0.0342706\tbest: 0.0340578 (90)\ttotal: 581ms\tremaining: 501ms\n",
            "94:\tlearn: 0.0267085\ttest: 0.0340871\tbest: 0.0340578 (90)\ttotal: 587ms\tremaining: 494ms\n",
            "95:\tlearn: 0.0260983\ttest: 0.0337830\tbest: 0.0337830 (95)\ttotal: 593ms\tremaining: 488ms\n",
            "96:\tlearn: 0.0255071\ttest: 0.0330900\tbest: 0.0330900 (96)\ttotal: 606ms\tremaining: 487ms\n",
            "97:\tlearn: 0.0252985\ttest: 0.0329403\tbest: 0.0329403 (97)\ttotal: 612ms\tremaining: 481ms\n",
            "98:\tlearn: 0.0251193\ttest: 0.0329516\tbest: 0.0329403 (97)\ttotal: 618ms\tremaining: 474ms\n",
            "99:\tlearn: 0.0248366\ttest: 0.0328157\tbest: 0.0328157 (99)\ttotal: 624ms\tremaining: 468ms\n",
            "100:\tlearn: 0.0244486\ttest: 0.0322722\tbest: 0.0322722 (100)\ttotal: 630ms\tremaining: 461ms\n",
            "101:\tlearn: 0.0243506\ttest: 0.0324042\tbest: 0.0322722 (100)\ttotal: 636ms\tremaining: 455ms\n",
            "102:\tlearn: 0.0242792\ttest: 0.0323414\tbest: 0.0322722 (100)\ttotal: 642ms\tremaining: 449ms\n",
            "103:\tlearn: 0.0240218\ttest: 0.0321428\tbest: 0.0321428 (103)\ttotal: 650ms\tremaining: 444ms\n",
            "104:\tlearn: 0.0238901\ttest: 0.0321722\tbest: 0.0321428 (103)\ttotal: 656ms\tremaining: 437ms\n",
            "105:\tlearn: 0.0234504\ttest: 0.0320262\tbest: 0.0320262 (105)\ttotal: 662ms\tremaining: 431ms\n",
            "106:\tlearn: 0.0231725\ttest: 0.0316261\tbest: 0.0316261 (106)\ttotal: 668ms\tremaining: 424ms\n",
            "107:\tlearn: 0.0225111\ttest: 0.0307960\tbest: 0.0307960 (107)\ttotal: 673ms\tremaining: 418ms\n",
            "108:\tlearn: 0.0221768\ttest: 0.0303760\tbest: 0.0303760 (108)\ttotal: 679ms\tremaining: 411ms\n",
            "109:\tlearn: 0.0215775\ttest: 0.0298130\tbest: 0.0298130 (109)\ttotal: 685ms\tremaining: 405ms\n",
            "110:\tlearn: 0.0213704\ttest: 0.0298203\tbest: 0.0298130 (109)\ttotal: 691ms\tremaining: 398ms\n",
            "111:\tlearn: 0.0213103\ttest: 0.0299225\tbest: 0.0298130 (109)\ttotal: 697ms\tremaining: 392ms\n",
            "112:\tlearn: 0.0212003\ttest: 0.0297961\tbest: 0.0297961 (112)\ttotal: 703ms\tremaining: 386ms\n",
            "113:\tlearn: 0.0208848\ttest: 0.0294931\tbest: 0.0294931 (113)\ttotal: 710ms\tremaining: 380ms\n",
            "114:\tlearn: 0.0207088\ttest: 0.0293971\tbest: 0.0293971 (114)\ttotal: 716ms\tremaining: 373ms\n",
            "115:\tlearn: 0.0203640\ttest: 0.0289247\tbest: 0.0289247 (115)\ttotal: 722ms\tremaining: 367ms\n",
            "116:\tlearn: 0.0200241\ttest: 0.0289376\tbest: 0.0289247 (115)\ttotal: 728ms\tremaining: 361ms\n",
            "117:\tlearn: 0.0198866\ttest: 0.0289717\tbest: 0.0289247 (115)\ttotal: 734ms\tremaining: 354ms\n",
            "118:\tlearn: 0.0196164\ttest: 0.0287688\tbest: 0.0287688 (118)\ttotal: 740ms\tremaining: 348ms\n",
            "119:\tlearn: 0.0194175\ttest: 0.0285641\tbest: 0.0285641 (119)\ttotal: 745ms\tremaining: 341ms\n",
            "120:\tlearn: 0.0192318\ttest: 0.0284661\tbest: 0.0284661 (120)\ttotal: 751ms\tremaining: 335ms\n",
            "121:\tlearn: 0.0188725\ttest: 0.0279017\tbest: 0.0279017 (121)\ttotal: 757ms\tremaining: 329ms\n",
            "122:\tlearn: 0.0185854\ttest: 0.0275875\tbest: 0.0275875 (122)\ttotal: 763ms\tremaining: 323ms\n",
            "123:\tlearn: 0.0184473\ttest: 0.0276650\tbest: 0.0275875 (122)\ttotal: 769ms\tremaining: 316ms\n",
            "124:\tlearn: 0.0179925\ttest: 0.0272902\tbest: 0.0272902 (124)\ttotal: 775ms\tremaining: 310ms\n",
            "125:\tlearn: 0.0179515\ttest: 0.0272909\tbest: 0.0272902 (124)\ttotal: 781ms\tremaining: 304ms\n",
            "126:\tlearn: 0.0178141\ttest: 0.0272826\tbest: 0.0272826 (126)\ttotal: 787ms\tremaining: 297ms\n",
            "127:\tlearn: 0.0176497\ttest: 0.0272221\tbest: 0.0272221 (127)\ttotal: 792ms\tremaining: 291ms\n",
            "128:\tlearn: 0.0175414\ttest: 0.0271185\tbest: 0.0271185 (128)\ttotal: 798ms\tremaining: 285ms\n",
            "129:\tlearn: 0.0172989\ttest: 0.0267340\tbest: 0.0267340 (129)\ttotal: 805ms\tremaining: 279ms\n",
            "130:\tlearn: 0.0171421\ttest: 0.0266806\tbest: 0.0266806 (130)\ttotal: 814ms\tremaining: 273ms\n",
            "131:\tlearn: 0.0168581\ttest: 0.0266833\tbest: 0.0266806 (130)\ttotal: 820ms\tremaining: 267ms\n",
            "132:\tlearn: 0.0167950\ttest: 0.0265845\tbest: 0.0265845 (132)\ttotal: 825ms\tremaining: 261ms\n",
            "133:\tlearn: 0.0166384\ttest: 0.0267445\tbest: 0.0265845 (132)\ttotal: 840ms\tremaining: 257ms\n",
            "134:\tlearn: 0.0164275\ttest: 0.0267124\tbest: 0.0265845 (132)\ttotal: 846ms\tremaining: 251ms\n",
            "135:\tlearn: 0.0161096\ttest: 0.0264116\tbest: 0.0264116 (135)\ttotal: 852ms\tremaining: 244ms\n",
            "136:\tlearn: 0.0159018\ttest: 0.0263493\tbest: 0.0263493 (136)\ttotal: 858ms\tremaining: 238ms\n",
            "137:\tlearn: 0.0158490\ttest: 0.0263211\tbest: 0.0263211 (137)\ttotal: 864ms\tremaining: 232ms\n",
            "138:\tlearn: 0.0158034\ttest: 0.0262959\tbest: 0.0262959 (138)\ttotal: 870ms\tremaining: 225ms\n",
            "139:\tlearn: 0.0157785\ttest: 0.0262494\tbest: 0.0262494 (139)\ttotal: 876ms\tremaining: 219ms\n",
            "140:\tlearn: 0.0156229\ttest: 0.0262756\tbest: 0.0262494 (139)\ttotal: 881ms\tremaining: 213ms\n",
            "141:\tlearn: 0.0153805\ttest: 0.0261558\tbest: 0.0261558 (141)\ttotal: 887ms\tremaining: 206ms\n",
            "142:\tlearn: 0.0152345\ttest: 0.0261527\tbest: 0.0261527 (142)\ttotal: 893ms\tremaining: 200ms\n",
            "143:\tlearn: 0.0150652\ttest: 0.0259026\tbest: 0.0259026 (143)\ttotal: 899ms\tremaining: 194ms\n",
            "144:\tlearn: 0.0149189\ttest: 0.0258661\tbest: 0.0258661 (144)\ttotal: 905ms\tremaining: 187ms\n",
            "145:\tlearn: 0.0148725\ttest: 0.0258524\tbest: 0.0258524 (145)\ttotal: 911ms\tremaining: 181ms\n",
            "146:\tlearn: 0.0147768\ttest: 0.0258075\tbest: 0.0258075 (146)\ttotal: 917ms\tremaining: 175ms\n",
            "147:\tlearn: 0.0146950\ttest: 0.0258707\tbest: 0.0258075 (146)\ttotal: 923ms\tremaining: 168ms\n",
            "148:\tlearn: 0.0146629\ttest: 0.0258930\tbest: 0.0258075 (146)\ttotal: 929ms\tremaining: 162ms\n",
            "149:\tlearn: 0.0142996\ttest: 0.0256523\tbest: 0.0256523 (149)\ttotal: 935ms\tremaining: 156ms\n",
            "150:\tlearn: 0.0142600\ttest: 0.0256395\tbest: 0.0256395 (150)\ttotal: 941ms\tremaining: 150ms\n",
            "151:\tlearn: 0.0138827\ttest: 0.0253043\tbest: 0.0253043 (151)\ttotal: 947ms\tremaining: 143ms\n",
            "152:\tlearn: 0.0137675\ttest: 0.0252145\tbest: 0.0252145 (152)\ttotal: 953ms\tremaining: 137ms\n",
            "153:\tlearn: 0.0136984\ttest: 0.0251163\tbest: 0.0251163 (153)\ttotal: 959ms\tremaining: 131ms\n",
            "154:\tlearn: 0.0136097\ttest: 0.0252194\tbest: 0.0251163 (153)\ttotal: 965ms\tremaining: 125ms\n",
            "155:\tlearn: 0.0135339\ttest: 0.0250528\tbest: 0.0250528 (155)\ttotal: 971ms\tremaining: 118ms\n",
            "156:\tlearn: 0.0133749\ttest: 0.0251070\tbest: 0.0250528 (155)\ttotal: 979ms\tremaining: 112ms\n",
            "157:\tlearn: 0.0132463\ttest: 0.0250163\tbest: 0.0250163 (157)\ttotal: 987ms\tremaining: 106ms\n",
            "158:\tlearn: 0.0130810\ttest: 0.0249628\tbest: 0.0249628 (158)\ttotal: 993ms\tremaining: 99.9ms\n",
            "159:\tlearn: 0.0130224\ttest: 0.0250057\tbest: 0.0249628 (158)\ttotal: 999ms\tremaining: 93.7ms\n",
            "160:\tlearn: 0.0128632\ttest: 0.0249062\tbest: 0.0249062 (160)\ttotal: 1.01s\tremaining: 88.1ms\n",
            "161:\tlearn: 0.0127891\ttest: 0.0248195\tbest: 0.0248195 (161)\ttotal: 1.02s\tremaining: 81.9ms\n",
            "162:\tlearn: 0.0127024\ttest: 0.0247891\tbest: 0.0247891 (162)\ttotal: 1.03s\tremaining: 75.6ms\n",
            "163:\tlearn: 0.0125816\ttest: 0.0248067\tbest: 0.0247891 (162)\ttotal: 1.03s\tremaining: 69.2ms\n",
            "164:\tlearn: 0.0125229\ttest: 0.0248012\tbest: 0.0247891 (162)\ttotal: 1.04s\tremaining: 62.9ms\n",
            "165:\tlearn: 0.0123847\ttest: 0.0247827\tbest: 0.0247827 (165)\ttotal: 1.04s\tremaining: 56.6ms\n",
            "166:\tlearn: 0.0121778\ttest: 0.0246867\tbest: 0.0246867 (166)\ttotal: 1.05s\tremaining: 50.3ms\n",
            "167:\tlearn: 0.0120728\ttest: 0.0246138\tbest: 0.0246138 (167)\ttotal: 1.06s\tremaining: 44ms\n",
            "168:\tlearn: 0.0120179\ttest: 0.0245401\tbest: 0.0245401 (168)\ttotal: 1.06s\tremaining: 37.7ms\n",
            "169:\tlearn: 0.0118432\ttest: 0.0241527\tbest: 0.0241527 (169)\ttotal: 1.07s\tremaining: 31.4ms\n",
            "170:\tlearn: 0.0118068\ttest: 0.0241338\tbest: 0.0241338 (170)\ttotal: 1.07s\tremaining: 25.1ms\n",
            "171:\tlearn: 0.0117878\ttest: 0.0241322\tbest: 0.0241322 (171)\ttotal: 1.08s\tremaining: 18.8ms\n",
            "172:\tlearn: 0.0117227\ttest: 0.0242227\tbest: 0.0241322 (171)\ttotal: 1.08s\tremaining: 12.6ms\n",
            "173:\tlearn: 0.0116294\ttest: 0.0242418\tbest: 0.0241322 (171)\ttotal: 1.09s\tremaining: 6.28ms\n",
            "174:\tlearn: 0.0115782\ttest: 0.0242419\tbest: 0.0241322 (171)\ttotal: 1.1s\tremaining: 0us\n",
            "\n",
            "bestTest = 0.02413216415\n",
            "bestIteration = 171\n",
            "\n",
            "0:\tlearn: 0.2247525\ttest: 0.2341227\tbest: 0.2341227 (0)\ttotal: 6.21ms\tremaining: 1.08s\n",
            "1:\tlearn: 0.1205391\ttest: 0.1250819\tbest: 0.1250819 (1)\ttotal: 12.2ms\tremaining: 1.06s\n",
            "2:\tlearn: 0.0885656\ttest: 0.0920716\tbest: 0.0920716 (2)\ttotal: 18.3ms\tremaining: 1.05s\n",
            "3:\tlearn: 0.0741112\ttest: 0.0787052\tbest: 0.0787052 (3)\ttotal: 24.4ms\tremaining: 1.04s\n",
            "4:\tlearn: 0.0599571\ttest: 0.0633000\tbest: 0.0633000 (4)\ttotal: 30.3ms\tremaining: 1.03s\n",
            "5:\tlearn: 0.0520945\ttest: 0.0538199\tbest: 0.0538199 (5)\ttotal: 36.5ms\tremaining: 1.03s\n",
            "6:\tlearn: 0.0491288\ttest: 0.0506307\tbest: 0.0506307 (6)\ttotal: 44.4ms\tremaining: 1.06s\n",
            "7:\tlearn: 0.0450049\ttest: 0.0469371\tbest: 0.0469371 (7)\ttotal: 50.5ms\tremaining: 1.05s\n",
            "8:\tlearn: 0.0422508\ttest: 0.0444101\tbest: 0.0444101 (8)\ttotal: 56.7ms\tremaining: 1.04s\n",
            "9:\tlearn: 0.0415259\ttest: 0.0436668\tbest: 0.0436668 (9)\ttotal: 62.8ms\tremaining: 1.03s\n",
            "10:\tlearn: 0.0394610\ttest: 0.0414072\tbest: 0.0414072 (10)\ttotal: 68.6ms\tremaining: 1.02s\n",
            "11:\tlearn: 0.0391217\ttest: 0.0414281\tbest: 0.0414072 (10)\ttotal: 74.5ms\tremaining: 1.01s\n",
            "12:\tlearn: 0.0382968\ttest: 0.0401017\tbest: 0.0401017 (12)\ttotal: 80.7ms\tremaining: 1.01s\n",
            "13:\tlearn: 0.0374455\ttest: 0.0399336\tbest: 0.0399336 (13)\ttotal: 87ms\tremaining: 1s\n",
            "14:\tlearn: 0.0357505\ttest: 0.0387946\tbest: 0.0387946 (14)\ttotal: 92.9ms\tremaining: 991ms\n",
            "15:\tlearn: 0.0347561\ttest: 0.0383509\tbest: 0.0383509 (15)\ttotal: 98.8ms\tremaining: 982ms\n",
            "16:\tlearn: 0.0342006\ttest: 0.0380413\tbest: 0.0380413 (16)\ttotal: 105ms\tremaining: 972ms\n",
            "17:\tlearn: 0.0336013\ttest: 0.0377320\tbest: 0.0377320 (17)\ttotal: 111ms\tremaining: 972ms\n",
            "18:\tlearn: 0.0313416\ttest: 0.0357067\tbest: 0.0357067 (18)\ttotal: 120ms\tremaining: 988ms\n",
            "19:\tlearn: 0.0305619\ttest: 0.0353197\tbest: 0.0353197 (19)\ttotal: 126ms\tremaining: 979ms\n",
            "20:\tlearn: 0.0286138\ttest: 0.0332686\tbest: 0.0332686 (20)\ttotal: 132ms\tremaining: 971ms\n",
            "21:\tlearn: 0.0283873\ttest: 0.0335393\tbest: 0.0332686 (20)\ttotal: 138ms\tremaining: 961ms\n",
            "22:\tlearn: 0.0283249\ttest: 0.0337336\tbest: 0.0332686 (20)\ttotal: 142ms\tremaining: 942ms\n",
            "23:\tlearn: 0.0280563\ttest: 0.0339300\tbest: 0.0332686 (20)\ttotal: 153ms\tremaining: 965ms\n",
            "24:\tlearn: 0.0279944\ttest: 0.0339631\tbest: 0.0332686 (20)\ttotal: 159ms\tremaining: 954ms\n",
            "25:\tlearn: 0.0262062\ttest: 0.0328443\tbest: 0.0328443 (25)\ttotal: 165ms\tremaining: 945ms\n",
            "26:\tlearn: 0.0256902\ttest: 0.0322242\tbest: 0.0322242 (26)\ttotal: 171ms\tremaining: 937ms\n",
            "27:\tlearn: 0.0254010\ttest: 0.0321871\tbest: 0.0321871 (27)\ttotal: 177ms\tremaining: 928ms\n",
            "28:\tlearn: 0.0251400\ttest: 0.0323545\tbest: 0.0321871 (27)\ttotal: 182ms\tremaining: 918ms\n",
            "29:\tlearn: 0.0242913\ttest: 0.0320257\tbest: 0.0320257 (29)\ttotal: 188ms\tremaining: 910ms\n",
            "30:\tlearn: 0.0240808\ttest: 0.0320038\tbest: 0.0320038 (30)\ttotal: 195ms\tremaining: 904ms\n",
            "31:\tlearn: 0.0240211\ttest: 0.0321453\tbest: 0.0320038 (30)\ttotal: 200ms\tremaining: 895ms\n",
            "32:\tlearn: 0.0232467\ttest: 0.0325075\tbest: 0.0320038 (30)\ttotal: 206ms\tremaining: 887ms\n",
            "33:\tlearn: 0.0231217\ttest: 0.0324926\tbest: 0.0320038 (30)\ttotal: 212ms\tremaining: 880ms\n",
            "34:\tlearn: 0.0227138\ttest: 0.0326511\tbest: 0.0320038 (30)\ttotal: 224ms\tremaining: 895ms\n",
            "35:\tlearn: 0.0224184\ttest: 0.0321787\tbest: 0.0320038 (30)\ttotal: 230ms\tremaining: 888ms\n",
            "36:\tlearn: 0.0217832\ttest: 0.0327751\tbest: 0.0320038 (30)\ttotal: 236ms\tremaining: 880ms\n",
            "37:\tlearn: 0.0217832\ttest: 0.0327751\tbest: 0.0320038 (30)\ttotal: 241ms\tremaining: 870ms\n",
            "38:\tlearn: 0.0215298\ttest: 0.0324989\tbest: 0.0320038 (30)\ttotal: 248ms\tremaining: 863ms\n",
            "39:\tlearn: 0.0214416\ttest: 0.0323428\tbest: 0.0320038 (30)\ttotal: 253ms\tremaining: 855ms\n",
            "40:\tlearn: 0.0214415\ttest: 0.0323429\tbest: 0.0320038 (30)\ttotal: 258ms\tremaining: 845ms\n",
            "41:\tlearn: 0.0210804\ttest: 0.0321455\tbest: 0.0320038 (30)\ttotal: 264ms\tremaining: 837ms\n",
            "42:\tlearn: 0.0209810\ttest: 0.0321208\tbest: 0.0320038 (30)\ttotal: 270ms\tremaining: 829ms\n",
            "43:\tlearn: 0.0201271\ttest: 0.0320879\tbest: 0.0320038 (30)\ttotal: 276ms\tremaining: 822ms\n",
            "44:\tlearn: 0.0198410\ttest: 0.0318462\tbest: 0.0318462 (44)\ttotal: 282ms\tremaining: 814ms\n",
            "45:\tlearn: 0.0198409\ttest: 0.0318468\tbest: 0.0318462 (44)\ttotal: 287ms\tremaining: 805ms\n",
            "46:\tlearn: 0.0196376\ttest: 0.0316239\tbest: 0.0316239 (46)\ttotal: 293ms\tremaining: 798ms\n",
            "47:\tlearn: 0.0194137\ttest: 0.0318954\tbest: 0.0316239 (46)\ttotal: 299ms\tremaining: 791ms\n",
            "48:\tlearn: 0.0179661\ttest: 0.0305861\tbest: 0.0305861 (48)\ttotal: 306ms\tremaining: 788ms\n",
            "49:\tlearn: 0.0171614\ttest: 0.0296024\tbest: 0.0296024 (49)\ttotal: 319ms\tremaining: 798ms\n",
            "50:\tlearn: 0.0170719\ttest: 0.0295550\tbest: 0.0295550 (50)\ttotal: 326ms\tremaining: 791ms\n",
            "51:\tlearn: 0.0167027\ttest: 0.0294389\tbest: 0.0294389 (51)\ttotal: 332ms\tremaining: 785ms\n",
            "52:\tlearn: 0.0160082\ttest: 0.0284254\tbest: 0.0284254 (52)\ttotal: 338ms\tremaining: 778ms\n",
            "53:\tlearn: 0.0159065\ttest: 0.0281941\tbest: 0.0281941 (53)\ttotal: 344ms\tremaining: 770ms\n",
            "54:\tlearn: 0.0157186\ttest: 0.0279873\tbest: 0.0279873 (54)\ttotal: 350ms\tremaining: 763ms\n",
            "55:\tlearn: 0.0149518\ttest: 0.0281300\tbest: 0.0279873 (54)\ttotal: 356ms\tremaining: 756ms\n",
            "56:\tlearn: 0.0147466\ttest: 0.0280659\tbest: 0.0279873 (54)\ttotal: 361ms\tremaining: 748ms\n",
            "57:\tlearn: 0.0137889\ttest: 0.0265518\tbest: 0.0265518 (57)\ttotal: 367ms\tremaining: 741ms\n",
            "58:\tlearn: 0.0136810\ttest: 0.0268362\tbest: 0.0265518 (57)\ttotal: 373ms\tremaining: 733ms\n",
            "59:\tlearn: 0.0136810\ttest: 0.0268361\tbest: 0.0265518 (57)\ttotal: 378ms\tremaining: 725ms\n",
            "60:\tlearn: 0.0132756\ttest: 0.0267105\tbest: 0.0265518 (57)\ttotal: 385ms\tremaining: 719ms\n",
            "61:\tlearn: 0.0131241\ttest: 0.0264538\tbest: 0.0264538 (61)\ttotal: 390ms\tremaining: 711ms\n",
            "62:\tlearn: 0.0127835\ttest: 0.0262520\tbest: 0.0262520 (62)\ttotal: 397ms\tremaining: 705ms\n",
            "63:\tlearn: 0.0126061\ttest: 0.0265741\tbest: 0.0262520 (62)\ttotal: 403ms\tremaining: 699ms\n",
            "64:\tlearn: 0.0118904\ttest: 0.0269009\tbest: 0.0262520 (62)\ttotal: 409ms\tremaining: 693ms\n",
            "65:\tlearn: 0.0112920\ttest: 0.0267971\tbest: 0.0262520 (62)\ttotal: 415ms\tremaining: 686ms\n",
            "66:\tlearn: 0.0112035\ttest: 0.0268533\tbest: 0.0262520 (62)\ttotal: 421ms\tremaining: 679ms\n",
            "67:\tlearn: 0.0109635\ttest: 0.0265188\tbest: 0.0262520 (62)\ttotal: 427ms\tremaining: 672ms\n",
            "68:\tlearn: 0.0103972\ttest: 0.0260720\tbest: 0.0260720 (68)\ttotal: 433ms\tremaining: 666ms\n",
            "69:\tlearn: 0.0103125\ttest: 0.0262282\tbest: 0.0260720 (68)\ttotal: 439ms\tremaining: 658ms\n",
            "70:\tlearn: 0.0102518\ttest: 0.0262012\tbest: 0.0260720 (68)\ttotal: 444ms\tremaining: 651ms\n",
            "71:\tlearn: 0.0100996\ttest: 0.0260509\tbest: 0.0260509 (71)\ttotal: 450ms\tremaining: 644ms\n",
            "72:\tlearn: 0.0100356\ttest: 0.0260594\tbest: 0.0260509 (71)\ttotal: 456ms\tremaining: 637ms\n",
            "73:\tlearn: 0.0099115\ttest: 0.0261994\tbest: 0.0260509 (71)\ttotal: 462ms\tremaining: 630ms\n",
            "74:\tlearn: 0.0096174\ttest: 0.0261493\tbest: 0.0260509 (71)\ttotal: 468ms\tremaining: 624ms\n",
            "75:\tlearn: 0.0096172\ttest: 0.0261492\tbest: 0.0260509 (71)\ttotal: 474ms\tremaining: 617ms\n",
            "76:\tlearn: 0.0092778\ttest: 0.0256324\tbest: 0.0256324 (76)\ttotal: 480ms\tremaining: 611ms\n",
            "77:\tlearn: 0.0086545\ttest: 0.0256148\tbest: 0.0256148 (77)\ttotal: 489ms\tremaining: 608ms\n",
            "78:\tlearn: 0.0083174\ttest: 0.0252534\tbest: 0.0252534 (78)\ttotal: 495ms\tremaining: 602ms\n",
            "79:\tlearn: 0.0081308\ttest: 0.0250341\tbest: 0.0250341 (79)\ttotal: 501ms\tremaining: 595ms\n",
            "80:\tlearn: 0.0080682\ttest: 0.0250546\tbest: 0.0250341 (79)\ttotal: 507ms\tremaining: 589ms\n",
            "81:\tlearn: 0.0080681\ttest: 0.0250547\tbest: 0.0250341 (79)\ttotal: 513ms\tremaining: 581ms\n",
            "82:\tlearn: 0.0080679\ttest: 0.0250560\tbest: 0.0250341 (79)\ttotal: 525ms\tremaining: 582ms\n",
            "83:\tlearn: 0.0080679\ttest: 0.0250560\tbest: 0.0250341 (79)\ttotal: 532ms\tremaining: 576ms\n",
            "84:\tlearn: 0.0080678\ttest: 0.0250563\tbest: 0.0250341 (79)\ttotal: 537ms\tremaining: 569ms\n",
            "85:\tlearn: 0.0077691\ttest: 0.0248387\tbest: 0.0248387 (85)\ttotal: 543ms\tremaining: 562ms\n",
            "86:\tlearn: 0.0074729\ttest: 0.0245434\tbest: 0.0245434 (86)\ttotal: 549ms\tremaining: 556ms\n",
            "87:\tlearn: 0.0074729\ttest: 0.0245433\tbest: 0.0245433 (87)\ttotal: 555ms\tremaining: 548ms\n",
            "88:\tlearn: 0.0074728\ttest: 0.0245438\tbest: 0.0245433 (87)\ttotal: 560ms\tremaining: 541ms\n",
            "89:\tlearn: 0.0073955\ttest: 0.0245049\tbest: 0.0245049 (89)\ttotal: 566ms\tremaining: 535ms\n",
            "90:\tlearn: 0.0073953\ttest: 0.0245044\tbest: 0.0245044 (90)\ttotal: 572ms\tremaining: 528ms\n",
            "91:\tlearn: 0.0072627\ttest: 0.0245867\tbest: 0.0245044 (90)\ttotal: 578ms\tremaining: 521ms\n",
            "92:\tlearn: 0.0072627\ttest: 0.0245867\tbest: 0.0245044 (90)\ttotal: 583ms\tremaining: 514ms\n",
            "93:\tlearn: 0.0071712\ttest: 0.0246228\tbest: 0.0245044 (90)\ttotal: 589ms\tremaining: 507ms\n",
            "94:\tlearn: 0.0071258\ttest: 0.0248538\tbest: 0.0245044 (90)\ttotal: 595ms\tremaining: 501ms\n",
            "95:\tlearn: 0.0071257\ttest: 0.0248539\tbest: 0.0245044 (90)\ttotal: 601ms\tremaining: 494ms\n",
            "96:\tlearn: 0.0069973\ttest: 0.0248598\tbest: 0.0245044 (90)\ttotal: 607ms\tremaining: 488ms\n",
            "97:\tlearn: 0.0067664\ttest: 0.0249052\tbest: 0.0245044 (90)\ttotal: 613ms\tremaining: 481ms\n",
            "98:\tlearn: 0.0065628\ttest: 0.0251942\tbest: 0.0245044 (90)\ttotal: 618ms\tremaining: 475ms\n",
            "99:\tlearn: 0.0064303\ttest: 0.0251677\tbest: 0.0245044 (90)\ttotal: 624ms\tremaining: 468ms\n",
            "100:\tlearn: 0.0062640\ttest: 0.0245825\tbest: 0.0245044 (90)\ttotal: 630ms\tremaining: 461ms\n",
            "101:\tlearn: 0.0062177\ttest: 0.0244479\tbest: 0.0244479 (101)\ttotal: 635ms\tremaining: 455ms\n",
            "102:\tlearn: 0.0062174\ttest: 0.0244476\tbest: 0.0244476 (102)\ttotal: 640ms\tremaining: 447ms\n",
            "103:\tlearn: 0.0060754\ttest: 0.0241006\tbest: 0.0241006 (103)\ttotal: 646ms\tremaining: 441ms\n",
            "104:\tlearn: 0.0059824\ttest: 0.0241242\tbest: 0.0241006 (103)\ttotal: 652ms\tremaining: 435ms\n",
            "105:\tlearn: 0.0059168\ttest: 0.0243856\tbest: 0.0241006 (103)\ttotal: 658ms\tremaining: 428ms\n",
            "106:\tlearn: 0.0058208\ttest: 0.0240938\tbest: 0.0240938 (106)\ttotal: 664ms\tremaining: 422ms\n",
            "107:\tlearn: 0.0057314\ttest: 0.0239662\tbest: 0.0239662 (107)\ttotal: 670ms\tremaining: 416ms\n",
            "108:\tlearn: 0.0057310\ttest: 0.0239674\tbest: 0.0239662 (107)\ttotal: 675ms\tremaining: 409ms\n",
            "109:\tlearn: 0.0057309\ttest: 0.0239675\tbest: 0.0239662 (107)\ttotal: 680ms\tremaining: 402ms\n",
            "110:\tlearn: 0.0055886\ttest: 0.0235966\tbest: 0.0235966 (110)\ttotal: 686ms\tremaining: 396ms\n",
            "111:\tlearn: 0.0055886\ttest: 0.0235967\tbest: 0.0235966 (110)\ttotal: 691ms\tremaining: 389ms\n",
            "112:\tlearn: 0.0055883\ttest: 0.0235963\tbest: 0.0235963 (112)\ttotal: 696ms\tremaining: 382ms\n",
            "113:\tlearn: 0.0054489\ttest: 0.0236129\tbest: 0.0235963 (112)\ttotal: 702ms\tremaining: 376ms\n",
            "114:\tlearn: 0.0054488\ttest: 0.0236136\tbest: 0.0235963 (112)\ttotal: 707ms\tremaining: 369ms\n",
            "115:\tlearn: 0.0053033\ttest: 0.0237250\tbest: 0.0235963 (112)\ttotal: 713ms\tremaining: 363ms\n",
            "116:\tlearn: 0.0053032\ttest: 0.0237251\tbest: 0.0235963 (112)\ttotal: 725ms\tremaining: 360ms\n",
            "117:\tlearn: 0.0053031\ttest: 0.0237248\tbest: 0.0235963 (112)\ttotal: 734ms\tremaining: 354ms\n",
            "118:\tlearn: 0.0053031\ttest: 0.0237250\tbest: 0.0235963 (112)\ttotal: 739ms\tremaining: 348ms\n",
            "119:\tlearn: 0.0052031\ttest: 0.0237854\tbest: 0.0235963 (112)\ttotal: 745ms\tremaining: 342ms\n",
            "120:\tlearn: 0.0052030\ttest: 0.0237855\tbest: 0.0235963 (112)\ttotal: 751ms\tremaining: 335ms\n",
            "121:\tlearn: 0.0052030\ttest: 0.0237856\tbest: 0.0235963 (112)\ttotal: 756ms\tremaining: 328ms\n",
            "122:\tlearn: 0.0052029\ttest: 0.0237861\tbest: 0.0235963 (112)\ttotal: 761ms\tremaining: 322ms\n",
            "123:\tlearn: 0.0052028\ttest: 0.0237861\tbest: 0.0235963 (112)\ttotal: 766ms\tremaining: 315ms\n",
            "124:\tlearn: 0.0052028\ttest: 0.0237861\tbest: 0.0235963 (112)\ttotal: 772ms\tremaining: 309ms\n",
            "125:\tlearn: 0.0052027\ttest: 0.0237861\tbest: 0.0235963 (112)\ttotal: 777ms\tremaining: 302ms\n",
            "126:\tlearn: 0.0052027\ttest: 0.0237861\tbest: 0.0235963 (112)\ttotal: 782ms\tremaining: 296ms\n",
            "127:\tlearn: 0.0052026\ttest: 0.0237862\tbest: 0.0235963 (112)\ttotal: 788ms\tremaining: 289ms\n",
            "128:\tlearn: 0.0052024\ttest: 0.0237874\tbest: 0.0235963 (112)\ttotal: 793ms\tremaining: 283ms\n",
            "129:\tlearn: 0.0052024\ttest: 0.0237875\tbest: 0.0235963 (112)\ttotal: 798ms\tremaining: 276ms\n",
            "130:\tlearn: 0.0052023\ttest: 0.0237876\tbest: 0.0235963 (112)\ttotal: 804ms\tremaining: 270ms\n",
            "131:\tlearn: 0.0052021\ttest: 0.0237877\tbest: 0.0235963 (112)\ttotal: 812ms\tremaining: 264ms\n",
            "132:\tlearn: 0.0052021\ttest: 0.0237877\tbest: 0.0235963 (112)\ttotal: 817ms\tremaining: 258ms\n",
            "133:\tlearn: 0.0052021\ttest: 0.0237878\tbest: 0.0235963 (112)\ttotal: 822ms\tremaining: 252ms\n",
            "134:\tlearn: 0.0052019\ttest: 0.0237881\tbest: 0.0235963 (112)\ttotal: 828ms\tremaining: 245ms\n",
            "135:\tlearn: 0.0052016\ttest: 0.0237895\tbest: 0.0235963 (112)\ttotal: 833ms\tremaining: 239ms\n",
            "136:\tlearn: 0.0051904\ttest: 0.0238327\tbest: 0.0235963 (112)\ttotal: 839ms\tremaining: 233ms\n",
            "137:\tlearn: 0.0051904\ttest: 0.0238328\tbest: 0.0235963 (112)\ttotal: 844ms\tremaining: 226ms\n",
            "138:\tlearn: 0.0051903\ttest: 0.0238327\tbest: 0.0235963 (112)\ttotal: 849ms\tremaining: 220ms\n",
            "139:\tlearn: 0.0051903\ttest: 0.0238329\tbest: 0.0235963 (112)\ttotal: 855ms\tremaining: 214ms\n",
            "140:\tlearn: 0.0051902\ttest: 0.0238333\tbest: 0.0235963 (112)\ttotal: 860ms\tremaining: 207ms\n",
            "141:\tlearn: 0.0051902\ttest: 0.0238335\tbest: 0.0235963 (112)\ttotal: 865ms\tremaining: 201ms\n",
            "142:\tlearn: 0.0051901\ttest: 0.0238336\tbest: 0.0235963 (112)\ttotal: 871ms\tremaining: 195ms\n",
            "143:\tlearn: 0.0051901\ttest: 0.0238335\tbest: 0.0235963 (112)\ttotal: 876ms\tremaining: 189ms\n",
            "144:\tlearn: 0.0051901\ttest: 0.0238336\tbest: 0.0235963 (112)\ttotal: 881ms\tremaining: 182ms\n",
            "145:\tlearn: 0.0051900\ttest: 0.0238336\tbest: 0.0235963 (112)\ttotal: 886ms\tremaining: 176ms\n",
            "146:\tlearn: 0.0051900\ttest: 0.0238338\tbest: 0.0235963 (112)\ttotal: 892ms\tremaining: 170ms\n",
            "147:\tlearn: 0.0051896\ttest: 0.0238341\tbest: 0.0235963 (112)\ttotal: 897ms\tremaining: 164ms\n",
            "148:\tlearn: 0.0051895\ttest: 0.0238342\tbest: 0.0235963 (112)\ttotal: 903ms\tremaining: 158ms\n",
            "149:\tlearn: 0.0051895\ttest: 0.0238343\tbest: 0.0235963 (112)\ttotal: 908ms\tremaining: 151ms\n",
            "150:\tlearn: 0.0051894\ttest: 0.0238343\tbest: 0.0235963 (112)\ttotal: 913ms\tremaining: 145ms\n",
            "151:\tlearn: 0.0051894\ttest: 0.0238343\tbest: 0.0235963 (112)\ttotal: 922ms\tremaining: 140ms\n",
            "152:\tlearn: 0.0051894\ttest: 0.0238343\tbest: 0.0235963 (112)\ttotal: 931ms\tremaining: 134ms\n",
            "153:\tlearn: 0.0051893\ttest: 0.0238344\tbest: 0.0235963 (112)\ttotal: 937ms\tremaining: 128ms\n",
            "154:\tlearn: 0.0051893\ttest: 0.0238344\tbest: 0.0235963 (112)\ttotal: 942ms\tremaining: 122ms\n",
            "155:\tlearn: 0.0051893\ttest: 0.0238344\tbest: 0.0235963 (112)\ttotal: 947ms\tremaining: 115ms\n",
            "156:\tlearn: 0.0051893\ttest: 0.0238344\tbest: 0.0235963 (112)\ttotal: 952ms\tremaining: 109ms\n",
            "157:\tlearn: 0.0051890\ttest: 0.0238344\tbest: 0.0235963 (112)\ttotal: 958ms\tremaining: 103ms\n",
            "158:\tlearn: 0.0051882\ttest: 0.0238347\tbest: 0.0235963 (112)\ttotal: 965ms\tremaining: 97.1ms\n",
            "159:\tlearn: 0.0051882\ttest: 0.0238346\tbest: 0.0235963 (112)\ttotal: 970ms\tremaining: 90.9ms\n",
            "160:\tlearn: 0.0050696\ttest: 0.0234109\tbest: 0.0234109 (160)\ttotal: 976ms\tremaining: 84.9ms\n",
            "161:\tlearn: 0.0050696\ttest: 0.0234109\tbest: 0.0234109 (161)\ttotal: 981ms\tremaining: 78.7ms\n",
            "162:\tlearn: 0.0050693\ttest: 0.0234109\tbest: 0.0234109 (161)\ttotal: 986ms\tremaining: 72.6ms\n",
            "163:\tlearn: 0.0050693\ttest: 0.0234109\tbest: 0.0234109 (161)\ttotal: 992ms\tremaining: 66.5ms\n",
            "164:\tlearn: 0.0048640\ttest: 0.0228243\tbest: 0.0228243 (164)\ttotal: 998ms\tremaining: 60.5ms\n",
            "165:\tlearn: 0.0048640\ttest: 0.0228243\tbest: 0.0228243 (164)\ttotal: 1s\tremaining: 54.4ms\n",
            "166:\tlearn: 0.0047934\ttest: 0.0225462\tbest: 0.0225462 (166)\ttotal: 1.01s\tremaining: 48.3ms\n",
            "167:\tlearn: 0.0047934\ttest: 0.0225459\tbest: 0.0225459 (167)\ttotal: 1.01s\tremaining: 42.2ms\n",
            "168:\tlearn: 0.0047931\ttest: 0.0225469\tbest: 0.0225459 (167)\ttotal: 1.02s\tremaining: 36.2ms\n",
            "169:\tlearn: 0.0047930\ttest: 0.0225473\tbest: 0.0225459 (167)\ttotal: 1.02s\tremaining: 30.1ms\n",
            "170:\tlearn: 0.0047930\ttest: 0.0225474\tbest: 0.0225459 (167)\ttotal: 1.03s\tremaining: 24.1ms\n",
            "171:\tlearn: 0.0047929\ttest: 0.0225473\tbest: 0.0225459 (167)\ttotal: 1.03s\tremaining: 18ms\n",
            "172:\tlearn: 0.0047929\ttest: 0.0225472\tbest: 0.0225459 (167)\ttotal: 1.04s\tremaining: 12ms\n",
            "173:\tlearn: 0.0047929\ttest: 0.0225474\tbest: 0.0225459 (167)\ttotal: 1.04s\tremaining: 6.01ms\n",
            "174:\tlearn: 0.0047928\ttest: 0.0225475\tbest: 0.0225459 (167)\ttotal: 1.05s\tremaining: 0us\n",
            "\n",
            "bestTest = 0.02254592075\n",
            "bestIteration = 167\n",
            "\n",
            "0:\tlearn: 0.2009347\ttest: 0.2098086\tbest: 0.2098086 (0)\ttotal: 6.29ms\tremaining: 1.09s\n",
            "1:\tlearn: 0.1063472\ttest: 0.1125342\tbest: 0.1125342 (1)\ttotal: 12.3ms\tremaining: 1.06s\n",
            "2:\tlearn: 0.0804547\ttest: 0.0861277\tbest: 0.0861277 (2)\ttotal: 18.4ms\tremaining: 1.06s\n",
            "3:\tlearn: 0.0653984\ttest: 0.0709403\tbest: 0.0709403 (3)\ttotal: 24.7ms\tremaining: 1.06s\n",
            "4:\tlearn: 0.0558385\ttest: 0.0600261\tbest: 0.0600261 (4)\ttotal: 30.8ms\tremaining: 1.05s\n",
            "5:\tlearn: 0.0525744\ttest: 0.0558564\tbest: 0.0558564 (5)\ttotal: 36.9ms\tremaining: 1.04s\n",
            "6:\tlearn: 0.0493672\ttest: 0.0517922\tbest: 0.0517922 (6)\ttotal: 43ms\tremaining: 1.03s\n",
            "7:\tlearn: 0.0460235\ttest: 0.0473982\tbest: 0.0473982 (7)\ttotal: 49.2ms\tremaining: 1.03s\n",
            "8:\tlearn: 0.0441232\ttest: 0.0457132\tbest: 0.0457132 (8)\ttotal: 55ms\tremaining: 1.01s\n",
            "9:\tlearn: 0.0408244\ttest: 0.0429536\tbest: 0.0429536 (9)\ttotal: 60.9ms\tremaining: 1s\n",
            "10:\tlearn: 0.0380213\ttest: 0.0404903\tbest: 0.0404903 (10)\ttotal: 67.6ms\tremaining: 1.01s\n",
            "11:\tlearn: 0.0376020\ttest: 0.0395472\tbest: 0.0395472 (11)\ttotal: 77.6ms\tremaining: 1.05s\n",
            "12:\tlearn: 0.0371736\ttest: 0.0395225\tbest: 0.0395225 (12)\ttotal: 85.9ms\tremaining: 1.07s\n",
            "13:\tlearn: 0.0369296\ttest: 0.0394311\tbest: 0.0394311 (13)\ttotal: 93.9ms\tremaining: 1.08s\n",
            "14:\tlearn: 0.0368044\ttest: 0.0395077\tbest: 0.0394311 (13)\ttotal: 99.8ms\tremaining: 1.06s\n",
            "15:\tlearn: 0.0343857\ttest: 0.0374640\tbest: 0.0374640 (15)\ttotal: 106ms\tremaining: 1.05s\n",
            "16:\tlearn: 0.0330388\ttest: 0.0368269\tbest: 0.0368269 (16)\ttotal: 112ms\tremaining: 1.04s\n",
            "17:\tlearn: 0.0329740\ttest: 0.0368545\tbest: 0.0368269 (16)\ttotal: 118ms\tremaining: 1.02s\n",
            "18:\tlearn: 0.0328631\ttest: 0.0368219\tbest: 0.0368219 (18)\ttotal: 124ms\tremaining: 1.01s\n",
            "19:\tlearn: 0.0319500\ttest: 0.0358109\tbest: 0.0358109 (19)\ttotal: 130ms\tremaining: 1s\n",
            "20:\tlearn: 0.0306359\ttest: 0.0339009\tbest: 0.0339009 (20)\ttotal: 136ms\tremaining: 996ms\n",
            "21:\tlearn: 0.0300158\ttest: 0.0336741\tbest: 0.0336741 (21)\ttotal: 142ms\tremaining: 985ms\n",
            "22:\tlearn: 0.0298460\ttest: 0.0334930\tbest: 0.0334930 (22)\ttotal: 148ms\tremaining: 976ms\n",
            "23:\tlearn: 0.0296095\ttest: 0.0332655\tbest: 0.0332655 (23)\ttotal: 154ms\tremaining: 968ms\n",
            "24:\tlearn: 0.0296086\ttest: 0.0332681\tbest: 0.0332655 (23)\ttotal: 158ms\tremaining: 949ms\n",
            "25:\tlearn: 0.0293799\ttest: 0.0331411\tbest: 0.0331411 (25)\ttotal: 164ms\tremaining: 941ms\n",
            "26:\tlearn: 0.0293789\ttest: 0.0331416\tbest: 0.0331411 (25)\ttotal: 170ms\tremaining: 931ms\n",
            "27:\tlearn: 0.0272543\ttest: 0.0314798\tbest: 0.0314798 (27)\ttotal: 176ms\tremaining: 923ms\n",
            "28:\tlearn: 0.0271200\ttest: 0.0314606\tbest: 0.0314606 (28)\ttotal: 182ms\tremaining: 916ms\n",
            "29:\tlearn: 0.0265031\ttest: 0.0310901\tbest: 0.0310901 (29)\ttotal: 188ms\tremaining: 909ms\n",
            "30:\tlearn: 0.0265029\ttest: 0.0310900\tbest: 0.0310900 (30)\ttotal: 193ms\tremaining: 897ms\n",
            "31:\tlearn: 0.0257362\ttest: 0.0308438\tbest: 0.0308438 (31)\ttotal: 199ms\tremaining: 890ms\n",
            "32:\tlearn: 0.0244862\ttest: 0.0304305\tbest: 0.0304305 (32)\ttotal: 205ms\tremaining: 882ms\n",
            "33:\tlearn: 0.0235330\ttest: 0.0295148\tbest: 0.0295148 (33)\ttotal: 211ms\tremaining: 875ms\n",
            "34:\tlearn: 0.0228082\ttest: 0.0293930\tbest: 0.0293930 (34)\ttotal: 217ms\tremaining: 867ms\n",
            "35:\tlearn: 0.0224209\ttest: 0.0293937\tbest: 0.0293930 (34)\ttotal: 223ms\tremaining: 861ms\n",
            "36:\tlearn: 0.0213559\ttest: 0.0296912\tbest: 0.0293930 (34)\ttotal: 229ms\tremaining: 855ms\n",
            "37:\tlearn: 0.0207814\ttest: 0.0293932\tbest: 0.0293930 (34)\ttotal: 235ms\tremaining: 849ms\n",
            "38:\tlearn: 0.0207571\ttest: 0.0294963\tbest: 0.0293930 (34)\ttotal: 241ms\tremaining: 840ms\n",
            "39:\tlearn: 0.0200860\ttest: 0.0284409\tbest: 0.0284409 (39)\ttotal: 247ms\tremaining: 834ms\n",
            "40:\tlearn: 0.0200599\ttest: 0.0286052\tbest: 0.0284409 (39)\ttotal: 253ms\tremaining: 827ms\n",
            "41:\tlearn: 0.0200259\ttest: 0.0287348\tbest: 0.0284409 (39)\ttotal: 260ms\tremaining: 822ms\n",
            "42:\tlearn: 0.0199397\ttest: 0.0288116\tbest: 0.0284409 (39)\ttotal: 269ms\tremaining: 825ms\n",
            "43:\tlearn: 0.0196862\ttest: 0.0287263\tbest: 0.0284409 (39)\ttotal: 275ms\tremaining: 818ms\n",
            "44:\tlearn: 0.0196861\ttest: 0.0287264\tbest: 0.0284409 (39)\ttotal: 280ms\tremaining: 810ms\n",
            "45:\tlearn: 0.0195383\ttest: 0.0284930\tbest: 0.0284409 (39)\ttotal: 286ms\tremaining: 803ms\n",
            "46:\tlearn: 0.0194631\ttest: 0.0285481\tbest: 0.0284409 (39)\ttotal: 292ms\tremaining: 795ms\n",
            "47:\tlearn: 0.0190294\ttest: 0.0284320\tbest: 0.0284320 (47)\ttotal: 298ms\tremaining: 788ms\n",
            "48:\tlearn: 0.0187196\ttest: 0.0285635\tbest: 0.0284320 (47)\ttotal: 304ms\tremaining: 781ms\n",
            "49:\tlearn: 0.0187194\ttest: 0.0285628\tbest: 0.0284320 (47)\ttotal: 309ms\tremaining: 772ms\n",
            "50:\tlearn: 0.0186210\ttest: 0.0284466\tbest: 0.0284320 (47)\ttotal: 315ms\tremaining: 765ms\n",
            "51:\tlearn: 0.0186205\ttest: 0.0284468\tbest: 0.0284320 (47)\ttotal: 320ms\tremaining: 758ms\n",
            "52:\tlearn: 0.0183954\ttest: 0.0285228\tbest: 0.0284320 (47)\ttotal: 327ms\tremaining: 752ms\n",
            "53:\tlearn: 0.0174113\ttest: 0.0277119\tbest: 0.0277119 (53)\ttotal: 333ms\tremaining: 745ms\n",
            "54:\tlearn: 0.0172144\ttest: 0.0276038\tbest: 0.0276038 (54)\ttotal: 339ms\tremaining: 739ms\n",
            "55:\tlearn: 0.0169480\ttest: 0.0276468\tbest: 0.0276038 (54)\ttotal: 345ms\tremaining: 733ms\n",
            "56:\tlearn: 0.0169478\ttest: 0.0276468\tbest: 0.0276038 (54)\ttotal: 350ms\tremaining: 725ms\n",
            "57:\tlearn: 0.0169478\ttest: 0.0276468\tbest: 0.0276038 (54)\ttotal: 355ms\tremaining: 717ms\n",
            "58:\tlearn: 0.0168988\ttest: 0.0274993\tbest: 0.0274993 (58)\ttotal: 361ms\tremaining: 710ms\n",
            "59:\tlearn: 0.0162636\ttest: 0.0275796\tbest: 0.0274993 (58)\ttotal: 367ms\tremaining: 703ms\n",
            "60:\tlearn: 0.0160776\ttest: 0.0275619\tbest: 0.0274993 (58)\ttotal: 373ms\tremaining: 696ms\n",
            "61:\tlearn: 0.0151085\ttest: 0.0270323\tbest: 0.0270323 (61)\ttotal: 379ms\tremaining: 690ms\n",
            "62:\tlearn: 0.0151085\ttest: 0.0270323\tbest: 0.0270323 (62)\ttotal: 384ms\tremaining: 682ms\n",
            "63:\tlearn: 0.0151083\ttest: 0.0270323\tbest: 0.0270323 (62)\ttotal: 389ms\tremaining: 674ms\n",
            "64:\tlearn: 0.0146461\ttest: 0.0269338\tbest: 0.0269338 (64)\ttotal: 395ms\tremaining: 668ms\n",
            "65:\tlearn: 0.0145422\ttest: 0.0270207\tbest: 0.0269338 (64)\ttotal: 401ms\tremaining: 662ms\n",
            "66:\tlearn: 0.0145422\ttest: 0.0270209\tbest: 0.0269338 (64)\ttotal: 406ms\tremaining: 654ms\n",
            "67:\tlearn: 0.0145421\ttest: 0.0270208\tbest: 0.0269338 (64)\ttotal: 414ms\tremaining: 652ms\n",
            "68:\tlearn: 0.0143562\ttest: 0.0270212\tbest: 0.0269338 (64)\ttotal: 420ms\tremaining: 646ms\n",
            "69:\tlearn: 0.0138463\ttest: 0.0262964\tbest: 0.0262964 (69)\ttotal: 426ms\tremaining: 639ms\n",
            "70:\tlearn: 0.0136138\ttest: 0.0262059\tbest: 0.0262059 (70)\ttotal: 432ms\tremaining: 633ms\n",
            "71:\tlearn: 0.0136136\ttest: 0.0262054\tbest: 0.0262054 (71)\ttotal: 437ms\tremaining: 625ms\n",
            "72:\tlearn: 0.0133393\ttest: 0.0260857\tbest: 0.0260857 (72)\ttotal: 443ms\tremaining: 619ms\n",
            "73:\tlearn: 0.0130838\ttest: 0.0257899\tbest: 0.0257899 (73)\ttotal: 455ms\tremaining: 621ms\n",
            "74:\tlearn: 0.0130836\ttest: 0.0257905\tbest: 0.0257899 (73)\ttotal: 465ms\tremaining: 620ms\n",
            "75:\tlearn: 0.0125132\ttest: 0.0257237\tbest: 0.0257237 (75)\ttotal: 473ms\tremaining: 617ms\n",
            "76:\tlearn: 0.0125128\ttest: 0.0257246\tbest: 0.0257237 (75)\ttotal: 479ms\tremaining: 609ms\n",
            "77:\tlearn: 0.0124740\ttest: 0.0258099\tbest: 0.0257237 (75)\ttotal: 484ms\tremaining: 602ms\n",
            "78:\tlearn: 0.0123870\ttest: 0.0257573\tbest: 0.0257237 (75)\ttotal: 490ms\tremaining: 596ms\n",
            "79:\tlearn: 0.0123869\ttest: 0.0257573\tbest: 0.0257237 (75)\ttotal: 495ms\tremaining: 588ms\n",
            "80:\tlearn: 0.0123865\ttest: 0.0257574\tbest: 0.0257237 (75)\ttotal: 501ms\tremaining: 581ms\n",
            "81:\tlearn: 0.0120498\ttest: 0.0263595\tbest: 0.0257237 (75)\ttotal: 508ms\tremaining: 576ms\n",
            "82:\tlearn: 0.0117852\ttest: 0.0259400\tbest: 0.0257237 (75)\ttotal: 514ms\tremaining: 570ms\n",
            "83:\tlearn: 0.0112453\ttest: 0.0252483\tbest: 0.0252483 (83)\ttotal: 520ms\tremaining: 563ms\n",
            "84:\tlearn: 0.0111884\ttest: 0.0251578\tbest: 0.0251578 (84)\ttotal: 525ms\tremaining: 556ms\n",
            "85:\tlearn: 0.0110537\ttest: 0.0254598\tbest: 0.0251578 (84)\ttotal: 530ms\tremaining: 549ms\n",
            "86:\tlearn: 0.0110534\ttest: 0.0254587\tbest: 0.0251578 (84)\ttotal: 535ms\tremaining: 542ms\n",
            "87:\tlearn: 0.0110533\ttest: 0.0254589\tbest: 0.0251578 (84)\ttotal: 541ms\tremaining: 535ms\n",
            "88:\tlearn: 0.0110531\ttest: 0.0254588\tbest: 0.0251578 (84)\ttotal: 546ms\tremaining: 527ms\n",
            "89:\tlearn: 0.0110530\ttest: 0.0254588\tbest: 0.0251578 (84)\ttotal: 551ms\tremaining: 520ms\n",
            "90:\tlearn: 0.0109287\ttest: 0.0255098\tbest: 0.0251578 (84)\ttotal: 557ms\tremaining: 514ms\n",
            "91:\tlearn: 0.0109287\ttest: 0.0255098\tbest: 0.0251578 (84)\ttotal: 562ms\tremaining: 507ms\n",
            "92:\tlearn: 0.0109287\ttest: 0.0255098\tbest: 0.0251578 (84)\ttotal: 567ms\tremaining: 500ms\n",
            "93:\tlearn: 0.0107786\ttest: 0.0256833\tbest: 0.0251578 (84)\ttotal: 573ms\tremaining: 494ms\n",
            "94:\tlearn: 0.0107785\ttest: 0.0256833\tbest: 0.0251578 (84)\ttotal: 578ms\tremaining: 487ms\n",
            "95:\tlearn: 0.0105004\ttest: 0.0256323\tbest: 0.0251578 (84)\ttotal: 584ms\tremaining: 481ms\n",
            "96:\tlearn: 0.0105003\ttest: 0.0256323\tbest: 0.0251578 (84)\ttotal: 590ms\tremaining: 474ms\n",
            "97:\tlearn: 0.0105002\ttest: 0.0256323\tbest: 0.0251578 (84)\ttotal: 595ms\tremaining: 467ms\n",
            "98:\tlearn: 0.0105001\ttest: 0.0256322\tbest: 0.0251578 (84)\ttotal: 600ms\tremaining: 460ms\n",
            "99:\tlearn: 0.0104036\ttest: 0.0255545\tbest: 0.0251578 (84)\ttotal: 606ms\tremaining: 454ms\n",
            "100:\tlearn: 0.0104035\ttest: 0.0255545\tbest: 0.0251578 (84)\ttotal: 611ms\tremaining: 448ms\n",
            "101:\tlearn: 0.0104034\ttest: 0.0255545\tbest: 0.0251578 (84)\ttotal: 616ms\tremaining: 441ms\n",
            "102:\tlearn: 0.0104033\ttest: 0.0255545\tbest: 0.0251578 (84)\ttotal: 621ms\tremaining: 434ms\n",
            "103:\tlearn: 0.0104032\ttest: 0.0255544\tbest: 0.0251578 (84)\ttotal: 627ms\tremaining: 428ms\n",
            "104:\tlearn: 0.0104031\ttest: 0.0255544\tbest: 0.0251578 (84)\ttotal: 632ms\tremaining: 421ms\n",
            "105:\tlearn: 0.0104031\ttest: 0.0255543\tbest: 0.0251578 (84)\ttotal: 637ms\tremaining: 415ms\n",
            "106:\tlearn: 0.0101063\ttest: 0.0254444\tbest: 0.0251578 (84)\ttotal: 643ms\tremaining: 409ms\n",
            "107:\tlearn: 0.0099513\ttest: 0.0250983\tbest: 0.0250983 (107)\ttotal: 662ms\tremaining: 411ms\n",
            "108:\tlearn: 0.0099499\ttest: 0.0250977\tbest: 0.0250977 (108)\ttotal: 669ms\tremaining: 405ms\n",
            "109:\tlearn: 0.0099499\ttest: 0.0250981\tbest: 0.0250977 (108)\ttotal: 674ms\tremaining: 398ms\n",
            "110:\tlearn: 0.0099498\ttest: 0.0250984\tbest: 0.0250977 (108)\ttotal: 679ms\tremaining: 392ms\n",
            "111:\tlearn: 0.0099495\ttest: 0.0250982\tbest: 0.0250977 (108)\ttotal: 685ms\tremaining: 385ms\n",
            "112:\tlearn: 0.0099494\ttest: 0.0250980\tbest: 0.0250977 (108)\ttotal: 690ms\tremaining: 378ms\n",
            "113:\tlearn: 0.0099491\ttest: 0.0250974\tbest: 0.0250974 (113)\ttotal: 695ms\tremaining: 372ms\n",
            "114:\tlearn: 0.0099491\ttest: 0.0250972\tbest: 0.0250972 (114)\ttotal: 700ms\tremaining: 365ms\n",
            "115:\tlearn: 0.0099321\ttest: 0.0250557\tbest: 0.0250557 (115)\ttotal: 705ms\tremaining: 359ms\n",
            "116:\tlearn: 0.0097189\ttest: 0.0251863\tbest: 0.0250557 (115)\ttotal: 711ms\tremaining: 353ms\n",
            "117:\tlearn: 0.0097189\ttest: 0.0251862\tbest: 0.0250557 (115)\ttotal: 717ms\tremaining: 347ms\n",
            "118:\tlearn: 0.0097187\ttest: 0.0251860\tbest: 0.0250557 (115)\ttotal: 723ms\tremaining: 340ms\n",
            "119:\tlearn: 0.0096082\ttest: 0.0251637\tbest: 0.0250557 (115)\ttotal: 729ms\tremaining: 334ms\n",
            "120:\tlearn: 0.0094188\ttest: 0.0250381\tbest: 0.0250381 (120)\ttotal: 735ms\tremaining: 328ms\n",
            "121:\tlearn: 0.0094186\ttest: 0.0250370\tbest: 0.0250370 (121)\ttotal: 741ms\tremaining: 322ms\n",
            "122:\tlearn: 0.0094186\ttest: 0.0250370\tbest: 0.0250370 (121)\ttotal: 748ms\tremaining: 316ms\n",
            "123:\tlearn: 0.0092305\ttest: 0.0249858\tbest: 0.0249858 (123)\ttotal: 755ms\tremaining: 310ms\n",
            "124:\tlearn: 0.0092305\ttest: 0.0249854\tbest: 0.0249854 (124)\ttotal: 760ms\tremaining: 304ms\n",
            "125:\tlearn: 0.0092303\ttest: 0.0249844\tbest: 0.0249844 (125)\ttotal: 765ms\tremaining: 298ms\n",
            "126:\tlearn: 0.0092302\ttest: 0.0249841\tbest: 0.0249841 (126)\ttotal: 771ms\tremaining: 291ms\n",
            "127:\tlearn: 0.0092302\ttest: 0.0249842\tbest: 0.0249841 (126)\ttotal: 776ms\tremaining: 285ms\n",
            "128:\tlearn: 0.0090997\ttest: 0.0246263\tbest: 0.0246263 (128)\ttotal: 782ms\tremaining: 279ms\n",
            "129:\tlearn: 0.0090995\ttest: 0.0246263\tbest: 0.0246263 (129)\ttotal: 787ms\tremaining: 272ms\n",
            "130:\tlearn: 0.0090994\ttest: 0.0246265\tbest: 0.0246263 (129)\ttotal: 792ms\tremaining: 266ms\n",
            "131:\tlearn: 0.0090414\ttest: 0.0247557\tbest: 0.0246263 (129)\ttotal: 798ms\tremaining: 260ms\n",
            "132:\tlearn: 0.0090412\ttest: 0.0247553\tbest: 0.0246263 (129)\ttotal: 803ms\tremaining: 254ms\n",
            "133:\tlearn: 0.0090412\ttest: 0.0247553\tbest: 0.0246263 (129)\ttotal: 808ms\tremaining: 247ms\n",
            "134:\tlearn: 0.0090410\ttest: 0.0247549\tbest: 0.0246263 (129)\ttotal: 813ms\tremaining: 241ms\n",
            "135:\tlearn: 0.0090408\ttest: 0.0247543\tbest: 0.0246263 (129)\ttotal: 819ms\tremaining: 235ms\n",
            "136:\tlearn: 0.0090389\ttest: 0.0247488\tbest: 0.0246263 (129)\ttotal: 824ms\tremaining: 229ms\n",
            "137:\tlearn: 0.0090389\ttest: 0.0247490\tbest: 0.0246263 (129)\ttotal: 829ms\tremaining: 222ms\n",
            "138:\tlearn: 0.0090387\ttest: 0.0247491\tbest: 0.0246263 (129)\ttotal: 834ms\tremaining: 216ms\n",
            "139:\tlearn: 0.0090199\ttest: 0.0247469\tbest: 0.0246263 (129)\ttotal: 840ms\tremaining: 210ms\n",
            "140:\tlearn: 0.0090199\ttest: 0.0247480\tbest: 0.0246263 (129)\ttotal: 845ms\tremaining: 204ms\n",
            "141:\tlearn: 0.0088933\ttest: 0.0247029\tbest: 0.0246263 (129)\ttotal: 851ms\tremaining: 198ms\n",
            "142:\tlearn: 0.0088932\ttest: 0.0247025\tbest: 0.0246263 (129)\ttotal: 856ms\tremaining: 191ms\n",
            "143:\tlearn: 0.0088931\ttest: 0.0247025\tbest: 0.0246263 (129)\ttotal: 869ms\tremaining: 187ms\n",
            "144:\tlearn: 0.0088930\ttest: 0.0247025\tbest: 0.0246263 (129)\ttotal: 874ms\tremaining: 181ms\n",
            "145:\tlearn: 0.0088930\ttest: 0.0247025\tbest: 0.0246263 (129)\ttotal: 880ms\tremaining: 175ms\n",
            "146:\tlearn: 0.0088930\ttest: 0.0247026\tbest: 0.0246263 (129)\ttotal: 885ms\tremaining: 169ms\n",
            "147:\tlearn: 0.0088929\ttest: 0.0247026\tbest: 0.0246263 (129)\ttotal: 890ms\tremaining: 162ms\n",
            "148:\tlearn: 0.0088927\ttest: 0.0247031\tbest: 0.0246263 (129)\ttotal: 896ms\tremaining: 156ms\n",
            "149:\tlearn: 0.0088053\ttest: 0.0247426\tbest: 0.0246263 (129)\ttotal: 902ms\tremaining: 150ms\n",
            "150:\tlearn: 0.0085374\ttest: 0.0244491\tbest: 0.0244491 (150)\ttotal: 908ms\tremaining: 144ms\n",
            "151:\tlearn: 0.0085373\ttest: 0.0244491\tbest: 0.0244491 (150)\ttotal: 913ms\tremaining: 138ms\n",
            "152:\tlearn: 0.0084433\ttest: 0.0245391\tbest: 0.0244491 (150)\ttotal: 918ms\tremaining: 132ms\n",
            "153:\tlearn: 0.0084432\ttest: 0.0245395\tbest: 0.0244491 (150)\ttotal: 923ms\tremaining: 126ms\n",
            "154:\tlearn: 0.0082794\ttest: 0.0244702\tbest: 0.0244491 (150)\ttotal: 930ms\tremaining: 120ms\n",
            "155:\tlearn: 0.0082794\ttest: 0.0244701\tbest: 0.0244491 (150)\ttotal: 935ms\tremaining: 114ms\n",
            "156:\tlearn: 0.0082578\ttest: 0.0244691\tbest: 0.0244491 (150)\ttotal: 941ms\tremaining: 108ms\n",
            "157:\tlearn: 0.0082578\ttest: 0.0244691\tbest: 0.0244491 (150)\ttotal: 946ms\tremaining: 102ms\n",
            "158:\tlearn: 0.0082409\ttest: 0.0244698\tbest: 0.0244491 (150)\ttotal: 952ms\tremaining: 95.8ms\n",
            "159:\tlearn: 0.0082407\ttest: 0.0244696\tbest: 0.0244491 (150)\ttotal: 957ms\tremaining: 89.7ms\n",
            "160:\tlearn: 0.0082270\ttest: 0.0244709\tbest: 0.0244491 (150)\ttotal: 963ms\tremaining: 83.7ms\n",
            "161:\tlearn: 0.0082266\ttest: 0.0244705\tbest: 0.0244491 (150)\ttotal: 968ms\tremaining: 77.7ms\n",
            "162:\tlearn: 0.0082031\ttest: 0.0244925\tbest: 0.0244491 (150)\ttotal: 973ms\tremaining: 71.6ms\n",
            "163:\tlearn: 0.0082030\ttest: 0.0244925\tbest: 0.0244491 (150)\ttotal: 978ms\tremaining: 65.6ms\n",
            "164:\tlearn: 0.0082030\ttest: 0.0244925\tbest: 0.0244491 (150)\ttotal: 988ms\tremaining: 59.9ms\n",
            "165:\tlearn: 0.0082030\ttest: 0.0244925\tbest: 0.0244491 (150)\ttotal: 997ms\tremaining: 54.1ms\n",
            "166:\tlearn: 0.0082028\ttest: 0.0244923\tbest: 0.0244491 (150)\ttotal: 1s\tremaining: 48.1ms\n",
            "167:\tlearn: 0.0082028\ttest: 0.0244922\tbest: 0.0244491 (150)\ttotal: 1.01s\tremaining: 42.1ms\n",
            "168:\tlearn: 0.0081681\ttest: 0.0244410\tbest: 0.0244410 (168)\ttotal: 1.02s\tremaining: 36.1ms\n",
            "169:\tlearn: 0.0081680\ttest: 0.0244409\tbest: 0.0244409 (169)\ttotal: 1.03s\tremaining: 30.2ms\n",
            "170:\tlearn: 0.0081679\ttest: 0.0244408\tbest: 0.0244408 (170)\ttotal: 1.03s\tremaining: 24.2ms\n",
            "171:\tlearn: 0.0081678\ttest: 0.0244406\tbest: 0.0244406 (171)\ttotal: 1.04s\tremaining: 18.1ms\n",
            "172:\tlearn: 0.0081678\ttest: 0.0244408\tbest: 0.0244406 (171)\ttotal: 1.04s\tremaining: 12.1ms\n",
            "173:\tlearn: 0.0080522\ttest: 0.0243661\tbest: 0.0243661 (173)\ttotal: 1.05s\tremaining: 6.04ms\n",
            "174:\tlearn: 0.0080522\ttest: 0.0243661\tbest: 0.0243661 (173)\ttotal: 1.06s\tremaining: 0us\n",
            "\n",
            "bestTest = 0.02436606182\n",
            "bestIteration = 173\n",
            "\n",
            "0:\tlearn: 0.1669779\ttest: 0.1783880\tbest: 0.1783880 (0)\ttotal: 34.6ms\tremaining: 6.02s\n",
            "1:\tlearn: 0.0856776\ttest: 0.0958013\tbest: 0.0958013 (1)\ttotal: 54.2ms\tremaining: 4.69s\n",
            "2:\tlearn: 0.0612027\ttest: 0.0678794\tbest: 0.0678794 (2)\ttotal: 73.2ms\tremaining: 4.19s\n",
            "3:\tlearn: 0.0474310\ttest: 0.0510671\tbest: 0.0510671 (3)\ttotal: 92.5ms\tremaining: 3.96s\n",
            "4:\tlearn: 0.0387201\ttest: 0.0400311\tbest: 0.0400311 (4)\ttotal: 112ms\tremaining: 3.79s\n",
            "5:\tlearn: 0.0360316\ttest: 0.0390009\tbest: 0.0390009 (5)\ttotal: 131ms\tremaining: 3.69s\n",
            "6:\tlearn: 0.0289329\ttest: 0.0399687\tbest: 0.0390009 (5)\ttotal: 155ms\tremaining: 3.71s\n",
            "7:\tlearn: 0.0255982\ttest: 0.0365614\tbest: 0.0365614 (7)\ttotal: 176ms\tremaining: 3.67s\n",
            "8:\tlearn: 0.0231238\ttest: 0.0380149\tbest: 0.0365614 (7)\ttotal: 195ms\tremaining: 3.6s\n",
            "9:\tlearn: 0.0229347\ttest: 0.0380213\tbest: 0.0365614 (7)\ttotal: 201ms\tremaining: 3.32s\n",
            "10:\tlearn: 0.0195304\ttest: 0.0371298\tbest: 0.0365614 (7)\ttotal: 221ms\tremaining: 3.29s\n",
            "11:\tlearn: 0.0187186\ttest: 0.0361852\tbest: 0.0361852 (11)\ttotal: 245ms\tremaining: 3.32s\n",
            "12:\tlearn: 0.0185686\ttest: 0.0361490\tbest: 0.0361490 (12)\ttotal: 252ms\tremaining: 3.13s\n",
            "13:\tlearn: 0.0150504\ttest: 0.0366766\tbest: 0.0361490 (12)\ttotal: 271ms\tremaining: 3.11s\n",
            "14:\tlearn: 0.0133488\ttest: 0.0351579\tbest: 0.0351579 (14)\ttotal: 290ms\tremaining: 3.09s\n",
            "15:\tlearn: 0.0115773\ttest: 0.0356504\tbest: 0.0351579 (14)\ttotal: 310ms\tremaining: 3.08s\n",
            "16:\tlearn: 0.0107179\ttest: 0.0351829\tbest: 0.0351579 (14)\ttotal: 330ms\tremaining: 3.06s\n",
            "17:\tlearn: 0.0095477\ttest: 0.0336228\tbest: 0.0336228 (17)\ttotal: 350ms\tremaining: 3.05s\n",
            "18:\tlearn: 0.0084235\ttest: 0.0340599\tbest: 0.0336228 (17)\ttotal: 369ms\tremaining: 3.03s\n",
            "19:\tlearn: 0.0081550\ttest: 0.0338420\tbest: 0.0336228 (17)\ttotal: 388ms\tremaining: 3.01s\n",
            "20:\tlearn: 0.0071184\ttest: 0.0312761\tbest: 0.0312761 (20)\ttotal: 408ms\tremaining: 2.99s\n",
            "21:\tlearn: 0.0065832\ttest: 0.0311294\tbest: 0.0311294 (21)\ttotal: 429ms\tremaining: 2.98s\n",
            "22:\tlearn: 0.0058501\ttest: 0.0303295\tbest: 0.0303295 (22)\ttotal: 455ms\tremaining: 3.01s\n",
            "23:\tlearn: 0.0055470\ttest: 0.0311478\tbest: 0.0303295 (22)\ttotal: 476ms\tremaining: 3s\n",
            "24:\tlearn: 0.0052631\ttest: 0.0311817\tbest: 0.0303295 (22)\ttotal: 496ms\tremaining: 2.98s\n",
            "25:\tlearn: 0.0049278\ttest: 0.0310545\tbest: 0.0303295 (22)\ttotal: 519ms\tremaining: 2.97s\n",
            "26:\tlearn: 0.0043933\ttest: 0.0296026\tbest: 0.0296026 (26)\ttotal: 539ms\tremaining: 2.95s\n",
            "27:\tlearn: 0.0041374\ttest: 0.0297587\tbest: 0.0296026 (26)\ttotal: 559ms\tremaining: 2.93s\n",
            "28:\tlearn: 0.0038812\ttest: 0.0298940\tbest: 0.0296026 (26)\ttotal: 578ms\tremaining: 2.91s\n",
            "29:\tlearn: 0.0035460\ttest: 0.0302336\tbest: 0.0296026 (26)\ttotal: 604ms\tremaining: 2.92s\n",
            "30:\tlearn: 0.0032778\ttest: 0.0303186\tbest: 0.0296026 (26)\ttotal: 624ms\tremaining: 2.9s\n",
            "31:\tlearn: 0.0031704\ttest: 0.0303130\tbest: 0.0296026 (26)\ttotal: 643ms\tremaining: 2.88s\n",
            "32:\tlearn: 0.0029213\ttest: 0.0293545\tbest: 0.0293545 (32)\ttotal: 667ms\tremaining: 2.87s\n",
            "33:\tlearn: 0.0027717\ttest: 0.0292151\tbest: 0.0292151 (33)\ttotal: 687ms\tremaining: 2.85s\n",
            "34:\tlearn: 0.0026268\ttest: 0.0293193\tbest: 0.0292151 (33)\ttotal: 706ms\tremaining: 2.82s\n",
            "35:\tlearn: 0.0025091\ttest: 0.0285932\tbest: 0.0285932 (35)\ttotal: 725ms\tremaining: 2.8s\n",
            "36:\tlearn: 0.0024229\ttest: 0.0282648\tbest: 0.0282648 (36)\ttotal: 745ms\tremaining: 2.78s\n",
            "37:\tlearn: 0.0023809\ttest: 0.0283652\tbest: 0.0282648 (36)\ttotal: 764ms\tremaining: 2.75s\n",
            "38:\tlearn: 0.0022120\ttest: 0.0277821\tbest: 0.0277821 (38)\ttotal: 784ms\tremaining: 2.73s\n",
            "39:\tlearn: 0.0020453\ttest: 0.0277912\tbest: 0.0277821 (38)\ttotal: 803ms\tremaining: 2.71s\n",
            "40:\tlearn: 0.0019655\ttest: 0.0272413\tbest: 0.0272413 (40)\ttotal: 822ms\tremaining: 2.69s\n",
            "41:\tlearn: 0.0019653\ttest: 0.0272409\tbest: 0.0272409 (41)\ttotal: 842ms\tremaining: 2.67s\n",
            "42:\tlearn: 0.0019652\ttest: 0.0272408\tbest: 0.0272408 (42)\ttotal: 860ms\tremaining: 2.64s\n",
            "43:\tlearn: 0.0018602\ttest: 0.0268815\tbest: 0.0268815 (43)\ttotal: 890ms\tremaining: 2.65s\n",
            "44:\tlearn: 0.0018602\ttest: 0.0268816\tbest: 0.0268815 (43)\ttotal: 909ms\tremaining: 2.63s\n",
            "45:\tlearn: 0.0018602\ttest: 0.0268818\tbest: 0.0268815 (43)\ttotal: 928ms\tremaining: 2.6s\n",
            "46:\tlearn: 0.0018602\ttest: 0.0268822\tbest: 0.0268815 (43)\ttotal: 946ms\tremaining: 2.58s\n",
            "47:\tlearn: 0.0018601\ttest: 0.0268825\tbest: 0.0268815 (43)\ttotal: 964ms\tremaining: 2.55s\n",
            "48:\tlearn: 0.0018601\ttest: 0.0268825\tbest: 0.0268815 (43)\ttotal: 982ms\tremaining: 2.52s\n",
            "49:\tlearn: 0.0018601\ttest: 0.0268825\tbest: 0.0268815 (43)\ttotal: 1s\tremaining: 2.5s\n",
            "50:\tlearn: 0.0017744\ttest: 0.0274159\tbest: 0.0268815 (43)\ttotal: 1.02s\tremaining: 2.48s\n",
            "51:\tlearn: 0.0016733\ttest: 0.0275247\tbest: 0.0268815 (43)\ttotal: 1.04s\tremaining: 2.46s\n",
            "52:\tlearn: 0.0015643\ttest: 0.0270468\tbest: 0.0268815 (43)\ttotal: 1.06s\tremaining: 2.44s\n",
            "53:\tlearn: 0.0015643\ttest: 0.0270476\tbest: 0.0268815 (43)\ttotal: 1.08s\tremaining: 2.41s\n",
            "54:\tlearn: 0.0015641\ttest: 0.0270472\tbest: 0.0268815 (43)\ttotal: 1.1s\tremaining: 2.4s\n",
            "55:\tlearn: 0.0015640\ttest: 0.0270466\tbest: 0.0268815 (43)\ttotal: 1.12s\tremaining: 2.38s\n",
            "56:\tlearn: 0.0015639\ttest: 0.0270460\tbest: 0.0268815 (43)\ttotal: 1.14s\tremaining: 2.36s\n",
            "57:\tlearn: 0.0015639\ttest: 0.0270457\tbest: 0.0268815 (43)\ttotal: 1.16s\tremaining: 2.34s\n",
            "58:\tlearn: 0.0015638\ttest: 0.0270456\tbest: 0.0268815 (43)\ttotal: 1.18s\tremaining: 2.32s\n",
            "59:\tlearn: 0.0015638\ttest: 0.0270454\tbest: 0.0268815 (43)\ttotal: 1.2s\tremaining: 2.3s\n",
            "60:\tlearn: 0.0015638\ttest: 0.0270451\tbest: 0.0268815 (43)\ttotal: 1.22s\tremaining: 2.28s\n",
            "61:\tlearn: 0.0015637\ttest: 0.0270448\tbest: 0.0268815 (43)\ttotal: 1.24s\tremaining: 2.25s\n",
            "62:\tlearn: 0.0015636\ttest: 0.0270447\tbest: 0.0268815 (43)\ttotal: 1.25s\tremaining: 2.23s\n",
            "63:\tlearn: 0.0015636\ttest: 0.0270447\tbest: 0.0268815 (43)\ttotal: 1.27s\tremaining: 2.21s\n",
            "64:\tlearn: 0.0015635\ttest: 0.0270446\tbest: 0.0268815 (43)\ttotal: 1.29s\tremaining: 2.19s\n",
            "65:\tlearn: 0.0015634\ttest: 0.0270453\tbest: 0.0268815 (43)\ttotal: 1.32s\tremaining: 2.18s\n",
            "66:\tlearn: 0.0014980\ttest: 0.0273071\tbest: 0.0268815 (43)\ttotal: 1.34s\tremaining: 2.16s\n",
            "67:\tlearn: 0.0014979\ttest: 0.0273072\tbest: 0.0268815 (43)\ttotal: 1.36s\tremaining: 2.13s\n",
            "68:\tlearn: 0.0014979\ttest: 0.0273071\tbest: 0.0268815 (43)\ttotal: 1.38s\tremaining: 2.11s\n",
            "69:\tlearn: 0.0014979\ttest: 0.0273071\tbest: 0.0268815 (43)\ttotal: 1.39s\tremaining: 2.09s\n",
            "70:\tlearn: 0.0014978\ttest: 0.0273067\tbest: 0.0268815 (43)\ttotal: 1.41s\tremaining: 2.07s\n",
            "71:\tlearn: 0.0014977\ttest: 0.0273063\tbest: 0.0268815 (43)\ttotal: 1.43s\tremaining: 2.05s\n",
            "72:\tlearn: 0.0014977\ttest: 0.0273063\tbest: 0.0268815 (43)\ttotal: 1.45s\tremaining: 2.03s\n",
            "73:\tlearn: 0.0014975\ttest: 0.0273054\tbest: 0.0268815 (43)\ttotal: 1.47s\tremaining: 2.01s\n",
            "74:\tlearn: 0.0014975\ttest: 0.0273052\tbest: 0.0268815 (43)\ttotal: 1.49s\tremaining: 1.99s\n",
            "75:\tlearn: 0.0014973\ttest: 0.0273048\tbest: 0.0268815 (43)\ttotal: 1.51s\tremaining: 1.97s\n",
            "76:\tlearn: 0.0014973\ttest: 0.0273047\tbest: 0.0268815 (43)\ttotal: 1.53s\tremaining: 1.95s\n",
            "77:\tlearn: 0.0014972\ttest: 0.0273041\tbest: 0.0268815 (43)\ttotal: 1.55s\tremaining: 1.93s\n",
            "78:\tlearn: 0.0014971\ttest: 0.0273037\tbest: 0.0268815 (43)\ttotal: 1.57s\tremaining: 1.91s\n",
            "79:\tlearn: 0.0014970\ttest: 0.0273042\tbest: 0.0268815 (43)\ttotal: 1.59s\tremaining: 1.89s\n",
            "80:\tlearn: 0.0014970\ttest: 0.0273041\tbest: 0.0268815 (43)\ttotal: 1.62s\tremaining: 1.88s\n",
            "81:\tlearn: 0.0014970\ttest: 0.0273044\tbest: 0.0268815 (43)\ttotal: 1.63s\tremaining: 1.85s\n",
            "82:\tlearn: 0.0014969\ttest: 0.0273041\tbest: 0.0268815 (43)\ttotal: 1.65s\tremaining: 1.83s\n",
            "83:\tlearn: 0.0014968\ttest: 0.0273043\tbest: 0.0268815 (43)\ttotal: 1.67s\tremaining: 1.81s\n",
            "84:\tlearn: 0.0014967\ttest: 0.0273041\tbest: 0.0268815 (43)\ttotal: 1.69s\tremaining: 1.79s\n",
            "85:\tlearn: 0.0014966\ttest: 0.0273028\tbest: 0.0268815 (43)\ttotal: 1.71s\tremaining: 1.77s\n",
            "86:\tlearn: 0.0014966\ttest: 0.0273025\tbest: 0.0268815 (43)\ttotal: 1.73s\tremaining: 1.75s\n",
            "87:\tlearn: 0.0014965\ttest: 0.0273028\tbest: 0.0268815 (43)\ttotal: 1.75s\tremaining: 1.73s\n",
            "88:\tlearn: 0.0014965\ttest: 0.0273027\tbest: 0.0268815 (43)\ttotal: 1.77s\tremaining: 1.71s\n",
            "89:\tlearn: 0.0014964\ttest: 0.0273026\tbest: 0.0268815 (43)\ttotal: 1.79s\tremaining: 1.69s\n",
            "90:\tlearn: 0.0014963\ttest: 0.0273022\tbest: 0.0268815 (43)\ttotal: 1.81s\tremaining: 1.67s\n",
            "91:\tlearn: 0.0014963\ttest: 0.0273022\tbest: 0.0268815 (43)\ttotal: 1.83s\tremaining: 1.65s\n",
            "92:\tlearn: 0.0014962\ttest: 0.0273027\tbest: 0.0268815 (43)\ttotal: 1.85s\tremaining: 1.63s\n",
            "93:\tlearn: 0.0014962\ttest: 0.0273025\tbest: 0.0268815 (43)\ttotal: 1.87s\tremaining: 1.61s\n",
            "94:\tlearn: 0.0014961\ttest: 0.0273023\tbest: 0.0268815 (43)\ttotal: 1.89s\tremaining: 1.59s\n",
            "95:\tlearn: 0.0014960\ttest: 0.0273026\tbest: 0.0268815 (43)\ttotal: 1.91s\tremaining: 1.57s\n",
            "96:\tlearn: 0.0014959\ttest: 0.0273024\tbest: 0.0268815 (43)\ttotal: 1.93s\tremaining: 1.55s\n",
            "97:\tlearn: 0.0014958\ttest: 0.0273010\tbest: 0.0268815 (43)\ttotal: 1.95s\tremaining: 1.53s\n",
            "98:\tlearn: 0.0014955\ttest: 0.0273017\tbest: 0.0268815 (43)\ttotal: 1.97s\tremaining: 1.51s\n",
            "99:\tlearn: 0.0014955\ttest: 0.0273016\tbest: 0.0268815 (43)\ttotal: 1.99s\tremaining: 1.49s\n",
            "100:\tlearn: 0.0014955\ttest: 0.0273015\tbest: 0.0268815 (43)\ttotal: 2.01s\tremaining: 1.47s\n",
            "101:\tlearn: 0.0014954\ttest: 0.0273014\tbest: 0.0268815 (43)\ttotal: 2.03s\tremaining: 1.45s\n",
            "102:\tlearn: 0.0014954\ttest: 0.0273012\tbest: 0.0268815 (43)\ttotal: 2.04s\tremaining: 1.43s\n",
            "103:\tlearn: 0.0014953\ttest: 0.0273011\tbest: 0.0268815 (43)\ttotal: 2.06s\tremaining: 1.41s\n",
            "104:\tlearn: 0.0014953\ttest: 0.0273013\tbest: 0.0268815 (43)\ttotal: 2.08s\tremaining: 1.39s\n",
            "105:\tlearn: 0.0014951\ttest: 0.0272995\tbest: 0.0268815 (43)\ttotal: 2.1s\tremaining: 1.37s\n",
            "106:\tlearn: 0.0014950\ttest: 0.0273000\tbest: 0.0268815 (43)\ttotal: 2.12s\tremaining: 1.35s\n",
            "107:\tlearn: 0.0014949\ttest: 0.0272997\tbest: 0.0268815 (43)\ttotal: 2.14s\tremaining: 1.33s\n",
            "108:\tlearn: 0.0014949\ttest: 0.0272995\tbest: 0.0268815 (43)\ttotal: 2.17s\tremaining: 1.31s\n",
            "109:\tlearn: 0.0014949\ttest: 0.0272995\tbest: 0.0268815 (43)\ttotal: 2.19s\tremaining: 1.29s\n",
            "110:\tlearn: 0.0014948\ttest: 0.0272995\tbest: 0.0268815 (43)\ttotal: 2.21s\tremaining: 1.27s\n",
            "111:\tlearn: 0.0014947\ttest: 0.0272998\tbest: 0.0268815 (43)\ttotal: 2.23s\tremaining: 1.25s\n",
            "112:\tlearn: 0.0014947\ttest: 0.0272997\tbest: 0.0268815 (43)\ttotal: 2.25s\tremaining: 1.23s\n",
            "113:\tlearn: 0.0014946\ttest: 0.0272996\tbest: 0.0268815 (43)\ttotal: 2.26s\tremaining: 1.21s\n",
            "114:\tlearn: 0.0014946\ttest: 0.0272996\tbest: 0.0268815 (43)\ttotal: 2.28s\tremaining: 1.19s\n",
            "115:\tlearn: 0.0014945\ttest: 0.0273001\tbest: 0.0268815 (43)\ttotal: 2.3s\tremaining: 1.17s\n",
            "116:\tlearn: 0.0014944\ttest: 0.0273005\tbest: 0.0268815 (43)\ttotal: 2.32s\tremaining: 1.15s\n",
            "117:\tlearn: 0.0014944\ttest: 0.0273004\tbest: 0.0268815 (43)\ttotal: 2.34s\tremaining: 1.13s\n",
            "118:\tlearn: 0.0014942\ttest: 0.0273013\tbest: 0.0268815 (43)\ttotal: 2.36s\tremaining: 1.11s\n",
            "119:\tlearn: 0.0014941\ttest: 0.0273013\tbest: 0.0268815 (43)\ttotal: 2.38s\tremaining: 1.09s\n",
            "120:\tlearn: 0.0014941\ttest: 0.0273012\tbest: 0.0268815 (43)\ttotal: 2.4s\tremaining: 1.07s\n",
            "121:\tlearn: 0.0014940\ttest: 0.0273017\tbest: 0.0268815 (43)\ttotal: 2.42s\tremaining: 1.05s\n",
            "122:\tlearn: 0.0014940\ttest: 0.0273015\tbest: 0.0268815 (43)\ttotal: 2.44s\tremaining: 1.03s\n",
            "123:\tlearn: 0.0014939\ttest: 0.0273020\tbest: 0.0268815 (43)\ttotal: 2.46s\tremaining: 1.01s\n",
            "124:\tlearn: 0.0014939\ttest: 0.0273019\tbest: 0.0268815 (43)\ttotal: 2.48s\tremaining: 991ms\n",
            "125:\tlearn: 0.0014938\ttest: 0.0273018\tbest: 0.0268815 (43)\ttotal: 2.5s\tremaining: 973ms\n",
            "126:\tlearn: 0.0014938\ttest: 0.0273023\tbest: 0.0268815 (43)\ttotal: 2.52s\tremaining: 953ms\n",
            "127:\tlearn: 0.0014938\ttest: 0.0273023\tbest: 0.0268815 (43)\ttotal: 2.54s\tremaining: 933ms\n",
            "128:\tlearn: 0.0014937\ttest: 0.0273021\tbest: 0.0268815 (43)\ttotal: 2.56s\tremaining: 913ms\n",
            "129:\tlearn: 0.0014936\ttest: 0.0273019\tbest: 0.0268815 (43)\ttotal: 2.58s\tremaining: 893ms\n",
            "130:\tlearn: 0.0014935\ttest: 0.0273013\tbest: 0.0268815 (43)\ttotal: 2.61s\tremaining: 878ms\n",
            "131:\tlearn: 0.0014934\ttest: 0.0273012\tbest: 0.0268815 (43)\ttotal: 2.63s\tremaining: 857ms\n",
            "132:\tlearn: 0.0014931\ttest: 0.0273013\tbest: 0.0268815 (43)\ttotal: 2.65s\tremaining: 837ms\n",
            "133:\tlearn: 0.0014931\ttest: 0.0273013\tbest: 0.0268815 (43)\ttotal: 2.67s\tremaining: 817ms\n",
            "134:\tlearn: 0.0014930\ttest: 0.0273012\tbest: 0.0268815 (43)\ttotal: 2.69s\tremaining: 797ms\n",
            "135:\tlearn: 0.0014930\ttest: 0.0273014\tbest: 0.0268815 (43)\ttotal: 2.71s\tremaining: 776ms\n",
            "136:\tlearn: 0.0014930\ttest: 0.0273013\tbest: 0.0268815 (43)\ttotal: 2.73s\tremaining: 756ms\n",
            "137:\tlearn: 0.0014929\ttest: 0.0273011\tbest: 0.0268815 (43)\ttotal: 2.74s\tremaining: 736ms\n",
            "138:\tlearn: 0.0014929\ttest: 0.0273010\tbest: 0.0268815 (43)\ttotal: 2.76s\tremaining: 716ms\n",
            "139:\tlearn: 0.0014929\ttest: 0.0273011\tbest: 0.0268815 (43)\ttotal: 2.78s\tremaining: 695ms\n",
            "140:\tlearn: 0.0014929\ttest: 0.0273010\tbest: 0.0268815 (43)\ttotal: 2.8s\tremaining: 675ms\n",
            "141:\tlearn: 0.0014928\ttest: 0.0273010\tbest: 0.0268815 (43)\ttotal: 2.82s\tremaining: 656ms\n",
            "142:\tlearn: 0.0014928\ttest: 0.0273009\tbest: 0.0268815 (43)\ttotal: 2.84s\tremaining: 636ms\n",
            "143:\tlearn: 0.0014928\ttest: 0.0273008\tbest: 0.0268815 (43)\ttotal: 2.86s\tremaining: 616ms\n",
            "144:\tlearn: 0.0014927\ttest: 0.0273007\tbest: 0.0268815 (43)\ttotal: 2.88s\tremaining: 596ms\n",
            "145:\tlearn: 0.0014926\ttest: 0.0273011\tbest: 0.0268815 (43)\ttotal: 2.9s\tremaining: 576ms\n",
            "146:\tlearn: 0.0014925\ttest: 0.0273009\tbest: 0.0268815 (43)\ttotal: 2.92s\tremaining: 556ms\n",
            "147:\tlearn: 0.0014925\ttest: 0.0273009\tbest: 0.0268815 (43)\ttotal: 2.94s\tremaining: 536ms\n",
            "148:\tlearn: 0.0014924\ttest: 0.0273007\tbest: 0.0268815 (43)\ttotal: 2.95s\tremaining: 516ms\n",
            "149:\tlearn: 0.0014924\ttest: 0.0273010\tbest: 0.0268815 (43)\ttotal: 2.97s\tremaining: 496ms\n",
            "150:\tlearn: 0.0014923\ttest: 0.0273014\tbest: 0.0268815 (43)\ttotal: 2.99s\tremaining: 475ms\n",
            "151:\tlearn: 0.0014922\ttest: 0.0273024\tbest: 0.0268815 (43)\ttotal: 3.01s\tremaining: 455ms\n",
            "152:\tlearn: 0.0014921\ttest: 0.0273023\tbest: 0.0268815 (43)\ttotal: 3.04s\tremaining: 437ms\n",
            "153:\tlearn: 0.0014921\ttest: 0.0273020\tbest: 0.0268815 (43)\ttotal: 3.06s\tremaining: 417ms\n",
            "154:\tlearn: 0.0014921\ttest: 0.0273019\tbest: 0.0268815 (43)\ttotal: 3.07s\tremaining: 397ms\n",
            "155:\tlearn: 0.0014920\ttest: 0.0273016\tbest: 0.0268815 (43)\ttotal: 3.09s\tremaining: 377ms\n",
            "156:\tlearn: 0.0014919\ttest: 0.0273014\tbest: 0.0268815 (43)\ttotal: 3.11s\tremaining: 357ms\n",
            "157:\tlearn: 0.0014918\ttest: 0.0273011\tbest: 0.0268815 (43)\ttotal: 3.13s\tremaining: 337ms\n",
            "158:\tlearn: 0.0014918\ttest: 0.0273010\tbest: 0.0268815 (43)\ttotal: 3.15s\tremaining: 317ms\n",
            "159:\tlearn: 0.0014917\ttest: 0.0273015\tbest: 0.0268815 (43)\ttotal: 3.17s\tremaining: 297ms\n",
            "160:\tlearn: 0.0014916\ttest: 0.0273020\tbest: 0.0268815 (43)\ttotal: 3.19s\tremaining: 277ms\n",
            "161:\tlearn: 0.0014915\ttest: 0.0273024\tbest: 0.0268815 (43)\ttotal: 3.21s\tremaining: 258ms\n",
            "162:\tlearn: 0.0014915\ttest: 0.0273023\tbest: 0.0268815 (43)\ttotal: 3.23s\tremaining: 238ms\n",
            "163:\tlearn: 0.0014915\ttest: 0.0273023\tbest: 0.0268815 (43)\ttotal: 3.25s\tremaining: 218ms\n",
            "164:\tlearn: 0.0014914\ttest: 0.0273019\tbest: 0.0268815 (43)\ttotal: 3.27s\tremaining: 198ms\n",
            "165:\tlearn: 0.0014913\ttest: 0.0273016\tbest: 0.0268815 (43)\ttotal: 3.29s\tremaining: 178ms\n",
            "166:\tlearn: 0.0014910\ttest: 0.0273022\tbest: 0.0268815 (43)\ttotal: 3.31s\tremaining: 158ms\n",
            "167:\tlearn: 0.0014909\ttest: 0.0273027\tbest: 0.0268815 (43)\ttotal: 3.33s\tremaining: 139ms\n",
            "168:\tlearn: 0.0014909\ttest: 0.0273026\tbest: 0.0268815 (43)\ttotal: 3.35s\tremaining: 119ms\n",
            "169:\tlearn: 0.0014909\ttest: 0.0273026\tbest: 0.0268815 (43)\ttotal: 3.36s\tremaining: 99ms\n",
            "170:\tlearn: 0.0014908\ttest: 0.0273029\tbest: 0.0268815 (43)\ttotal: 3.38s\tremaining: 79.1ms\n",
            "171:\tlearn: 0.0014907\ttest: 0.0273034\tbest: 0.0268815 (43)\ttotal: 3.4s\tremaining: 59.4ms\n",
            "172:\tlearn: 0.0014907\ttest: 0.0273033\tbest: 0.0268815 (43)\ttotal: 3.42s\tremaining: 39.6ms\n",
            "173:\tlearn: 0.0014904\ttest: 0.0273040\tbest: 0.0268815 (43)\ttotal: 3.44s\tremaining: 19.8ms\n",
            "174:\tlearn: 0.0014904\ttest: 0.0273041\tbest: 0.0268815 (43)\ttotal: 3.46s\tremaining: 0us\n",
            "\n",
            "bestTest = 0.02688153748\n",
            "bestIteration = 43\n",
            "\n",
            "0:\tlearn: 0.1981203\ttest: 0.2089578\tbest: 0.2089578 (0)\ttotal: 20.4ms\tremaining: 3.55s\n",
            "1:\tlearn: 0.0940566\ttest: 0.1007816\tbest: 0.1007816 (1)\ttotal: 41.3ms\tremaining: 3.57s\n",
            "2:\tlearn: 0.0649320\ttest: 0.0674792\tbest: 0.0674792 (2)\ttotal: 65.2ms\tremaining: 3.74s\n",
            "3:\tlearn: 0.0524632\ttest: 0.0545132\tbest: 0.0545132 (3)\ttotal: 86.2ms\tremaining: 3.69s\n",
            "4:\tlearn: 0.0452087\ttest: 0.0502415\tbest: 0.0502415 (4)\ttotal: 107ms\tremaining: 3.62s\n",
            "5:\tlearn: 0.0388566\ttest: 0.0453430\tbest: 0.0453430 (5)\ttotal: 127ms\tremaining: 3.58s\n",
            "6:\tlearn: 0.0361530\ttest: 0.0451054\tbest: 0.0451054 (6)\ttotal: 158ms\tremaining: 3.78s\n",
            "7:\tlearn: 0.0325966\ttest: 0.0411932\tbest: 0.0411932 (7)\ttotal: 177ms\tremaining: 3.7s\n",
            "8:\tlearn: 0.0301187\ttest: 0.0409147\tbest: 0.0409147 (8)\ttotal: 197ms\tremaining: 3.64s\n",
            "9:\tlearn: 0.0272910\ttest: 0.0396487\tbest: 0.0396487 (9)\ttotal: 221ms\tremaining: 3.65s\n",
            "10:\tlearn: 0.0240424\ttest: 0.0391423\tbest: 0.0391423 (10)\ttotal: 241ms\tremaining: 3.59s\n",
            "11:\tlearn: 0.0220661\ttest: 0.0389755\tbest: 0.0389755 (11)\ttotal: 260ms\tremaining: 3.54s\n",
            "12:\tlearn: 0.0189175\ttest: 0.0382630\tbest: 0.0382630 (12)\ttotal: 280ms\tremaining: 3.49s\n",
            "13:\tlearn: 0.0169361\ttest: 0.0381803\tbest: 0.0381803 (13)\ttotal: 300ms\tremaining: 3.45s\n",
            "14:\tlearn: 0.0155179\ttest: 0.0384130\tbest: 0.0381803 (13)\ttotal: 319ms\tremaining: 3.4s\n",
            "15:\tlearn: 0.0150139\ttest: 0.0384884\tbest: 0.0381803 (13)\ttotal: 339ms\tremaining: 3.37s\n",
            "16:\tlearn: 0.0136669\ttest: 0.0382746\tbest: 0.0381803 (13)\ttotal: 358ms\tremaining: 3.33s\n",
            "17:\tlearn: 0.0131289\ttest: 0.0378242\tbest: 0.0378242 (17)\ttotal: 378ms\tremaining: 3.3s\n",
            "18:\tlearn: 0.0118558\ttest: 0.0359351\tbest: 0.0359351 (18)\ttotal: 400ms\tremaining: 3.28s\n",
            "19:\tlearn: 0.0113413\ttest: 0.0349528\tbest: 0.0349528 (19)\ttotal: 423ms\tremaining: 3.28s\n",
            "20:\tlearn: 0.0102748\ttest: 0.0338792\tbest: 0.0338792 (20)\ttotal: 443ms\tremaining: 3.25s\n",
            "21:\tlearn: 0.0096812\ttest: 0.0336482\tbest: 0.0336482 (21)\ttotal: 462ms\tremaining: 3.22s\n",
            "22:\tlearn: 0.0089276\ttest: 0.0345445\tbest: 0.0336482 (21)\ttotal: 482ms\tremaining: 3.19s\n",
            "23:\tlearn: 0.0085880\ttest: 0.0346449\tbest: 0.0336482 (21)\ttotal: 502ms\tremaining: 3.16s\n",
            "24:\tlearn: 0.0073385\ttest: 0.0339930\tbest: 0.0336482 (21)\ttotal: 520ms\tremaining: 3.12s\n",
            "25:\tlearn: 0.0066806\ttest: 0.0344912\tbest: 0.0336482 (21)\ttotal: 540ms\tremaining: 3.09s\n",
            "26:\tlearn: 0.0059042\ttest: 0.0327198\tbest: 0.0327198 (26)\ttotal: 559ms\tremaining: 3.06s\n",
            "27:\tlearn: 0.0053969\ttest: 0.0322458\tbest: 0.0322458 (27)\ttotal: 578ms\tremaining: 3.03s\n",
            "28:\tlearn: 0.0051212\ttest: 0.0315782\tbest: 0.0315782 (28)\ttotal: 597ms\tremaining: 3s\n",
            "29:\tlearn: 0.0049203\ttest: 0.0318977\tbest: 0.0315782 (28)\ttotal: 619ms\tremaining: 2.99s\n",
            "30:\tlearn: 0.0045879\ttest: 0.0310896\tbest: 0.0310896 (30)\ttotal: 640ms\tremaining: 2.97s\n",
            "31:\tlearn: 0.0043341\ttest: 0.0315166\tbest: 0.0310896 (30)\ttotal: 659ms\tremaining: 2.94s\n",
            "32:\tlearn: 0.0039521\ttest: 0.0305705\tbest: 0.0305705 (32)\ttotal: 678ms\tremaining: 2.92s\n",
            "33:\tlearn: 0.0038277\ttest: 0.0309295\tbest: 0.0305705 (32)\ttotal: 697ms\tremaining: 2.89s\n",
            "34:\tlearn: 0.0037178\ttest: 0.0311847\tbest: 0.0305705 (32)\ttotal: 719ms\tremaining: 2.87s\n",
            "35:\tlearn: 0.0035549\ttest: 0.0314277\tbest: 0.0305705 (32)\ttotal: 740ms\tremaining: 2.85s\n",
            "36:\tlearn: 0.0034720\ttest: 0.0314106\tbest: 0.0305705 (32)\ttotal: 759ms\tremaining: 2.83s\n",
            "37:\tlearn: 0.0033943\ttest: 0.0316241\tbest: 0.0305705 (32)\ttotal: 778ms\tremaining: 2.8s\n",
            "38:\tlearn: 0.0031671\ttest: 0.0310679\tbest: 0.0305705 (32)\ttotal: 796ms\tremaining: 2.78s\n",
            "39:\tlearn: 0.0029502\ttest: 0.0307009\tbest: 0.0305705 (32)\ttotal: 829ms\tremaining: 2.8s\n",
            "40:\tlearn: 0.0027436\ttest: 0.0302062\tbest: 0.0302062 (40)\ttotal: 849ms\tremaining: 2.77s\n",
            "41:\tlearn: 0.0026316\ttest: 0.0300509\tbest: 0.0300509 (41)\ttotal: 869ms\tremaining: 2.75s\n",
            "42:\tlearn: 0.0025521\ttest: 0.0297509\tbest: 0.0297509 (42)\ttotal: 888ms\tremaining: 2.73s\n",
            "43:\tlearn: 0.0024275\ttest: 0.0298103\tbest: 0.0297509 (42)\ttotal: 908ms\tremaining: 2.7s\n",
            "44:\tlearn: 0.0022967\ttest: 0.0287555\tbest: 0.0287555 (44)\ttotal: 928ms\tremaining: 2.68s\n",
            "45:\tlearn: 0.0022965\ttest: 0.0287556\tbest: 0.0287555 (44)\ttotal: 947ms\tremaining: 2.65s\n",
            "46:\tlearn: 0.0022961\ttest: 0.0287553\tbest: 0.0287553 (46)\ttotal: 970ms\tremaining: 2.64s\n",
            "47:\tlearn: 0.0022961\ttest: 0.0287552\tbest: 0.0287552 (47)\ttotal: 988ms\tremaining: 2.61s\n",
            "48:\tlearn: 0.0022961\ttest: 0.0287552\tbest: 0.0287552 (48)\ttotal: 1.01s\tremaining: 2.59s\n",
            "49:\tlearn: 0.0022118\ttest: 0.0290590\tbest: 0.0287552 (48)\ttotal: 1.03s\tremaining: 2.57s\n",
            "50:\tlearn: 0.0021342\ttest: 0.0290810\tbest: 0.0287552 (48)\ttotal: 1.05s\tremaining: 2.56s\n",
            "51:\tlearn: 0.0020857\ttest: 0.0295500\tbest: 0.0287552 (48)\ttotal: 1.07s\tremaining: 2.54s\n",
            "52:\tlearn: 0.0019879\ttest: 0.0297459\tbest: 0.0287552 (48)\ttotal: 1.09s\tremaining: 2.52s\n",
            "53:\tlearn: 0.0019020\ttest: 0.0295311\tbest: 0.0287552 (48)\ttotal: 1.11s\tremaining: 2.5s\n",
            "54:\tlearn: 0.0019019\ttest: 0.0295312\tbest: 0.0287552 (48)\ttotal: 1.13s\tremaining: 2.47s\n",
            "55:\tlearn: 0.0019019\ttest: 0.0295311\tbest: 0.0287552 (48)\ttotal: 1.16s\tremaining: 2.46s\n",
            "56:\tlearn: 0.0018029\ttest: 0.0295268\tbest: 0.0287552 (48)\ttotal: 1.18s\tremaining: 2.44s\n",
            "57:\tlearn: 0.0018028\ttest: 0.0295267\tbest: 0.0287552 (48)\ttotal: 1.2s\tremaining: 2.41s\n",
            "58:\tlearn: 0.0018028\ttest: 0.0295267\tbest: 0.0287552 (48)\ttotal: 1.21s\tremaining: 2.39s\n",
            "59:\tlearn: 0.0018028\ttest: 0.0295267\tbest: 0.0287552 (48)\ttotal: 1.23s\tremaining: 2.36s\n",
            "60:\tlearn: 0.0018028\ttest: 0.0295267\tbest: 0.0287552 (48)\ttotal: 1.25s\tremaining: 2.34s\n",
            "61:\tlearn: 0.0018028\ttest: 0.0295266\tbest: 0.0287552 (48)\ttotal: 1.27s\tremaining: 2.32s\n",
            "62:\tlearn: 0.0017079\ttest: 0.0294184\tbest: 0.0287552 (48)\ttotal: 1.29s\tremaining: 2.3s\n",
            "63:\tlearn: 0.0017078\ttest: 0.0294189\tbest: 0.0287552 (48)\ttotal: 1.31s\tremaining: 2.28s\n",
            "64:\tlearn: 0.0017078\ttest: 0.0294189\tbest: 0.0287552 (48)\ttotal: 1.33s\tremaining: 2.25s\n",
            "65:\tlearn: 0.0017075\ttest: 0.0294159\tbest: 0.0287552 (48)\ttotal: 1.35s\tremaining: 2.23s\n",
            "66:\tlearn: 0.0017075\ttest: 0.0294159\tbest: 0.0287552 (48)\ttotal: 1.37s\tremaining: 2.2s\n",
            "67:\tlearn: 0.0017075\ttest: 0.0294159\tbest: 0.0287552 (48)\ttotal: 1.39s\tremaining: 2.18s\n",
            "68:\tlearn: 0.0017072\ttest: 0.0294159\tbest: 0.0287552 (48)\ttotal: 1.41s\tremaining: 2.16s\n",
            "69:\tlearn: 0.0017069\ttest: 0.0294176\tbest: 0.0287552 (48)\ttotal: 1.42s\tremaining: 2.14s\n",
            "70:\tlearn: 0.0017069\ttest: 0.0294176\tbest: 0.0287552 (48)\ttotal: 1.44s\tremaining: 2.11s\n",
            "71:\tlearn: 0.0017068\ttest: 0.0294179\tbest: 0.0287552 (48)\ttotal: 1.46s\tremaining: 2.09s\n",
            "72:\tlearn: 0.0017067\ttest: 0.0294179\tbest: 0.0287552 (48)\ttotal: 1.48s\tremaining: 2.07s\n",
            "73:\tlearn: 0.0017066\ttest: 0.0294182\tbest: 0.0287552 (48)\ttotal: 1.5s\tremaining: 2.05s\n",
            "74:\tlearn: 0.0016182\ttest: 0.0292266\tbest: 0.0287552 (48)\ttotal: 1.52s\tremaining: 2.03s\n",
            "75:\tlearn: 0.0016181\ttest: 0.0292262\tbest: 0.0287552 (48)\ttotal: 1.54s\tremaining: 2.01s\n",
            "76:\tlearn: 0.0016180\ttest: 0.0292248\tbest: 0.0287552 (48)\ttotal: 1.56s\tremaining: 1.99s\n",
            "77:\tlearn: 0.0015678\ttest: 0.0294620\tbest: 0.0287552 (48)\ttotal: 1.58s\tremaining: 1.96s\n",
            "78:\tlearn: 0.0015677\ttest: 0.0294621\tbest: 0.0287552 (48)\ttotal: 1.6s\tremaining: 1.94s\n",
            "79:\tlearn: 0.0015677\ttest: 0.0294624\tbest: 0.0287552 (48)\ttotal: 1.61s\tremaining: 1.92s\n",
            "80:\tlearn: 0.0015677\ttest: 0.0294627\tbest: 0.0287552 (48)\ttotal: 1.63s\tremaining: 1.9s\n",
            "81:\tlearn: 0.0015019\ttest: 0.0288454\tbest: 0.0287552 (48)\ttotal: 1.65s\tremaining: 1.88s\n",
            "82:\tlearn: 0.0015018\ttest: 0.0288459\tbest: 0.0287552 (48)\ttotal: 1.67s\tremaining: 1.85s\n",
            "83:\tlearn: 0.0014613\ttest: 0.0285300\tbest: 0.0285300 (83)\ttotal: 1.7s\tremaining: 1.84s\n",
            "84:\tlearn: 0.0014612\ttest: 0.0285293\tbest: 0.0285293 (84)\ttotal: 1.72s\tremaining: 1.83s\n",
            "85:\tlearn: 0.0013750\ttest: 0.0283511\tbest: 0.0283511 (85)\ttotal: 1.74s\tremaining: 1.8s\n",
            "86:\tlearn: 0.0013372\ttest: 0.0283925\tbest: 0.0283511 (85)\ttotal: 1.76s\tremaining: 1.78s\n",
            "87:\tlearn: 0.0013372\ttest: 0.0283926\tbest: 0.0283511 (85)\ttotal: 1.78s\tremaining: 1.76s\n",
            "88:\tlearn: 0.0013372\ttest: 0.0283926\tbest: 0.0283511 (85)\ttotal: 1.8s\tremaining: 1.74s\n",
            "89:\tlearn: 0.0013371\ttest: 0.0283926\tbest: 0.0283511 (85)\ttotal: 1.82s\tremaining: 1.72s\n",
            "90:\tlearn: 0.0013371\ttest: 0.0283928\tbest: 0.0283511 (85)\ttotal: 1.84s\tremaining: 1.7s\n",
            "91:\tlearn: 0.0013370\ttest: 0.0283923\tbest: 0.0283511 (85)\ttotal: 1.86s\tremaining: 1.68s\n",
            "92:\tlearn: 0.0013369\ttest: 0.0283923\tbest: 0.0283511 (85)\ttotal: 1.88s\tremaining: 1.65s\n",
            "93:\tlearn: 0.0013369\ttest: 0.0283925\tbest: 0.0283511 (85)\ttotal: 1.89s\tremaining: 1.63s\n",
            "94:\tlearn: 0.0013368\ttest: 0.0283937\tbest: 0.0283511 (85)\ttotal: 1.92s\tremaining: 1.61s\n",
            "95:\tlearn: 0.0013368\ttest: 0.0283937\tbest: 0.0283511 (85)\ttotal: 1.94s\tremaining: 1.59s\n",
            "96:\tlearn: 0.0013367\ttest: 0.0283938\tbest: 0.0283511 (85)\ttotal: 1.95s\tremaining: 1.57s\n",
            "97:\tlearn: 0.0013365\ttest: 0.0283960\tbest: 0.0283511 (85)\ttotal: 1.97s\tremaining: 1.55s\n",
            "98:\tlearn: 0.0013365\ttest: 0.0283967\tbest: 0.0283511 (85)\ttotal: 1.99s\tremaining: 1.53s\n",
            "99:\tlearn: 0.0012937\ttest: 0.0283606\tbest: 0.0283511 (85)\ttotal: 2.01s\tremaining: 1.51s\n",
            "100:\tlearn: 0.0012937\ttest: 0.0283608\tbest: 0.0283511 (85)\ttotal: 2.03s\tremaining: 1.49s\n",
            "101:\tlearn: 0.0012937\ttest: 0.0283608\tbest: 0.0283511 (85)\ttotal: 2.05s\tremaining: 1.47s\n",
            "102:\tlearn: 0.0012650\ttest: 0.0283235\tbest: 0.0283235 (102)\ttotal: 2.07s\tremaining: 1.45s\n",
            "103:\tlearn: 0.0012650\ttest: 0.0283235\tbest: 0.0283235 (103)\ttotal: 2.09s\tremaining: 1.43s\n",
            "104:\tlearn: 0.0012649\ttest: 0.0283235\tbest: 0.0283235 (103)\ttotal: 2.11s\tremaining: 1.4s\n",
            "105:\tlearn: 0.0012647\ttest: 0.0283242\tbest: 0.0283235 (103)\ttotal: 2.13s\tremaining: 1.39s\n",
            "106:\tlearn: 0.0012646\ttest: 0.0283247\tbest: 0.0283235 (103)\ttotal: 2.15s\tremaining: 1.37s\n",
            "107:\tlearn: 0.0012646\ttest: 0.0283256\tbest: 0.0283235 (103)\ttotal: 2.17s\tremaining: 1.35s\n",
            "108:\tlearn: 0.0012645\ttest: 0.0283259\tbest: 0.0283235 (103)\ttotal: 2.19s\tremaining: 1.33s\n",
            "109:\tlearn: 0.0012645\ttest: 0.0283265\tbest: 0.0283235 (103)\ttotal: 2.21s\tremaining: 1.31s\n",
            "110:\tlearn: 0.0012645\ttest: 0.0283264\tbest: 0.0283235 (103)\ttotal: 2.23s\tremaining: 1.28s\n",
            "111:\tlearn: 0.0012644\ttest: 0.0283265\tbest: 0.0283235 (103)\ttotal: 2.25s\tremaining: 1.26s\n",
            "112:\tlearn: 0.0012644\ttest: 0.0283268\tbest: 0.0283235 (103)\ttotal: 2.27s\tremaining: 1.24s\n",
            "113:\tlearn: 0.0012644\ttest: 0.0283268\tbest: 0.0283235 (103)\ttotal: 2.29s\tremaining: 1.22s\n",
            "114:\tlearn: 0.0012643\ttest: 0.0283272\tbest: 0.0283235 (103)\ttotal: 2.3s\tremaining: 1.2s\n",
            "115:\tlearn: 0.0012643\ttest: 0.0283272\tbest: 0.0283235 (103)\ttotal: 2.32s\tremaining: 1.18s\n",
            "116:\tlearn: 0.0012643\ttest: 0.0283274\tbest: 0.0283235 (103)\ttotal: 2.35s\tremaining: 1.16s\n",
            "117:\tlearn: 0.0012642\ttest: 0.0283274\tbest: 0.0283235 (103)\ttotal: 2.37s\tremaining: 1.14s\n",
            "118:\tlearn: 0.0012642\ttest: 0.0283275\tbest: 0.0283235 (103)\ttotal: 2.39s\tremaining: 1.12s\n",
            "119:\tlearn: 0.0012642\ttest: 0.0283278\tbest: 0.0283235 (103)\ttotal: 2.4s\tremaining: 1.1s\n",
            "120:\tlearn: 0.0012641\ttest: 0.0283282\tbest: 0.0283235 (103)\ttotal: 2.42s\tremaining: 1.08s\n",
            "121:\tlearn: 0.0012641\ttest: 0.0283287\tbest: 0.0283235 (103)\ttotal: 2.44s\tremaining: 1.06s\n",
            "122:\tlearn: 0.0012641\ttest: 0.0283290\tbest: 0.0283235 (103)\ttotal: 2.46s\tremaining: 1.04s\n",
            "123:\tlearn: 0.0012640\ttest: 0.0283290\tbest: 0.0283235 (103)\ttotal: 2.48s\tremaining: 1.02s\n",
            "124:\tlearn: 0.0012640\ttest: 0.0283291\tbest: 0.0283235 (103)\ttotal: 2.5s\tremaining: 999ms\n",
            "125:\tlearn: 0.0012639\ttest: 0.0283297\tbest: 0.0283235 (103)\ttotal: 2.51s\tremaining: 978ms\n",
            "126:\tlearn: 0.0012639\ttest: 0.0283300\tbest: 0.0283235 (103)\ttotal: 2.53s\tremaining: 957ms\n",
            "127:\tlearn: 0.0012639\ttest: 0.0283305\tbest: 0.0283235 (103)\ttotal: 2.56s\tremaining: 939ms\n",
            "128:\tlearn: 0.0012638\ttest: 0.0283312\tbest: 0.0283235 (103)\ttotal: 2.58s\tremaining: 919ms\n",
            "129:\tlearn: 0.0012638\ttest: 0.0283311\tbest: 0.0283235 (103)\ttotal: 2.6s\tremaining: 898ms\n",
            "130:\tlearn: 0.0012638\ttest: 0.0283311\tbest: 0.0283235 (103)\ttotal: 2.62s\tremaining: 878ms\n",
            "131:\tlearn: 0.0012638\ttest: 0.0283311\tbest: 0.0283235 (103)\ttotal: 2.63s\tremaining: 858ms\n",
            "132:\tlearn: 0.0012637\ttest: 0.0283315\tbest: 0.0283235 (103)\ttotal: 2.65s\tremaining: 837ms\n",
            "133:\tlearn: 0.0012637\ttest: 0.0283315\tbest: 0.0283235 (103)\ttotal: 2.67s\tremaining: 817ms\n",
            "134:\tlearn: 0.0012637\ttest: 0.0283316\tbest: 0.0283235 (103)\ttotal: 2.69s\tremaining: 797ms\n",
            "135:\tlearn: 0.0012637\ttest: 0.0283314\tbest: 0.0283235 (103)\ttotal: 2.71s\tremaining: 778ms\n",
            "136:\tlearn: 0.0012636\ttest: 0.0283305\tbest: 0.0283235 (103)\ttotal: 2.73s\tremaining: 757ms\n",
            "137:\tlearn: 0.0012635\ttest: 0.0283308\tbest: 0.0283235 (103)\ttotal: 2.75s\tremaining: 737ms\n",
            "138:\tlearn: 0.0012634\ttest: 0.0283307\tbest: 0.0283235 (103)\ttotal: 2.77s\tremaining: 719ms\n",
            "139:\tlearn: 0.0012634\ttest: 0.0283309\tbest: 0.0283235 (103)\ttotal: 2.79s\tremaining: 699ms\n",
            "140:\tlearn: 0.0012634\ttest: 0.0283310\tbest: 0.0283235 (103)\ttotal: 2.81s\tremaining: 678ms\n",
            "141:\tlearn: 0.0012634\ttest: 0.0283313\tbest: 0.0283235 (103)\ttotal: 2.83s\tremaining: 658ms\n",
            "142:\tlearn: 0.0012634\ttest: 0.0283315\tbest: 0.0283235 (103)\ttotal: 2.85s\tremaining: 638ms\n",
            "143:\tlearn: 0.0012520\ttest: 0.0282407\tbest: 0.0282407 (143)\ttotal: 2.87s\tremaining: 618ms\n",
            "144:\tlearn: 0.0012520\ttest: 0.0282409\tbest: 0.0282407 (143)\ttotal: 2.89s\tremaining: 597ms\n",
            "145:\tlearn: 0.0012518\ttest: 0.0282390\tbest: 0.0282390 (145)\ttotal: 2.9s\tremaining: 577ms\n",
            "146:\tlearn: 0.0012518\ttest: 0.0282388\tbest: 0.0282388 (146)\ttotal: 2.92s\tremaining: 557ms\n",
            "147:\tlearn: 0.0012517\ttest: 0.0282394\tbest: 0.0282388 (146)\ttotal: 2.94s\tremaining: 537ms\n",
            "148:\tlearn: 0.0012516\ttest: 0.0282388\tbest: 0.0282388 (146)\ttotal: 2.96s\tremaining: 517ms\n",
            "149:\tlearn: 0.0012516\ttest: 0.0282393\tbest: 0.0282388 (146)\ttotal: 2.99s\tremaining: 498ms\n",
            "150:\tlearn: 0.0012515\ttest: 0.0282387\tbest: 0.0282387 (150)\ttotal: 3s\tremaining: 478ms\n",
            "151:\tlearn: 0.0012514\ttest: 0.0282382\tbest: 0.0282382 (151)\ttotal: 3.02s\tremaining: 457ms\n",
            "152:\tlearn: 0.0012513\ttest: 0.0282376\tbest: 0.0282376 (152)\ttotal: 3.05s\tremaining: 439ms\n",
            "153:\tlearn: 0.0012513\ttest: 0.0282378\tbest: 0.0282376 (152)\ttotal: 3.07s\tremaining: 419ms\n",
            "154:\tlearn: 0.0012512\ttest: 0.0282372\tbest: 0.0282372 (154)\ttotal: 3.09s\tremaining: 399ms\n",
            "155:\tlearn: 0.0012512\ttest: 0.0282375\tbest: 0.0282372 (154)\ttotal: 3.11s\tremaining: 379ms\n",
            "156:\tlearn: 0.0012512\ttest: 0.0282372\tbest: 0.0282372 (156)\ttotal: 3.13s\tremaining: 359ms\n",
            "157:\tlearn: 0.0012512\ttest: 0.0282372\tbest: 0.0282372 (156)\ttotal: 3.15s\tremaining: 339ms\n",
            "158:\tlearn: 0.0012512\ttest: 0.0282372\tbest: 0.0282372 (156)\ttotal: 3.17s\tremaining: 319ms\n",
            "159:\tlearn: 0.0012512\ttest: 0.0282373\tbest: 0.0282372 (156)\ttotal: 3.2s\tremaining: 300ms\n",
            "160:\tlearn: 0.0012511\ttest: 0.0282375\tbest: 0.0282372 (156)\ttotal: 3.22s\tremaining: 280ms\n",
            "161:\tlearn: 0.0012511\ttest: 0.0282380\tbest: 0.0282372 (156)\ttotal: 3.23s\tremaining: 260ms\n",
            "162:\tlearn: 0.0012510\ttest: 0.0282381\tbest: 0.0282372 (156)\ttotal: 3.25s\tremaining: 240ms\n",
            "163:\tlearn: 0.0012510\ttest: 0.0282378\tbest: 0.0282372 (156)\ttotal: 3.27s\tremaining: 219ms\n",
            "164:\tlearn: 0.0012510\ttest: 0.0282379\tbest: 0.0282372 (156)\ttotal: 3.29s\tremaining: 199ms\n",
            "165:\tlearn: 0.0012510\ttest: 0.0282380\tbest: 0.0282372 (156)\ttotal: 3.31s\tremaining: 179ms\n",
            "166:\tlearn: 0.0012509\ttest: 0.0282385\tbest: 0.0282372 (156)\ttotal: 3.33s\tremaining: 159ms\n",
            "167:\tlearn: 0.0012509\ttest: 0.0282379\tbest: 0.0282372 (156)\ttotal: 3.35s\tremaining: 139ms\n",
            "168:\tlearn: 0.0012508\ttest: 0.0282384\tbest: 0.0282372 (156)\ttotal: 3.37s\tremaining: 119ms\n",
            "169:\tlearn: 0.0012508\ttest: 0.0282384\tbest: 0.0282372 (156)\ttotal: 3.38s\tremaining: 99.5ms\n",
            "170:\tlearn: 0.0012508\ttest: 0.0282385\tbest: 0.0282372 (156)\ttotal: 3.41s\tremaining: 79.9ms\n",
            "171:\tlearn: 0.0012507\ttest: 0.0282390\tbest: 0.0282372 (156)\ttotal: 3.43s\tremaining: 59.9ms\n",
            "172:\tlearn: 0.0012507\ttest: 0.0282388\tbest: 0.0282372 (156)\ttotal: 3.45s\tremaining: 39.9ms\n",
            "173:\tlearn: 0.0012507\ttest: 0.0282390\tbest: 0.0282372 (156)\ttotal: 3.47s\tremaining: 19.9ms\n",
            "174:\tlearn: 0.0012507\ttest: 0.0282391\tbest: 0.0282372 (156)\ttotal: 3.49s\tremaining: 0us\n",
            "\n",
            "bestTest = 0.02823718098\n",
            "bestIteration = 156\n",
            "\n",
            "0:\tlearn: 0.2167128\ttest: 0.2263109\tbest: 0.2263109 (0)\ttotal: 19.6ms\tremaining: 3.4s\n",
            "1:\tlearn: 0.1056074\ttest: 0.1120273\tbest: 0.1120273 (1)\ttotal: 39.3ms\tremaining: 3.4s\n",
            "2:\tlearn: 0.0702009\ttest: 0.0728547\tbest: 0.0728547 (2)\ttotal: 58.6ms\tremaining: 3.36s\n",
            "3:\tlearn: 0.0571425\ttest: 0.0585720\tbest: 0.0585720 (3)\ttotal: 78.2ms\tremaining: 3.34s\n",
            "4:\tlearn: 0.0507629\ttest: 0.0522792\tbest: 0.0522792 (4)\ttotal: 97.6ms\tremaining: 3.32s\n",
            "5:\tlearn: 0.0434733\ttest: 0.0456540\tbest: 0.0456540 (5)\ttotal: 119ms\tremaining: 3.34s\n",
            "6:\tlearn: 0.0406172\ttest: 0.0428187\tbest: 0.0428187 (6)\ttotal: 150ms\tremaining: 3.61s\n",
            "7:\tlearn: 0.0370658\ttest: 0.0401401\tbest: 0.0401401 (7)\ttotal: 171ms\tremaining: 3.57s\n",
            "8:\tlearn: 0.0340783\ttest: 0.0404200\tbest: 0.0401401 (7)\ttotal: 191ms\tremaining: 3.53s\n",
            "9:\tlearn: 0.0302459\ttest: 0.0387734\tbest: 0.0387734 (9)\ttotal: 211ms\tremaining: 3.49s\n",
            "10:\tlearn: 0.0283490\ttest: 0.0392049\tbest: 0.0387734 (9)\ttotal: 232ms\tremaining: 3.46s\n",
            "11:\tlearn: 0.0279204\ttest: 0.0388870\tbest: 0.0387734 (9)\ttotal: 238ms\tremaining: 3.24s\n",
            "12:\tlearn: 0.0248267\ttest: 0.0363460\tbest: 0.0363460 (12)\ttotal: 267ms\tremaining: 3.33s\n",
            "13:\tlearn: 0.0236875\ttest: 0.0357427\tbest: 0.0357427 (13)\ttotal: 287ms\tremaining: 3.31s\n",
            "14:\tlearn: 0.0222258\ttest: 0.0349428\tbest: 0.0349428 (14)\ttotal: 308ms\tremaining: 3.28s\n",
            "15:\tlearn: 0.0215150\ttest: 0.0348058\tbest: 0.0348058 (15)\ttotal: 327ms\tremaining: 3.25s\n",
            "16:\tlearn: 0.0202078\ttest: 0.0341785\tbest: 0.0341785 (16)\ttotal: 347ms\tremaining: 3.22s\n",
            "17:\tlearn: 0.0201309\ttest: 0.0342703\tbest: 0.0341785 (16)\ttotal: 359ms\tremaining: 3.13s\n",
            "18:\tlearn: 0.0197676\ttest: 0.0340441\tbest: 0.0340441 (18)\ttotal: 379ms\tremaining: 3.11s\n",
            "19:\tlearn: 0.0182577\ttest: 0.0338060\tbest: 0.0338060 (19)\ttotal: 398ms\tremaining: 3.09s\n",
            "20:\tlearn: 0.0169206\ttest: 0.0333463\tbest: 0.0333463 (20)\ttotal: 418ms\tremaining: 3.07s\n",
            "21:\tlearn: 0.0155691\ttest: 0.0332320\tbest: 0.0332320 (21)\ttotal: 438ms\tremaining: 3.04s\n",
            "22:\tlearn: 0.0148387\ttest: 0.0330494\tbest: 0.0330494 (22)\ttotal: 457ms\tremaining: 3.02s\n",
            "23:\tlearn: 0.0139858\ttest: 0.0326273\tbest: 0.0326273 (23)\ttotal: 476ms\tremaining: 3s\n",
            "24:\tlearn: 0.0125564\ttest: 0.0305563\tbest: 0.0305563 (24)\ttotal: 496ms\tremaining: 2.97s\n",
            "25:\tlearn: 0.0115898\ttest: 0.0300295\tbest: 0.0300295 (25)\ttotal: 515ms\tremaining: 2.95s\n",
            "26:\tlearn: 0.0115162\ttest: 0.0300554\tbest: 0.0300295 (25)\ttotal: 524ms\tremaining: 2.87s\n",
            "27:\tlearn: 0.0110573\ttest: 0.0300520\tbest: 0.0300295 (25)\ttotal: 542ms\tremaining: 2.85s\n",
            "28:\tlearn: 0.0105092\ttest: 0.0302714\tbest: 0.0300295 (25)\ttotal: 568ms\tremaining: 2.86s\n",
            "29:\tlearn: 0.0098570\ttest: 0.0302976\tbest: 0.0300295 (25)\ttotal: 590ms\tremaining: 2.85s\n",
            "30:\tlearn: 0.0092227\ttest: 0.0298837\tbest: 0.0298837 (30)\ttotal: 610ms\tremaining: 2.83s\n",
            "31:\tlearn: 0.0087458\ttest: 0.0297264\tbest: 0.0297264 (31)\ttotal: 629ms\tremaining: 2.81s\n",
            "32:\tlearn: 0.0086906\ttest: 0.0298388\tbest: 0.0297264 (31)\ttotal: 648ms\tremaining: 2.79s\n",
            "33:\tlearn: 0.0083869\ttest: 0.0295851\tbest: 0.0295851 (33)\ttotal: 673ms\tremaining: 2.79s\n",
            "34:\tlearn: 0.0080843\ttest: 0.0290894\tbest: 0.0290894 (34)\ttotal: 695ms\tremaining: 2.78s\n",
            "35:\tlearn: 0.0077212\ttest: 0.0294047\tbest: 0.0290894 (34)\ttotal: 714ms\tremaining: 2.76s\n",
            "36:\tlearn: 0.0072936\ttest: 0.0295151\tbest: 0.0290894 (34)\ttotal: 733ms\tremaining: 2.73s\n",
            "37:\tlearn: 0.0072936\ttest: 0.0295151\tbest: 0.0290894 (34)\ttotal: 752ms\tremaining: 2.71s\n",
            "38:\tlearn: 0.0070006\ttest: 0.0296430\tbest: 0.0290894 (34)\ttotal: 780ms\tremaining: 2.72s\n",
            "39:\tlearn: 0.0065676\ttest: 0.0280233\tbest: 0.0280233 (39)\ttotal: 801ms\tremaining: 2.7s\n",
            "40:\tlearn: 0.0062995\ttest: 0.0278975\tbest: 0.0278975 (40)\ttotal: 821ms\tremaining: 2.68s\n",
            "41:\tlearn: 0.0062994\ttest: 0.0278978\tbest: 0.0278975 (40)\ttotal: 840ms\tremaining: 2.66s\n",
            "42:\tlearn: 0.0059402\ttest: 0.0276265\tbest: 0.0276265 (42)\ttotal: 860ms\tremaining: 2.64s\n",
            "43:\tlearn: 0.0057625\ttest: 0.0274213\tbest: 0.0274213 (43)\ttotal: 880ms\tremaining: 2.62s\n",
            "44:\tlearn: 0.0054571\ttest: 0.0272372\tbest: 0.0272372 (44)\ttotal: 900ms\tremaining: 2.6s\n",
            "45:\tlearn: 0.0052506\ttest: 0.0273975\tbest: 0.0272372 (44)\ttotal: 920ms\tremaining: 2.58s\n",
            "46:\tlearn: 0.0051062\ttest: 0.0272264\tbest: 0.0272264 (46)\ttotal: 942ms\tremaining: 2.56s\n",
            "47:\tlearn: 0.0050221\ttest: 0.0270166\tbest: 0.0270166 (47)\ttotal: 962ms\tremaining: 2.54s\n",
            "48:\tlearn: 0.0048383\ttest: 0.0267661\tbest: 0.0267661 (48)\ttotal: 985ms\tremaining: 2.53s\n",
            "49:\tlearn: 0.0048380\ttest: 0.0267654\tbest: 0.0267654 (49)\ttotal: 1s\tremaining: 2.51s\n",
            "50:\tlearn: 0.0047025\ttest: 0.0269872\tbest: 0.0267654 (49)\ttotal: 1.02s\tremaining: 2.49s\n",
            "51:\tlearn: 0.0045085\ttest: 0.0264631\tbest: 0.0264631 (51)\ttotal: 1.04s\tremaining: 2.47s\n",
            "52:\tlearn: 0.0045085\ttest: 0.0264631\tbest: 0.0264631 (52)\ttotal: 1.06s\tremaining: 2.44s\n",
            "53:\tlearn: 0.0043036\ttest: 0.0261800\tbest: 0.0261800 (53)\ttotal: 1.08s\tremaining: 2.42s\n",
            "54:\tlearn: 0.0042111\ttest: 0.0262031\tbest: 0.0261800 (53)\ttotal: 1.1s\tremaining: 2.4s\n",
            "55:\tlearn: 0.0040411\ttest: 0.0259490\tbest: 0.0259490 (55)\ttotal: 1.12s\tremaining: 2.38s\n",
            "56:\tlearn: 0.0040410\ttest: 0.0259489\tbest: 0.0259489 (56)\ttotal: 1.14s\tremaining: 2.36s\n",
            "57:\tlearn: 0.0040410\ttest: 0.0259489\tbest: 0.0259489 (57)\ttotal: 1.16s\tremaining: 2.33s\n",
            "58:\tlearn: 0.0039783\ttest: 0.0259842\tbest: 0.0259489 (57)\ttotal: 1.18s\tremaining: 2.31s\n",
            "59:\tlearn: 0.0037658\ttest: 0.0258232\tbest: 0.0258232 (59)\ttotal: 1.2s\tremaining: 2.3s\n",
            "60:\tlearn: 0.0036864\ttest: 0.0256261\tbest: 0.0256261 (60)\ttotal: 1.22s\tremaining: 2.28s\n",
            "61:\tlearn: 0.0035485\ttest: 0.0257994\tbest: 0.0256261 (60)\ttotal: 1.24s\tremaining: 2.26s\n",
            "62:\tlearn: 0.0035484\ttest: 0.0257994\tbest: 0.0256261 (60)\ttotal: 1.26s\tremaining: 2.24s\n",
            "63:\tlearn: 0.0034164\ttest: 0.0257071\tbest: 0.0256261 (60)\ttotal: 1.28s\tremaining: 2.22s\n",
            "64:\tlearn: 0.0034164\ttest: 0.0257073\tbest: 0.0256261 (60)\ttotal: 1.3s\tremaining: 2.19s\n",
            "65:\tlearn: 0.0033482\ttest: 0.0256881\tbest: 0.0256261 (60)\ttotal: 1.31s\tremaining: 2.17s\n",
            "66:\tlearn: 0.0033481\ttest: 0.0256885\tbest: 0.0256261 (60)\ttotal: 1.34s\tremaining: 2.15s\n",
            "67:\tlearn: 0.0032733\ttest: 0.0253830\tbest: 0.0253830 (67)\ttotal: 1.36s\tremaining: 2.13s\n",
            "68:\tlearn: 0.0031855\ttest: 0.0255789\tbest: 0.0253830 (67)\ttotal: 1.38s\tremaining: 2.11s\n",
            "69:\tlearn: 0.0031855\ttest: 0.0255792\tbest: 0.0253830 (67)\ttotal: 1.39s\tremaining: 2.09s\n",
            "70:\tlearn: 0.0031126\ttest: 0.0253491\tbest: 0.0253491 (70)\ttotal: 1.42s\tremaining: 2.08s\n",
            "71:\tlearn: 0.0030133\ttest: 0.0258871\tbest: 0.0253491 (70)\ttotal: 1.44s\tremaining: 2.06s\n",
            "72:\tlearn: 0.0030133\ttest: 0.0258872\tbest: 0.0253491 (70)\ttotal: 1.46s\tremaining: 2.04s\n",
            "73:\tlearn: 0.0030132\ttest: 0.0258865\tbest: 0.0253491 (70)\ttotal: 1.48s\tremaining: 2.02s\n",
            "74:\tlearn: 0.0030130\ttest: 0.0258873\tbest: 0.0253491 (70)\ttotal: 1.5s\tremaining: 1.99s\n",
            "75:\tlearn: 0.0030130\ttest: 0.0258871\tbest: 0.0253491 (70)\ttotal: 1.51s\tremaining: 1.97s\n",
            "76:\tlearn: 0.0030126\ttest: 0.0258880\tbest: 0.0253491 (70)\ttotal: 1.53s\tremaining: 1.95s\n",
            "77:\tlearn: 0.0030126\ttest: 0.0258880\tbest: 0.0253491 (70)\ttotal: 1.55s\tremaining: 1.93s\n",
            "78:\tlearn: 0.0030126\ttest: 0.0258881\tbest: 0.0253491 (70)\ttotal: 1.57s\tremaining: 1.91s\n",
            "79:\tlearn: 0.0030125\ttest: 0.0258878\tbest: 0.0253491 (70)\ttotal: 1.59s\tremaining: 1.88s\n",
            "80:\tlearn: 0.0030124\ttest: 0.0258878\tbest: 0.0253491 (70)\ttotal: 1.6s\tremaining: 1.86s\n",
            "81:\tlearn: 0.0029282\ttest: 0.0256450\tbest: 0.0253491 (70)\ttotal: 1.63s\tremaining: 1.85s\n",
            "82:\tlearn: 0.0027999\ttest: 0.0254366\tbest: 0.0253491 (70)\ttotal: 1.65s\tremaining: 1.83s\n",
            "83:\tlearn: 0.0027270\ttest: 0.0252998\tbest: 0.0252998 (83)\ttotal: 1.68s\tremaining: 1.82s\n",
            "84:\tlearn: 0.0027269\ttest: 0.0252997\tbest: 0.0252997 (84)\ttotal: 1.7s\tremaining: 1.8s\n",
            "85:\tlearn: 0.0027268\ttest: 0.0253000\tbest: 0.0252997 (84)\ttotal: 1.72s\tremaining: 1.78s\n",
            "86:\tlearn: 0.0027268\ttest: 0.0253000\tbest: 0.0252997 (84)\ttotal: 1.74s\tremaining: 1.76s\n",
            "87:\tlearn: 0.0027267\ttest: 0.0253003\tbest: 0.0252997 (84)\ttotal: 1.76s\tremaining: 1.74s\n",
            "88:\tlearn: 0.0027263\ttest: 0.0252983\tbest: 0.0252983 (88)\ttotal: 1.78s\tremaining: 1.72s\n",
            "89:\tlearn: 0.0026782\ttest: 0.0253046\tbest: 0.0252983 (88)\ttotal: 1.8s\tremaining: 1.7s\n",
            "90:\tlearn: 0.0026782\ttest: 0.0253045\tbest: 0.0252983 (88)\ttotal: 1.81s\tremaining: 1.68s\n",
            "91:\tlearn: 0.0026772\ttest: 0.0253054\tbest: 0.0252983 (88)\ttotal: 1.83s\tremaining: 1.65s\n",
            "92:\tlearn: 0.0026772\ttest: 0.0253053\tbest: 0.0252983 (88)\ttotal: 1.85s\tremaining: 1.64s\n",
            "93:\tlearn: 0.0026771\ttest: 0.0253046\tbest: 0.0252983 (88)\ttotal: 1.87s\tremaining: 1.61s\n",
            "94:\tlearn: 0.0026771\ttest: 0.0253046\tbest: 0.0252983 (88)\ttotal: 1.89s\tremaining: 1.59s\n",
            "95:\tlearn: 0.0026770\ttest: 0.0253047\tbest: 0.0252983 (88)\ttotal: 1.91s\tremaining: 1.57s\n",
            "96:\tlearn: 0.0026768\ttest: 0.0253051\tbest: 0.0252983 (88)\ttotal: 1.93s\tremaining: 1.55s\n",
            "97:\tlearn: 0.0026767\ttest: 0.0253052\tbest: 0.0252983 (88)\ttotal: 1.95s\tremaining: 1.53s\n",
            "98:\tlearn: 0.0026765\ttest: 0.0253049\tbest: 0.0252983 (88)\ttotal: 1.97s\tremaining: 1.51s\n",
            "99:\tlearn: 0.0026764\ttest: 0.0253051\tbest: 0.0252983 (88)\ttotal: 1.99s\tremaining: 1.49s\n",
            "100:\tlearn: 0.0026764\ttest: 0.0253050\tbest: 0.0252983 (88)\ttotal: 2.01s\tremaining: 1.47s\n",
            "101:\tlearn: 0.0026763\ttest: 0.0253051\tbest: 0.0252983 (88)\ttotal: 2.03s\tremaining: 1.45s\n",
            "102:\tlearn: 0.0026763\ttest: 0.0253052\tbest: 0.0252983 (88)\ttotal: 2.05s\tremaining: 1.43s\n",
            "103:\tlearn: 0.0026762\ttest: 0.0253051\tbest: 0.0252983 (88)\ttotal: 2.07s\tremaining: 1.42s\n",
            "104:\tlearn: 0.0026762\ttest: 0.0253050\tbest: 0.0252983 (88)\ttotal: 2.09s\tremaining: 1.4s\n",
            "105:\tlearn: 0.0025909\ttest: 0.0255126\tbest: 0.0252983 (88)\ttotal: 2.11s\tremaining: 1.38s\n",
            "106:\tlearn: 0.0025436\ttest: 0.0253316\tbest: 0.0252983 (88)\ttotal: 2.13s\tremaining: 1.35s\n",
            "107:\tlearn: 0.0025435\ttest: 0.0253313\tbest: 0.0252983 (88)\ttotal: 2.15s\tremaining: 1.33s\n",
            "108:\tlearn: 0.0025435\ttest: 0.0253314\tbest: 0.0252983 (88)\ttotal: 2.17s\tremaining: 1.31s\n",
            "109:\tlearn: 0.0025435\ttest: 0.0253314\tbest: 0.0252983 (88)\ttotal: 2.19s\tremaining: 1.29s\n",
            "110:\tlearn: 0.0024688\ttest: 0.0253614\tbest: 0.0252983 (88)\ttotal: 2.21s\tremaining: 1.27s\n",
            "111:\tlearn: 0.0024688\ttest: 0.0253615\tbest: 0.0252983 (88)\ttotal: 2.23s\tremaining: 1.25s\n",
            "112:\tlearn: 0.0024688\ttest: 0.0253616\tbest: 0.0252983 (88)\ttotal: 2.24s\tremaining: 1.23s\n",
            "113:\tlearn: 0.0024161\ttest: 0.0252601\tbest: 0.0252601 (113)\ttotal: 2.26s\tremaining: 1.21s\n",
            "114:\tlearn: 0.0023647\ttest: 0.0255811\tbest: 0.0252601 (113)\ttotal: 2.29s\tremaining: 1.19s\n",
            "115:\tlearn: 0.0023646\ttest: 0.0255812\tbest: 0.0252601 (113)\ttotal: 2.31s\tremaining: 1.18s\n",
            "116:\tlearn: 0.0022989\ttest: 0.0255245\tbest: 0.0252601 (113)\ttotal: 2.33s\tremaining: 1.16s\n",
            "117:\tlearn: 0.0022447\ttest: 0.0257106\tbest: 0.0252601 (113)\ttotal: 2.35s\tremaining: 1.14s\n",
            "118:\tlearn: 0.0022444\ttest: 0.0257111\tbest: 0.0252601 (113)\ttotal: 2.37s\tremaining: 1.11s\n",
            "119:\tlearn: 0.0022444\ttest: 0.0257111\tbest: 0.0252601 (113)\ttotal: 2.39s\tremaining: 1.09s\n",
            "120:\tlearn: 0.0022443\ttest: 0.0257112\tbest: 0.0252601 (113)\ttotal: 2.41s\tremaining: 1.07s\n",
            "121:\tlearn: 0.0022443\ttest: 0.0257109\tbest: 0.0252601 (113)\ttotal: 2.42s\tremaining: 1.05s\n",
            "122:\tlearn: 0.0022442\ttest: 0.0257109\tbest: 0.0252601 (113)\ttotal: 2.44s\tremaining: 1.03s\n",
            "123:\tlearn: 0.0022441\ttest: 0.0257109\tbest: 0.0252601 (113)\ttotal: 2.46s\tremaining: 1.01s\n",
            "124:\tlearn: 0.0022441\ttest: 0.0257106\tbest: 0.0252601 (113)\ttotal: 2.48s\tremaining: 992ms\n",
            "125:\tlearn: 0.0022441\ttest: 0.0257106\tbest: 0.0252601 (113)\ttotal: 2.51s\tremaining: 975ms\n",
            "126:\tlearn: 0.0021664\ttest: 0.0251655\tbest: 0.0251655 (126)\ttotal: 2.53s\tremaining: 955ms\n",
            "127:\tlearn: 0.0021402\ttest: 0.0253208\tbest: 0.0251655 (126)\ttotal: 2.54s\tremaining: 935ms\n",
            "128:\tlearn: 0.0021402\ttest: 0.0253202\tbest: 0.0251655 (126)\ttotal: 2.56s\tremaining: 914ms\n",
            "129:\tlearn: 0.0021401\ttest: 0.0253200\tbest: 0.0251655 (126)\ttotal: 2.58s\tremaining: 894ms\n",
            "130:\tlearn: 0.0021401\ttest: 0.0253200\tbest: 0.0251655 (126)\ttotal: 2.6s\tremaining: 874ms\n",
            "131:\tlearn: 0.0021401\ttest: 0.0253200\tbest: 0.0251655 (126)\ttotal: 2.62s\tremaining: 853ms\n",
            "132:\tlearn: 0.0021400\ttest: 0.0253200\tbest: 0.0251655 (126)\ttotal: 2.64s\tremaining: 833ms\n",
            "133:\tlearn: 0.0021400\ttest: 0.0253198\tbest: 0.0251655 (126)\ttotal: 2.66s\tremaining: 814ms\n",
            "134:\tlearn: 0.0021399\ttest: 0.0253198\tbest: 0.0251655 (126)\ttotal: 2.69s\tremaining: 797ms\n",
            "135:\tlearn: 0.0021399\ttest: 0.0253198\tbest: 0.0251655 (126)\ttotal: 2.71s\tremaining: 776ms\n",
            "136:\tlearn: 0.0021399\ttest: 0.0253198\tbest: 0.0251655 (126)\ttotal: 2.73s\tremaining: 757ms\n",
            "137:\tlearn: 0.0021399\ttest: 0.0253198\tbest: 0.0251655 (126)\ttotal: 2.75s\tremaining: 737ms\n",
            "138:\tlearn: 0.0021399\ttest: 0.0253196\tbest: 0.0251655 (126)\ttotal: 2.77s\tremaining: 717ms\n",
            "139:\tlearn: 0.0021399\ttest: 0.0253196\tbest: 0.0251655 (126)\ttotal: 2.79s\tremaining: 696ms\n",
            "140:\tlearn: 0.0021399\ttest: 0.0253195\tbest: 0.0251655 (126)\ttotal: 2.8s\tremaining: 676ms\n",
            "141:\tlearn: 0.0021398\ttest: 0.0253196\tbest: 0.0251655 (126)\ttotal: 2.82s\tremaining: 656ms\n",
            "142:\tlearn: 0.0021398\ttest: 0.0253195\tbest: 0.0251655 (126)\ttotal: 2.84s\tremaining: 636ms\n",
            "143:\tlearn: 0.0021398\ttest: 0.0253194\tbest: 0.0251655 (126)\ttotal: 2.86s\tremaining: 616ms\n",
            "144:\tlearn: 0.0021398\ttest: 0.0253194\tbest: 0.0251655 (126)\ttotal: 2.88s\tremaining: 596ms\n",
            "145:\tlearn: 0.0021398\ttest: 0.0253195\tbest: 0.0251655 (126)\ttotal: 2.9s\tremaining: 576ms\n",
            "146:\tlearn: 0.0021398\ttest: 0.0253194\tbest: 0.0251655 (126)\ttotal: 2.92s\tremaining: 555ms\n",
            "147:\tlearn: 0.0021397\ttest: 0.0253194\tbest: 0.0251655 (126)\ttotal: 2.94s\tremaining: 536ms\n",
            "148:\tlearn: 0.0021397\ttest: 0.0253194\tbest: 0.0251655 (126)\ttotal: 2.96s\tremaining: 516ms\n",
            "149:\tlearn: 0.0021397\ttest: 0.0253195\tbest: 0.0251655 (126)\ttotal: 2.98s\tremaining: 496ms\n",
            "150:\tlearn: 0.0021397\ttest: 0.0253195\tbest: 0.0251655 (126)\ttotal: 3s\tremaining: 476ms\n",
            "151:\tlearn: 0.0021397\ttest: 0.0253195\tbest: 0.0251655 (126)\ttotal: 3.02s\tremaining: 456ms\n",
            "152:\tlearn: 0.0021397\ttest: 0.0253195\tbest: 0.0251655 (126)\ttotal: 3.03s\tremaining: 436ms\n",
            "153:\tlearn: 0.0021396\ttest: 0.0253194\tbest: 0.0251655 (126)\ttotal: 3.05s\tremaining: 416ms\n",
            "154:\tlearn: 0.0021396\ttest: 0.0253194\tbest: 0.0251655 (126)\ttotal: 3.07s\tremaining: 396ms\n",
            "155:\tlearn: 0.0021396\ttest: 0.0253193\tbest: 0.0251655 (126)\ttotal: 3.09s\tremaining: 377ms\n",
            "156:\tlearn: 0.0021396\ttest: 0.0253193\tbest: 0.0251655 (126)\ttotal: 3.11s\tremaining: 357ms\n",
            "157:\tlearn: 0.0021395\ttest: 0.0253190\tbest: 0.0251655 (126)\ttotal: 3.13s\tremaining: 337ms\n",
            "158:\tlearn: 0.0021395\ttest: 0.0253188\tbest: 0.0251655 (126)\ttotal: 3.15s\tremaining: 318ms\n",
            "159:\tlearn: 0.0021394\ttest: 0.0253183\tbest: 0.0251655 (126)\ttotal: 3.17s\tremaining: 298ms\n",
            "160:\tlearn: 0.0021394\ttest: 0.0253183\tbest: 0.0251655 (126)\ttotal: 3.19s\tremaining: 278ms\n",
            "161:\tlearn: 0.0021394\ttest: 0.0253183\tbest: 0.0251655 (126)\ttotal: 3.22s\tremaining: 258ms\n",
            "162:\tlearn: 0.0021394\ttest: 0.0253183\tbest: 0.0251655 (126)\ttotal: 3.25s\tremaining: 239ms\n",
            "163:\tlearn: 0.0021394\ttest: 0.0253182\tbest: 0.0251655 (126)\ttotal: 3.27s\tremaining: 219ms\n",
            "164:\tlearn: 0.0021394\ttest: 0.0253181\tbest: 0.0251655 (126)\ttotal: 3.29s\tremaining: 199ms\n",
            "165:\tlearn: 0.0021393\ttest: 0.0253180\tbest: 0.0251655 (126)\ttotal: 3.31s\tremaining: 179ms\n",
            "166:\tlearn: 0.0021393\ttest: 0.0253180\tbest: 0.0251655 (126)\ttotal: 3.32s\tremaining: 159ms\n",
            "167:\tlearn: 0.0021393\ttest: 0.0253180\tbest: 0.0251655 (126)\ttotal: 3.34s\tremaining: 139ms\n",
            "168:\tlearn: 0.0021393\ttest: 0.0253180\tbest: 0.0251655 (126)\ttotal: 3.36s\tremaining: 119ms\n",
            "169:\tlearn: 0.0021392\ttest: 0.0253179\tbest: 0.0251655 (126)\ttotal: 3.38s\tremaining: 99.5ms\n",
            "170:\tlearn: 0.0021392\ttest: 0.0253178\tbest: 0.0251655 (126)\ttotal: 3.4s\tremaining: 79.6ms\n",
            "171:\tlearn: 0.0021392\ttest: 0.0253178\tbest: 0.0251655 (126)\ttotal: 3.42s\tremaining: 59.7ms\n",
            "172:\tlearn: 0.0021391\ttest: 0.0253178\tbest: 0.0251655 (126)\ttotal: 3.44s\tremaining: 39.7ms\n",
            "173:\tlearn: 0.0021391\ttest: 0.0253176\tbest: 0.0251655 (126)\ttotal: 3.46s\tremaining: 19.9ms\n",
            "174:\tlearn: 0.0021391\ttest: 0.0253176\tbest: 0.0251655 (126)\ttotal: 3.48s\tremaining: 0us\n",
            "\n",
            "bestTest = 0.02516545836\n",
            "bestIteration = 126\n",
            "\n",
            "0:\tlearn: 0.2979110\ttest: 0.3052681\tbest: 0.3052681 (0)\ttotal: 19.9ms\tremaining: 3.47s\n",
            "1:\tlearn: 0.1750727\ttest: 0.1806552\tbest: 0.1806552 (1)\ttotal: 40.1ms\tremaining: 3.47s\n",
            "2:\tlearn: 0.1095620\ttest: 0.1126754\tbest: 0.1126754 (2)\ttotal: 59.3ms\tremaining: 3.4s\n",
            "3:\tlearn: 0.0849372\ttest: 0.0861888\tbest: 0.0861888 (3)\ttotal: 79.4ms\tremaining: 3.4s\n",
            "4:\tlearn: 0.0703517\ttest: 0.0715874\tbest: 0.0715874 (4)\ttotal: 105ms\tremaining: 3.57s\n",
            "5:\tlearn: 0.0606332\ttest: 0.0629377\tbest: 0.0629377 (5)\ttotal: 125ms\tremaining: 3.53s\n",
            "6:\tlearn: 0.0540797\ttest: 0.0563437\tbest: 0.0563437 (6)\ttotal: 145ms\tremaining: 3.48s\n",
            "7:\tlearn: 0.0481285\ttest: 0.0514476\tbest: 0.0514476 (7)\ttotal: 165ms\tremaining: 3.44s\n",
            "8:\tlearn: 0.0447503\ttest: 0.0482978\tbest: 0.0482978 (8)\ttotal: 184ms\tremaining: 3.4s\n",
            "9:\tlearn: 0.0398066\ttest: 0.0443664\tbest: 0.0443664 (9)\ttotal: 213ms\tremaining: 3.52s\n",
            "10:\tlearn: 0.0374427\ttest: 0.0418705\tbest: 0.0418705 (10)\ttotal: 233ms\tremaining: 3.47s\n",
            "11:\tlearn: 0.0364161\ttest: 0.0415831\tbest: 0.0415831 (11)\ttotal: 258ms\tremaining: 3.51s\n",
            "12:\tlearn: 0.0358713\ttest: 0.0411384\tbest: 0.0411384 (12)\ttotal: 278ms\tremaining: 3.47s\n",
            "13:\tlearn: 0.0354620\ttest: 0.0409080\tbest: 0.0409080 (13)\ttotal: 304ms\tremaining: 3.5s\n",
            "14:\tlearn: 0.0343253\ttest: 0.0401971\tbest: 0.0401971 (14)\ttotal: 328ms\tremaining: 3.5s\n",
            "15:\tlearn: 0.0325228\ttest: 0.0390429\tbest: 0.0390429 (15)\ttotal: 349ms\tremaining: 3.47s\n",
            "16:\tlearn: 0.0310566\ttest: 0.0387776\tbest: 0.0387776 (16)\ttotal: 370ms\tremaining: 3.44s\n",
            "17:\tlearn: 0.0297354\ttest: 0.0377622\tbest: 0.0377622 (17)\ttotal: 391ms\tremaining: 3.41s\n",
            "18:\tlearn: 0.0286239\ttest: 0.0369874\tbest: 0.0369874 (18)\ttotal: 411ms\tremaining: 3.37s\n",
            "19:\tlearn: 0.0272772\ttest: 0.0368248\tbest: 0.0368248 (19)\ttotal: 431ms\tremaining: 3.34s\n",
            "20:\tlearn: 0.0271495\ttest: 0.0368952\tbest: 0.0368248 (19)\ttotal: 437ms\tremaining: 3.21s\n",
            "21:\tlearn: 0.0261546\ttest: 0.0367389\tbest: 0.0367389 (21)\ttotal: 457ms\tremaining: 3.18s\n",
            "22:\tlearn: 0.0250519\ttest: 0.0364772\tbest: 0.0364772 (22)\ttotal: 478ms\tremaining: 3.16s\n",
            "23:\tlearn: 0.0240322\ttest: 0.0360757\tbest: 0.0360757 (23)\ttotal: 498ms\tremaining: 3.13s\n",
            "24:\tlearn: 0.0229019\ttest: 0.0356553\tbest: 0.0356553 (24)\ttotal: 526ms\tremaining: 3.16s\n",
            "25:\tlearn: 0.0229018\ttest: 0.0356557\tbest: 0.0356553 (24)\ttotal: 532ms\tremaining: 3.05s\n",
            "26:\tlearn: 0.0222748\ttest: 0.0354233\tbest: 0.0354233 (26)\ttotal: 552ms\tremaining: 3.02s\n",
            "27:\tlearn: 0.0217044\ttest: 0.0353313\tbest: 0.0353313 (27)\ttotal: 572ms\tremaining: 3s\n",
            "28:\tlearn: 0.0207126\ttest: 0.0334583\tbest: 0.0334583 (28)\ttotal: 593ms\tremaining: 2.99s\n",
            "29:\tlearn: 0.0200785\ttest: 0.0327685\tbest: 0.0327685 (29)\ttotal: 613ms\tremaining: 2.96s\n",
            "30:\tlearn: 0.0200772\ttest: 0.0327752\tbest: 0.0327685 (29)\ttotal: 620ms\tremaining: 2.88s\n",
            "31:\tlearn: 0.0192553\ttest: 0.0323524\tbest: 0.0323524 (31)\ttotal: 641ms\tremaining: 2.86s\n",
            "32:\tlearn: 0.0188722\ttest: 0.0321102\tbest: 0.0321102 (32)\ttotal: 660ms\tremaining: 2.84s\n",
            "33:\tlearn: 0.0178051\ttest: 0.0315640\tbest: 0.0315640 (33)\ttotal: 680ms\tremaining: 2.82s\n",
            "34:\tlearn: 0.0178046\ttest: 0.0315663\tbest: 0.0315640 (33)\ttotal: 684ms\tremaining: 2.73s\n",
            "35:\tlearn: 0.0173240\ttest: 0.0317406\tbest: 0.0315640 (33)\ttotal: 703ms\tremaining: 2.71s\n",
            "36:\tlearn: 0.0171657\ttest: 0.0315350\tbest: 0.0315350 (36)\ttotal: 708ms\tremaining: 2.64s\n",
            "37:\tlearn: 0.0162549\ttest: 0.0308586\tbest: 0.0308586 (37)\ttotal: 736ms\tremaining: 2.65s\n",
            "38:\tlearn: 0.0156158\ttest: 0.0302258\tbest: 0.0302258 (38)\ttotal: 755ms\tremaining: 2.63s\n",
            "39:\tlearn: 0.0146639\ttest: 0.0285868\tbest: 0.0285868 (39)\ttotal: 774ms\tremaining: 2.61s\n",
            "40:\tlearn: 0.0146639\ttest: 0.0285867\tbest: 0.0285867 (40)\ttotal: 779ms\tremaining: 2.54s\n",
            "41:\tlearn: 0.0142624\ttest: 0.0284278\tbest: 0.0284278 (41)\ttotal: 798ms\tremaining: 2.53s\n",
            "42:\tlearn: 0.0139792\ttest: 0.0281994\tbest: 0.0281994 (42)\ttotal: 817ms\tremaining: 2.51s\n",
            "43:\tlearn: 0.0139792\ttest: 0.0281995\tbest: 0.0281994 (42)\ttotal: 821ms\tremaining: 2.44s\n",
            "44:\tlearn: 0.0136313\ttest: 0.0281904\tbest: 0.0281904 (44)\ttotal: 840ms\tremaining: 2.43s\n",
            "45:\tlearn: 0.0132369\ttest: 0.0278951\tbest: 0.0278951 (45)\ttotal: 860ms\tremaining: 2.41s\n",
            "46:\tlearn: 0.0132369\ttest: 0.0278957\tbest: 0.0278951 (45)\ttotal: 864ms\tremaining: 2.35s\n",
            "47:\tlearn: 0.0132368\ttest: 0.0278956\tbest: 0.0278951 (45)\ttotal: 882ms\tremaining: 2.33s\n",
            "48:\tlearn: 0.0128983\ttest: 0.0277748\tbest: 0.0277748 (48)\ttotal: 903ms\tremaining: 2.32s\n",
            "49:\tlearn: 0.0126701\ttest: 0.0276378\tbest: 0.0276378 (49)\ttotal: 923ms\tremaining: 2.31s\n",
            "50:\tlearn: 0.0124854\ttest: 0.0275176\tbest: 0.0275176 (50)\ttotal: 950ms\tremaining: 2.31s\n",
            "51:\tlearn: 0.0124854\ttest: 0.0275176\tbest: 0.0275176 (50)\ttotal: 956ms\tremaining: 2.26s\n",
            "52:\tlearn: 0.0122871\ttest: 0.0270188\tbest: 0.0270188 (52)\ttotal: 975ms\tremaining: 2.25s\n",
            "53:\tlearn: 0.0120062\ttest: 0.0269952\tbest: 0.0269952 (53)\ttotal: 995ms\tremaining: 2.23s\n",
            "54:\tlearn: 0.0119518\ttest: 0.0269566\tbest: 0.0269566 (54)\ttotal: 1.02s\tremaining: 2.22s\n",
            "55:\tlearn: 0.0116355\ttest: 0.0268037\tbest: 0.0268037 (55)\ttotal: 1.04s\tremaining: 2.2s\n",
            "56:\tlearn: 0.0113046\ttest: 0.0265741\tbest: 0.0265741 (56)\ttotal: 1.06s\tremaining: 2.19s\n",
            "57:\tlearn: 0.0108839\ttest: 0.0264217\tbest: 0.0264217 (57)\ttotal: 1.07s\tremaining: 2.17s\n",
            "58:\tlearn: 0.0108839\ttest: 0.0264218\tbest: 0.0264217 (57)\ttotal: 1.09s\tremaining: 2.15s\n",
            "59:\tlearn: 0.0106398\ttest: 0.0260351\tbest: 0.0260351 (59)\ttotal: 1.11s\tremaining: 2.13s\n",
            "60:\tlearn: 0.0106389\ttest: 0.0260357\tbest: 0.0260351 (59)\ttotal: 1.13s\tremaining: 2.12s\n",
            "61:\tlearn: 0.0103212\ttest: 0.0260532\tbest: 0.0260351 (59)\ttotal: 1.17s\tremaining: 2.13s\n",
            "62:\tlearn: 0.0101097\ttest: 0.0258309\tbest: 0.0258309 (62)\ttotal: 1.19s\tremaining: 2.11s\n",
            "63:\tlearn: 0.0098750\ttest: 0.0258380\tbest: 0.0258309 (62)\ttotal: 1.22s\tremaining: 2.11s\n",
            "64:\tlearn: 0.0096203\ttest: 0.0258591\tbest: 0.0258309 (62)\ttotal: 1.24s\tremaining: 2.09s\n",
            "65:\tlearn: 0.0093968\ttest: 0.0257809\tbest: 0.0257809 (65)\ttotal: 1.26s\tremaining: 2.07s\n",
            "66:\tlearn: 0.0092406\ttest: 0.0255422\tbest: 0.0255422 (66)\ttotal: 1.28s\tremaining: 2.06s\n",
            "67:\tlearn: 0.0092406\ttest: 0.0255422\tbest: 0.0255422 (67)\ttotal: 1.29s\tremaining: 2.04s\n",
            "68:\tlearn: 0.0088886\ttest: 0.0249531\tbest: 0.0249531 (68)\ttotal: 1.31s\tremaining: 2.02s\n",
            "69:\tlearn: 0.0086614\ttest: 0.0249502\tbest: 0.0249502 (69)\ttotal: 1.33s\tremaining: 2s\n",
            "70:\tlearn: 0.0086614\ttest: 0.0249502\tbest: 0.0249502 (69)\ttotal: 1.36s\tremaining: 1.99s\n",
            "71:\tlearn: 0.0085618\ttest: 0.0247528\tbest: 0.0247528 (71)\ttotal: 1.38s\tremaining: 1.98s\n",
            "72:\tlearn: 0.0083433\ttest: 0.0246027\tbest: 0.0246027 (72)\ttotal: 1.4s\tremaining: 1.96s\n",
            "73:\tlearn: 0.0081244\ttest: 0.0244291\tbest: 0.0244291 (73)\ttotal: 1.42s\tremaining: 1.94s\n",
            "74:\tlearn: 0.0078395\ttest: 0.0241786\tbest: 0.0241786 (74)\ttotal: 1.44s\tremaining: 1.92s\n",
            "75:\tlearn: 0.0077312\ttest: 0.0241766\tbest: 0.0241766 (75)\ttotal: 1.46s\tremaining: 1.91s\n",
            "76:\tlearn: 0.0075785\ttest: 0.0238332\tbest: 0.0238332 (76)\ttotal: 1.48s\tremaining: 1.89s\n",
            "77:\tlearn: 0.0075784\ttest: 0.0238332\tbest: 0.0238332 (76)\ttotal: 1.5s\tremaining: 1.86s\n",
            "78:\tlearn: 0.0072196\ttest: 0.0240075\tbest: 0.0238332 (76)\ttotal: 1.52s\tremaining: 1.85s\n",
            "79:\tlearn: 0.0072195\ttest: 0.0240077\tbest: 0.0238332 (76)\ttotal: 1.54s\tremaining: 1.83s\n",
            "80:\tlearn: 0.0070738\ttest: 0.0238458\tbest: 0.0238332 (76)\ttotal: 1.56s\tremaining: 1.81s\n",
            "81:\tlearn: 0.0068072\ttest: 0.0236538\tbest: 0.0236538 (81)\ttotal: 1.58s\tremaining: 1.79s\n",
            "82:\tlearn: 0.0068072\ttest: 0.0236538\tbest: 0.0236538 (81)\ttotal: 1.61s\tremaining: 1.78s\n",
            "83:\tlearn: 0.0065961\ttest: 0.0233481\tbest: 0.0233481 (83)\ttotal: 1.63s\tremaining: 1.76s\n",
            "84:\tlearn: 0.0065078\ttest: 0.0233069\tbest: 0.0233069 (84)\ttotal: 1.65s\tremaining: 1.74s\n",
            "85:\tlearn: 0.0064352\ttest: 0.0234190\tbest: 0.0233069 (84)\ttotal: 1.67s\tremaining: 1.72s\n",
            "86:\tlearn: 0.0062560\ttest: 0.0231544\tbest: 0.0231544 (86)\ttotal: 1.69s\tremaining: 1.71s\n",
            "87:\tlearn: 0.0061125\ttest: 0.0229993\tbest: 0.0229993 (87)\ttotal: 1.71s\tremaining: 1.69s\n",
            "88:\tlearn: 0.0061125\ttest: 0.0229991\tbest: 0.0229991 (88)\ttotal: 1.73s\tremaining: 1.67s\n",
            "89:\tlearn: 0.0059713\ttest: 0.0229028\tbest: 0.0229028 (89)\ttotal: 1.75s\tremaining: 1.65s\n",
            "90:\tlearn: 0.0059713\ttest: 0.0229024\tbest: 0.0229024 (90)\ttotal: 1.77s\tremaining: 1.63s\n",
            "91:\tlearn: 0.0058849\ttest: 0.0229547\tbest: 0.0229024 (90)\ttotal: 1.79s\tremaining: 1.61s\n",
            "92:\tlearn: 0.0058849\ttest: 0.0229544\tbest: 0.0229024 (90)\ttotal: 1.81s\tremaining: 1.59s\n",
            "93:\tlearn: 0.0058848\ttest: 0.0229550\tbest: 0.0229024 (90)\ttotal: 1.83s\tremaining: 1.58s\n",
            "94:\tlearn: 0.0057981\ttest: 0.0228906\tbest: 0.0228906 (94)\ttotal: 1.85s\tremaining: 1.56s\n",
            "95:\tlearn: 0.0057981\ttest: 0.0228906\tbest: 0.0228906 (94)\ttotal: 1.87s\tremaining: 1.54s\n",
            "96:\tlearn: 0.0057980\ttest: 0.0228909\tbest: 0.0228906 (94)\ttotal: 1.89s\tremaining: 1.52s\n",
            "97:\tlearn: 0.0057083\ttest: 0.0226957\tbest: 0.0226957 (97)\ttotal: 1.91s\tremaining: 1.5s\n",
            "98:\tlearn: 0.0057083\ttest: 0.0226957\tbest: 0.0226957 (98)\ttotal: 1.93s\tremaining: 1.48s\n",
            "99:\tlearn: 0.0056256\ttest: 0.0226097\tbest: 0.0226097 (99)\ttotal: 1.95s\tremaining: 1.46s\n",
            "100:\tlearn: 0.0056256\ttest: 0.0226097\tbest: 0.0226097 (99)\ttotal: 1.96s\tremaining: 1.44s\n",
            "101:\tlearn: 0.0055212\ttest: 0.0223834\tbest: 0.0223834 (101)\ttotal: 1.98s\tremaining: 1.42s\n",
            "102:\tlearn: 0.0054632\ttest: 0.0222421\tbest: 0.0222421 (102)\ttotal: 2s\tremaining: 1.4s\n",
            "103:\tlearn: 0.0054104\ttest: 0.0222368\tbest: 0.0222368 (103)\ttotal: 2.03s\tremaining: 1.38s\n",
            "104:\tlearn: 0.0052849\ttest: 0.0221649\tbest: 0.0221649 (104)\ttotal: 2.06s\tremaining: 1.37s\n",
            "105:\tlearn: 0.0052149\ttest: 0.0220742\tbest: 0.0220742 (105)\ttotal: 2.08s\tremaining: 1.35s\n",
            "106:\tlearn: 0.0051141\ttest: 0.0218804\tbest: 0.0218804 (106)\ttotal: 2.1s\tremaining: 1.33s\n",
            "107:\tlearn: 0.0051141\ttest: 0.0218804\tbest: 0.0218804 (107)\ttotal: 2.12s\tremaining: 1.31s\n",
            "108:\tlearn: 0.0049735\ttest: 0.0218544\tbest: 0.0218544 (108)\ttotal: 2.14s\tremaining: 1.29s\n",
            "109:\tlearn: 0.0049137\ttest: 0.0218105\tbest: 0.0218105 (109)\ttotal: 2.16s\tremaining: 1.27s\n",
            "110:\tlearn: 0.0048012\ttest: 0.0218286\tbest: 0.0218105 (109)\ttotal: 2.18s\tremaining: 1.25s\n",
            "111:\tlearn: 0.0048011\ttest: 0.0218285\tbest: 0.0218105 (109)\ttotal: 2.19s\tremaining: 1.24s\n",
            "112:\tlearn: 0.0048011\ttest: 0.0218284\tbest: 0.0218105 (109)\ttotal: 2.22s\tremaining: 1.22s\n",
            "113:\tlearn: 0.0048010\ttest: 0.0218283\tbest: 0.0218105 (109)\ttotal: 2.24s\tremaining: 1.2s\n",
            "114:\tlearn: 0.0048010\ttest: 0.0218280\tbest: 0.0218105 (109)\ttotal: 2.27s\tremaining: 1.18s\n",
            "115:\tlearn: 0.0048010\ttest: 0.0218280\tbest: 0.0218105 (109)\ttotal: 2.29s\tremaining: 1.16s\n",
            "116:\tlearn: 0.0048009\ttest: 0.0218279\tbest: 0.0218105 (109)\ttotal: 2.31s\tremaining: 1.14s\n",
            "117:\tlearn: 0.0047231\ttest: 0.0217423\tbest: 0.0217423 (117)\ttotal: 2.33s\tremaining: 1.12s\n",
            "118:\tlearn: 0.0046653\ttest: 0.0218559\tbest: 0.0217423 (117)\ttotal: 2.35s\tremaining: 1.11s\n",
            "119:\tlearn: 0.0045288\ttest: 0.0217031\tbest: 0.0217031 (119)\ttotal: 2.37s\tremaining: 1.09s\n",
            "120:\tlearn: 0.0044762\ttest: 0.0217622\tbest: 0.0217031 (119)\ttotal: 2.39s\tremaining: 1.07s\n",
            "121:\tlearn: 0.0044233\ttest: 0.0217224\tbest: 0.0217031 (119)\ttotal: 2.41s\tremaining: 1.05s\n",
            "122:\tlearn: 0.0042892\ttest: 0.0219049\tbest: 0.0217031 (119)\ttotal: 2.43s\tremaining: 1.03s\n",
            "123:\tlearn: 0.0042346\ttest: 0.0219387\tbest: 0.0217031 (119)\ttotal: 2.45s\tremaining: 1.01s\n",
            "124:\tlearn: 0.0042346\ttest: 0.0219387\tbest: 0.0217031 (119)\ttotal: 2.47s\tremaining: 987ms\n",
            "125:\tlearn: 0.0041925\ttest: 0.0219018\tbest: 0.0217031 (119)\ttotal: 2.49s\tremaining: 970ms\n",
            "126:\tlearn: 0.0041918\ttest: 0.0218976\tbest: 0.0217031 (119)\ttotal: 2.51s\tremaining: 950ms\n",
            "127:\tlearn: 0.0041917\ttest: 0.0218975\tbest: 0.0217031 (119)\ttotal: 2.53s\tremaining: 929ms\n",
            "128:\tlearn: 0.0041917\ttest: 0.0218978\tbest: 0.0217031 (119)\ttotal: 2.55s\tremaining: 909ms\n",
            "129:\tlearn: 0.0041791\ttest: 0.0218385\tbest: 0.0217031 (119)\ttotal: 2.57s\tremaining: 890ms\n",
            "130:\tlearn: 0.0041791\ttest: 0.0218385\tbest: 0.0217031 (119)\ttotal: 2.59s\tremaining: 869ms\n",
            "131:\tlearn: 0.0041781\ttest: 0.0218402\tbest: 0.0217031 (119)\ttotal: 2.61s\tremaining: 849ms\n",
            "132:\tlearn: 0.0041780\ttest: 0.0218402\tbest: 0.0217031 (119)\ttotal: 2.63s\tremaining: 829ms\n",
            "133:\tlearn: 0.0041778\ttest: 0.0218399\tbest: 0.0217031 (119)\ttotal: 2.64s\tremaining: 809ms\n",
            "134:\tlearn: 0.0041546\ttest: 0.0218264\tbest: 0.0217031 (119)\ttotal: 2.67s\tremaining: 790ms\n",
            "135:\tlearn: 0.0041546\ttest: 0.0218263\tbest: 0.0217031 (119)\ttotal: 2.69s\tremaining: 770ms\n",
            "136:\tlearn: 0.0041546\ttest: 0.0218263\tbest: 0.0217031 (119)\ttotal: 2.72s\tremaining: 754ms\n",
            "137:\tlearn: 0.0041545\ttest: 0.0218262\tbest: 0.0217031 (119)\ttotal: 2.74s\tremaining: 734ms\n",
            "138:\tlearn: 0.0041544\ttest: 0.0218259\tbest: 0.0217031 (119)\ttotal: 2.76s\tremaining: 714ms\n",
            "139:\tlearn: 0.0041025\ttest: 0.0218613\tbest: 0.0217031 (119)\ttotal: 2.78s\tremaining: 694ms\n",
            "140:\tlearn: 0.0041025\ttest: 0.0218615\tbest: 0.0217031 (119)\ttotal: 2.8s\tremaining: 674ms\n",
            "141:\tlearn: 0.0041024\ttest: 0.0218616\tbest: 0.0217031 (119)\ttotal: 2.81s\tremaining: 654ms\n",
            "142:\tlearn: 0.0040391\ttest: 0.0219451\tbest: 0.0217031 (119)\ttotal: 2.83s\tremaining: 634ms\n",
            "143:\tlearn: 0.0040390\ttest: 0.0219450\tbest: 0.0217031 (119)\ttotal: 2.85s\tremaining: 614ms\n",
            "144:\tlearn: 0.0039849\ttest: 0.0218236\tbest: 0.0217031 (119)\ttotal: 2.87s\tremaining: 594ms\n",
            "145:\tlearn: 0.0039849\ttest: 0.0218235\tbest: 0.0217031 (119)\ttotal: 2.89s\tremaining: 575ms\n",
            "146:\tlearn: 0.0039848\ttest: 0.0218239\tbest: 0.0217031 (119)\ttotal: 2.91s\tremaining: 554ms\n",
            "147:\tlearn: 0.0039847\ttest: 0.0218244\tbest: 0.0217031 (119)\ttotal: 2.94s\tremaining: 536ms\n",
            "148:\tlearn: 0.0039847\ttest: 0.0218244\tbest: 0.0217031 (119)\ttotal: 2.96s\tremaining: 516ms\n",
            "149:\tlearn: 0.0039847\ttest: 0.0218245\tbest: 0.0217031 (119)\ttotal: 2.97s\tremaining: 496ms\n",
            "150:\tlearn: 0.0039846\ttest: 0.0218246\tbest: 0.0217031 (119)\ttotal: 2.99s\tremaining: 476ms\n",
            "151:\tlearn: 0.0039846\ttest: 0.0218248\tbest: 0.0217031 (119)\ttotal: 3.01s\tremaining: 456ms\n",
            "152:\tlearn: 0.0039845\ttest: 0.0218247\tbest: 0.0217031 (119)\ttotal: 3.03s\tremaining: 436ms\n",
            "153:\tlearn: 0.0039845\ttest: 0.0218248\tbest: 0.0217031 (119)\ttotal: 3.05s\tremaining: 416ms\n",
            "154:\tlearn: 0.0039845\ttest: 0.0218248\tbest: 0.0217031 (119)\ttotal: 3.07s\tremaining: 396ms\n",
            "155:\tlearn: 0.0039845\ttest: 0.0218249\tbest: 0.0217031 (119)\ttotal: 3.09s\tremaining: 376ms\n",
            "156:\tlearn: 0.0039845\ttest: 0.0218249\tbest: 0.0217031 (119)\ttotal: 3.11s\tremaining: 356ms\n",
            "157:\tlearn: 0.0039845\ttest: 0.0218249\tbest: 0.0217031 (119)\ttotal: 3.12s\tremaining: 336ms\n",
            "158:\tlearn: 0.0039844\ttest: 0.0218253\tbest: 0.0217031 (119)\ttotal: 3.15s\tremaining: 317ms\n",
            "159:\tlearn: 0.0039843\ttest: 0.0218256\tbest: 0.0217031 (119)\ttotal: 3.17s\tremaining: 297ms\n",
            "160:\tlearn: 0.0039843\ttest: 0.0218257\tbest: 0.0217031 (119)\ttotal: 3.19s\tremaining: 277ms\n",
            "161:\tlearn: 0.0039837\ttest: 0.0218280\tbest: 0.0217031 (119)\ttotal: 3.21s\tremaining: 258ms\n",
            "162:\tlearn: 0.0039836\ttest: 0.0218280\tbest: 0.0217031 (119)\ttotal: 3.24s\tremaining: 239ms\n",
            "163:\tlearn: 0.0039836\ttest: 0.0218280\tbest: 0.0217031 (119)\ttotal: 3.26s\tremaining: 219ms\n",
            "164:\tlearn: 0.0039834\ttest: 0.0218271\tbest: 0.0217031 (119)\ttotal: 3.28s\tremaining: 199ms\n",
            "165:\tlearn: 0.0039833\ttest: 0.0218269\tbest: 0.0217031 (119)\ttotal: 3.3s\tremaining: 179ms\n",
            "166:\tlearn: 0.0039691\ttest: 0.0218741\tbest: 0.0217031 (119)\ttotal: 3.32s\tremaining: 159ms\n",
            "167:\tlearn: 0.0039691\ttest: 0.0218741\tbest: 0.0217031 (119)\ttotal: 3.34s\tremaining: 139ms\n",
            "168:\tlearn: 0.0039691\ttest: 0.0218741\tbest: 0.0217031 (119)\ttotal: 3.36s\tremaining: 119ms\n",
            "169:\tlearn: 0.0039685\ttest: 0.0218762\tbest: 0.0217031 (119)\ttotal: 3.38s\tremaining: 99.4ms\n",
            "170:\tlearn: 0.0039459\ttest: 0.0218411\tbest: 0.0217031 (119)\ttotal: 3.4s\tremaining: 79.5ms\n",
            "171:\tlearn: 0.0038923\ttest: 0.0219683\tbest: 0.0217031 (119)\ttotal: 3.42s\tremaining: 59.6ms\n",
            "172:\tlearn: 0.0038923\ttest: 0.0219683\tbest: 0.0217031 (119)\ttotal: 3.44s\tremaining: 39.7ms\n",
            "173:\tlearn: 0.0038922\ttest: 0.0219684\tbest: 0.0217031 (119)\ttotal: 3.45s\tremaining: 19.8ms\n",
            "174:\tlearn: 0.0038922\ttest: 0.0219684\tbest: 0.0217031 (119)\ttotal: 3.47s\tremaining: 0us\n",
            "\n",
            "bestTest = 0.02170307998\n",
            "bestIteration = 119\n",
            "\n",
            "0:\tlearn: 0.5159392\ttest: 0.5192545\tbest: 0.5192545 (0)\ttotal: 20.1ms\tremaining: 3.49s\n",
            "1:\tlearn: 0.3896506\ttest: 0.3950280\tbest: 0.3950280 (1)\ttotal: 39.7ms\tremaining: 3.43s\n",
            "2:\tlearn: 0.2911515\ttest: 0.2961473\tbest: 0.2961473 (2)\ttotal: 59.2ms\tremaining: 3.4s\n",
            "3:\tlearn: 0.2295395\ttest: 0.2349767\tbest: 0.2349767 (3)\ttotal: 78.9ms\tremaining: 3.37s\n",
            "4:\tlearn: 0.1819387\ttest: 0.1863251\tbest: 0.1863251 (4)\ttotal: 104ms\tremaining: 3.54s\n",
            "5:\tlearn: 0.1503864\ttest: 0.1539767\tbest: 0.1539767 (5)\ttotal: 124ms\tremaining: 3.5s\n",
            "6:\tlearn: 0.1275627\ttest: 0.1310633\tbest: 0.1310633 (6)\ttotal: 143ms\tremaining: 3.44s\n",
            "7:\tlearn: 0.1129180\ttest: 0.1164978\tbest: 0.1164978 (7)\ttotal: 163ms\tremaining: 3.4s\n",
            "8:\tlearn: 0.1004543\ttest: 0.1032625\tbest: 0.1032625 (8)\ttotal: 186ms\tremaining: 3.42s\n",
            "9:\tlearn: 0.0941372\ttest: 0.0972051\tbest: 0.0972051 (9)\ttotal: 205ms\tremaining: 3.39s\n",
            "10:\tlearn: 0.0874578\ttest: 0.0896617\tbest: 0.0896617 (10)\ttotal: 225ms\tremaining: 3.35s\n",
            "11:\tlearn: 0.0808055\ttest: 0.0830160\tbest: 0.0830160 (11)\ttotal: 244ms\tremaining: 3.31s\n",
            "12:\tlearn: 0.0756413\ttest: 0.0781502\tbest: 0.0781502 (12)\ttotal: 263ms\tremaining: 3.28s\n",
            "13:\tlearn: 0.0696584\ttest: 0.0717720\tbest: 0.0717720 (13)\ttotal: 282ms\tremaining: 3.25s\n",
            "14:\tlearn: 0.0661706\ttest: 0.0681065\tbest: 0.0681065 (14)\ttotal: 302ms\tremaining: 3.22s\n",
            "15:\tlearn: 0.0623132\ttest: 0.0642719\tbest: 0.0642719 (15)\ttotal: 332ms\tremaining: 3.3s\n",
            "16:\tlearn: 0.0597886\ttest: 0.0613970\tbest: 0.0613970 (16)\ttotal: 352ms\tremaining: 3.27s\n",
            "17:\tlearn: 0.0576706\ttest: 0.0591548\tbest: 0.0591548 (17)\ttotal: 361ms\tremaining: 3.15s\n",
            "18:\tlearn: 0.0548728\ttest: 0.0562649\tbest: 0.0562649 (18)\ttotal: 381ms\tremaining: 3.13s\n",
            "19:\tlearn: 0.0530457\ttest: 0.0545137\tbest: 0.0545137 (19)\ttotal: 401ms\tremaining: 3.11s\n",
            "20:\tlearn: 0.0517436\ttest: 0.0530763\tbest: 0.0530763 (20)\ttotal: 421ms\tremaining: 3.09s\n",
            "21:\tlearn: 0.0503008\ttest: 0.0519696\tbest: 0.0519696 (21)\ttotal: 441ms\tremaining: 3.06s\n",
            "22:\tlearn: 0.0489427\ttest: 0.0504106\tbest: 0.0504106 (22)\ttotal: 460ms\tremaining: 3.04s\n",
            "23:\tlearn: 0.0470428\ttest: 0.0482829\tbest: 0.0482829 (23)\ttotal: 480ms\tremaining: 3.02s\n",
            "24:\tlearn: 0.0460047\ttest: 0.0475329\tbest: 0.0475329 (24)\ttotal: 502ms\tremaining: 3.01s\n",
            "25:\tlearn: 0.0449971\ttest: 0.0469981\tbest: 0.0469981 (25)\ttotal: 522ms\tremaining: 2.99s\n",
            "26:\tlearn: 0.0440953\ttest: 0.0462580\tbest: 0.0462580 (26)\ttotal: 550ms\tremaining: 3.02s\n",
            "27:\tlearn: 0.0434339\ttest: 0.0455456\tbest: 0.0455456 (27)\ttotal: 570ms\tremaining: 2.99s\n",
            "28:\tlearn: 0.0425316\ttest: 0.0447086\tbest: 0.0447086 (28)\ttotal: 590ms\tremaining: 2.97s\n",
            "29:\tlearn: 0.0415636\ttest: 0.0441468\tbest: 0.0441468 (29)\ttotal: 610ms\tremaining: 2.95s\n",
            "30:\tlearn: 0.0407167\ttest: 0.0434409\tbest: 0.0434409 (30)\ttotal: 629ms\tremaining: 2.92s\n",
            "31:\tlearn: 0.0398715\ttest: 0.0430529\tbest: 0.0430529 (31)\ttotal: 649ms\tremaining: 2.9s\n",
            "32:\tlearn: 0.0396849\ttest: 0.0427096\tbest: 0.0427096 (32)\ttotal: 654ms\tremaining: 2.81s\n",
            "33:\tlearn: 0.0390447\ttest: 0.0418833\tbest: 0.0418833 (33)\ttotal: 676ms\tremaining: 2.8s\n",
            "34:\tlearn: 0.0381353\ttest: 0.0411768\tbest: 0.0411768 (34)\ttotal: 695ms\tremaining: 2.78s\n",
            "35:\tlearn: 0.0375351\ttest: 0.0411460\tbest: 0.0411460 (35)\ttotal: 715ms\tremaining: 2.76s\n",
            "36:\tlearn: 0.0368846\ttest: 0.0408430\tbest: 0.0408430 (36)\ttotal: 734ms\tremaining: 2.74s\n",
            "37:\tlearn: 0.0362678\ttest: 0.0406944\tbest: 0.0406944 (37)\ttotal: 774ms\tremaining: 2.79s\n",
            "38:\tlearn: 0.0357341\ttest: 0.0405331\tbest: 0.0405331 (38)\ttotal: 794ms\tremaining: 2.77s\n",
            "39:\tlearn: 0.0351167\ttest: 0.0403007\tbest: 0.0403007 (39)\ttotal: 817ms\tremaining: 2.76s\n",
            "40:\tlearn: 0.0343380\ttest: 0.0397380\tbest: 0.0397380 (40)\ttotal: 837ms\tremaining: 2.73s\n",
            "41:\tlearn: 0.0338706\ttest: 0.0394417\tbest: 0.0394417 (41)\ttotal: 856ms\tremaining: 2.71s\n",
            "42:\tlearn: 0.0334412\ttest: 0.0392957\tbest: 0.0392957 (42)\ttotal: 876ms\tremaining: 2.69s\n",
            "43:\tlearn: 0.0332674\ttest: 0.0392058\tbest: 0.0392058 (43)\ttotal: 895ms\tremaining: 2.67s\n",
            "44:\tlearn: 0.0326699\ttest: 0.0387092\tbest: 0.0387092 (44)\ttotal: 915ms\tremaining: 2.64s\n",
            "45:\tlearn: 0.0321761\ttest: 0.0385965\tbest: 0.0385965 (45)\ttotal: 934ms\tremaining: 2.62s\n",
            "46:\tlearn: 0.0317112\ttest: 0.0381046\tbest: 0.0381046 (46)\ttotal: 954ms\tremaining: 2.6s\n",
            "47:\tlearn: 0.0316862\ttest: 0.0380680\tbest: 0.0380680 (47)\ttotal: 959ms\tremaining: 2.54s\n",
            "48:\tlearn: 0.0311714\ttest: 0.0375990\tbest: 0.0375990 (48)\ttotal: 984ms\tremaining: 2.53s\n",
            "49:\tlearn: 0.0307756\ttest: 0.0371559\tbest: 0.0371559 (49)\ttotal: 1s\tremaining: 2.51s\n",
            "50:\tlearn: 0.0303566\ttest: 0.0371996\tbest: 0.0371559 (49)\ttotal: 1.02s\tremaining: 2.49s\n",
            "51:\tlearn: 0.0298658\ttest: 0.0370999\tbest: 0.0370999 (51)\ttotal: 1.04s\tremaining: 2.47s\n",
            "52:\tlearn: 0.0295715\ttest: 0.0370198\tbest: 0.0370198 (52)\ttotal: 1.06s\tremaining: 2.45s\n",
            "53:\tlearn: 0.0288234\ttest: 0.0365604\tbest: 0.0365604 (53)\ttotal: 1.09s\tremaining: 2.44s\n",
            "54:\tlearn: 0.0283902\ttest: 0.0364241\tbest: 0.0364241 (54)\ttotal: 1.11s\tremaining: 2.42s\n",
            "55:\tlearn: 0.0278975\ttest: 0.0363135\tbest: 0.0363135 (55)\ttotal: 1.13s\tremaining: 2.4s\n",
            "56:\tlearn: 0.0274950\ttest: 0.0359170\tbest: 0.0359170 (56)\ttotal: 1.15s\tremaining: 2.38s\n",
            "57:\tlearn: 0.0270730\ttest: 0.0356949\tbest: 0.0356949 (57)\ttotal: 1.17s\tremaining: 2.36s\n",
            "58:\tlearn: 0.0265919\ttest: 0.0355896\tbest: 0.0355896 (58)\ttotal: 1.2s\tremaining: 2.35s\n",
            "59:\tlearn: 0.0264391\ttest: 0.0353508\tbest: 0.0353508 (59)\ttotal: 1.22s\tremaining: 2.33s\n",
            "60:\tlearn: 0.0262209\ttest: 0.0352090\tbest: 0.0352090 (60)\ttotal: 1.24s\tremaining: 2.31s\n",
            "61:\tlearn: 0.0261575\ttest: 0.0351526\tbest: 0.0351526 (61)\ttotal: 1.24s\tremaining: 2.26s\n",
            "62:\tlearn: 0.0258317\ttest: 0.0349870\tbest: 0.0349870 (62)\ttotal: 1.27s\tremaining: 2.27s\n",
            "63:\tlearn: 0.0253921\ttest: 0.0348707\tbest: 0.0348707 (63)\ttotal: 1.29s\tremaining: 2.25s\n",
            "64:\tlearn: 0.0251296\ttest: 0.0347427\tbest: 0.0347427 (64)\ttotal: 1.31s\tremaining: 2.22s\n",
            "65:\tlearn: 0.0249062\ttest: 0.0346158\tbest: 0.0346158 (65)\ttotal: 1.33s\tremaining: 2.2s\n",
            "66:\tlearn: 0.0248832\ttest: 0.0345539\tbest: 0.0345539 (66)\ttotal: 1.34s\tremaining: 2.16s\n",
            "67:\tlearn: 0.0244898\ttest: 0.0342581\tbest: 0.0342581 (67)\ttotal: 1.36s\tremaining: 2.14s\n",
            "68:\tlearn: 0.0244699\ttest: 0.0342771\tbest: 0.0342581 (67)\ttotal: 1.38s\tremaining: 2.12s\n",
            "69:\tlearn: 0.0242332\ttest: 0.0344140\tbest: 0.0342581 (67)\ttotal: 1.4s\tremaining: 2.1s\n",
            "70:\tlearn: 0.0239801\ttest: 0.0343545\tbest: 0.0342581 (67)\ttotal: 1.42s\tremaining: 2.08s\n",
            "71:\tlearn: 0.0237071\ttest: 0.0342648\tbest: 0.0342581 (67)\ttotal: 1.44s\tremaining: 2.06s\n",
            "72:\tlearn: 0.0236926\ttest: 0.0342679\tbest: 0.0342581 (67)\ttotal: 1.45s\tremaining: 2.03s\n",
            "73:\tlearn: 0.0234007\ttest: 0.0340506\tbest: 0.0340506 (73)\ttotal: 1.47s\tremaining: 2.01s\n",
            "74:\tlearn: 0.0232684\ttest: 0.0338850\tbest: 0.0338850 (74)\ttotal: 1.49s\tremaining: 1.99s\n",
            "75:\tlearn: 0.0232684\ttest: 0.0338851\tbest: 0.0338850 (74)\ttotal: 1.5s\tremaining: 1.95s\n",
            "76:\tlearn: 0.0232684\ttest: 0.0338852\tbest: 0.0338850 (74)\ttotal: 1.5s\tremaining: 1.91s\n",
            "77:\tlearn: 0.0230294\ttest: 0.0337488\tbest: 0.0337488 (77)\ttotal: 1.52s\tremaining: 1.89s\n",
            "78:\tlearn: 0.0227693\ttest: 0.0334954\tbest: 0.0334954 (78)\ttotal: 1.54s\tremaining: 1.87s\n",
            "79:\tlearn: 0.0227353\ttest: 0.0334693\tbest: 0.0334693 (79)\ttotal: 1.55s\tremaining: 1.84s\n",
            "80:\tlearn: 0.0224697\ttest: 0.0333873\tbest: 0.0333873 (80)\ttotal: 1.57s\tremaining: 1.82s\n",
            "81:\tlearn: 0.0222503\ttest: 0.0331760\tbest: 0.0331760 (81)\ttotal: 1.59s\tremaining: 1.8s\n",
            "82:\tlearn: 0.0217843\ttest: 0.0328971\tbest: 0.0328971 (82)\ttotal: 1.61s\tremaining: 1.79s\n",
            "83:\tlearn: 0.0216443\ttest: 0.0327229\tbest: 0.0327229 (83)\ttotal: 1.63s\tremaining: 1.77s\n",
            "84:\tlearn: 0.0214652\ttest: 0.0327126\tbest: 0.0327126 (84)\ttotal: 1.65s\tremaining: 1.75s\n",
            "85:\tlearn: 0.0210975\ttest: 0.0321408\tbest: 0.0321408 (85)\ttotal: 1.67s\tremaining: 1.73s\n",
            "86:\tlearn: 0.0207669\ttest: 0.0319211\tbest: 0.0319211 (86)\ttotal: 1.69s\tremaining: 1.71s\n",
            "87:\tlearn: 0.0205071\ttest: 0.0317111\tbest: 0.0317111 (87)\ttotal: 1.71s\tremaining: 1.69s\n",
            "88:\tlearn: 0.0204701\ttest: 0.0317511\tbest: 0.0317111 (87)\ttotal: 1.73s\tremaining: 1.67s\n",
            "89:\tlearn: 0.0204637\ttest: 0.0317917\tbest: 0.0317111 (87)\ttotal: 1.74s\tremaining: 1.64s\n",
            "90:\tlearn: 0.0204138\ttest: 0.0317831\tbest: 0.0317111 (87)\ttotal: 1.75s\tremaining: 1.61s\n",
            "91:\tlearn: 0.0201001\ttest: 0.0316259\tbest: 0.0316259 (91)\ttotal: 1.78s\tremaining: 1.6s\n",
            "92:\tlearn: 0.0198950\ttest: 0.0315016\tbest: 0.0315016 (92)\ttotal: 1.8s\tremaining: 1.58s\n",
            "93:\tlearn: 0.0197570\ttest: 0.0314181\tbest: 0.0314181 (93)\ttotal: 1.82s\tremaining: 1.57s\n",
            "94:\tlearn: 0.0197569\ttest: 0.0314186\tbest: 0.0314181 (93)\ttotal: 1.82s\tremaining: 1.54s\n",
            "95:\tlearn: 0.0196222\ttest: 0.0314589\tbest: 0.0314181 (93)\ttotal: 1.85s\tremaining: 1.52s\n",
            "96:\tlearn: 0.0192629\ttest: 0.0312029\tbest: 0.0312029 (96)\ttotal: 1.87s\tremaining: 1.5s\n",
            "97:\tlearn: 0.0192629\ttest: 0.0312029\tbest: 0.0312029 (97)\ttotal: 1.87s\tremaining: 1.47s\n",
            "98:\tlearn: 0.0190171\ttest: 0.0308491\tbest: 0.0308491 (98)\ttotal: 1.89s\tremaining: 1.45s\n",
            "99:\tlearn: 0.0189765\ttest: 0.0308230\tbest: 0.0308230 (99)\ttotal: 1.9s\tremaining: 1.42s\n",
            "100:\tlearn: 0.0189765\ttest: 0.0308228\tbest: 0.0308228 (100)\ttotal: 1.9s\tremaining: 1.4s\n",
            "101:\tlearn: 0.0187181\ttest: 0.0306552\tbest: 0.0306552 (101)\ttotal: 1.92s\tremaining: 1.38s\n",
            "102:\tlearn: 0.0187180\ttest: 0.0306558\tbest: 0.0306552 (101)\ttotal: 1.93s\tremaining: 1.35s\n",
            "103:\tlearn: 0.0187088\ttest: 0.0306682\tbest: 0.0306552 (101)\ttotal: 1.95s\tremaining: 1.33s\n",
            "104:\tlearn: 0.0184668\ttest: 0.0304119\tbest: 0.0304119 (104)\ttotal: 1.97s\tremaining: 1.31s\n",
            "105:\tlearn: 0.0181319\ttest: 0.0297936\tbest: 0.0297936 (105)\ttotal: 1.99s\tremaining: 1.29s\n",
            "106:\tlearn: 0.0181007\ttest: 0.0297931\tbest: 0.0297931 (106)\ttotal: 1.99s\tremaining: 1.26s\n",
            "107:\tlearn: 0.0181007\ttest: 0.0297930\tbest: 0.0297930 (107)\ttotal: 2.01s\tremaining: 1.25s\n",
            "108:\tlearn: 0.0177950\ttest: 0.0296040\tbest: 0.0296040 (108)\ttotal: 2.03s\tremaining: 1.23s\n",
            "109:\tlearn: 0.0176805\ttest: 0.0294500\tbest: 0.0294500 (109)\ttotal: 2.05s\tremaining: 1.21s\n",
            "110:\tlearn: 0.0174228\ttest: 0.0292617\tbest: 0.0292617 (110)\ttotal: 2.07s\tremaining: 1.2s\n",
            "111:\tlearn: 0.0170114\ttest: 0.0289283\tbest: 0.0289283 (111)\ttotal: 2.09s\tremaining: 1.18s\n",
            "112:\tlearn: 0.0170113\ttest: 0.0289282\tbest: 0.0289282 (112)\ttotal: 2.12s\tremaining: 1.16s\n",
            "113:\tlearn: 0.0167988\ttest: 0.0288185\tbest: 0.0288185 (113)\ttotal: 2.13s\tremaining: 1.14s\n",
            "114:\tlearn: 0.0165438\ttest: 0.0286048\tbest: 0.0286048 (114)\ttotal: 2.15s\tremaining: 1.12s\n",
            "115:\tlearn: 0.0162838\ttest: 0.0283698\tbest: 0.0283698 (115)\ttotal: 2.17s\tremaining: 1.11s\n",
            "116:\tlearn: 0.0160684\ttest: 0.0282097\tbest: 0.0282097 (116)\ttotal: 2.19s\tremaining: 1.09s\n",
            "117:\tlearn: 0.0160380\ttest: 0.0281821\tbest: 0.0281821 (117)\ttotal: 2.21s\tremaining: 1.07s\n",
            "118:\tlearn: 0.0160380\ttest: 0.0281821\tbest: 0.0281821 (117)\ttotal: 2.23s\tremaining: 1.05s\n",
            "119:\tlearn: 0.0159301\ttest: 0.0281648\tbest: 0.0281648 (119)\ttotal: 2.25s\tremaining: 1.03s\n",
            "120:\tlearn: 0.0159297\ttest: 0.0281675\tbest: 0.0281648 (119)\ttotal: 2.26s\tremaining: 1.01s\n",
            "121:\tlearn: 0.0157574\ttest: 0.0279886\tbest: 0.0279886 (121)\ttotal: 2.28s\tremaining: 991ms\n",
            "122:\tlearn: 0.0157574\ttest: 0.0279886\tbest: 0.0279886 (121)\ttotal: 2.28s\tremaining: 966ms\n",
            "123:\tlearn: 0.0157310\ttest: 0.0279652\tbest: 0.0279652 (123)\ttotal: 2.29s\tremaining: 943ms\n",
            "124:\tlearn: 0.0155316\ttest: 0.0278257\tbest: 0.0278257 (124)\ttotal: 2.31s\tremaining: 925ms\n",
            "125:\tlearn: 0.0155316\ttest: 0.0278257\tbest: 0.0278257 (124)\ttotal: 2.32s\tremaining: 901ms\n",
            "126:\tlearn: 0.0153356\ttest: 0.0276111\tbest: 0.0276111 (126)\ttotal: 2.34s\tremaining: 883ms\n",
            "127:\tlearn: 0.0152593\ttest: 0.0275411\tbest: 0.0275411 (127)\ttotal: 2.35s\tremaining: 865ms\n",
            "128:\tlearn: 0.0151302\ttest: 0.0274556\tbest: 0.0274556 (128)\ttotal: 2.38s\tremaining: 847ms\n",
            "129:\tlearn: 0.0151249\ttest: 0.0274436\tbest: 0.0274436 (129)\ttotal: 2.38s\tremaining: 825ms\n",
            "130:\tlearn: 0.0151249\ttest: 0.0274436\tbest: 0.0274436 (129)\ttotal: 2.4s\tremaining: 806ms\n",
            "131:\tlearn: 0.0149229\ttest: 0.0273348\tbest: 0.0273348 (131)\ttotal: 2.42s\tremaining: 788ms\n",
            "132:\tlearn: 0.0149228\ttest: 0.0273349\tbest: 0.0273348 (131)\ttotal: 2.43s\tremaining: 768ms\n",
            "133:\tlearn: 0.0147277\ttest: 0.0272469\tbest: 0.0272469 (133)\ttotal: 2.45s\tremaining: 751ms\n",
            "134:\tlearn: 0.0145423\ttest: 0.0268590\tbest: 0.0268590 (134)\ttotal: 2.48s\tremaining: 735ms\n",
            "135:\tlearn: 0.0143879\ttest: 0.0265504\tbest: 0.0265504 (135)\ttotal: 2.5s\tremaining: 717ms\n",
            "136:\tlearn: 0.0142449\ttest: 0.0264362\tbest: 0.0264362 (136)\ttotal: 2.52s\tremaining: 699ms\n",
            "137:\tlearn: 0.0142448\ttest: 0.0264367\tbest: 0.0264362 (136)\ttotal: 2.52s\tremaining: 676ms\n",
            "138:\tlearn: 0.0141337\ttest: 0.0262464\tbest: 0.0262464 (138)\ttotal: 2.54s\tremaining: 658ms\n",
            "139:\tlearn: 0.0141337\ttest: 0.0262465\tbest: 0.0262464 (138)\ttotal: 2.56s\tremaining: 640ms\n",
            "140:\tlearn: 0.0141193\ttest: 0.0262492\tbest: 0.0262464 (138)\ttotal: 2.58s\tremaining: 622ms\n",
            "141:\tlearn: 0.0141193\ttest: 0.0262492\tbest: 0.0262464 (138)\ttotal: 2.58s\tremaining: 601ms\n",
            "142:\tlearn: 0.0140497\ttest: 0.0261888\tbest: 0.0261888 (142)\ttotal: 2.6s\tremaining: 583ms\n",
            "143:\tlearn: 0.0140496\ttest: 0.0261889\tbest: 0.0261888 (142)\ttotal: 2.62s\tremaining: 564ms\n",
            "144:\tlearn: 0.0139144\ttest: 0.0260856\tbest: 0.0260856 (144)\ttotal: 2.64s\tremaining: 546ms\n",
            "145:\tlearn: 0.0137220\ttest: 0.0258861\tbest: 0.0258861 (145)\ttotal: 2.66s\tremaining: 528ms\n",
            "146:\tlearn: 0.0137220\ttest: 0.0258862\tbest: 0.0258861 (145)\ttotal: 2.66s\tremaining: 507ms\n",
            "147:\tlearn: 0.0135958\ttest: 0.0258562\tbest: 0.0258562 (147)\ttotal: 2.69s\tremaining: 491ms\n",
            "148:\tlearn: 0.0134014\ttest: 0.0257503\tbest: 0.0257503 (148)\ttotal: 2.71s\tremaining: 473ms\n",
            "149:\tlearn: 0.0132672\ttest: 0.0256143\tbest: 0.0256143 (149)\ttotal: 2.73s\tremaining: 455ms\n",
            "150:\tlearn: 0.0131307\ttest: 0.0254554\tbest: 0.0254554 (150)\ttotal: 2.75s\tremaining: 437ms\n",
            "151:\tlearn: 0.0130624\ttest: 0.0254303\tbest: 0.0254303 (151)\ttotal: 2.78s\tremaining: 421ms\n",
            "152:\tlearn: 0.0127728\ttest: 0.0253414\tbest: 0.0253414 (152)\ttotal: 2.8s\tremaining: 403ms\n",
            "153:\tlearn: 0.0127017\ttest: 0.0253193\tbest: 0.0253193 (153)\ttotal: 2.82s\tremaining: 385ms\n",
            "154:\tlearn: 0.0127017\ttest: 0.0253193\tbest: 0.0253193 (153)\ttotal: 2.84s\tremaining: 366ms\n",
            "155:\tlearn: 0.0127016\ttest: 0.0253193\tbest: 0.0253193 (153)\ttotal: 2.86s\tremaining: 348ms\n",
            "156:\tlearn: 0.0127016\ttest: 0.0253193\tbest: 0.0253193 (153)\ttotal: 2.88s\tremaining: 330ms\n",
            "157:\tlearn: 0.0125528\ttest: 0.0251321\tbest: 0.0251321 (157)\ttotal: 2.9s\tremaining: 312ms\n",
            "158:\tlearn: 0.0123974\ttest: 0.0249521\tbest: 0.0249521 (158)\ttotal: 2.92s\tremaining: 294ms\n",
            "159:\tlearn: 0.0123973\ttest: 0.0249523\tbest: 0.0249521 (158)\ttotal: 2.94s\tremaining: 276ms\n",
            "160:\tlearn: 0.0122806\ttest: 0.0248436\tbest: 0.0248436 (160)\ttotal: 2.96s\tremaining: 257ms\n",
            "161:\tlearn: 0.0122322\ttest: 0.0248129\tbest: 0.0248129 (161)\ttotal: 2.98s\tremaining: 239ms\n",
            "162:\tlearn: 0.0121296\ttest: 0.0247133\tbest: 0.0247133 (162)\ttotal: 3s\tremaining: 221ms\n",
            "163:\tlearn: 0.0120403\ttest: 0.0246646\tbest: 0.0246646 (163)\ttotal: 3.02s\tremaining: 202ms\n",
            "164:\tlearn: 0.0119242\ttest: 0.0246417\tbest: 0.0246417 (164)\ttotal: 3.03s\tremaining: 184ms\n",
            "165:\tlearn: 0.0118224\ttest: 0.0245227\tbest: 0.0245227 (165)\ttotal: 3.06s\tremaining: 166ms\n",
            "166:\tlearn: 0.0118224\ttest: 0.0245227\tbest: 0.0245227 (165)\ttotal: 3.07s\tremaining: 147ms\n",
            "167:\tlearn: 0.0117762\ttest: 0.0244943\tbest: 0.0244943 (167)\ttotal: 3.1s\tremaining: 129ms\n",
            "168:\tlearn: 0.0116879\ttest: 0.0243300\tbest: 0.0243300 (168)\ttotal: 3.12s\tremaining: 111ms\n",
            "169:\tlearn: 0.0115813\ttest: 0.0242355\tbest: 0.0242355 (169)\ttotal: 3.14s\tremaining: 92.4ms\n",
            "170:\tlearn: 0.0115184\ttest: 0.0241969\tbest: 0.0241969 (170)\ttotal: 3.16s\tremaining: 73.9ms\n",
            "171:\tlearn: 0.0115184\ttest: 0.0241969\tbest: 0.0241969 (170)\ttotal: 3.18s\tremaining: 55.4ms\n",
            "172:\tlearn: 0.0114291\ttest: 0.0241921\tbest: 0.0241921 (172)\ttotal: 3.2s\tremaining: 37ms\n",
            "173:\tlearn: 0.0113412\ttest: 0.0242491\tbest: 0.0241921 (172)\ttotal: 3.22s\tremaining: 18.5ms\n",
            "174:\tlearn: 0.0113412\ttest: 0.0242491\tbest: 0.0241921 (172)\ttotal: 3.23s\tremaining: 0us\n",
            "\n",
            "bestTest = 0.02419208813\n",
            "bestIteration = 172\n",
            "\n",
            "0:\tlearn: 0.2041142\ttest: 0.2132663\tbest: 0.2132663 (0)\ttotal: 19.6ms\tremaining: 3.41s\n",
            "1:\tlearn: 0.1129644\ttest: 0.1175678\tbest: 0.1175678 (1)\ttotal: 39.5ms\tremaining: 3.41s\n",
            "2:\tlearn: 0.0702013\ttest: 0.0684219\tbest: 0.0684219 (2)\ttotal: 59.1ms\tremaining: 3.39s\n",
            "3:\tlearn: 0.0569109\ttest: 0.0541380\tbest: 0.0541380 (3)\ttotal: 78.9ms\tremaining: 3.37s\n",
            "4:\tlearn: 0.0488654\ttest: 0.0459887\tbest: 0.0459887 (4)\ttotal: 107ms\tremaining: 3.64s\n",
            "5:\tlearn: 0.0442958\ttest: 0.0442144\tbest: 0.0442144 (5)\ttotal: 127ms\tremaining: 3.57s\n",
            "6:\tlearn: 0.0404715\ttest: 0.0410202\tbest: 0.0410202 (6)\ttotal: 147ms\tremaining: 3.53s\n",
            "7:\tlearn: 0.0365311\ttest: 0.0376898\tbest: 0.0376898 (7)\ttotal: 167ms\tremaining: 3.48s\n",
            "8:\tlearn: 0.0350619\ttest: 0.0373130\tbest: 0.0373130 (8)\ttotal: 190ms\tremaining: 3.5s\n",
            "9:\tlearn: 0.0331148\ttest: 0.0356176\tbest: 0.0356176 (9)\ttotal: 209ms\tremaining: 3.45s\n",
            "10:\tlearn: 0.0314447\ttest: 0.0345396\tbest: 0.0345396 (10)\ttotal: 229ms\tremaining: 3.41s\n",
            "11:\tlearn: 0.0305177\ttest: 0.0338802\tbest: 0.0338802 (11)\ttotal: 248ms\tremaining: 3.36s\n",
            "12:\tlearn: 0.0284599\ttest: 0.0329472\tbest: 0.0329472 (12)\ttotal: 267ms\tremaining: 3.33s\n",
            "13:\tlearn: 0.0280512\ttest: 0.0329867\tbest: 0.0329472 (12)\ttotal: 286ms\tremaining: 3.29s\n",
            "14:\tlearn: 0.0265739\ttest: 0.0320206\tbest: 0.0320206 (14)\ttotal: 309ms\tremaining: 3.3s\n",
            "15:\tlearn: 0.0265736\ttest: 0.0320204\tbest: 0.0320204 (15)\ttotal: 317ms\tremaining: 3.15s\n",
            "16:\tlearn: 0.0253877\ttest: 0.0319891\tbest: 0.0319891 (16)\ttotal: 338ms\tremaining: 3.14s\n",
            "17:\tlearn: 0.0253873\ttest: 0.0319900\tbest: 0.0319891 (16)\ttotal: 343ms\tremaining: 2.99s\n",
            "18:\tlearn: 0.0238545\ttest: 0.0314731\tbest: 0.0314731 (18)\ttotal: 363ms\tremaining: 2.98s\n",
            "19:\tlearn: 0.0232020\ttest: 0.0307346\tbest: 0.0307346 (19)\ttotal: 382ms\tremaining: 2.96s\n",
            "20:\tlearn: 0.0229803\ttest: 0.0305827\tbest: 0.0305827 (20)\ttotal: 388ms\tremaining: 2.84s\n",
            "21:\tlearn: 0.0217455\ttest: 0.0306100\tbest: 0.0305827 (20)\ttotal: 409ms\tremaining: 2.85s\n",
            "22:\tlearn: 0.0215900\ttest: 0.0304453\tbest: 0.0304453 (22)\ttotal: 415ms\tremaining: 2.74s\n",
            "23:\tlearn: 0.0201092\ttest: 0.0288294\tbest: 0.0288294 (23)\ttotal: 435ms\tremaining: 2.73s\n",
            "24:\tlearn: 0.0201091\ttest: 0.0288295\tbest: 0.0288294 (23)\ttotal: 440ms\tremaining: 2.64s\n",
            "25:\tlearn: 0.0201090\ttest: 0.0288300\tbest: 0.0288294 (23)\ttotal: 444ms\tremaining: 2.55s\n",
            "26:\tlearn: 0.0201090\ttest: 0.0288300\tbest: 0.0288294 (23)\ttotal: 463ms\tremaining: 2.54s\n",
            "27:\tlearn: 0.0180461\ttest: 0.0282522\tbest: 0.0282522 (27)\ttotal: 482ms\tremaining: 2.53s\n",
            "28:\tlearn: 0.0166202\ttest: 0.0288200\tbest: 0.0282522 (27)\ttotal: 506ms\tremaining: 2.55s\n",
            "29:\tlearn: 0.0166199\ttest: 0.0288199\tbest: 0.0282522 (27)\ttotal: 540ms\tremaining: 2.61s\n",
            "30:\tlearn: 0.0162540\ttest: 0.0280334\tbest: 0.0280334 (30)\ttotal: 560ms\tremaining: 2.6s\n",
            "31:\tlearn: 0.0153679\ttest: 0.0273936\tbest: 0.0273936 (31)\ttotal: 580ms\tremaining: 2.59s\n",
            "32:\tlearn: 0.0151627\ttest: 0.0274904\tbest: 0.0273936 (31)\ttotal: 600ms\tremaining: 2.58s\n",
            "33:\tlearn: 0.0143499\ttest: 0.0267125\tbest: 0.0267125 (33)\ttotal: 620ms\tremaining: 2.57s\n",
            "34:\tlearn: 0.0143499\ttest: 0.0267127\tbest: 0.0267125 (33)\ttotal: 638ms\tremaining: 2.55s\n",
            "35:\tlearn: 0.0138823\ttest: 0.0270723\tbest: 0.0267125 (33)\ttotal: 657ms\tremaining: 2.54s\n",
            "36:\tlearn: 0.0135360\ttest: 0.0265271\tbest: 0.0265271 (36)\ttotal: 676ms\tremaining: 2.52s\n",
            "37:\tlearn: 0.0132186\ttest: 0.0263306\tbest: 0.0263306 (37)\ttotal: 696ms\tremaining: 2.51s\n",
            "38:\tlearn: 0.0132186\ttest: 0.0263306\tbest: 0.0263306 (37)\ttotal: 714ms\tremaining: 2.49s\n",
            "39:\tlearn: 0.0123804\ttest: 0.0261182\tbest: 0.0261182 (39)\ttotal: 733ms\tremaining: 2.48s\n",
            "40:\tlearn: 0.0117509\ttest: 0.0260736\tbest: 0.0260736 (40)\ttotal: 761ms\tremaining: 2.49s\n",
            "41:\tlearn: 0.0110758\ttest: 0.0261486\tbest: 0.0260736 (40)\ttotal: 781ms\tremaining: 2.47s\n",
            "42:\tlearn: 0.0104089\ttest: 0.0264071\tbest: 0.0260736 (40)\ttotal: 804ms\tremaining: 2.47s\n",
            "43:\tlearn: 0.0104089\ttest: 0.0264071\tbest: 0.0260736 (40)\ttotal: 824ms\tremaining: 2.45s\n",
            "44:\tlearn: 0.0099343\ttest: 0.0265620\tbest: 0.0260736 (40)\ttotal: 848ms\tremaining: 2.45s\n",
            "45:\tlearn: 0.0096400\ttest: 0.0267973\tbest: 0.0260736 (40)\ttotal: 868ms\tremaining: 2.43s\n",
            "46:\tlearn: 0.0096389\ttest: 0.0267985\tbest: 0.0260736 (40)\ttotal: 886ms\tremaining: 2.41s\n",
            "47:\tlearn: 0.0095350\ttest: 0.0266977\tbest: 0.0260736 (40)\ttotal: 905ms\tremaining: 2.4s\n",
            "48:\tlearn: 0.0095350\ttest: 0.0266978\tbest: 0.0260736 (40)\ttotal: 924ms\tremaining: 2.38s\n",
            "49:\tlearn: 0.0090009\ttest: 0.0254320\tbest: 0.0254320 (49)\ttotal: 943ms\tremaining: 2.36s\n",
            "50:\tlearn: 0.0086933\ttest: 0.0250968\tbest: 0.0250968 (50)\ttotal: 969ms\tremaining: 2.36s\n",
            "51:\tlearn: 0.0086931\ttest: 0.0250961\tbest: 0.0250961 (51)\ttotal: 988ms\tremaining: 2.34s\n",
            "52:\tlearn: 0.0084961\ttest: 0.0250719\tbest: 0.0250719 (52)\ttotal: 1.01s\tremaining: 2.32s\n",
            "53:\tlearn: 0.0084955\ttest: 0.0250721\tbest: 0.0250719 (52)\ttotal: 1.03s\tremaining: 2.3s\n",
            "54:\tlearn: 0.0084954\ttest: 0.0250724\tbest: 0.0250719 (52)\ttotal: 1.04s\tremaining: 2.28s\n",
            "55:\tlearn: 0.0080814\ttest: 0.0239758\tbest: 0.0239758 (55)\ttotal: 1.06s\tremaining: 2.26s\n",
            "56:\tlearn: 0.0080812\ttest: 0.0239751\tbest: 0.0239751 (56)\ttotal: 1.08s\tremaining: 2.24s\n",
            "57:\tlearn: 0.0080811\ttest: 0.0239747\tbest: 0.0239747 (57)\ttotal: 1.1s\tremaining: 2.22s\n",
            "58:\tlearn: 0.0080811\ttest: 0.0239747\tbest: 0.0239747 (57)\ttotal: 1.12s\tremaining: 2.2s\n",
            "59:\tlearn: 0.0080811\ttest: 0.0239747\tbest: 0.0239747 (59)\ttotal: 1.14s\tremaining: 2.18s\n",
            "60:\tlearn: 0.0080811\ttest: 0.0239748\tbest: 0.0239747 (59)\ttotal: 1.16s\tremaining: 2.16s\n",
            "61:\tlearn: 0.0080810\ttest: 0.0239746\tbest: 0.0239746 (61)\ttotal: 1.18s\tremaining: 2.15s\n",
            "62:\tlearn: 0.0080810\ttest: 0.0239747\tbest: 0.0239746 (61)\ttotal: 1.2s\tremaining: 2.13s\n",
            "63:\tlearn: 0.0080809\ttest: 0.0239749\tbest: 0.0239746 (61)\ttotal: 1.22s\tremaining: 2.11s\n",
            "64:\tlearn: 0.0080809\ttest: 0.0239756\tbest: 0.0239746 (61)\ttotal: 1.23s\tremaining: 2.09s\n",
            "65:\tlearn: 0.0080808\ttest: 0.0239763\tbest: 0.0239746 (61)\ttotal: 1.25s\tremaining: 2.07s\n",
            "66:\tlearn: 0.0080808\ttest: 0.0239765\tbest: 0.0239746 (61)\ttotal: 1.27s\tremaining: 2.05s\n",
            "67:\tlearn: 0.0080807\ttest: 0.0239765\tbest: 0.0239746 (61)\ttotal: 1.29s\tremaining: 2.03s\n",
            "68:\tlearn: 0.0080806\ttest: 0.0239761\tbest: 0.0239746 (61)\ttotal: 1.31s\tremaining: 2.01s\n",
            "69:\tlearn: 0.0080806\ttest: 0.0239760\tbest: 0.0239746 (61)\ttotal: 1.33s\tremaining: 1.99s\n",
            "70:\tlearn: 0.0080806\ttest: 0.0239760\tbest: 0.0239746 (61)\ttotal: 1.34s\tremaining: 1.97s\n",
            "71:\tlearn: 0.0080803\ttest: 0.0239750\tbest: 0.0239746 (61)\ttotal: 1.36s\tremaining: 1.95s\n",
            "72:\tlearn: 0.0080803\ttest: 0.0239750\tbest: 0.0239746 (61)\ttotal: 1.38s\tremaining: 1.93s\n",
            "73:\tlearn: 0.0080802\ttest: 0.0239754\tbest: 0.0239746 (61)\ttotal: 1.41s\tremaining: 1.92s\n",
            "74:\tlearn: 0.0080802\ttest: 0.0239757\tbest: 0.0239746 (61)\ttotal: 1.42s\tremaining: 1.9s\n",
            "75:\tlearn: 0.0080392\ttest: 0.0239807\tbest: 0.0239746 (61)\ttotal: 1.45s\tremaining: 1.88s\n",
            "76:\tlearn: 0.0080390\ttest: 0.0239827\tbest: 0.0239746 (61)\ttotal: 1.46s\tremaining: 1.86s\n",
            "77:\tlearn: 0.0080390\ttest: 0.0239828\tbest: 0.0239746 (61)\ttotal: 1.48s\tremaining: 1.84s\n",
            "78:\tlearn: 0.0080387\ttest: 0.0239815\tbest: 0.0239746 (61)\ttotal: 1.5s\tremaining: 1.82s\n",
            "79:\tlearn: 0.0080382\ttest: 0.0239791\tbest: 0.0239746 (61)\ttotal: 1.52s\tremaining: 1.8s\n",
            "80:\tlearn: 0.0080382\ttest: 0.0239793\tbest: 0.0239746 (61)\ttotal: 1.54s\tremaining: 1.79s\n",
            "81:\tlearn: 0.0080381\ttest: 0.0239791\tbest: 0.0239746 (61)\ttotal: 1.56s\tremaining: 1.77s\n",
            "82:\tlearn: 0.0080380\ttest: 0.0239792\tbest: 0.0239746 (61)\ttotal: 1.58s\tremaining: 1.75s\n",
            "83:\tlearn: 0.0080380\ttest: 0.0239793\tbest: 0.0239746 (61)\ttotal: 1.61s\tremaining: 1.74s\n",
            "84:\tlearn: 0.0080380\ttest: 0.0239798\tbest: 0.0239746 (61)\ttotal: 1.62s\tremaining: 1.72s\n",
            "85:\tlearn: 0.0080379\ttest: 0.0239794\tbest: 0.0239746 (61)\ttotal: 1.64s\tremaining: 1.7s\n",
            "86:\tlearn: 0.0080378\ttest: 0.0239799\tbest: 0.0239746 (61)\ttotal: 1.66s\tremaining: 1.68s\n",
            "87:\tlearn: 0.0080378\ttest: 0.0239799\tbest: 0.0239746 (61)\ttotal: 1.68s\tremaining: 1.66s\n",
            "88:\tlearn: 0.0080378\ttest: 0.0239798\tbest: 0.0239746 (61)\ttotal: 1.7s\tremaining: 1.64s\n",
            "89:\tlearn: 0.0080374\ttest: 0.0239783\tbest: 0.0239746 (61)\ttotal: 1.71s\tremaining: 1.62s\n",
            "90:\tlearn: 0.0080374\ttest: 0.0239781\tbest: 0.0239746 (61)\ttotal: 1.73s\tremaining: 1.6s\n",
            "91:\tlearn: 0.0080373\ttest: 0.0239778\tbest: 0.0239746 (61)\ttotal: 1.75s\tremaining: 1.58s\n",
            "92:\tlearn: 0.0080373\ttest: 0.0239779\tbest: 0.0239746 (61)\ttotal: 1.78s\tremaining: 1.57s\n",
            "93:\tlearn: 0.0080371\ttest: 0.0239768\tbest: 0.0239746 (61)\ttotal: 1.8s\tremaining: 1.55s\n",
            "94:\tlearn: 0.0080370\ttest: 0.0239765\tbest: 0.0239746 (61)\ttotal: 1.82s\tremaining: 1.53s\n",
            "95:\tlearn: 0.0080370\ttest: 0.0239765\tbest: 0.0239746 (61)\ttotal: 1.84s\tremaining: 1.51s\n",
            "96:\tlearn: 0.0080369\ttest: 0.0239770\tbest: 0.0239746 (61)\ttotal: 1.86s\tremaining: 1.49s\n",
            "97:\tlearn: 0.0080368\ttest: 0.0239767\tbest: 0.0239746 (61)\ttotal: 1.88s\tremaining: 1.47s\n",
            "98:\tlearn: 0.0080368\ttest: 0.0239768\tbest: 0.0239746 (61)\ttotal: 1.89s\tremaining: 1.45s\n",
            "99:\tlearn: 0.0080367\ttest: 0.0239773\tbest: 0.0239746 (61)\ttotal: 1.91s\tremaining: 1.43s\n",
            "100:\tlearn: 0.0080364\ttest: 0.0239759\tbest: 0.0239746 (61)\ttotal: 1.93s\tremaining: 1.41s\n",
            "101:\tlearn: 0.0080363\ttest: 0.0239762\tbest: 0.0239746 (61)\ttotal: 1.95s\tremaining: 1.39s\n",
            "102:\tlearn: 0.0080363\ttest: 0.0239763\tbest: 0.0239746 (61)\ttotal: 1.97s\tremaining: 1.37s\n",
            "103:\tlearn: 0.0080362\ttest: 0.0239768\tbest: 0.0239746 (61)\ttotal: 1.98s\tremaining: 1.35s\n",
            "104:\tlearn: 0.0080362\ttest: 0.0239770\tbest: 0.0239746 (61)\ttotal: 2s\tremaining: 1.33s\n",
            "105:\tlearn: 0.0080362\ttest: 0.0239771\tbest: 0.0239746 (61)\ttotal: 2.03s\tremaining: 1.32s\n",
            "106:\tlearn: 0.0080357\ttest: 0.0239752\tbest: 0.0239746 (61)\ttotal: 2.05s\tremaining: 1.3s\n",
            "107:\tlearn: 0.0080357\ttest: 0.0239751\tbest: 0.0239746 (61)\ttotal: 2.06s\tremaining: 1.28s\n",
            "108:\tlearn: 0.0080357\ttest: 0.0239756\tbest: 0.0239746 (61)\ttotal: 2.08s\tremaining: 1.26s\n",
            "109:\tlearn: 0.0080354\ttest: 0.0239775\tbest: 0.0239746 (61)\ttotal: 2.11s\tremaining: 1.25s\n",
            "110:\tlearn: 0.0080354\ttest: 0.0239776\tbest: 0.0239746 (61)\ttotal: 2.13s\tremaining: 1.23s\n",
            "111:\tlearn: 0.0080344\ttest: 0.0239737\tbest: 0.0239737 (111)\ttotal: 2.15s\tremaining: 1.21s\n",
            "112:\tlearn: 0.0080343\ttest: 0.0239733\tbest: 0.0239733 (112)\ttotal: 2.16s\tremaining: 1.19s\n",
            "113:\tlearn: 0.0080343\ttest: 0.0239733\tbest: 0.0239733 (112)\ttotal: 2.18s\tremaining: 1.17s\n",
            "114:\tlearn: 0.0080341\ttest: 0.0239728\tbest: 0.0239728 (114)\ttotal: 2.2s\tremaining: 1.15s\n",
            "115:\tlearn: 0.0080341\ttest: 0.0239730\tbest: 0.0239728 (114)\ttotal: 2.23s\tremaining: 1.13s\n",
            "116:\tlearn: 0.0080341\ttest: 0.0239730\tbest: 0.0239728 (114)\ttotal: 2.24s\tremaining: 1.11s\n",
            "117:\tlearn: 0.0080341\ttest: 0.0239733\tbest: 0.0239728 (114)\ttotal: 2.26s\tremaining: 1.09s\n",
            "118:\tlearn: 0.0080338\ttest: 0.0239740\tbest: 0.0239728 (114)\ttotal: 2.28s\tremaining: 1.07s\n",
            "119:\tlearn: 0.0080333\ttest: 0.0239721\tbest: 0.0239721 (119)\ttotal: 2.3s\tremaining: 1.05s\n",
            "120:\tlearn: 0.0080331\ttest: 0.0239714\tbest: 0.0239714 (120)\ttotal: 2.32s\tremaining: 1.03s\n",
            "121:\tlearn: 0.0080331\ttest: 0.0239719\tbest: 0.0239714 (120)\ttotal: 2.34s\tremaining: 1.01s\n",
            "122:\tlearn: 0.0080330\ttest: 0.0239721\tbest: 0.0239714 (120)\ttotal: 2.36s\tremaining: 996ms\n",
            "123:\tlearn: 0.0080330\ttest: 0.0239722\tbest: 0.0239714 (120)\ttotal: 2.37s\tremaining: 977ms\n",
            "124:\tlearn: 0.0080330\ttest: 0.0239722\tbest: 0.0239714 (120)\ttotal: 2.39s\tremaining: 957ms\n",
            "125:\tlearn: 0.0080330\ttest: 0.0239723\tbest: 0.0239714 (120)\ttotal: 2.42s\tremaining: 943ms\n",
            "126:\tlearn: 0.0080329\ttest: 0.0239725\tbest: 0.0239714 (120)\ttotal: 2.44s\tremaining: 924ms\n",
            "127:\tlearn: 0.0080329\ttest: 0.0239730\tbest: 0.0239714 (120)\ttotal: 2.47s\tremaining: 906ms\n",
            "128:\tlearn: 0.0080328\ttest: 0.0239739\tbest: 0.0239714 (120)\ttotal: 2.48s\tremaining: 886ms\n",
            "129:\tlearn: 0.0080326\ttest: 0.0239732\tbest: 0.0239714 (120)\ttotal: 2.5s\tremaining: 867ms\n",
            "130:\tlearn: 0.0080326\ttest: 0.0239733\tbest: 0.0239714 (120)\ttotal: 2.53s\tremaining: 849ms\n",
            "131:\tlearn: 0.0080290\ttest: 0.0239621\tbest: 0.0239621 (131)\ttotal: 2.55s\tremaining: 831ms\n",
            "132:\tlearn: 0.0080282\ttest: 0.0239594\tbest: 0.0239594 (132)\ttotal: 2.57s\tremaining: 811ms\n",
            "133:\tlearn: 0.0080221\ttest: 0.0239426\tbest: 0.0239426 (133)\ttotal: 2.59s\tremaining: 792ms\n",
            "134:\tlearn: 0.0080220\ttest: 0.0239426\tbest: 0.0239426 (133)\ttotal: 2.61s\tremaining: 772ms\n",
            "135:\tlearn: 0.0080220\ttest: 0.0239428\tbest: 0.0239426 (133)\ttotal: 2.63s\tremaining: 753ms\n",
            "136:\tlearn: 0.0080163\ttest: 0.0239286\tbest: 0.0239286 (136)\ttotal: 2.65s\tremaining: 735ms\n",
            "137:\tlearn: 0.0079840\ttest: 0.0239650\tbest: 0.0239286 (136)\ttotal: 2.67s\tremaining: 715ms\n",
            "138:\tlearn: 0.0079262\ttest: 0.0240151\tbest: 0.0239286 (136)\ttotal: 2.69s\tremaining: 696ms\n",
            "139:\tlearn: 0.0079197\ttest: 0.0240301\tbest: 0.0239286 (136)\ttotal: 2.71s\tremaining: 676ms\n",
            "140:\tlearn: 0.0079197\ttest: 0.0240306\tbest: 0.0239286 (136)\ttotal: 2.72s\tremaining: 657ms\n",
            "141:\tlearn: 0.0079196\ttest: 0.0240308\tbest: 0.0239286 (136)\ttotal: 2.75s\tremaining: 638ms\n",
            "142:\tlearn: 0.0079196\ttest: 0.0240306\tbest: 0.0239286 (136)\ttotal: 2.77s\tremaining: 619ms\n",
            "143:\tlearn: 0.0079194\ttest: 0.0240302\tbest: 0.0239286 (136)\ttotal: 2.79s\tremaining: 600ms\n",
            "144:\tlearn: 0.0079194\ttest: 0.0240303\tbest: 0.0239286 (136)\ttotal: 2.81s\tremaining: 581ms\n",
            "145:\tlearn: 0.0079194\ttest: 0.0240304\tbest: 0.0239286 (136)\ttotal: 2.83s\tremaining: 561ms\n",
            "146:\tlearn: 0.0079194\ttest: 0.0240302\tbest: 0.0239286 (136)\ttotal: 2.85s\tremaining: 543ms\n",
            "147:\tlearn: 0.0079192\ttest: 0.0240313\tbest: 0.0239286 (136)\ttotal: 2.87s\tremaining: 524ms\n",
            "148:\tlearn: 0.0079192\ttest: 0.0240314\tbest: 0.0239286 (136)\ttotal: 2.89s\tremaining: 504ms\n",
            "149:\tlearn: 0.0079112\ttest: 0.0240080\tbest: 0.0239286 (136)\ttotal: 2.91s\tremaining: 485ms\n",
            "150:\tlearn: 0.0079110\ttest: 0.0240084\tbest: 0.0239286 (136)\ttotal: 2.93s\tremaining: 465ms\n",
            "151:\tlearn: 0.0079108\ttest: 0.0240075\tbest: 0.0239286 (136)\ttotal: 2.95s\tremaining: 446ms\n",
            "152:\tlearn: 0.0079108\ttest: 0.0240075\tbest: 0.0239286 (136)\ttotal: 2.96s\tremaining: 426ms\n",
            "153:\tlearn: 0.0079106\ttest: 0.0240070\tbest: 0.0239286 (136)\ttotal: 2.98s\tremaining: 407ms\n",
            "154:\tlearn: 0.0079104\ttest: 0.0240064\tbest: 0.0239286 (136)\ttotal: 3s\tremaining: 387ms\n",
            "155:\tlearn: 0.0079104\ttest: 0.0240067\tbest: 0.0239286 (136)\ttotal: 3.02s\tremaining: 368ms\n",
            "156:\tlearn: 0.0079104\ttest: 0.0240068\tbest: 0.0239286 (136)\ttotal: 3.04s\tremaining: 349ms\n",
            "157:\tlearn: 0.0079104\ttest: 0.0240069\tbest: 0.0239286 (136)\ttotal: 3.07s\tremaining: 331ms\n",
            "158:\tlearn: 0.0079104\ttest: 0.0240070\tbest: 0.0239286 (136)\ttotal: 3.09s\tremaining: 311ms\n",
            "159:\tlearn: 0.0079103\ttest: 0.0240070\tbest: 0.0239286 (136)\ttotal: 3.11s\tremaining: 292ms\n",
            "160:\tlearn: 0.0079103\ttest: 0.0240071\tbest: 0.0239286 (136)\ttotal: 3.13s\tremaining: 272ms\n",
            "161:\tlearn: 0.0079102\ttest: 0.0240074\tbest: 0.0239286 (136)\ttotal: 3.15s\tremaining: 253ms\n",
            "162:\tlearn: 0.0079102\ttest: 0.0240075\tbest: 0.0239286 (136)\ttotal: 3.17s\tremaining: 233ms\n",
            "163:\tlearn: 0.0079100\ttest: 0.0240070\tbest: 0.0239286 (136)\ttotal: 3.19s\tremaining: 214ms\n",
            "164:\tlearn: 0.0079100\ttest: 0.0240072\tbest: 0.0239286 (136)\ttotal: 3.2s\tremaining: 194ms\n",
            "165:\tlearn: 0.0079100\ttest: 0.0240075\tbest: 0.0239286 (136)\ttotal: 3.22s\tremaining: 175ms\n",
            "166:\tlearn: 0.0079099\ttest: 0.0240074\tbest: 0.0239286 (136)\ttotal: 3.24s\tremaining: 155ms\n",
            "167:\tlearn: 0.0079093\ttest: 0.0240055\tbest: 0.0239286 (136)\ttotal: 3.26s\tremaining: 136ms\n",
            "168:\tlearn: 0.0079093\ttest: 0.0240058\tbest: 0.0239286 (136)\ttotal: 3.28s\tremaining: 117ms\n",
            "169:\tlearn: 0.0079092\ttest: 0.0240063\tbest: 0.0239286 (136)\ttotal: 3.32s\tremaining: 97.7ms\n",
            "170:\tlearn: 0.0079091\ttest: 0.0240061\tbest: 0.0239286 (136)\ttotal: 3.34s\tremaining: 78.2ms\n",
            "171:\tlearn: 0.0079091\ttest: 0.0240060\tbest: 0.0239286 (136)\ttotal: 3.36s\tremaining: 58.6ms\n",
            "172:\tlearn: 0.0079091\ttest: 0.0240060\tbest: 0.0239286 (136)\ttotal: 3.38s\tremaining: 39.1ms\n",
            "173:\tlearn: 0.0079090\ttest: 0.0240057\tbest: 0.0239286 (136)\ttotal: 3.4s\tremaining: 19.5ms\n",
            "174:\tlearn: 0.0079089\ttest: 0.0240063\tbest: 0.0239286 (136)\ttotal: 3.42s\tremaining: 0us\n",
            "\n",
            "bestTest = 0.02392860281\n",
            "bestIteration = 136\n",
            "\n",
            "0:\tlearn: 0.2709460\ttest: 0.2722027\tbest: 0.2722027 (0)\n",
            "1:\tlearn: 0.1440012\ttest: 0.1477900\tbest: 0.1477900 (1)\n",
            "2:\tlearn: 0.0964124\ttest: 0.1005995\tbest: 0.1005995 (2)\n",
            "3:\tlearn: 0.0767016\ttest: 0.0815254\tbest: 0.0815254 (3)\n",
            "4:\tlearn: 0.0648912\ttest: 0.0708081\tbest: 0.0708081 (4)\n",
            "5:\tlearn: 0.0570372\ttest: 0.0641186\tbest: 0.0641186 (5)\n",
            "6:\tlearn: 0.0529431\ttest: 0.0604614\tbest: 0.0604614 (6)\n",
            "7:\tlearn: 0.0469539\ttest: 0.0542105\tbest: 0.0542105 (7)\n",
            "8:\tlearn: 0.0429010\ttest: 0.0503612\tbest: 0.0503612 (8)\n",
            "9:\tlearn: 0.0404099\ttest: 0.0486650\tbest: 0.0486650 (9)\n",
            "10:\tlearn: 0.0386076\ttest: 0.0470604\tbest: 0.0470604 (10)\n",
            "11:\tlearn: 0.0363799\ttest: 0.0453883\tbest: 0.0453883 (11)\n",
            "12:\tlearn: 0.0343027\ttest: 0.0440947\tbest: 0.0440947 (12)\n",
            "13:\tlearn: 0.0326657\ttest: 0.0432936\tbest: 0.0432936 (13)\n",
            "14:\tlearn: 0.0317315\ttest: 0.0428998\tbest: 0.0428998 (14)\n",
            "15:\tlearn: 0.0304582\ttest: 0.0423457\tbest: 0.0423457 (15)\n",
            "16:\tlearn: 0.0292793\ttest: 0.0416001\tbest: 0.0416001 (16)\n",
            "17:\tlearn: 0.0284462\ttest: 0.0411624\tbest: 0.0411624 (17)\n",
            "18:\tlearn: 0.0272974\ttest: 0.0406604\tbest: 0.0406604 (18)\n",
            "19:\tlearn: 0.0263702\ttest: 0.0405329\tbest: 0.0405329 (19)\n",
            "20:\tlearn: 0.0254791\ttest: 0.0401736\tbest: 0.0401736 (20)\n",
            "21:\tlearn: 0.0246901\ttest: 0.0398716\tbest: 0.0398716 (21)\n",
            "22:\tlearn: 0.0242074\ttest: 0.0398573\tbest: 0.0398573 (22)\n",
            "23:\tlearn: 0.0234185\ttest: 0.0394187\tbest: 0.0394187 (23)\n",
            "24:\tlearn: 0.0228343\ttest: 0.0391770\tbest: 0.0391770 (24)\n",
            "25:\tlearn: 0.0221660\ttest: 0.0390793\tbest: 0.0390793 (25)\n",
            "26:\tlearn: 0.0216514\ttest: 0.0390269\tbest: 0.0390269 (26)\n",
            "27:\tlearn: 0.0207615\ttest: 0.0385454\tbest: 0.0385454 (27)\n",
            "28:\tlearn: 0.0199529\ttest: 0.0382116\tbest: 0.0382116 (28)\n",
            "29:\tlearn: 0.0194540\ttest: 0.0380308\tbest: 0.0380308 (29)\n",
            "30:\tlearn: 0.0187503\ttest: 0.0377162\tbest: 0.0377162 (30)\n",
            "31:\tlearn: 0.0179564\ttest: 0.0373424\tbest: 0.0373424 (31)\n",
            "32:\tlearn: 0.0172373\ttest: 0.0368270\tbest: 0.0368270 (32)\n",
            "33:\tlearn: 0.0166033\ttest: 0.0362889\tbest: 0.0362889 (33)\n",
            "34:\tlearn: 0.0160091\ttest: 0.0357062\tbest: 0.0357062 (34)\n",
            "35:\tlearn: 0.0155032\ttest: 0.0354201\tbest: 0.0354201 (35)\n",
            "36:\tlearn: 0.0149637\ttest: 0.0351761\tbest: 0.0351761 (36)\n",
            "37:\tlearn: 0.0145748\ttest: 0.0348291\tbest: 0.0348291 (37)\n",
            "38:\tlearn: 0.0139967\ttest: 0.0343915\tbest: 0.0343915 (38)\n",
            "39:\tlearn: 0.0136943\ttest: 0.0343036\tbest: 0.0343036 (39)\n",
            "40:\tlearn: 0.0133958\ttest: 0.0341641\tbest: 0.0341641 (40)\n",
            "41:\tlearn: 0.0129756\ttest: 0.0338149\tbest: 0.0338149 (41)\n",
            "42:\tlearn: 0.0127931\ttest: 0.0336921\tbest: 0.0336921 (42)\n",
            "43:\tlearn: 0.0124177\ttest: 0.0334654\tbest: 0.0334654 (43)\n",
            "44:\tlearn: 0.0122007\ttest: 0.0333376\tbest: 0.0333376 (44)\n",
            "45:\tlearn: 0.0118462\ttest: 0.0329064\tbest: 0.0329064 (45)\n",
            "46:\tlearn: 0.0117174\ttest: 0.0328454\tbest: 0.0328454 (46)\n",
            "47:\tlearn: 0.0113095\ttest: 0.0326744\tbest: 0.0326744 (47)\n",
            "48:\tlearn: 0.0111980\ttest: 0.0326843\tbest: 0.0326744 (47)\n",
            "49:\tlearn: 0.0109167\ttest: 0.0326903\tbest: 0.0326744 (47)\n",
            "50:\tlearn: 0.0107567\ttest: 0.0327580\tbest: 0.0326744 (47)\n",
            "51:\tlearn: 0.0106378\ttest: 0.0327150\tbest: 0.0326744 (47)\n",
            "52:\tlearn: 0.0104605\ttest: 0.0327012\tbest: 0.0326744 (47)\ttotal: 4.99s\tremaining: 11.5s\n",
            "53:\tlearn: 0.0103156\ttest: 0.0325872\tbest: 0.0325872 (53)\n",
            "54:\tlearn: 0.0101990\ttest: 0.0325653\tbest: 0.0325653 (54)\n",
            "55:\tlearn: 0.0099791\ttest: 0.0325087\tbest: 0.0325087 (55)\n",
            "56:\tlearn: 0.0098172\ttest: 0.0325293\tbest: 0.0325087 (55)\n",
            "57:\tlearn: 0.0096021\ttest: 0.0325374\tbest: 0.0325087 (55)\n",
            "58:\tlearn: 0.0093718\ttest: 0.0325496\tbest: 0.0325087 (55)\n",
            "59:\tlearn: 0.0091387\ttest: 0.0325368\tbest: 0.0325087 (55)\n",
            "60:\tlearn: 0.0088995\ttest: 0.0324349\tbest: 0.0324349 (60)\n",
            "61:\tlearn: 0.0086956\ttest: 0.0323696\tbest: 0.0323696 (61)\n",
            "62:\tlearn: 0.0084582\ttest: 0.0323264\tbest: 0.0323264 (62)\n",
            "63:\tlearn: 0.0083440\ttest: 0.0321620\tbest: 0.0321620 (63)\n",
            "64:\tlearn: 0.0082381\ttest: 0.0320836\tbest: 0.0320836 (64)\n",
            "65:\tlearn: 0.0080190\ttest: 0.0320459\tbest: 0.0320459 (65)\n",
            "66:\tlearn: 0.0078846\ttest: 0.0319953\tbest: 0.0319953 (66)\n",
            "67:\tlearn: 0.0077401\ttest: 0.0319623\tbest: 0.0319623 (67)\n",
            "68:\tlearn: 0.0075484\ttest: 0.0318644\tbest: 0.0318644 (68)\n",
            "69:\tlearn: 0.0073493\ttest: 0.0317861\tbest: 0.0317861 (69)\n",
            "70:\tlearn: 0.0071523\ttest: 0.0316805\tbest: 0.0316805 (70)\n",
            "71:\tlearn: 0.0069554\ttest: 0.0315534\tbest: 0.0315534 (71)\n",
            "72:\tlearn: 0.0068447\ttest: 0.0315685\tbest: 0.0315534 (71)\n",
            "73:\tlearn: 0.0067945\ttest: 0.0315713\tbest: 0.0315534 (71)\n",
            "74:\tlearn: 0.0066765\ttest: 0.0315603\tbest: 0.0315534 (71)\n",
            "75:\tlearn: 0.0066485\ttest: 0.0315537\tbest: 0.0315534 (71)\n",
            "76:\tlearn: 0.0065674\ttest: 0.0313910\tbest: 0.0313910 (76)\n",
            "77:\tlearn: 0.0065064\ttest: 0.0312844\tbest: 0.0312844 (77)\n",
            "78:\tlearn: 0.0064395\ttest: 0.0312580\tbest: 0.0312580 (78)\ttotal: 7.63s\tremaining: 9.27s\n",
            "79:\tlearn: 0.0063761\ttest: 0.0312527\tbest: 0.0312527 (79)\n",
            "80:\tlearn: 0.0063221\ttest: 0.0312602\tbest: 0.0312527 (79)\n",
            "81:\tlearn: 0.0062076\ttest: 0.0311279\tbest: 0.0311279 (81)\n",
            "82:\tlearn: 0.0061539\ttest: 0.0311510\tbest: 0.0311279 (81)\n",
            "83:\tlearn: 0.0060950\ttest: 0.0311824\tbest: 0.0311279 (81)\n",
            "84:\tlearn: 0.0059713\ttest: 0.0311253\tbest: 0.0311253 (84)\n",
            "85:\tlearn: 0.0059136\ttest: 0.0311966\tbest: 0.0311253 (84)\n",
            "86:\tlearn: 0.0058529\ttest: 0.0311704\tbest: 0.0311253 (84)\n",
            "87:\tlearn: 0.0058394\ttest: 0.0311274\tbest: 0.0311253 (84)\n",
            "88:\tlearn: 0.0057906\ttest: 0.0310909\tbest: 0.0310909 (88)\n",
            "89:\tlearn: 0.0057230\ttest: 0.0310355\tbest: 0.0310355 (89)\n",
            "90:\tlearn: 0.0057230\ttest: 0.0310357\tbest: 0.0310355 (89)\n",
            "91:\tlearn: 0.0056906\ttest: 0.0310447\tbest: 0.0310355 (89)\n",
            "92:\tlearn: 0.0056349\ttest: 0.0310629\tbest: 0.0310355 (89)\n",
            "93:\tlearn: 0.0055734\ttest: 0.0310096\tbest: 0.0310096 (93)\n",
            "94:\tlearn: 0.0055016\ttest: 0.0310364\tbest: 0.0310096 (93)\n",
            "95:\tlearn: 0.0054271\ttest: 0.0310591\tbest: 0.0310096 (93)\n",
            "96:\tlearn: 0.0054081\ttest: 0.0310830\tbest: 0.0310096 (93)\n",
            "97:\tlearn: 0.0054013\ttest: 0.0310870\tbest: 0.0310096 (93)\n",
            "98:\tlearn: 0.0053549\ttest: 0.0311026\tbest: 0.0310096 (93)\n",
            "99:\tlearn: 0.0053354\ttest: 0.0311093\tbest: 0.0310096 (93)\n",
            "100:\tlearn: 0.0053158\ttest: 0.0311085\tbest: 0.0310096 (93)\n",
            "101:\tlearn: 0.0052833\ttest: 0.0310965\tbest: 0.0310096 (93)\n",
            "102:\tlearn: 0.0052362\ttest: 0.0310455\tbest: 0.0310096 (93)\n",
            "103:\tlearn: 0.0051765\ttest: 0.0310280\tbest: 0.0310096 (93)\n",
            "104:\tlearn: 0.0051209\ttest: 0.0309814\tbest: 0.0309814 (104)\ttotal: 10.2s\tremaining: 6.83s\n",
            "105:\tlearn: 0.0050875\ttest: 0.0309226\tbest: 0.0309226 (105)\n",
            "106:\tlearn: 0.0050577\ttest: 0.0309118\tbest: 0.0309118 (106)\n",
            "107:\tlearn: 0.0050272\ttest: 0.0308940\tbest: 0.0308940 (107)\n",
            "108:\tlearn: 0.0050011\ttest: 0.0308755\tbest: 0.0308755 (108)\n",
            "109:\tlearn: 0.0049851\ttest: 0.0308602\tbest: 0.0308602 (109)\n",
            "110:\tlearn: 0.0049522\ttest: 0.0308199\tbest: 0.0308199 (110)\n",
            "111:\tlearn: 0.0049254\ttest: 0.0308283\tbest: 0.0308199 (110)\n",
            "112:\tlearn: 0.0048920\ttest: 0.0307690\tbest: 0.0307690 (112)\n",
            "113:\tlearn: 0.0048269\ttest: 0.0307233\tbest: 0.0307233 (113)\n",
            "114:\tlearn: 0.0047945\ttest: 0.0306946\tbest: 0.0306946 (114)\n",
            "115:\tlearn: 0.0047842\ttest: 0.0306966\tbest: 0.0306946 (114)\n",
            "116:\tlearn: 0.0047282\ttest: 0.0305984\tbest: 0.0305984 (116)\n",
            "117:\tlearn: 0.0046623\ttest: 0.0305133\tbest: 0.0305133 (117)\n",
            "118:\tlearn: 0.0046386\ttest: 0.0304913\tbest: 0.0304913 (118)\n",
            "119:\tlearn: 0.0046185\ttest: 0.0305428\tbest: 0.0304913 (118)\n",
            "120:\tlearn: 0.0045832\ttest: 0.0305386\tbest: 0.0304913 (118)\n",
            "121:\tlearn: 0.0045125\ttest: 0.0304840\tbest: 0.0304840 (121)\n",
            "122:\tlearn: 0.0044999\ttest: 0.0304422\tbest: 0.0304422 (122)\n",
            "123:\tlearn: 0.0044852\ttest: 0.0304711\tbest: 0.0304422 (122)\n",
            "124:\tlearn: 0.0044422\ttest: 0.0304271\tbest: 0.0304271 (124)\n",
            "125:\tlearn: 0.0044145\ttest: 0.0304241\tbest: 0.0304241 (125)\n",
            "126:\tlearn: 0.0044041\ttest: 0.0304246\tbest: 0.0304241 (125)\n",
            "127:\tlearn: 0.0043898\ttest: 0.0304261\tbest: 0.0304241 (125)\n",
            "128:\tlearn: 0.0043671\ttest: 0.0304383\tbest: 0.0304241 (125)\n",
            "129:\tlearn: 0.0043323\ttest: 0.0304448\tbest: 0.0304241 (125)\ttotal: 12.7s\tremaining: 4.41s\n",
            "130:\tlearn: 0.0042930\ttest: 0.0304757\tbest: 0.0304241 (125)\n",
            "131:\tlearn: 0.0042801\ttest: 0.0304923\tbest: 0.0304241 (125)\n",
            "132:\tlearn: 0.0042538\ttest: 0.0304612\tbest: 0.0304241 (125)\n",
            "133:\tlearn: 0.0042404\ttest: 0.0304716\tbest: 0.0304241 (125)\n",
            "134:\tlearn: 0.0042404\ttest: 0.0304716\tbest: 0.0304241 (125)\n",
            "135:\tlearn: 0.0042172\ttest: 0.0304508\tbest: 0.0304241 (125)\n",
            "136:\tlearn: 0.0042050\ttest: 0.0304409\tbest: 0.0304241 (125)\n",
            "137:\tlearn: 0.0041871\ttest: 0.0304502\tbest: 0.0304241 (125)\n",
            "138:\tlearn: 0.0041516\ttest: 0.0304596\tbest: 0.0304241 (125)\n",
            "139:\tlearn: 0.0041514\ttest: 0.0304602\tbest: 0.0304241 (125)\n",
            "140:\tlearn: 0.0041437\ttest: 0.0304616\tbest: 0.0304241 (125)\n",
            "141:\tlearn: 0.0041163\ttest: 0.0304803\tbest: 0.0304241 (125)\n",
            "142:\tlearn: 0.0041163\ttest: 0.0304804\tbest: 0.0304241 (125)\n",
            "143:\tlearn: 0.0041053\ttest: 0.0304742\tbest: 0.0304241 (125)\n",
            "144:\tlearn: 0.0040982\ttest: 0.0304775\tbest: 0.0304241 (125)\n",
            "145:\tlearn: 0.0040769\ttest: 0.0304506\tbest: 0.0304241 (125)\n",
            "146:\tlearn: 0.0040707\ttest: 0.0304661\tbest: 0.0304241 (125)\n",
            "147:\tlearn: 0.0040650\ttest: 0.0304720\tbest: 0.0304241 (125)\n",
            "148:\tlearn: 0.0040649\ttest: 0.0304720\tbest: 0.0304241 (125)\n",
            "149:\tlearn: 0.0040556\ttest: 0.0304626\tbest: 0.0304241 (125)\n",
            "150:\tlearn: 0.0040413\ttest: 0.0304816\tbest: 0.0304241 (125)\n",
            "151:\tlearn: 0.0040230\ttest: 0.0304743\tbest: 0.0304241 (125)\n",
            "152:\tlearn: 0.0040181\ttest: 0.0304710\tbest: 0.0304241 (125)\n",
            "153:\tlearn: 0.0039813\ttest: 0.0305042\tbest: 0.0304241 (125)\n",
            "154:\tlearn: 0.0039557\ttest: 0.0304970\tbest: 0.0304241 (125)\ttotal: 15.2s\tremaining: 1.96s\n",
            "155:\tlearn: 0.0039459\ttest: 0.0304880\tbest: 0.0304241 (125)\n",
            "156:\tlearn: 0.0039371\ttest: 0.0304895\tbest: 0.0304241 (125)\n",
            "157:\tlearn: 0.0039302\ttest: 0.0304752\tbest: 0.0304241 (125)\n",
            "158:\tlearn: 0.0038991\ttest: 0.0304157\tbest: 0.0304157 (158)\n",
            "159:\tlearn: 0.0038915\ttest: 0.0304248\tbest: 0.0304157 (158)\n",
            "160:\tlearn: 0.0038757\ttest: 0.0303750\tbest: 0.0303750 (160)\n",
            "161:\tlearn: 0.0038510\ttest: 0.0303467\tbest: 0.0303467 (161)\n",
            "162:\tlearn: 0.0038498\ttest: 0.0303474\tbest: 0.0303467 (161)\n",
            "163:\tlearn: 0.0038177\ttest: 0.0303880\tbest: 0.0303467 (161)\n",
            "164:\tlearn: 0.0038058\ttest: 0.0303970\tbest: 0.0303467 (161)\n",
            "165:\tlearn: 0.0037927\ttest: 0.0304428\tbest: 0.0303467 (161)\n",
            "166:\tlearn: 0.0037869\ttest: 0.0304494\tbest: 0.0303467 (161)\n",
            "167:\tlearn: 0.0037868\ttest: 0.0304495\tbest: 0.0303467 (161)\n",
            "168:\tlearn: 0.0037647\ttest: 0.0304420\tbest: 0.0303467 (161)\n",
            "169:\tlearn: 0.0037401\ttest: 0.0305173\tbest: 0.0303467 (161)\n",
            "170:\tlearn: 0.0037232\ttest: 0.0305063\tbest: 0.0303467 (161)\n",
            "171:\tlearn: 0.0036816\ttest: 0.0305376\tbest: 0.0303467 (161)\n",
            "172:\tlearn: 0.0036590\ttest: 0.0305541\tbest: 0.0303467 (161)\n",
            "173:\tlearn: 0.0036590\ttest: 0.0305542\tbest: 0.0303467 (161)\n",
            "174:\tlearn: 0.0036400\ttest: 0.0305231\tbest: 0.0303467 (161)\ttotal: 17.2s\tremaining: 0us\n",
            "CPU times: user 1min 16s, sys: 5.09 s, total: 1min 21s\n",
            "Wall time: 45.3 s\n"
          ],
          "name": "stdout"
        }
      ]
    },
    {
      "cell_type": "code",
      "metadata": {
        "colab": {
          "base_uri": "https://localhost:8080/",
          "height": 419
        },
        "id": "R4bjM8GWnZ3K",
        "outputId": "07b1a320-00e9-4b1c-c730-36fb7585f082"
      },
      "source": [
        "submission = pd.read_csv('submission.csv' )\n",
        "\n",
        "preds = model.predict_proba(X_test)\n",
        "#submission['Outcome'] = [pred[1] for pred in preds]\n",
        "submission['Outcome'] = preds[:,1]\n",
        "\n",
        "submission.to_csv('cv_proba_submission.csv',index=False, header=True)\n",
        "submission"
      ],
      "execution_count": 56,
      "outputs": [
        {
          "output_type": "execute_result",
          "data": {
            "text/html": [
              "<div>\n",
              "<style scoped>\n",
              "    .dataframe tbody tr th:only-of-type {\n",
              "        vertical-align: middle;\n",
              "    }\n",
              "\n",
              "    .dataframe tbody tr th {\n",
              "        vertical-align: top;\n",
              "    }\n",
              "\n",
              "    .dataframe thead th {\n",
              "        text-align: right;\n",
              "    }\n",
              "</style>\n",
              "<table border=\"1\" class=\"dataframe\">\n",
              "  <thead>\n",
              "    <tr style=\"text-align: right;\">\n",
              "      <th></th>\n",
              "      <th>Outcome</th>\n",
              "    </tr>\n",
              "  </thead>\n",
              "  <tbody>\n",
              "    <tr>\n",
              "      <th>0</th>\n",
              "      <td>0.997875</td>\n",
              "    </tr>\n",
              "    <tr>\n",
              "      <th>1</th>\n",
              "      <td>0.996990</td>\n",
              "    </tr>\n",
              "    <tr>\n",
              "      <th>2</th>\n",
              "      <td>0.000694</td>\n",
              "    </tr>\n",
              "    <tr>\n",
              "      <th>3</th>\n",
              "      <td>0.975580</td>\n",
              "    </tr>\n",
              "    <tr>\n",
              "      <th>4</th>\n",
              "      <td>0.000333</td>\n",
              "    </tr>\n",
              "    <tr>\n",
              "      <th>...</th>\n",
              "      <td>...</td>\n",
              "    </tr>\n",
              "    <tr>\n",
              "      <th>4003</th>\n",
              "      <td>0.774905</td>\n",
              "    </tr>\n",
              "    <tr>\n",
              "      <th>4004</th>\n",
              "      <td>0.166432</td>\n",
              "    </tr>\n",
              "    <tr>\n",
              "      <th>4005</th>\n",
              "      <td>0.998251</td>\n",
              "    </tr>\n",
              "    <tr>\n",
              "      <th>4006</th>\n",
              "      <td>0.999323</td>\n",
              "    </tr>\n",
              "    <tr>\n",
              "      <th>4007</th>\n",
              "      <td>0.997926</td>\n",
              "    </tr>\n",
              "  </tbody>\n",
              "</table>\n",
              "<p>4008 rows × 1 columns</p>\n",
              "</div>"
            ],
            "text/plain": [
              "       Outcome\n",
              "0     0.997875\n",
              "1     0.996990\n",
              "2     0.000694\n",
              "3     0.975580\n",
              "4     0.000333\n",
              "...        ...\n",
              "4003  0.774905\n",
              "4004  0.166432\n",
              "4005  0.998251\n",
              "4006  0.999323\n",
              "4007  0.997926\n",
              "\n",
              "[4008 rows x 1 columns]"
            ]
          },
          "metadata": {},
          "execution_count": 56
        }
      ]
    },
    {
      "cell_type": "code",
      "metadata": {
        "id": "7u4lf53An0hD"
      },
      "source": [
        "# Trick to decrease the logloss does not work out all the time\n",
        "# submission['Outcome'] = submission['Outcome'].clip(0.025, 0.975)"
      ],
      "execution_count": 58,
      "outputs": []
    },
    {
      "cell_type": "code",
      "metadata": {
        "id": "bMYIi4AG_rHx"
      },
      "source": [
        "#submission.to_csv('cv_proba_submission_clip.csv',index=False, header=True)"
      ],
      "execution_count": 59,
      "outputs": []
    },
    {
      "cell_type": "markdown",
      "metadata": {
        "id": "4ZQPIzIjHSa0"
      },
      "source": [
        "  **The END**\n",
        "\n"
      ]
    }
  ]
}